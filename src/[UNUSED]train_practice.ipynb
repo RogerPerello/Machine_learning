{
 "cells": [
  {
   "cell_type": "code",
   "execution_count": 10,
   "metadata": {},
   "outputs": [],
   "source": [
    "import pandas as pd\n",
    "from sklearn.linear_model import LinearRegression\n",
    "from sklearn.model_selection import train_test_split\n",
    "from sklearn.metrics import r2_score, mean_squared_error\n",
    "import pickle\n",
    "from utils.cleansing import *\n",
    "from utils.models import *\n"
   ]
  },
  {
   "attachments": {},
   "cell_type": "markdown",
   "metadata": {},
   "source": [
    "predictions_submit = regression.predict(X_pred)\n",
    "predictions_submit\n",
    "\n",
    "submission = pd.DataFrame({'id': X_pred.index, 'price': predictions_submit})\n",
    "\n",
    "submission.to_csv(r'.\\data\\processed\\submission_1.csv', index=False)\n",
    "\n",
    "submission.head()\n"
   ]
  },
  {
   "cell_type": "code",
   "execution_count": 11,
   "metadata": {},
   "outputs": [],
   "source": [
    "# Usar diccionario de modelos al pasar a .py"
   ]
  },
  {
   "cell_type": "code",
   "execution_count": 12,
   "metadata": {},
   "outputs": [
    {
     "name": "stdout",
     "output_type": "stream",
     "text": [
      "rmse: 0.22253585420505206\n",
      "mse: 0.04952220640677219\n",
      "mae: 0.12249590644656809\n",
      "r2 score: 0.9526975928771463\n",
      "mape: 0.01582015504023537\n"
     ]
    }
   ],
   "source": [
    "# Para la primera ronda, aplicamos una regresión lineal a los datos sin hacer ningún tratamiento\n",
    "df_train = pd.read_csv(r'.\\data\\processed\\diamonds_train_1.csv').set_index('id')\n",
    "X_pred = pd.read_csv(r'.\\data\\processed\\diamonds_test_1.csv').set_index('id')\n",
    "\n",
    "X = df_train.drop(columns='price')\n",
    "y = df_train['price']\n",
    "\n",
    "regression = LinearRegression()\n",
    "X_train, X_test, y_train, y_test = train_test_split(X, y, train_size=0.7, random_state=43)\n",
    "regression.fit(X_train, y_train)\n",
    "y_pred = regression.predict(X_test)\n",
    "\n",
    "for metric in evaluate_metrics(y_test, y_pred):\n",
    "    print(metric)\n"
   ]
  }
 ],
 "metadata": {
  "kernelspec": {
   "display_name": "data_analytics",
   "language": "python",
   "name": "python3"
  },
  "language_info": {
   "codemirror_mode": {
    "name": "ipython",
    "version": 3
   },
   "file_extension": ".py",
   "mimetype": "text/x-python",
   "name": "python",
   "nbconvert_exporter": "python",
   "pygments_lexer": "ipython3",
   "version": "3.9.16"
  },
  "orig_nbformat": 4,
  "vscode": {
   "interpreter": {
    "hash": "62be4b4d7aada9f05487a097e316e83dc3ceda15568e9d0ea281b513767b88d7"
   }
  }
 },
 "nbformat": 4,
 "nbformat_minor": 2
}
