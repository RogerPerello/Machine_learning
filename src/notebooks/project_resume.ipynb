{
 "cells": [
  {
   "attachments": {},
   "cell_type": "markdown",
   "metadata": {},
   "source": [
    "# Resumen del proyecto"
   ]
  },
  {
   "attachments": {},
   "cell_type": "markdown",
   "metadata": {},
   "source": [
    "## EDA\n",
    "- Los pasos de esta primera parte se detallan de forma más pormenorizada, paso a paso,  en el propio \"notebook\" con el \"script\"\n",
    "- En cambio, las expliaciones de este resumen están preparadas para entenderse por sí solas, sin tener el código al lado"
   ]
  },
  {
   "attachments": {},
   "cell_type": "markdown",
   "metadata": {},
   "source": [
    "### Importación\n",
    "\n",
    "- Se localiza el tema en Kaggle: https://www.kaggle.com/datasets/shivam2503/diamonds\n",
    "- Se empieza a trabajar con ese \"dataset\" (ver los archivos marcados como \"UNUSED\" y \"no competition\")\n",
    "- Se detecta que existe una competición, si bien ya ha terminado: https://www.kaggle.com/competitions/diamonds-part-datamad0122/overview\n",
    "- Se importan los \"dataframes\" de la competición, tanto el \"train\" como el \"test\", en lugar del original. Respecto al \"dataset\" anterior, además del hecho de contener dos archivos en lugar de uno, se diferencian en que la columna \"target\" viene escalada"
   ]
  },
  {
   "attachments": {},
   "cell_type": "markdown",
   "metadata": {},
   "source": [
    "### Observaciones iniciales\n",
    "- Se aplican los sospechosos habituales, tanto al \"train\" como al \"test\": \n",
    "1) \"info()\", pero no hay nulos;\n",
    "2) \"describe()\", lo que nos hace ver que hay algunas columnas referentes al tamaño que dan 0, lo cual es imposible, \n",
    "3) \"duplicated\" (sin valores duplicados) y \n",
    "4) \"corr()\" (se percibe una correlación altísima) entr"
   ]
  }
 ],
 "metadata": {
  "kernelspec": {
   "display_name": "data_analytics",
   "language": "python",
   "name": "python3"
  },
  "language_info": {
   "name": "python",
   "version": "3.9.16 (main, Jan 11 2023, 16:16:36) [MSC v.1916 64 bit (AMD64)]"
  },
  "orig_nbformat": 4,
  "vscode": {
   "interpreter": {
    "hash": "62be4b4d7aada9f05487a097e316e83dc3ceda15568e9d0ea281b513767b88d7"
   }
  }
 },
 "nbformat": 4,
 "nbformat_minor": 2
}
