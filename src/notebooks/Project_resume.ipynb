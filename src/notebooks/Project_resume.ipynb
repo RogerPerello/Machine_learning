{
 "cells": [
  {
   "cell_type": "code",
   "execution_count": null,
   "metadata": {},
   "outputs": [],
   "source": []
  }
 ],
 "metadata": {
  "kernelspec": {
   "display_name": "Python 3",
   "language": "python",
   "name": "python3"
  },
  "language_info": {
   "name": "python",
   "version": "3.11.1"
  },
  "orig_nbformat": 4,
  "vscode": {
   "interpreter": {
    "hash": "3ff123141b49d3e269b3661a34ce4932beef2f3780d5673d84a155db1cd61f7e"
   }
  }
 },
 "nbformat": 4,
 "nbformat_minor": 2
}
