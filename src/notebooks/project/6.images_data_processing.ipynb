{
 "cells": [
  {
   "cell_type": "code",
   "execution_count": 98,
   "metadata": {},
   "outputs": [],
   "source": [
    "import os\n",
    "import pandas as pd\n",
    "import numpy as np\n",
    "\n",
    "if str(os.getcwdb()[-3:]).split(\"'\")[1] != 'src':\n",
    "    for _ in range(2):\n",
    "        os.chdir(os.path.dirname(os.getcwdb()))\n"
   ]
  },
  {
   "attachments": {},
   "cell_type": "markdown",
   "metadata": {},
   "source": [
    "# Consideraciones\n",
    "\n",
    "- En este \"notebook\" se trabajan los \"dataframes\" que relacionan cada imagen con sus características con tal de obtener un único \"dataframe\" que contenga los datos necesarios para que, una vez identificada la imagen introducida para la predicción, el otro modelo, entrenado con el \"dataframe\" original de precios, sea capaz de predecir el precio\n",
    "\n",
    "- Las imágenes y sus datos se obtienen aquí: https://www.kaggle.com/datasets/harshitlakhani/natural-diamonds-prices-images\n"
   ]
  },
  {
   "attachments": {},
   "cell_type": "markdown",
   "metadata": {},
   "source": [
    "# Unión\n",
    "\n",
    "- Como es más cómodo trabajar con un único \"dataframe\", se fusionan todos los de los diamantes por características \n"
   ]
  },
  {
   "cell_type": "code",
   "execution_count": 47,
   "metadata": {},
   "outputs": [],
   "source": [
    "df_cushion = pd.read_csv(r'data\\raw\\images_data\\data_cushion.csv')\n",
    "df_emerald = pd.read_csv(r'data\\raw\\images_data\\data_emerald.csv')\n",
    "df_heart = pd.read_csv(r'data\\raw\\images_data\\data_heart.csv')\n",
    "df_marquise = pd.read_csv(r'data\\raw\\images_data\\data_marquise.csv')\n",
    "df_oval = pd.read_csv(r'data\\raw\\images_data\\data_oval.csv')\n",
    "df_pear = pd.read_csv(r'data\\raw\\images_data\\data_pear.csv')\n",
    "df_princess = pd.read_csv(r'data\\raw\\images_data\\data_princess.csv')\n",
    "df_round = pd.read_csv(r'data\\raw\\images_data\\data_round.csv')\n",
    "\n",
    "df_diamonds = pd.read_csv(r'data\\processed\\competition\\train_processed.csv')\n"
   ]
  },
  {
   "cell_type": "code",
   "execution_count": 48,
   "metadata": {},
   "outputs": [
    {
     "data": {
      "text/html": [
       "<div>\n",
       "<style scoped>\n",
       "    .dataframe tbody tr th:only-of-type {\n",
       "        vertical-align: middle;\n",
       "    }\n",
       "\n",
       "    .dataframe tbody tr th {\n",
       "        vertical-align: top;\n",
       "    }\n",
       "\n",
       "    .dataframe thead th {\n",
       "        text-align: right;\n",
       "    }\n",
       "</style>\n",
       "<table border=\"1\" class=\"dataframe\">\n",
       "  <thead>\n",
       "    <tr style=\"text-align: right;\">\n",
       "      <th></th>\n",
       "      <th>Id</th>\n",
       "      <th>Shape</th>\n",
       "      <th>Weight</th>\n",
       "      <th>Clarity</th>\n",
       "      <th>Colour</th>\n",
       "      <th>Cut</th>\n",
       "      <th>Polish</th>\n",
       "      <th>Symmetry</th>\n",
       "      <th>Fluorescence</th>\n",
       "      <th>Messurements</th>\n",
       "      <th>Price</th>\n",
       "    </tr>\n",
       "  </thead>\n",
       "  <tbody>\n",
       "    <tr>\n",
       "      <th>0</th>\n",
       "      <td>1638147</td>\n",
       "      <td>CUSHION</td>\n",
       "      <td>0.55</td>\n",
       "      <td>SI2</td>\n",
       "      <td>E</td>\n",
       "      <td>EX</td>\n",
       "      <td>EX</td>\n",
       "      <td>VG</td>\n",
       "      <td>N</td>\n",
       "      <td>5.05-4.35×2.94</td>\n",
       "      <td>1,378.65</td>\n",
       "    </tr>\n",
       "    <tr>\n",
       "      <th>1</th>\n",
       "      <td>1630155</td>\n",
       "      <td>CUSHION</td>\n",
       "      <td>0.50</td>\n",
       "      <td>VVS1</td>\n",
       "      <td>FANCY</td>\n",
       "      <td>EX</td>\n",
       "      <td>EX</td>\n",
       "      <td>VG</td>\n",
       "      <td>F</td>\n",
       "      <td>4.60-4.31×2.92</td>\n",
       "      <td>1,379.74</td>\n",
       "    </tr>\n",
       "    <tr>\n",
       "      <th>2</th>\n",
       "      <td>1612606</td>\n",
       "      <td>CUSHION</td>\n",
       "      <td>0.51</td>\n",
       "      <td>VS2</td>\n",
       "      <td>H</td>\n",
       "      <td>EX</td>\n",
       "      <td>EX</td>\n",
       "      <td>VG</td>\n",
       "      <td>N</td>\n",
       "      <td>4.71-4.35×2.94</td>\n",
       "      <td>1,380.19</td>\n",
       "    </tr>\n",
       "    <tr>\n",
       "      <th>3</th>\n",
       "      <td>1638140</td>\n",
       "      <td>CUSHION</td>\n",
       "      <td>0.50</td>\n",
       "      <td>VS2</td>\n",
       "      <td>H</td>\n",
       "      <td>EX</td>\n",
       "      <td>EX</td>\n",
       "      <td>VG</td>\n",
       "      <td>N</td>\n",
       "      <td>4.91-4.26×2.88</td>\n",
       "      <td>1,380.61</td>\n",
       "    </tr>\n",
       "    <tr>\n",
       "      <th>4</th>\n",
       "      <td>1536093</td>\n",
       "      <td>CUSHION</td>\n",
       "      <td>0.53</td>\n",
       "      <td>SI1</td>\n",
       "      <td>D</td>\n",
       "      <td>EX</td>\n",
       "      <td>VG</td>\n",
       "      <td>VG</td>\n",
       "      <td>N</td>\n",
       "      <td>4.70-4.46×3.01</td>\n",
       "      <td>1,383.13</td>\n",
       "    </tr>\n",
       "  </tbody>\n",
       "</table>\n",
       "</div>"
      ],
      "text/plain": [
       "        Id    Shape  Weight Clarity Colour Cut Polish Symmetry Fluorescence  \\\n",
       "0  1638147  CUSHION    0.55     SI2      E  EX     EX       VG            N   \n",
       "1  1630155  CUSHION    0.50    VVS1  FANCY  EX     EX       VG            F   \n",
       "2  1612606  CUSHION    0.51     VS2      H  EX     EX       VG            N   \n",
       "3  1638140  CUSHION    0.50     VS2      H  EX     EX       VG            N   \n",
       "4  1536093  CUSHION    0.53     SI1      D  EX     VG       VG            N   \n",
       "\n",
       "     Messurements     Price  \n",
       "0  5.05-4.35×2.94  1,378.65  \n",
       "1  4.60-4.31×2.92  1,379.74  \n",
       "2  4.71-4.35×2.94  1,380.19  \n",
       "3  4.91-4.26×2.88  1,380.61  \n",
       "4  4.70-4.46×3.01  1,383.13  "
      ]
     },
     "execution_count": 48,
     "metadata": {},
     "output_type": "execute_result"
    }
   ],
   "source": [
    "df_cushion.head()\n"
   ]
  },
  {
   "cell_type": "code",
   "execution_count": 49,
   "metadata": {},
   "outputs": [
    {
     "name": "stdout",
     "output_type": "stream",
     "text": [
      "<class 'pandas.core.frame.DataFrame'>\n",
      "Int64Index: 6339 entries, 0 to 2055\n",
      "Data columns (total 11 columns):\n",
      " #   Column        Non-Null Count  Dtype  \n",
      "---  ------        --------------  -----  \n",
      " 0   Id            6339 non-null   object \n",
      " 1   Shape         6339 non-null   object \n",
      " 2   Weight        6339 non-null   float64\n",
      " 3   Clarity       6319 non-null   object \n",
      " 4   Colour        6339 non-null   object \n",
      " 5   Cut           6337 non-null   object \n",
      " 6   Polish        6338 non-null   object \n",
      " 7   Symmetry      6332 non-null   object \n",
      " 8   Fluorescence  6337 non-null   object \n",
      " 9   Messurements  6339 non-null   object \n",
      " 10  Price         6339 non-null   object \n",
      "dtypes: float64(1), object(10)\n",
      "memory usage: 594.3+ KB\n"
     ]
    }
   ],
   "source": [
    "dataframes_characteristics_list = [df_cushion, \n",
    "                                   df_emerald,\n",
    "                                   df_heart,\n",
    "                                   df_marquise,\n",
    "                                   df_oval,\n",
    "                                   df_pear,\n",
    "                                   df_princess,\n",
    "                                   df_round\n",
    "                                   ]\n",
    "\n",
    "df_characteristics = pd.concat(dataframes_characteristics_list)\n",
    "\n",
    "df_characteristics.info()\n"
   ]
  },
  {
   "attachments": {},
   "cell_type": "markdown",
   "metadata": {},
   "source": [
    "# Adaptación\n",
    "\n",
    "- Se adapta el \"dataframe\" resultante para que sea idéntico al que se pasará al modelo que predecirá los precios para su entreno"
   ]
  },
  {
   "cell_type": "code",
   "execution_count": 50,
   "metadata": {},
   "outputs": [
    {
     "data": {
      "text/html": [
       "<div>\n",
       "<style scoped>\n",
       "    .dataframe tbody tr th:only-of-type {\n",
       "        vertical-align: middle;\n",
       "    }\n",
       "\n",
       "    .dataframe tbody tr th {\n",
       "        vertical-align: top;\n",
       "    }\n",
       "\n",
       "    .dataframe thead th {\n",
       "        text-align: right;\n",
       "    }\n",
       "</style>\n",
       "<table border=\"1\" class=\"dataframe\">\n",
       "  <thead>\n",
       "    <tr style=\"text-align: right;\">\n",
       "      <th></th>\n",
       "      <th>id</th>\n",
       "      <th>weight (carat)</th>\n",
       "      <th>cut quality</th>\n",
       "      <th>color quality</th>\n",
       "      <th>clarity quality</th>\n",
       "      <th>depth (percentage)</th>\n",
       "      <th>table (percentage)</th>\n",
       "      <th>lenght (millimeters)</th>\n",
       "      <th>width (millimeters)</th>\n",
       "      <th>depth (millimeters)</th>\n",
       "      <th>price</th>\n",
       "    </tr>\n",
       "  </thead>\n",
       "  <tbody>\n",
       "    <tr>\n",
       "      <th>0</th>\n",
       "      <td>0</td>\n",
       "      <td>0.30</td>\n",
       "      <td>3.0</td>\n",
       "      <td>6.0</td>\n",
       "      <td>1.0</td>\n",
       "      <td>62.4</td>\n",
       "      <td>58.0</td>\n",
       "      <td>4.31</td>\n",
       "      <td>4.28</td>\n",
       "      <td>2.68</td>\n",
       "      <td>6.353</td>\n",
       "    </tr>\n",
       "    <tr>\n",
       "      <th>1</th>\n",
       "      <td>1</td>\n",
       "      <td>1.01</td>\n",
       "      <td>4.0</td>\n",
       "      <td>5.0</td>\n",
       "      <td>5.0</td>\n",
       "      <td>62.7</td>\n",
       "      <td>56.0</td>\n",
       "      <td>6.42</td>\n",
       "      <td>6.46</td>\n",
       "      <td>4.04</td>\n",
       "      <td>9.183</td>\n",
       "    </tr>\n",
       "    <tr>\n",
       "      <th>2</th>\n",
       "      <td>2</td>\n",
       "      <td>0.72</td>\n",
       "      <td>4.0</td>\n",
       "      <td>4.0</td>\n",
       "      <td>3.0</td>\n",
       "      <td>61.8</td>\n",
       "      <td>59.0</td>\n",
       "      <td>5.71</td>\n",
       "      <td>5.74</td>\n",
       "      <td>3.54</td>\n",
       "      <td>7.983</td>\n",
       "    </tr>\n",
       "    <tr>\n",
       "      <th>3</th>\n",
       "      <td>3</td>\n",
       "      <td>1.08</td>\n",
       "      <td>2.0</td>\n",
       "      <td>3.0</td>\n",
       "      <td>1.0</td>\n",
       "      <td>63.2</td>\n",
       "      <td>57.0</td>\n",
       "      <td>6.54</td>\n",
       "      <td>6.50</td>\n",
       "      <td>4.12</td>\n",
       "      <td>8.371</td>\n",
       "    </tr>\n",
       "    <tr>\n",
       "      <th>4</th>\n",
       "      <td>4</td>\n",
       "      <td>0.36</td>\n",
       "      <td>3.0</td>\n",
       "      <td>3.0</td>\n",
       "      <td>4.0</td>\n",
       "      <td>62.3</td>\n",
       "      <td>59.0</td>\n",
       "      <td>4.50</td>\n",
       "      <td>4.55</td>\n",
       "      <td>2.82</td>\n",
       "      <td>6.588</td>\n",
       "    </tr>\n",
       "  </tbody>\n",
       "</table>\n",
       "</div>"
      ],
      "text/plain": [
       "   id  weight (carat)  cut quality  color quality  clarity quality  \\\n",
       "0   0            0.30          3.0            6.0              1.0   \n",
       "1   1            1.01          4.0            5.0              5.0   \n",
       "2   2            0.72          4.0            4.0              3.0   \n",
       "3   3            1.08          2.0            3.0              1.0   \n",
       "4   4            0.36          3.0            3.0              4.0   \n",
       "\n",
       "   depth (percentage)  table (percentage)  lenght (millimeters)  \\\n",
       "0                62.4                58.0                  4.31   \n",
       "1                62.7                56.0                  6.42   \n",
       "2                61.8                59.0                  5.71   \n",
       "3                63.2                57.0                  6.54   \n",
       "4                62.3                59.0                  4.50   \n",
       "\n",
       "   width (millimeters)  depth (millimeters)  price  \n",
       "0                 4.28                 2.68  6.353  \n",
       "1                 6.46                 4.04  9.183  \n",
       "2                 5.74                 3.54  7.983  \n",
       "3                 6.50                 4.12  8.371  \n",
       "4                 4.55                 2.82  6.588  "
      ]
     },
     "execution_count": 50,
     "metadata": {},
     "output_type": "execute_result"
    }
   ],
   "source": [
    "df_diamonds.head()\n"
   ]
  },
  {
   "attachments": {},
   "cell_type": "markdown",
   "metadata": {},
   "source": [
    "## Índice"
   ]
  },
  {
   "cell_type": "code",
   "execution_count": 51,
   "metadata": {},
   "outputs": [
    {
     "data": {
      "text/html": [
       "<div>\n",
       "<style scoped>\n",
       "    .dataframe tbody tr th:only-of-type {\n",
       "        vertical-align: middle;\n",
       "    }\n",
       "\n",
       "    .dataframe tbody tr th {\n",
       "        vertical-align: top;\n",
       "    }\n",
       "\n",
       "    .dataframe thead th {\n",
       "        text-align: right;\n",
       "    }\n",
       "</style>\n",
       "<table border=\"1\" class=\"dataframe\">\n",
       "  <thead>\n",
       "    <tr style=\"text-align: right;\">\n",
       "      <th></th>\n",
       "      <th>Shape</th>\n",
       "      <th>Weight</th>\n",
       "      <th>Clarity</th>\n",
       "      <th>Colour</th>\n",
       "      <th>Cut</th>\n",
       "      <th>Polish</th>\n",
       "      <th>Symmetry</th>\n",
       "      <th>Fluorescence</th>\n",
       "      <th>Messurements</th>\n",
       "      <th>Price</th>\n",
       "    </tr>\n",
       "    <tr>\n",
       "      <th>Id</th>\n",
       "      <th></th>\n",
       "      <th></th>\n",
       "      <th></th>\n",
       "      <th></th>\n",
       "      <th></th>\n",
       "      <th></th>\n",
       "      <th></th>\n",
       "      <th></th>\n",
       "      <th></th>\n",
       "      <th></th>\n",
       "    </tr>\n",
       "  </thead>\n",
       "  <tbody>\n",
       "    <tr>\n",
       "      <th>1638147</th>\n",
       "      <td>CUSHION</td>\n",
       "      <td>0.55</td>\n",
       "      <td>SI2</td>\n",
       "      <td>E</td>\n",
       "      <td>EX</td>\n",
       "      <td>EX</td>\n",
       "      <td>VG</td>\n",
       "      <td>N</td>\n",
       "      <td>5.05-4.35×2.94</td>\n",
       "      <td>1,378.65</td>\n",
       "    </tr>\n",
       "    <tr>\n",
       "      <th>1630155</th>\n",
       "      <td>CUSHION</td>\n",
       "      <td>0.50</td>\n",
       "      <td>VVS1</td>\n",
       "      <td>FANCY</td>\n",
       "      <td>EX</td>\n",
       "      <td>EX</td>\n",
       "      <td>VG</td>\n",
       "      <td>F</td>\n",
       "      <td>4.60-4.31×2.92</td>\n",
       "      <td>1,379.74</td>\n",
       "    </tr>\n",
       "    <tr>\n",
       "      <th>1612606</th>\n",
       "      <td>CUSHION</td>\n",
       "      <td>0.51</td>\n",
       "      <td>VS2</td>\n",
       "      <td>H</td>\n",
       "      <td>EX</td>\n",
       "      <td>EX</td>\n",
       "      <td>VG</td>\n",
       "      <td>N</td>\n",
       "      <td>4.71-4.35×2.94</td>\n",
       "      <td>1,380.19</td>\n",
       "    </tr>\n",
       "    <tr>\n",
       "      <th>1638140</th>\n",
       "      <td>CUSHION</td>\n",
       "      <td>0.50</td>\n",
       "      <td>VS2</td>\n",
       "      <td>H</td>\n",
       "      <td>EX</td>\n",
       "      <td>EX</td>\n",
       "      <td>VG</td>\n",
       "      <td>N</td>\n",
       "      <td>4.91-4.26×2.88</td>\n",
       "      <td>1,380.61</td>\n",
       "    </tr>\n",
       "    <tr>\n",
       "      <th>1536093</th>\n",
       "      <td>CUSHION</td>\n",
       "      <td>0.53</td>\n",
       "      <td>SI1</td>\n",
       "      <td>D</td>\n",
       "      <td>EX</td>\n",
       "      <td>VG</td>\n",
       "      <td>VG</td>\n",
       "      <td>N</td>\n",
       "      <td>4.70-4.46×3.01</td>\n",
       "      <td>1,383.13</td>\n",
       "    </tr>\n",
       "  </tbody>\n",
       "</table>\n",
       "</div>"
      ],
      "text/plain": [
       "           Shape  Weight Clarity Colour Cut Polish Symmetry Fluorescence  \\\n",
       "Id                                                                         \n",
       "1638147  CUSHION    0.55     SI2      E  EX     EX       VG            N   \n",
       "1630155  CUSHION    0.50    VVS1  FANCY  EX     EX       VG            F   \n",
       "1612606  CUSHION    0.51     VS2      H  EX     EX       VG            N   \n",
       "1638140  CUSHION    0.50     VS2      H  EX     EX       VG            N   \n",
       "1536093  CUSHION    0.53     SI1      D  EX     VG       VG            N   \n",
       "\n",
       "           Messurements     Price  \n",
       "Id                                 \n",
       "1638147  5.05-4.35×2.94  1,378.65  \n",
       "1630155  4.60-4.31×2.92  1,379.74  \n",
       "1612606  4.71-4.35×2.94  1,380.19  \n",
       "1638140  4.91-4.26×2.88  1,380.61  \n",
       "1536093  4.70-4.46×3.01  1,383.13  "
      ]
     },
     "execution_count": 51,
     "metadata": {},
     "output_type": "execute_result"
    }
   ],
   "source": [
    "df_characteristics = df_characteristics.set_index('Id')\n",
    "\n",
    "df_characteristics.head()\n"
   ]
  },
  {
   "attachments": {},
   "cell_type": "markdown",
   "metadata": {},
   "source": [
    "## Borrado de columnas\n",
    "\n",
    "- Ya existe una columna de precio, pero se borrará para usar el otro modelo con tal de predecirlo, a partir de la imagen que se introduzca, con mayor exactitud, ya que el otro modelo se entrena con datos que este primero no ve y tiene ocho veces los diamantes que constan en este. Tratar de predecir el precio directamente de la imagen podría dar lugar a un mayor margen de error\n",
    "\n",
    "- Se ha visto en \"Unión\" que hay nulos, además de columnas que no sirven. No queda más remedio que hacer un descarte"
   ]
  },
  {
   "cell_type": "code",
   "execution_count": 52,
   "metadata": {},
   "outputs": [
    {
     "data": {
      "text/html": [
       "<div>\n",
       "<style scoped>\n",
       "    .dataframe tbody tr th:only-of-type {\n",
       "        vertical-align: middle;\n",
       "    }\n",
       "\n",
       "    .dataframe tbody tr th {\n",
       "        vertical-align: top;\n",
       "    }\n",
       "\n",
       "    .dataframe thead th {\n",
       "        text-align: right;\n",
       "    }\n",
       "</style>\n",
       "<table border=\"1\" class=\"dataframe\">\n",
       "  <thead>\n",
       "    <tr style=\"text-align: right;\">\n",
       "      <th></th>\n",
       "      <th>Weight</th>\n",
       "      <th>Clarity</th>\n",
       "      <th>Colour</th>\n",
       "      <th>Cut</th>\n",
       "      <th>Messurements</th>\n",
       "      <th>Price</th>\n",
       "    </tr>\n",
       "    <tr>\n",
       "      <th>Id</th>\n",
       "      <th></th>\n",
       "      <th></th>\n",
       "      <th></th>\n",
       "      <th></th>\n",
       "      <th></th>\n",
       "      <th></th>\n",
       "    </tr>\n",
       "  </thead>\n",
       "  <tbody>\n",
       "    <tr>\n",
       "      <th>1638147</th>\n",
       "      <td>0.55</td>\n",
       "      <td>SI2</td>\n",
       "      <td>E</td>\n",
       "      <td>EX</td>\n",
       "      <td>5.05-4.35×2.94</td>\n",
       "      <td>1,378.65</td>\n",
       "    </tr>\n",
       "    <tr>\n",
       "      <th>1630155</th>\n",
       "      <td>0.50</td>\n",
       "      <td>VVS1</td>\n",
       "      <td>FANCY</td>\n",
       "      <td>EX</td>\n",
       "      <td>4.60-4.31×2.92</td>\n",
       "      <td>1,379.74</td>\n",
       "    </tr>\n",
       "    <tr>\n",
       "      <th>1612606</th>\n",
       "      <td>0.51</td>\n",
       "      <td>VS2</td>\n",
       "      <td>H</td>\n",
       "      <td>EX</td>\n",
       "      <td>4.71-4.35×2.94</td>\n",
       "      <td>1,380.19</td>\n",
       "    </tr>\n",
       "    <tr>\n",
       "      <th>1638140</th>\n",
       "      <td>0.50</td>\n",
       "      <td>VS2</td>\n",
       "      <td>H</td>\n",
       "      <td>EX</td>\n",
       "      <td>4.91-4.26×2.88</td>\n",
       "      <td>1,380.61</td>\n",
       "    </tr>\n",
       "    <tr>\n",
       "      <th>1536093</th>\n",
       "      <td>0.53</td>\n",
       "      <td>SI1</td>\n",
       "      <td>D</td>\n",
       "      <td>EX</td>\n",
       "      <td>4.70-4.46×3.01</td>\n",
       "      <td>1,383.13</td>\n",
       "    </tr>\n",
       "  </tbody>\n",
       "</table>\n",
       "</div>"
      ],
      "text/plain": [
       "         Weight Clarity Colour Cut    Messurements     Price\n",
       "Id                                                          \n",
       "1638147    0.55     SI2      E  EX  5.05-4.35×2.94  1,378.65\n",
       "1630155    0.50    VVS1  FANCY  EX  4.60-4.31×2.92  1,379.74\n",
       "1612606    0.51     VS2      H  EX  4.71-4.35×2.94  1,380.19\n",
       "1638140    0.50     VS2      H  EX  4.91-4.26×2.88  1,380.61\n",
       "1536093    0.53     SI1      D  EX  4.70-4.46×3.01  1,383.13"
      ]
     },
     "execution_count": 52,
     "metadata": {},
     "output_type": "execute_result"
    }
   ],
   "source": [
    "df_characteristics = df_characteristics.drop(columns=['Polish', 'Symmetry', 'Fluorescence', 'Shape'])\n",
    "\n",
    "df_characteristics.head()\n"
   ]
  },
  {
   "cell_type": "code",
   "execution_count": 53,
   "metadata": {},
   "outputs": [
    {
     "name": "stdout",
     "output_type": "stream",
     "text": [
      "<class 'pandas.core.frame.DataFrame'>\n",
      "Index: 6317 entries, 1638147 to 1630512\n",
      "Data columns (total 6 columns):\n",
      " #   Column        Non-Null Count  Dtype  \n",
      "---  ------        --------------  -----  \n",
      " 0   Weight        6317 non-null   float64\n",
      " 1   Clarity       6317 non-null   object \n",
      " 2   Colour        6317 non-null   object \n",
      " 3   Cut           6317 non-null   object \n",
      " 4   Messurements  6317 non-null   object \n",
      " 5   Price         6317 non-null   object \n",
      "dtypes: float64(1), object(5)\n",
      "memory usage: 345.5+ KB\n"
     ]
    }
   ],
   "source": [
    "df_characteristics = df_characteristics.dropna()\n",
    "\n",
    "df_characteristics.info()\n"
   ]
  },
  {
   "attachments": {},
   "cell_type": "markdown",
   "metadata": {},
   "source": [
    "## Columna \"Price\"\n",
    "\n",
    "- Aunque se use el otro modelo para predecir los precios, por ahora vale la pena conservar los de este \"dataframe\" por si acaso"
   ]
  },
  {
   "cell_type": "code",
   "execution_count": 54,
   "metadata": {},
   "outputs": [
    {
     "data": {
      "text/plain": [
       "array(['1,378.65', '1,379.74', '1,380.19', ..., '2,453.20', '2,453.41',\n",
       "       '2,453.69'], dtype=object)"
      ]
     },
     "execution_count": 54,
     "metadata": {},
     "output_type": "execute_result"
    }
   ],
   "source": [
    "df_characteristics['Price'].unique()\n",
    "\n"
   ]
  },
  {
   "cell_type": "code",
   "execution_count": 55,
   "metadata": {},
   "outputs": [
    {
     "data": {
      "text/plain": [
       "array([1378.65, 1379.74, 1380.19, ..., 2453.2 , 2453.41, 2453.69])"
      ]
     },
     "execution_count": 55,
     "metadata": {},
     "output_type": "execute_result"
    }
   ],
   "source": [
    "df_characteristics['Price'] = df_characteristics['Price'].apply(lambda x: float(str(x).replace(',', '')))\n",
    "\n",
    "df_characteristics['Price'].unique()\n"
   ]
  },
  {
   "attachments": {},
   "cell_type": "markdown",
   "metadata": {},
   "source": [
    "## Columna \"Cut\"\n",
    "\n",
    "- Se pasa la columna a números\n",
    "\n",
    "- No hay el equivalente a \"Premium\" del \"dataframe\" de predicción de precios, así que se ignora ese número y se atribuye a la categoría 4\n"
   ]
  },
  {
   "cell_type": "code",
   "execution_count": 56,
   "metadata": {},
   "outputs": [
    {
     "data": {
      "text/plain": [
       "array(['EX', 'VG', 'GD', 'F'], dtype=object)"
      ]
     },
     "execution_count": 56,
     "metadata": {},
     "output_type": "execute_result"
    }
   ],
   "source": [
    "df_characteristics['Cut'].unique()\n"
   ]
  },
  {
   "cell_type": "code",
   "execution_count": 57,
   "metadata": {},
   "outputs": [
    {
     "name": "stderr",
     "output_type": "stream",
     "text": [
      "C:\\Users\\Roger\\AppData\\Local\\Temp\\ipykernel_5940\\1055745526.py:1: DeprecationWarning: In a future version, `df.iloc[:, i] = newvals` will attempt to set the values inplace instead of always setting a new array. To retain the old behavior, use either `df[df.columns[i]] = newvals` or, if columns are non-unique, `df.isetitem(i, newvals)`\n",
      "  df_characteristics.loc[:, 'Cut'] = df_characteristics['Cut'].apply(lambda x: 0 if x == 'F'\n",
      "C:\\Users\\Roger\\AppData\\Local\\Temp\\ipykernel_5940\\1055745526.py:6: DeprecationWarning: In a future version, `df.iloc[:, i] = newvals` will attempt to set the values inplace instead of always setting a new array. To retain the old behavior, use either `df[df.columns[i]] = newvals` or, if columns are non-unique, `df.isetitem(i, newvals)`\n",
      "  df_characteristics.loc[:, 'Cut'] = df_characteristics['Cut'].astype(float)\n"
     ]
    },
    {
     "data": {
      "text/plain": [
       "array([4., 2., 1., 0.])"
      ]
     },
     "execution_count": 57,
     "metadata": {},
     "output_type": "execute_result"
    }
   ],
   "source": [
    "df_characteristics.loc[:, 'Cut'] = df_characteristics['Cut'].apply(lambda x: 0 if x == 'F' \n",
    "                                                                    else 1 if x == 'GD'\n",
    "                                                                    else 2 if x == 'VG'\n",
    "                                                                    else 4\n",
    "                                                                    )\n",
    "df_characteristics.loc[:, 'Cut'] = df_characteristics['Cut'].astype(float)\n",
    "\n",
    "df_characteristics['Cut'].unique()"
   ]
  },
  {
   "attachments": {},
   "cell_type": "markdown",
   "metadata": {},
   "source": [
    "## Columna \"Colour\"\n",
    "\n",
    "- Hay muchas más posibilidades de color que en el \"dataframe\" de precios, así que se atribuyen a valores intermedios (fuente: https://www.americangemsociety.org/understanding-diamond-color-the-4cs-of-diamonds/)\n",
    "\n",
    "- El color \"FANCY\" se elimina por ser muy difícil de categorizar. Estarían por debajo de \"Z\" por ser más coloridos, pero dicha coloración se consideraría como algo positivo, con lo que el valor sería más alto que el del lugar correspondiente"
   ]
  },
  {
   "cell_type": "code",
   "execution_count": 58,
   "metadata": {},
   "outputs": [
    {
     "data": {
      "text/plain": [
       "array(['E', 'FANCY', 'H', 'D', 'I', 'M', 'K', 'W-X', 'Y-Z', 'N', 'J', 'F',\n",
       "       'L', 'G', 'O-P', 'S-T', 'U-V', 'W', 'Q-R', 'O'], dtype=object)"
      ]
     },
     "execution_count": 58,
     "metadata": {},
     "output_type": "execute_result"
    }
   ],
   "source": [
    "df_characteristics['Colour'].unique()\n"
   ]
  },
  {
   "cell_type": "code",
   "execution_count": 59,
   "metadata": {},
   "outputs": [
    {
     "data": {
      "text/plain": [
       "array(['E', 'H', 'D', 'I', 'M', 'K', 'W-X', 'Y-Z', 'N', 'J', 'F', 'L',\n",
       "       'G', 'O-P', 'S-T', 'U-V', 'W', 'Q-R', 'O'], dtype=object)"
      ]
     },
     "execution_count": 59,
     "metadata": {},
     "output_type": "execute_result"
    }
   ],
   "source": [
    "df_characteristics = df_characteristics.drop(df_characteristics[df_characteristics['Colour'] == 'FANCY'].index)\n",
    "\n",
    "df_characteristics['Colour'].unique()\n"
   ]
  },
  {
   "cell_type": "code",
   "execution_count": 60,
   "metadata": {},
   "outputs": [
    {
     "name": "stderr",
     "output_type": "stream",
     "text": [
      "C:\\Users\\Roger\\AppData\\Local\\Temp\\ipykernel_5940\\4138186483.py:1: DeprecationWarning: In a future version, `df.iloc[:, i] = newvals` will attempt to set the values inplace instead of always setting a new array. To retain the old behavior, use either `df[df.columns[i]] = newvals` or, if columns are non-unique, `df.isetitem(i, newvals)`\n",
      "  df_characteristics.loc[:, 'Colour'] = df_characteristics['Colour'].apply(lambda x: -12 if x == 'Y-Z'\n",
      "C:\\Users\\Roger\\AppData\\Local\\Temp\\ipykernel_5940\\4138186483.py:21: DeprecationWarning: In a future version, `df.iloc[:, i] = newvals` will attempt to set the values inplace instead of always setting a new array. To retain the old behavior, use either `df[df.columns[i]] = newvals` or, if columns are non-unique, `df.isetitem(i, newvals)`\n",
      "  df_characteristics.loc[:, 'Colour'] = df_characteristics['Colour'].astype(float)\n"
     ]
    },
    {
     "data": {
      "text/plain": [
       "array([  5.,   2.,   6.,   1.,  -3.,  -1., -11., -12.,  -4.,   0.,   4.,\n",
       "        -2.,   3.,  -6.,  -8.,  -9., -10.,  -7.,  -5.])"
      ]
     },
     "execution_count": 60,
     "metadata": {},
     "output_type": "execute_result"
    }
   ],
   "source": [
    "df_characteristics.loc[:, 'Colour'] = df_characteristics['Colour'].apply(lambda x: -12 if x == 'Y-Z'\n",
    "                                                                            else -11 if x == 'W-X'\n",
    "                                                                            else -10 if x == 'W'\n",
    "                                                                            else -9 if x == 'U-V'\n",
    "                                                                            else -8 if x == 'S-T'\n",
    "                                                                            else -7 if x == 'Q-R'\n",
    "                                                                            else -6 if x == 'O-P'\n",
    "                                                                            else -5 if x == 'O'\n",
    "                                                                            else -4 if x == 'N'\n",
    "                                                                            else -3 if x == 'M'\n",
    "                                                                            else -2 if x == 'L'\n",
    "                                                                            else -1 if x == 'K'\n",
    "                                                                            else 0 if x == 'J'\n",
    "                                                                            else 1 if x == 'I' \n",
    "                                                                            else 2 if x == 'H' \n",
    "                                                                            else 3 if x == 'G'\n",
    "                                                                            else 4 if x == 'F'\n",
    "                                                                            else 5 if x == 'E'\n",
    "                                                                            else 6\n",
    "                                                                            )\n",
    "df_characteristics.loc[:, 'Colour'] = df_characteristics['Colour'].astype(float)\n",
    "\n",
    "df_characteristics['Colour'].unique()\n"
   ]
  },
  {
   "attachments": {},
   "cell_type": "markdown",
   "metadata": {},
   "source": [
    "## Columna \"Clarity\"\n",
    "\n",
    "- No existe la claridad \"FL\" (\"flawless\") en el \"dataframe\" de precios, así que se le asigna un punto de más (8)"
   ]
  },
  {
   "cell_type": "code",
   "execution_count": 61,
   "metadata": {},
   "outputs": [
    {
     "data": {
      "text/plain": [
       "array(['SI2', 'VS2', 'SI1', 'VVS1', 'VVS2', 'VS1', 'I1', 'IF', 'FL'],\n",
       "      dtype=object)"
      ]
     },
     "execution_count": 61,
     "metadata": {},
     "output_type": "execute_result"
    }
   ],
   "source": [
    "df_characteristics['Clarity'].unique()\n"
   ]
  },
  {
   "cell_type": "code",
   "execution_count": 62,
   "metadata": {},
   "outputs": [
    {
     "name": "stderr",
     "output_type": "stream",
     "text": [
      "C:\\Users\\Roger\\AppData\\Local\\Temp\\ipykernel_5940\\616649095.py:1: DeprecationWarning: In a future version, `df.iloc[:, i] = newvals` will attempt to set the values inplace instead of always setting a new array. To retain the old behavior, use either `df[df.columns[i]] = newvals` or, if columns are non-unique, `df.isetitem(i, newvals)`\n",
      "  df_characteristics.loc[:, 'Clarity'] = df_characteristics['Clarity'].apply(lambda x: 0 if x == 'I1'\n",
      "C:\\Users\\Roger\\AppData\\Local\\Temp\\ipykernel_5940\\616649095.py:11: DeprecationWarning: In a future version, `df.iloc[:, i] = newvals` will attempt to set the values inplace instead of always setting a new array. To retain the old behavior, use either `df[df.columns[i]] = newvals` or, if columns are non-unique, `df.isetitem(i, newvals)`\n",
      "  df_characteristics.loc[:, 'Clarity'] = df_characteristics['Clarity'].astype(float)\n"
     ]
    },
    {
     "data": {
      "text/plain": [
       "array([1., 3., 2., 6., 5., 4., 0., 7., 8.])"
      ]
     },
     "execution_count": 62,
     "metadata": {},
     "output_type": "execute_result"
    }
   ],
   "source": [
    "df_characteristics.loc[:, 'Clarity'] = df_characteristics['Clarity'].apply(lambda x: 0 if x == 'I1'\n",
    "                                                                            else 1 if x == 'SI2'\n",
    "                                                                            else 2 if x == 'SI1'\n",
    "                                                                            else 3 if x == 'VS2'\n",
    "                                                                            else 4 if x == 'VS1'\n",
    "                                                                            else 5 if x == 'VVS2'\n",
    "                                                                            else 6 if x == 'VVS1'\n",
    "                                                                            else 7 if x == 'IF'\n",
    "                                                                            else 8\n",
    "                                                                            )\n",
    "df_characteristics.loc[:, 'Clarity'] = df_characteristics['Clarity'].astype(float)\n",
    "\n",
    "df_characteristics['Clarity'].unique()\n"
   ]
  },
  {
   "attachments": {},
   "cell_type": "markdown",
   "metadata": {},
   "source": [
    "## Columna \"Messurements\"\n",
    "\n",
    "- Hay que dividirla en las 3 correspondientes del \"dataframe\" de precios\n",
    "\n",
    "- Con los datos resultantes, hay que calcular la columna de \"depth (percentage)\" mediante la operación aprendida en el EDA"
   ]
  },
  {
   "cell_type": "code",
   "execution_count": 63,
   "metadata": {},
   "outputs": [
    {
     "data": {
      "text/plain": [
       "array(['5.05-4.35×2.94', '4.71-4.35×2.94', '4.91-4.26×2.88', ...,\n",
       "       '5.00-5.04×3.18', '4.93-4.96×3.19', '5.09-5.13×3.12'], dtype=object)"
      ]
     },
     "execution_count": 63,
     "metadata": {},
     "output_type": "execute_result"
    }
   ],
   "source": [
    "df_characteristics['Messurements'].unique()\n"
   ]
  },
  {
   "cell_type": "code",
   "execution_count": 64,
   "metadata": {},
   "outputs": [
    {
     "data": {
      "text/plain": [
       "array(['5.05', '4.71', '4.91', '4.70', '4.76', '5.16', '4.48', '4.55',\n",
       "       '4.89', '4.69', '4.78', '6.09', '4.64', '4.63', '5.73', '4.53',\n",
       "       '6.51', '5.23', '5.09', '5.13', '4.67', '5.47', '4.62', '5.19',\n",
       "       '5.01', '4.57', '5.70', '4.96', '5.87', '5.28', '5.34', '4.49',\n",
       "       '4.77', '4.95', '4.66', '3.95', '4.74', '4.25', '5.59', '4.97',\n",
       "       '4.98', '5.29', '5.00', '4.59', '4.44', '4.93', '5.80', '5.62',\n",
       "       '4.60', '5.91', '5.31', '6.12', '5.04', '4.92', '4.84', '5.18',\n",
       "       '4.73', '4.94', '4.56', '4.99', '4.86', '4.38', '4.51', '4.72',\n",
       "       '4.82', '5.02', '5.42', '4.61', '5.03', '5.06', '5.08', '4.52',\n",
       "       '4.43', '4.58', '5.25', '6.27', '5.35', '5.55', '4.87', '5.20',\n",
       "       '4.47', '5.48', '4.88', '5.26', '4.75', '5.84', '5.17', '5.24',\n",
       "       '5.32', '5.45', '5.21', '5.10', '6.43', '5.22', '5.44', '4.81',\n",
       "       '5.61', '4.68', '5.53', '4.45', '4.39', '5.64', '6.07', '5.12',\n",
       "       '6.24', '5.52', '4.90', '5.15', '4.50', '4.65', '5.54', '6.28',\n",
       "       '5.86', '5.43', '5.41', '4.54', '5.65', '5.69', '5.97', '5.39',\n",
       "       '5.83', '5.79', '5.11', '5.51', '4.83', '4.32', '4.22', '5.63',\n",
       "       '5.46', '5.98', '5.82', '5.94', '5.96', '5.49', '5.36', '6.21',\n",
       "       '5.30', '5.37', '6.03', '5.67', '5.60', '5.88', '6.06', '5.78',\n",
       "       '6.22', '6.29', '6.13', '5.56', '5.58', '5.89', '5.92', '5.75',\n",
       "       '5.40', '5.81', '5.33', '5.14', '5.57', '5.66', '5.90', '5.72',\n",
       "       '6.16', '6.59', '5.85', '5.07', '5.77', '6.25', '5.27', '5.93',\n",
       "       '5.38', '6.26', '5.68', '5.76', '6.37', '5.95', '6.92', '6.35',\n",
       "       '6.01', '6.42', '6.08', '6.40', '6.04', '6.36', '5.50', '6.34',\n",
       "       '6.99', '6.68', '6.32', '6.77', '5.74', '6.10', '5.71', '6.55',\n",
       "       '5.99', '6.50', '6.18', '6.30', '6.72', '6.05', '6.69', '6.58',\n",
       "       '6.15', '6.11', '6.00', '6.02', '6.19', '6.47', '6.20', '6.66',\n",
       "       '7.59', '7.07', '6.17', '6.54', '6.38', '7.05', '6.49', '6.48',\n",
       "       '6.70', '6.14', '6.23', '6.65', '6.64', '8.08', '6.45', '6.81',\n",
       "       '6.96', '6.31', '6.33', '6.46', '7.06', '7.19', '6.88', '7.87',\n",
       "       '6.56', '6.83', '6.71', '7.12', '7.35', '7.43', '6.39', '6.84',\n",
       "       '7.16', '7.24', '6.60', '6.61', '7.32', '8.29', '8.61', '8.33',\n",
       "       '8.52', '9.34', '9.42', '9.21', '9.63', '6.52', '6.75', '7.28',\n",
       "       '7.00', '7.04', '6.67', '8.25', '6.53', '6.95', '7.78', '7.25',\n",
       "       '7.33', '7.39', '7.31', '7.97', '7.73', '7.34', '7.03', '7.66',\n",
       "       '7.36', '7.44', '6.63', '7.13', '7.18', '7.48', '7.10', '7.93',\n",
       "       '7.86', '7.58', '9.14', '8.21', '8.94', '7.64', '8.93', '9.94',\n",
       "       '6.98', '7.09', '7.45', '6.62', '8.23', '9.00', '6.90', '7.41',\n",
       "       '7.38', '8.15', '8.14', '7.71', '7.62', '4.35', '4.40', '4.41',\n",
       "       '4.79', '4.46', '4.42', '4.80', '4.85', '4.27', '3.96', '3.94',\n",
       "       '4.07', '4.16', '4.23', '3.97', '4.04', '4.26', '3.99', '4.09',\n",
       "       '4.12', '4.13', '4.15', '4.30', '3.93', '4.05', '4.24', '4.08',\n",
       "       '4.03', '4.29', '3.92', '4.19', '3.98', '4.20', '3.88', '4.37',\n",
       "       '4.33', '3.90', '3.86', '4.10', '4.01', '4.02', '4.21', '4.11',\n",
       "       '4.14', '3.84', '4.17', '4.36', '4.28', '4.31', '3.73', '4.18',\n",
       "       '4.06', '4.00', '3.91', '3.87', '3.89', '4.34', '3.83', '3.85',\n",
       "       '8.09', '9.12', '8.01', '8.56', '8.71', '8.80', '9.19', '8.38',\n",
       "       '8.43', '8.54', '9.80', '8.49', '8.83', '7.60', '7.82', '8.82',\n",
       "       '8.05', '8.20', '9.26', '9.10', '9.08', '7.65', '7.50', '7.68',\n",
       "       '8.81', '7.88', '7.08', '6.97', '8.50', '7.69', '7.11', '7.56',\n",
       "       '6.44', '6.57', '7.47', '7.52', '8.45', '8.26', '7.94', '7.61',\n",
       "       '6.85', '7.22', '6.73', '7.49', '6.79', '7.42', '6.87', '6.89',\n",
       "       '7.89', '7.01', '7.81', '7.51', '7.54', '6.82', '6.78', '7.84',\n",
       "       '6.80', '6.86', '8.12', '7.70', '7.02', '6.93', '7.53', '7.37',\n",
       "       '6.74', '7.98', '7.23', '7.55', '7.75', '7.76', '6.41', '7.15',\n",
       "       '8.30', '8.24', '6.91', '7.27', '8.10', '8.06', '6.76', '9.18',\n",
       "       '7.85', '7.63', '7.26', '7.20', '8.39', '7.90', '7.30', '8.59',\n",
       "       '8.73', '7.17', '8.57', '8.13', '7.40', '8.44', '7.29', '8.27',\n",
       "       '8.00', '8.55', '8.47', '7.95', '11', '9.43', '9.55', '9.53',\n",
       "       '9.38', '10', '9.60', '8.98', '8.11', '9.98', '8.28', '8.53',\n",
       "       '8.16', '7.91', '8.74', '9.22', '9.70', '9.25', '9.61', '9.67',\n",
       "       '9.81', '9.49', '9.85', '9.75', '7.74', '8.99', '7.79', '7.21',\n",
       "       '8.65', '9.84', '7.67', '7.46', '8.46', '9.58', '9.03', '9.68',\n",
       "       '7.57', '7.80', '8.72', '9.39', '8.19', '8.68', '7.83', '8.77',\n",
       "       '9.01', '8.37', '9.33', '8.34', '8.17', '12', '9.71', '9.99',\n",
       "       '9.48', '8.90', '8.63', '8.60', '8.84', '8.79', '7.96', '8.32',\n",
       "       '8.64', '9.06', '8.36', '8.92', '8.35', '9.07', '8.85', '9.45',\n",
       "       '8.96', '8.03', '8.70', '9.13', '9.24', '9.30', '9.44', '8.22',\n",
       "       '9.62', '8.40', '8.87', '9.46', '9.23', '8.62', '9.05', '9.97',\n",
       "       '9.88', '9.69', '9.76', '3.76', '3.80', '3.79', '3.74', '3.66',\n",
       "       '3.78', '3.63', '3.72', '3.81', '3.77', '3.71', '3.82', '3.75',\n",
       "       '3.67', '3.54', '3.69', '3.64', '3.59'], dtype=object)"
      ]
     },
     "execution_count": 64,
     "metadata": {},
     "output_type": "execute_result"
    }
   ],
   "source": [
    "df_characteristics['lenght (millimeters)'] =  df_characteristics['Messurements'].str.extract('^([0-9]?.?[0-9]+)')\n",
    "\n",
    "df_characteristics['lenght (millimeters)'].unique()\n"
   ]
  },
  {
   "cell_type": "code",
   "execution_count": 65,
   "metadata": {},
   "outputs": [
    {
     "data": {
      "text/plain": [
       "array(['4.35', '4.26', '4.46', '4.42', '4.21', '4.17', '4.38', '4.50',\n",
       "       '4.24', '4.52', '5.11', '4.48', '4.33', '4.71', '4.43', '5.31',\n",
       "       '4.47', '5.20', '4.87', '4.12', '4.28', '4.97', '4.40', '4.45',\n",
       "       '4.29', '4.20', '4.78', '5.18', '4.81', '4.27', '4.32', '4.34',\n",
       "       '4.00', '3.89', '4.57', '3.98', '3.78', '4.75', '4.06', '4.60',\n",
       "       '4.85', '4.41', '4.53', '4.25', '4.94', '4.64', '4.16', '4.13',\n",
       "       '5.27', '4.37', '4.49', '5.05', '4.83', '4.90', '4.82', '4.31',\n",
       "       '4.39', '4.19', '4.23', '3.85', '4.72', '4.51', '5.08', '5.43',\n",
       "       '4.22', '5.01', '4.79', '4.70', '4.44', '4.09', '5.00', '5.35',\n",
       "       '5.19', '4.36', '5.55', '4.86', '5.30', '5.23', '5.07', '4.18',\n",
       "       '5.42', '4.89', '5.39', '4.95', '5.17', '4.62', '4.14', '4.84',\n",
       "       '4.67', '4.30', '4.73', '4.80', '4.58', '5.12', '5.02', '5.15',\n",
       "       '5.09', '5.03', '5.04', '5.06', '4.96', '5.21', '4.54', '4.98',\n",
       "       '3.92', '3.84', '3.97', '4.99', '5.50', '4.11', '4.55', '5.67',\n",
       "       '5.44', '5.36', '5.32', '5.24', '4.10', '5.92', '5.46', '5.14',\n",
       "       '5.72', '5.16', '5.26', '5.70', '4.63', '4.93', '5.10', '4.68',\n",
       "       '4.88', '5.52', '5.33', '5.41', '4.66', '5.76', '5.60', '5.58',\n",
       "       '5.29', '4.74', '5.59', '5.25', '4.91', '5.47', '5.57', '4.77',\n",
       "       '5.13', '5.62', '4.59', '5.96', '4.65', '5.84', '5.49', '5.22',\n",
       "       '5.79', '5.28', '5.48', '5.45', '5.56', '6.07', '6.05', '4.56',\n",
       "       '4.69', '5.88', '5.64', '5.53', '4.92', '5.73', '5.38', '5.54',\n",
       "       '6.58', '6.51', '6.68', '5.51', '5.37', '5.40', '6.33', '5.71',\n",
       "       '5.68', '6.01', '5.66', '5.69', '6.17', '6.14', '6.37', '5.87',\n",
       "       '4.76', '5.89', '5.77', '6.18', '6.36', '5.99', '5.91', '6.85',\n",
       "       '6.42', '6.32', '5.34', '6.59', '6.03', '6.67', '5.74', '5.63',\n",
       "       '6.54', '6.38', '5.93', '6.28', '6.47', '5.81', '5.61', '5.78',\n",
       "       '6.30', '5.95', '5.65', '5.82', '4.61', '7.01', '6.09', '6.44',\n",
       "       '6.06', '5.94', '6.74', '6.15', '6.20', '6.52', '6.80', '6.46',\n",
       "       '6.82', '5.75', '6.08', '7.08', '5.97', '7.00', '5.85', '6.19',\n",
       "       '6.25', '6.13', '6.45', '6.63', '8.07', '7.83', '8.03', '8.35',\n",
       "       '8.70', '8.98', '8.23', '8.59', '8.61', '8.38', '6.31', '5.90',\n",
       "       '6.79', '6.35', '6.60', '5.86', '6.76', '7.07', '7.32', '6.97',\n",
       "       '7.22', '6.93', '6.70', '6.81', '7.03', '6.72', '6.65', '6.78',\n",
       "       '7.27', '6.56', '7.06', '7.09', '6.88', '7.85', '7.67', '7.86',\n",
       "       '7.81', '7.37', '9.72', '6.87', '6.61', '6.89', '7.98', '7.50',\n",
       "       '6.75', '6.90', '6.53', '7.15', '7.19', '7.38', '6.64', '7.59',\n",
       "       '3.16', '3.19', '3.06', '3.27', '3.28', '3.22', '3.26', '3.25',\n",
       "       '3.21', '3.50', '3.17', '3.23', '3.38', '3.31', '3.41', '3.35',\n",
       "       '3.33', '3.67', '3.32', '3.24', '3.79', '3.12', '3.34', '3.62',\n",
       "       '3.14', '3.10', '3.01', '3.30', '3.13', '3.49', '3.37', '3.83',\n",
       "       '3.09', '3.68', '3.15', '3.36', '3.40', '3.20', '3.48', '3.18',\n",
       "       '3.45', '3.46', '3.59', '3.08', '3.77', '3.75', '3.39', '3.44',\n",
       "       '3.99', '3.65', '3.29', '3.63', '3.11', '3.73', '3.66', '3.47',\n",
       "       '3.74', '3.58', '3.80', '3.53', '3.76', '3.70', '3.71', '3.54',\n",
       "       '3.42', '3.52', '3.64', '3.51', '3.60', '3.56', '3.81', '3.57',\n",
       "       '3.87', '3.86', '3.93', '3.95', '3.90', '3.61', '3.88', '3.82',\n",
       "       '3.43', '3.69', '3.55', '3.94', '4.02', '4.15', '4.04', '4.01',\n",
       "       '4.03', '3.91', '3.72', '4.05', '3.96', '6.02', '5.80', '6.84',\n",
       "       '6.26', '7.11', '7.04', '6.40', '6.34', '6.24', '6.21', '6.04',\n",
       "       '6.83', '6.69', '5.98', '7.17', '6.95', '6.92', '6.43', '6.94',\n",
       "       '6.96', '6.48', '6.73', '6.16', '7.47', '7.68', '7.52', '7.29',\n",
       "       '6.10', '6.55', '6.77', '7.18', '6.41', '6.62', '6.39', '4.08',\n",
       "       '4.07', '4.1', '5.83', '6.29', '6.00'], dtype=object)"
      ]
     },
     "execution_count": 65,
     "metadata": {},
     "output_type": "execute_result"
    }
   ],
   "source": [
    "df_characteristics['width (millimeters)'] =  df_characteristics['Messurements'].str.extract('[\\sX\\-]+([0-9]?.?[0-9]+)[\\sxX×]+')\n",
    "\n",
    "df_characteristics['width (millimeters)'].unique()\n"
   ]
  },
  {
   "cell_type": "code",
   "execution_count": 66,
   "metadata": {},
   "outputs": [
    {
     "data": {
      "text/plain": [
       "array(['2.94', '2.88', '3.01', '2.99', '2.85', '2.90', '3.04', '3.02',\n",
       "       '2.84', '2.83', '3.47', '3.03', '2.92', '3.20', '3.00', '3.27',\n",
       "       '3.53', '3.29', '2.78', '3.38', '2.79', '3.23', '2.87', '3.61',\n",
       "       '3.26', '2.86', '2.68', '2.64', '3.10', '2.53', '3.22', '2.74',\n",
       "       '3.11', '2.97', '3.06', '3.45', '3.15', '2.98', '2.80', '3.56',\n",
       "       '3.52', '3.34', '3.37', '2.81', '2.95', '2.89', '3.05', '2.72',\n",
       "       '3.19', '2.93', '3.09', '3.42', '3.07', '2.96', '3.63', '2.82',\n",
       "       '3.25', '2.73', '3.30', '3.39', '3.64', '3.75', '3.50', '3.76',\n",
       "       '3.43', '3.85', '3.33', '3.51', '3.28', '3.13', '3.59', '3.60',\n",
       "       '3.66', '3.57', '3.12', '2.91', '3.24', '3.40', '3.46', '3.48',\n",
       "       '3.14', '3.41', '3.68', '3.31', '3.08', '2.76', '2.56', '3.69',\n",
       "       '3.32', '3.21', '3.74', '3.58', '3.44', '4.01', '3.97', '3.49',\n",
       "       '3.83', '3.17', '3.35', '3.55', '3.18', '3.62', '3.78', '3.16',\n",
       "       '3.91', '3.54', '3.71', '3.77', '3.36', '3.70', '3.93', '3.67',\n",
       "       '3.80', '3.65', '4.11', '3.72', '4.08', '3.89', '4.16', '4.39',\n",
       "       '4.55', '4.12', '3.81', '4.30', '4.00', '3.79', '4.02', '3.84',\n",
       "       '3.96', '4.52', '3.92', '3.95', '3.99', '4.33', '4.20', '3.90',\n",
       "       '4.04', '4.27', '4.31', '3.82', '4.28', '3.73', '4.29', '4.19',\n",
       "       '3.86', '4.49', '4.32', '4.36', '4.25', '4.09', '3.87', '4.05',\n",
       "       '3.98', '4.40', '4.38', '4.26', '4.15', '4.24', '4.44', '4.67',\n",
       "       '4.13', '4.61', '4.23', '4.06', '4.89', '4.70', '4.21', '3.94',\n",
       "       '4.07', '4.42', '5.47', '5.30', '5.32', '5.82', '5.76', '6.07',\n",
       "       '5.36', '5.84', '5.83', '4.51', '4.37', '4.43', '4.53', '4.76',\n",
       "       '4.91', '4.72', '4.96', '4.68', '4.57', '4.74', '4.77', '4.82',\n",
       "       '4.59', '4.80', '4.46', '4.69', '5.49', '5.07', '5.20', '5.13',\n",
       "       '4.94', '6.35', '4.71', '4.64', '4.50', '5.09', '4.98', '4.79',\n",
       "       '5.00', '5.12', '4.99', '2.15', '2.03', '2.09', '2.22', '2.25',\n",
       "       '2.21', '2.17', '2.13', '2.19', '2.24', '2.08', '2.20', '2.33',\n",
       "       '2.18', '2.41', '2.07', '2.14', '2.27', '2.59', '1.89', '1.93',\n",
       "       '2.12', '2.29', '2.10', '2.04', '2.23', '2.50', '1.97', '2.05',\n",
       "       '2.02', '1.88', '2.11', '2.38', '2.16', '2.57', '2.46', '1.99',\n",
       "       '2.30', '2.06', '2.26', '2.35', '2.00', '2.31', '1.94', '2.52',\n",
       "       '2.51', '2.60', '2.28', '1.92', '2.43', '2.01', '1.90', '2.42',\n",
       "       '2.34', '2.44', '2.45', '2.40', '2.37', '2.32', '2.70', '2.36',\n",
       "       '2.61', '2.39', '2.47', '2.65', '2.62', '2.75', '2.58', '2.54',\n",
       "       '2.48', '2.66', '2.49', '2.71', '2.69', '2.55', '2.67', '2.63',\n",
       "       '2.77', '1.96', '1.98', '4.41', '4.03', '4.17', '5.04', '3.88'],\n",
       "      dtype=object)"
      ]
     },
     "execution_count": 66,
     "metadata": {},
     "output_type": "execute_result"
    }
   ],
   "source": [
    "df_characteristics['depth (millimeters)'] =  df_characteristics['Messurements'].str.extract('[\\sX\\-]+[0-9]?.?[0-9]+[\\sxX×]+([0-9]?.?[0-9]+)')\n",
    "\n",
    "df_characteristics['depth (millimeters)'].unique()\n"
   ]
  },
  {
   "cell_type": "code",
   "execution_count": 67,
   "metadata": {},
   "outputs": [
    {
     "data": {
      "text/html": [
       "<div>\n",
       "<style scoped>\n",
       "    .dataframe tbody tr th:only-of-type {\n",
       "        vertical-align: middle;\n",
       "    }\n",
       "\n",
       "    .dataframe tbody tr th {\n",
       "        vertical-align: top;\n",
       "    }\n",
       "\n",
       "    .dataframe thead th {\n",
       "        text-align: right;\n",
       "    }\n",
       "</style>\n",
       "<table border=\"1\" class=\"dataframe\">\n",
       "  <thead>\n",
       "    <tr style=\"text-align: right;\">\n",
       "      <th></th>\n",
       "      <th>Weight</th>\n",
       "      <th>Clarity</th>\n",
       "      <th>Colour</th>\n",
       "      <th>Cut</th>\n",
       "      <th>Price</th>\n",
       "      <th>lenght (millimeters)</th>\n",
       "      <th>width (millimeters)</th>\n",
       "      <th>depth (millimeters)</th>\n",
       "    </tr>\n",
       "    <tr>\n",
       "      <th>Id</th>\n",
       "      <th></th>\n",
       "      <th></th>\n",
       "      <th></th>\n",
       "      <th></th>\n",
       "      <th></th>\n",
       "      <th></th>\n",
       "      <th></th>\n",
       "      <th></th>\n",
       "    </tr>\n",
       "  </thead>\n",
       "  <tbody>\n",
       "    <tr>\n",
       "      <th>1638147</th>\n",
       "      <td>0.55</td>\n",
       "      <td>1.0</td>\n",
       "      <td>5.0</td>\n",
       "      <td>4.0</td>\n",
       "      <td>1378.65</td>\n",
       "      <td>5.05</td>\n",
       "      <td>4.35</td>\n",
       "      <td>2.94</td>\n",
       "    </tr>\n",
       "    <tr>\n",
       "      <th>1612606</th>\n",
       "      <td>0.51</td>\n",
       "      <td>3.0</td>\n",
       "      <td>2.0</td>\n",
       "      <td>4.0</td>\n",
       "      <td>1380.19</td>\n",
       "      <td>4.71</td>\n",
       "      <td>4.35</td>\n",
       "      <td>2.94</td>\n",
       "    </tr>\n",
       "    <tr>\n",
       "      <th>1638140</th>\n",
       "      <td>0.50</td>\n",
       "      <td>3.0</td>\n",
       "      <td>2.0</td>\n",
       "      <td>4.0</td>\n",
       "      <td>1380.61</td>\n",
       "      <td>4.91</td>\n",
       "      <td>4.26</td>\n",
       "      <td>2.88</td>\n",
       "    </tr>\n",
       "    <tr>\n",
       "      <th>1536093</th>\n",
       "      <td>0.53</td>\n",
       "      <td>2.0</td>\n",
       "      <td>6.0</td>\n",
       "      <td>4.0</td>\n",
       "      <td>1383.13</td>\n",
       "      <td>4.70</td>\n",
       "      <td>4.46</td>\n",
       "      <td>3.01</td>\n",
       "    </tr>\n",
       "    <tr>\n",
       "      <th>1643527</th>\n",
       "      <td>0.52</td>\n",
       "      <td>6.0</td>\n",
       "      <td>1.0</td>\n",
       "      <td>4.0</td>\n",
       "      <td>1384.24</td>\n",
       "      <td>4.76</td>\n",
       "      <td>4.42</td>\n",
       "      <td>2.99</td>\n",
       "    </tr>\n",
       "  </tbody>\n",
       "</table>\n",
       "</div>"
      ],
      "text/plain": [
       "         Weight  Clarity  Colour  Cut    Price lenght (millimeters)  \\\n",
       "Id                                                                    \n",
       "1638147    0.55      1.0     5.0  4.0  1378.65                 5.05   \n",
       "1612606    0.51      3.0     2.0  4.0  1380.19                 4.71   \n",
       "1638140    0.50      3.0     2.0  4.0  1380.61                 4.91   \n",
       "1536093    0.53      2.0     6.0  4.0  1383.13                 4.70   \n",
       "1643527    0.52      6.0     1.0  4.0  1384.24                 4.76   \n",
       "\n",
       "        width (millimeters) depth (millimeters)  \n",
       "Id                                               \n",
       "1638147                4.35                2.94  \n",
       "1612606                4.35                2.94  \n",
       "1638140                4.26                2.88  \n",
       "1536093                4.46                3.01  \n",
       "1643527                4.42                2.99  "
      ]
     },
     "execution_count": 67,
     "metadata": {},
     "output_type": "execute_result"
    }
   ],
   "source": [
    "df_characteristics = df_characteristics.drop(columns='Messurements')\n",
    "\n",
    "df_characteristics.head()\n"
   ]
  },
  {
   "cell_type": "code",
   "execution_count": 68,
   "metadata": {},
   "outputs": [
    {
     "data": {
      "text/plain": [
       "array([62.55319149, 64.90066225, 62.81352236, ..., 59.90338164,\n",
       "       63.07189542, 63.34661355])"
      ]
     },
     "execution_count": 68,
     "metadata": {},
     "output_type": "execute_result"
    }
   ],
   "source": [
    "df_characteristics = df_characteristics.apply(pd.to_numeric)\n",
    "\n",
    "df_characteristics['depth (percentage)'] = (df_characteristics['depth (millimeters)'] / ((df_characteristics['lenght (millimeters)'] + df_characteristics['width (millimeters)']) / 2)) * 100\n",
    "\n",
    "df_characteristics['depth (percentage)'].unique()\n"
   ]
  },
  {
   "attachments": {},
   "cell_type": "markdown",
   "metadata": {},
   "source": [
    "## Nuevos nombres"
   ]
  },
  {
   "cell_type": "code",
   "execution_count": 69,
   "metadata": {},
   "outputs": [
    {
     "data": {
      "text/html": [
       "<div>\n",
       "<style scoped>\n",
       "    .dataframe tbody tr th:only-of-type {\n",
       "        vertical-align: middle;\n",
       "    }\n",
       "\n",
       "    .dataframe tbody tr th {\n",
       "        vertical-align: top;\n",
       "    }\n",
       "\n",
       "    .dataframe thead th {\n",
       "        text-align: right;\n",
       "    }\n",
       "</style>\n",
       "<table border=\"1\" class=\"dataframe\">\n",
       "  <thead>\n",
       "    <tr style=\"text-align: right;\">\n",
       "      <th></th>\n",
       "      <th>weight (carat)</th>\n",
       "      <th>clarity quality</th>\n",
       "      <th>color quality</th>\n",
       "      <th>cut quality</th>\n",
       "      <th>price</th>\n",
       "      <th>lenght (millimeters)</th>\n",
       "      <th>width (millimeters)</th>\n",
       "      <th>depth (millimeters)</th>\n",
       "      <th>depth (percentage)</th>\n",
       "    </tr>\n",
       "    <tr>\n",
       "      <th>Id</th>\n",
       "      <th></th>\n",
       "      <th></th>\n",
       "      <th></th>\n",
       "      <th></th>\n",
       "      <th></th>\n",
       "      <th></th>\n",
       "      <th></th>\n",
       "      <th></th>\n",
       "      <th></th>\n",
       "    </tr>\n",
       "  </thead>\n",
       "  <tbody>\n",
       "    <tr>\n",
       "      <th>1638147</th>\n",
       "      <td>0.55</td>\n",
       "      <td>1.0</td>\n",
       "      <td>5.0</td>\n",
       "      <td>4.0</td>\n",
       "      <td>1378.65</td>\n",
       "      <td>5.05</td>\n",
       "      <td>4.35</td>\n",
       "      <td>2.94</td>\n",
       "      <td>62.553191</td>\n",
       "    </tr>\n",
       "    <tr>\n",
       "      <th>1612606</th>\n",
       "      <td>0.51</td>\n",
       "      <td>3.0</td>\n",
       "      <td>2.0</td>\n",
       "      <td>4.0</td>\n",
       "      <td>1380.19</td>\n",
       "      <td>4.71</td>\n",
       "      <td>4.35</td>\n",
       "      <td>2.94</td>\n",
       "      <td>64.900662</td>\n",
       "    </tr>\n",
       "    <tr>\n",
       "      <th>1638140</th>\n",
       "      <td>0.50</td>\n",
       "      <td>3.0</td>\n",
       "      <td>2.0</td>\n",
       "      <td>4.0</td>\n",
       "      <td>1380.61</td>\n",
       "      <td>4.91</td>\n",
       "      <td>4.26</td>\n",
       "      <td>2.88</td>\n",
       "      <td>62.813522</td>\n",
       "    </tr>\n",
       "    <tr>\n",
       "      <th>1536093</th>\n",
       "      <td>0.53</td>\n",
       "      <td>2.0</td>\n",
       "      <td>6.0</td>\n",
       "      <td>4.0</td>\n",
       "      <td>1383.13</td>\n",
       "      <td>4.70</td>\n",
       "      <td>4.46</td>\n",
       "      <td>3.01</td>\n",
       "      <td>65.720524</td>\n",
       "    </tr>\n",
       "    <tr>\n",
       "      <th>1643527</th>\n",
       "      <td>0.52</td>\n",
       "      <td>6.0</td>\n",
       "      <td>1.0</td>\n",
       "      <td>4.0</td>\n",
       "      <td>1384.24</td>\n",
       "      <td>4.76</td>\n",
       "      <td>4.42</td>\n",
       "      <td>2.99</td>\n",
       "      <td>65.141612</td>\n",
       "    </tr>\n",
       "  </tbody>\n",
       "</table>\n",
       "</div>"
      ],
      "text/plain": [
       "         weight (carat)  clarity quality  color quality  cut quality    price  \\\n",
       "Id                                                                              \n",
       "1638147            0.55              1.0            5.0          4.0  1378.65   \n",
       "1612606            0.51              3.0            2.0          4.0  1380.19   \n",
       "1638140            0.50              3.0            2.0          4.0  1380.61   \n",
       "1536093            0.53              2.0            6.0          4.0  1383.13   \n",
       "1643527            0.52              6.0            1.0          4.0  1384.24   \n",
       "\n",
       "         lenght (millimeters)  width (millimeters)  depth (millimeters)  \\\n",
       "Id                                                                        \n",
       "1638147                  5.05                 4.35                 2.94   \n",
       "1612606                  4.71                 4.35                 2.94   \n",
       "1638140                  4.91                 4.26                 2.88   \n",
       "1536093                  4.70                 4.46                 3.01   \n",
       "1643527                  4.76                 4.42                 2.99   \n",
       "\n",
       "         depth (percentage)  \n",
       "Id                           \n",
       "1638147           62.553191  \n",
       "1612606           64.900662  \n",
       "1638140           62.813522  \n",
       "1536093           65.720524  \n",
       "1643527           65.141612  "
      ]
     },
     "execution_count": 69,
     "metadata": {},
     "output_type": "execute_result"
    }
   ],
   "source": [
    "df_characteristics = df_characteristics.rename(columns={'Weight': 'weight (carat)',\n",
    "                                                        'Cut': 'cut quality',\n",
    "                                                        'Colour': 'color quality',\n",
    "                                                        'Clarity': 'clarity quality',\n",
    "                                                        'Price': 'price'\n",
    "                                                        }\n",
    "                                                )\n",
    "\n",
    "df_characteristics.head()\n"
   ]
  },
  {
   "attachments": {},
   "cell_type": "markdown",
   "metadata": {},
   "source": [
    "## Cambio de orden"
   ]
  },
  {
   "cell_type": "code",
   "execution_count": 70,
   "metadata": {},
   "outputs": [
    {
     "data": {
      "text/html": [
       "<div>\n",
       "<style scoped>\n",
       "    .dataframe tbody tr th:only-of-type {\n",
       "        vertical-align: middle;\n",
       "    }\n",
       "\n",
       "    .dataframe tbody tr th {\n",
       "        vertical-align: top;\n",
       "    }\n",
       "\n",
       "    .dataframe thead th {\n",
       "        text-align: right;\n",
       "    }\n",
       "</style>\n",
       "<table border=\"1\" class=\"dataframe\">\n",
       "  <thead>\n",
       "    <tr style=\"text-align: right;\">\n",
       "      <th></th>\n",
       "      <th>weight (carat)</th>\n",
       "      <th>cut quality</th>\n",
       "      <th>color quality</th>\n",
       "      <th>clarity quality</th>\n",
       "      <th>depth (percentage)</th>\n",
       "      <th>lenght (millimeters)</th>\n",
       "      <th>width (millimeters)</th>\n",
       "      <th>depth (millimeters)</th>\n",
       "      <th>price</th>\n",
       "    </tr>\n",
       "    <tr>\n",
       "      <th>Id</th>\n",
       "      <th></th>\n",
       "      <th></th>\n",
       "      <th></th>\n",
       "      <th></th>\n",
       "      <th></th>\n",
       "      <th></th>\n",
       "      <th></th>\n",
       "      <th></th>\n",
       "      <th></th>\n",
       "    </tr>\n",
       "  </thead>\n",
       "  <tbody>\n",
       "    <tr>\n",
       "      <th>1638147</th>\n",
       "      <td>0.55</td>\n",
       "      <td>4.0</td>\n",
       "      <td>5.0</td>\n",
       "      <td>1.0</td>\n",
       "      <td>62.553191</td>\n",
       "      <td>5.05</td>\n",
       "      <td>4.35</td>\n",
       "      <td>2.94</td>\n",
       "      <td>1378.65</td>\n",
       "    </tr>\n",
       "    <tr>\n",
       "      <th>1612606</th>\n",
       "      <td>0.51</td>\n",
       "      <td>4.0</td>\n",
       "      <td>2.0</td>\n",
       "      <td>3.0</td>\n",
       "      <td>64.900662</td>\n",
       "      <td>4.71</td>\n",
       "      <td>4.35</td>\n",
       "      <td>2.94</td>\n",
       "      <td>1380.19</td>\n",
       "    </tr>\n",
       "    <tr>\n",
       "      <th>1638140</th>\n",
       "      <td>0.50</td>\n",
       "      <td>4.0</td>\n",
       "      <td>2.0</td>\n",
       "      <td>3.0</td>\n",
       "      <td>62.813522</td>\n",
       "      <td>4.91</td>\n",
       "      <td>4.26</td>\n",
       "      <td>2.88</td>\n",
       "      <td>1380.61</td>\n",
       "    </tr>\n",
       "    <tr>\n",
       "      <th>1536093</th>\n",
       "      <td>0.53</td>\n",
       "      <td>4.0</td>\n",
       "      <td>6.0</td>\n",
       "      <td>2.0</td>\n",
       "      <td>65.720524</td>\n",
       "      <td>4.70</td>\n",
       "      <td>4.46</td>\n",
       "      <td>3.01</td>\n",
       "      <td>1383.13</td>\n",
       "    </tr>\n",
       "    <tr>\n",
       "      <th>1643527</th>\n",
       "      <td>0.52</td>\n",
       "      <td>4.0</td>\n",
       "      <td>1.0</td>\n",
       "      <td>6.0</td>\n",
       "      <td>65.141612</td>\n",
       "      <td>4.76</td>\n",
       "      <td>4.42</td>\n",
       "      <td>2.99</td>\n",
       "      <td>1384.24</td>\n",
       "    </tr>\n",
       "  </tbody>\n",
       "</table>\n",
       "</div>"
      ],
      "text/plain": [
       "         weight (carat)  cut quality  color quality  clarity quality  \\\n",
       "Id                                                                     \n",
       "1638147            0.55          4.0            5.0              1.0   \n",
       "1612606            0.51          4.0            2.0              3.0   \n",
       "1638140            0.50          4.0            2.0              3.0   \n",
       "1536093            0.53          4.0            6.0              2.0   \n",
       "1643527            0.52          4.0            1.0              6.0   \n",
       "\n",
       "         depth (percentage)  lenght (millimeters)  width (millimeters)  \\\n",
       "Id                                                                       \n",
       "1638147           62.553191                  5.05                 4.35   \n",
       "1612606           64.900662                  4.71                 4.35   \n",
       "1638140           62.813522                  4.91                 4.26   \n",
       "1536093           65.720524                  4.70                 4.46   \n",
       "1643527           65.141612                  4.76                 4.42   \n",
       "\n",
       "         depth (millimeters)    price  \n",
       "Id                                     \n",
       "1638147                 2.94  1378.65  \n",
       "1612606                 2.94  1380.19  \n",
       "1638140                 2.88  1380.61  \n",
       "1536093                 3.01  1383.13  \n",
       "1643527                 2.99  1384.24  "
      ]
     },
     "execution_count": 70,
     "metadata": {},
     "output_type": "execute_result"
    }
   ],
   "source": [
    "df_characteristics = df_characteristics[['weight (carat)', 'cut quality', 'color quality', 'clarity quality', 'depth (percentage)', 'lenght (millimeters)', 'width (millimeters)', 'depth (millimeters)', 'price']]\n",
    "\n",
    "df_characteristics.head()\n"
   ]
  },
  {
   "attachments": {},
   "cell_type": "markdown",
   "metadata": {},
   "source": [
    "## Eliminación de duplicados"
   ]
  },
  {
   "cell_type": "code",
   "execution_count": 71,
   "metadata": {},
   "outputs": [],
   "source": [
    "df_characteristics = df_characteristics.drop_duplicates()\n"
   ]
  },
  {
   "attachments": {},
   "cell_type": "markdown",
   "metadata": {},
   "source": [
    "# Exportación\n",
    "\n",
    "- Se guarda el nuevo \"dataframe\" como \"csv\" listo para el modelaje\n",
    "\n",
    "- Como no hay columna \"table (percentage)\", no quedará más remedio que reentrenar el modelo sin esa columna para cuando se cojan características obtenidas a partir de las imágnes. Para ese fin, se usará el \"dataset\" original en lugar del de competición para un mejor resultado"
   ]
  },
  {
   "cell_type": "code",
   "execution_count": 77,
   "metadata": {},
   "outputs": [],
   "source": [
    "df_characteristics.to_csv(r'data\\processed\\images_data_processed.csv', index='Id')\n"
   ]
  }
 ],
 "metadata": {
  "kernelspec": {
   "display_name": "data_analytics",
   "language": "python",
   "name": "python3"
  },
  "language_info": {
   "codemirror_mode": {
    "name": "ipython",
    "version": 3
   },
   "file_extension": ".py",
   "mimetype": "text/x-python",
   "name": "python",
   "nbconvert_exporter": "python",
   "pygments_lexer": "ipython3",
   "version": "3.9.16"
  },
  "orig_nbformat": 4,
  "vscode": {
   "interpreter": {
    "hash": "62be4b4d7aada9f05487a097e316e83dc3ceda15568e9d0ea281b513767b88d7"
   }
  }
 },
 "nbformat": 4,
 "nbformat_minor": 2
}
