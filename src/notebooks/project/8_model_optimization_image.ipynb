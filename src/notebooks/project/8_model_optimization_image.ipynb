{
  "cells": [
    {
      "cell_type": "code",
      "execution_count": 1,
      "metadata": {
        "colab": {
          "base_uri": "https://localhost:8080/"
        },
        "id": "C-qAea3tjpZl",
        "outputId": "5bbd37ec-1bc8-438a-f3d0-0ba53b33c1c4"
      },
      "outputs": [],
      "source": [
        "# from google.colab import drive\n",
        "# drive.mount('/content/gdrive')\n"
      ]
    },
    {
      "cell_type": "code",
      "execution_count": 2,
      "metadata": {
        "id": "etR8YA7FUiSC"
      },
      "outputs": [],
      "source": [
        "import os\n",
        "import glob\n",
        "import cv2\n",
        "from PIL import Image\n",
        "import tensorflow as tf\n",
        "\n",
        "from sklearn.metrics import make_scorer\n",
        "from sklearn.preprocessing import StandardScaler\n",
        "from sklearn.model_selection import GridSearchCV, RandomizedSearchCV\n",
        "\n",
        "import keras\n",
        "from keras.callbacks import EarlyStopping, ReduceLROnPlateau\n",
        "from keras.preprocessing.image import ImageDataGenerator\n",
        "from keras.regularizers import l2\n",
        "from keras.models import load_model, save_model, Model\n",
        "from keras.layers import Flatten, Dense, Conv2D, Dropout, BatchNormalization, AveragePooling2D, LeakyReLU, GlobalAveragePooling2D, MaxPooling2D, Activation\n",
        "from keras.optimizers import Adam, SGD, RMSprop\n",
        "from keras.applications.vgg16 import VGG16, preprocess_input\n",
        "from keras.applications.efficientnet_v2 import preprocess_input as preprocess_input_efficientnet\n",
        "from keras.applications import EfficientNetV2L\n",
        "from keras.applications.mobilenet_v3 import MobileNetV3Large\n",
        "from keras.applications.mobilenet_v3 import preprocess_input as preprocess_input_mobilenet\n",
        "from keras import regularizers\n",
        "\n",
        "if str(os.getcwdb()[-3:]).split(\"'\")[1] != 'src':\n",
        "    for _ in range(2):\n",
        "        os.chdir(os.path.dirname(os.getcwdb()))\n",
        "\n",
        "from utils.classes import *\n",
        "from utils.functions import *\n",
        "\n",
        "# import pandas as pd\n",
        "# from sklearn.model_selection import train_test_split\n",
        "# import matplotlib.pyplot as plt\n",
        "# from sklearn.metrics import mean_absolute_error, mean_absolute_percentage_error, mean_squared_error, r2_score\n",
        "# import joblib\n"
      ]
    },
    {
      "cell_type": "code",
      "execution_count": 3,
      "metadata": {
        "colab": {
          "base_uri": "https://localhost:8080/",
          "height": 250
        },
        "id": "rtASrsGzVTec",
        "outputId": "561f0490-75f2-4027-d7b0-20293f60366d"
      },
      "outputs": [
        {
          "data": {
            "text/html": [
              "<div>\n",
              "<style scoped>\n",
              "    .dataframe tbody tr th:only-of-type {\n",
              "        vertical-align: middle;\n",
              "    }\n",
              "\n",
              "    .dataframe tbody tr th {\n",
              "        vertical-align: top;\n",
              "    }\n",
              "\n",
              "    .dataframe thead th {\n",
              "        text-align: right;\n",
              "    }\n",
              "</style>\n",
              "<table border=\"1\" class=\"dataframe\">\n",
              "  <thead>\n",
              "    <tr style=\"text-align: right;\">\n",
              "      <th></th>\n",
              "      <th>Id</th>\n",
              "      <th>Shape</th>\n",
              "      <th>Weight</th>\n",
              "      <th>Clarity</th>\n",
              "      <th>Colour</th>\n",
              "      <th>Cut</th>\n",
              "      <th>Polish</th>\n",
              "      <th>Symmetry</th>\n",
              "      <th>Fluorescence</th>\n",
              "      <th>Messurements</th>\n",
              "      <th>price</th>\n",
              "    </tr>\n",
              "  </thead>\n",
              "  <tbody>\n",
              "    <tr>\n",
              "      <th>0</th>\n",
              "      <td>1638147</td>\n",
              "      <td>CUSHION</td>\n",
              "      <td>0.55</td>\n",
              "      <td>SI2</td>\n",
              "      <td>E</td>\n",
              "      <td>EX</td>\n",
              "      <td>EX</td>\n",
              "      <td>VG</td>\n",
              "      <td>N</td>\n",
              "      <td>5.05-4.35×2.94</td>\n",
              "      <td>1378.65</td>\n",
              "    </tr>\n",
              "    <tr>\n",
              "      <th>1</th>\n",
              "      <td>1630155</td>\n",
              "      <td>CUSHION</td>\n",
              "      <td>0.50</td>\n",
              "      <td>VVS1</td>\n",
              "      <td>FANCY</td>\n",
              "      <td>EX</td>\n",
              "      <td>EX</td>\n",
              "      <td>VG</td>\n",
              "      <td>F</td>\n",
              "      <td>4.60-4.31×2.92</td>\n",
              "      <td>1379.74</td>\n",
              "    </tr>\n",
              "    <tr>\n",
              "      <th>2</th>\n",
              "      <td>1612606</td>\n",
              "      <td>CUSHION</td>\n",
              "      <td>0.51</td>\n",
              "      <td>VS2</td>\n",
              "      <td>H</td>\n",
              "      <td>EX</td>\n",
              "      <td>EX</td>\n",
              "      <td>VG</td>\n",
              "      <td>N</td>\n",
              "      <td>4.71-4.35×2.94</td>\n",
              "      <td>1380.19</td>\n",
              "    </tr>\n",
              "    <tr>\n",
              "      <th>3</th>\n",
              "      <td>1638140</td>\n",
              "      <td>CUSHION</td>\n",
              "      <td>0.50</td>\n",
              "      <td>VS2</td>\n",
              "      <td>H</td>\n",
              "      <td>EX</td>\n",
              "      <td>EX</td>\n",
              "      <td>VG</td>\n",
              "      <td>N</td>\n",
              "      <td>4.91-4.26×2.88</td>\n",
              "      <td>1380.61</td>\n",
              "    </tr>\n",
              "    <tr>\n",
              "      <th>4</th>\n",
              "      <td>1536093</td>\n",
              "      <td>CUSHION</td>\n",
              "      <td>0.53</td>\n",
              "      <td>SI1</td>\n",
              "      <td>D</td>\n",
              "      <td>EX</td>\n",
              "      <td>VG</td>\n",
              "      <td>VG</td>\n",
              "      <td>N</td>\n",
              "      <td>4.70-4.46×3.01</td>\n",
              "      <td>1383.13</td>\n",
              "    </tr>\n",
              "  </tbody>\n",
              "</table>\n",
              "</div>"
            ],
            "text/plain": [
              "        Id    Shape  Weight Clarity Colour Cut Polish Symmetry Fluorescence  \\\n",
              "0  1638147  CUSHION    0.55     SI2      E  EX     EX       VG            N   \n",
              "1  1630155  CUSHION    0.50    VVS1  FANCY  EX     EX       VG            F   \n",
              "2  1612606  CUSHION    0.51     VS2      H  EX     EX       VG            N   \n",
              "3  1638140  CUSHION    0.50     VS2      H  EX     EX       VG            N   \n",
              "4  1536093  CUSHION    0.53     SI1      D  EX     VG       VG            N   \n",
              "\n",
              "     Messurements    price  \n",
              "0  5.05-4.35×2.94  1378.65  \n",
              "1  4.60-4.31×2.92  1379.74  \n",
              "2  4.71-4.35×2.94  1380.19  \n",
              "3  4.91-4.26×2.88  1380.61  \n",
              "4  4.70-4.46×3.01  1383.13  "
            ]
          },
          "execution_count": 3,
          "metadata": {},
          "output_type": "execute_result"
        }
      ],
      "source": [
        "processed_images_path = r'data\\processed\\images'\n",
        "df_images_data_original = pd.read_csv(r'data\\processed\\images_data_processed.csv')\n",
        "\n",
        "# df_images_data_original = pd.read_csv('/content/gdrive/My Drive/images_data_processed.csv')\n",
        "# processed_images_path = r'/content/gdrive/My Drive/images'\n",
        "\n",
        "df_images_data_original.head()\n"
      ]
    },
    {
      "cell_type": "markdown",
      "metadata": {
        "id": "4IsH6scZjpZu"
      },
      "source": [
        "# Prueba 1 (obsoleta, no cargar)\n",
        "\n",
        "- Para esta primera prueba, se intenta obtener todas las características de los diamantes con un modelo VGG16. Esta prueba está obsoleta ya que se habían adaptado, inicialmente, todos los \"dataframes\" con la intención de predecir, a partir de este modelo, las características de los diamantes, con tal de usar el modelo de \"model_optimization_price\" a posteriori para extraer los precios. Ello había obligado a retirar una variable del \"dataframe\" de predicción de precios y a liquidar muchos diamantes que tenían nulos en el \"dataframe\" de imágenes. Sin embargo, dado su fracaso, todos estos cambios se han revertido.\n",
        "\n",
        "- En conclusión, se deja esta parte solo para su análisis, pero no va a funcionar bien si se pone en marcha porque el \"dataframe\" usado ahora tiene nulos en las \"target\", y ya no existe un \"dataframe\" de predicción de precios sin la columna \"table\", ni un modelo entrenado a partir de dichas características. En su lugar, en las pruebas posteriores (2 y 3), que son las buenas, se predice el precio directamente de las imágenes y se utilizan técnicas distintas.\n",
        "\n",
        "- Se elige este modelo por las siguientes razones:\n",
        "\n",
        "1) Es popular y se ha utilizado con éxito en investigación\n",
        "2) Es relativamente fácil adaptarlo para problemas de regresión\n",
        "3) Tiene un buen rendimiento\n",
        "4) Trabaja con RGB, y el color de los diamantes es importante\n",
        "5) Utiliza un tamaño de 224x224, y se ha visto que a partir de 150 componentes se obtiene toda la información necesaria\n",
        "6) Otros como ResNet, Inception, EfficientNet o MobileNet son más modernos y tienen el potencial de dar mejores resultados, pero el coste computacional podría elevarse, lo que quizá no valdría la pena para un \"dataset\" tan pequeño\n",
        "\n",
        "- El modelo es lento y no da resultados demasiado buenos por la siguientes razones:\n",
        "\n",
        "1) Las redes neuronales no son muy eficaces para regresión, razón por la cual se encuentran pocos \"papers\" científicos que lo intenten. La situación se agrava porque se pretende predecir 7 \"targets\"\n",
        "\n",
        "2) De esas \"targets\", hay varias que en realidad son de clasificación, como el corte y el color del diamante\n",
        "\n",
        "3) La tarea de discernir el peso o las dimensiones de un diamante sin un punto de referencia es muy complicada"
      ]
    },
    {
      "cell_type": "markdown",
      "metadata": {
        "id": "d5gkxlAaUiSG"
      },
      "source": [
        "## Tamaño de las imágenes\n",
        "\n",
        "- Se modifican los píxeles de cada imagen, de 300 a 224, para que puedan encajar en el modelo"
      ]
    },
    {
      "cell_type": "code",
      "execution_count": null,
      "metadata": {
        "id": "3ORMhbYGUiSI"
      },
      "outputs": [],
      "source": [
        "for image_path in glob.glob(processed_images_path+'/*.jpg'):\n",
        "    with Image.open(image_path) as image:\n",
        "        image = image.resize((224, 224))\n",
        "        image.save(image_path)\n"
      ]
    },
    {
      "cell_type": "markdown",
      "metadata": {
        "id": "wKdaTaCiUiSK"
      },
      "source": [
        "## \"Split\"\n",
        "\n",
        "- Se separa el \"dataframe\" en \"train\" y \"test\""
      ]
    },
    {
      "cell_type": "code",
      "execution_count": null,
      "metadata": {
        "colab": {
          "base_uri": "https://localhost:8080/",
          "height": 268
        },
        "id": "m3b_EA4pUiSK",
        "outputId": "07e74ef9-8dab-48ff-e7a2-fd31315a65e1"
      },
      "outputs": [
        {
          "data": {
            "text/html": [
              "<div>\n",
              "<style scoped>\n",
              "    .dataframe tbody tr th:only-of-type {\n",
              "        vertical-align: middle;\n",
              "    }\n",
              "\n",
              "    .dataframe tbody tr th {\n",
              "        vertical-align: top;\n",
              "    }\n",
              "\n",
              "    .dataframe thead th {\n",
              "        text-align: right;\n",
              "    }\n",
              "</style>\n",
              "<table border=\"1\" class=\"dataframe\">\n",
              "  <thead>\n",
              "    <tr style=\"text-align: right;\">\n",
              "      <th></th>\n",
              "      <th>Id</th>\n",
              "      <th>weight (carat)</th>\n",
              "      <th>cut quality</th>\n",
              "      <th>color quality</th>\n",
              "      <th>clarity quality</th>\n",
              "      <th>depth (percentage)</th>\n",
              "      <th>length (millimeters)</th>\n",
              "      <th>width (millimeters)</th>\n",
              "      <th>depth (millimeters)</th>\n",
              "    </tr>\n",
              "  </thead>\n",
              "  <tbody>\n",
              "    <tr>\n",
              "      <th>0</th>\n",
              "      <td>1638147.jpg</td>\n",
              "      <td>0.55</td>\n",
              "      <td>4.0</td>\n",
              "      <td>5.0</td>\n",
              "      <td>1.0</td>\n",
              "      <td>62.553191</td>\n",
              "      <td>5.05</td>\n",
              "      <td>4.35</td>\n",
              "      <td>2.94</td>\n",
              "    </tr>\n",
              "    <tr>\n",
              "      <th>1</th>\n",
              "      <td>1612606.jpg</td>\n",
              "      <td>0.51</td>\n",
              "      <td>4.0</td>\n",
              "      <td>2.0</td>\n",
              "      <td>3.0</td>\n",
              "      <td>64.900662</td>\n",
              "      <td>4.71</td>\n",
              "      <td>4.35</td>\n",
              "      <td>2.94</td>\n",
              "    </tr>\n",
              "    <tr>\n",
              "      <th>2</th>\n",
              "      <td>1638140.jpg</td>\n",
              "      <td>0.50</td>\n",
              "      <td>4.0</td>\n",
              "      <td>2.0</td>\n",
              "      <td>3.0</td>\n",
              "      <td>62.813522</td>\n",
              "      <td>4.91</td>\n",
              "      <td>4.26</td>\n",
              "      <td>2.88</td>\n",
              "    </tr>\n",
              "    <tr>\n",
              "      <th>3</th>\n",
              "      <td>1536093.jpg</td>\n",
              "      <td>0.53</td>\n",
              "      <td>4.0</td>\n",
              "      <td>6.0</td>\n",
              "      <td>2.0</td>\n",
              "      <td>65.720524</td>\n",
              "      <td>4.70</td>\n",
              "      <td>4.46</td>\n",
              "      <td>3.01</td>\n",
              "    </tr>\n",
              "    <tr>\n",
              "      <th>4</th>\n",
              "      <td>1643527.jpg</td>\n",
              "      <td>0.52</td>\n",
              "      <td>4.0</td>\n",
              "      <td>1.0</td>\n",
              "      <td>6.0</td>\n",
              "      <td>65.141612</td>\n",
              "      <td>4.76</td>\n",
              "      <td>4.42</td>\n",
              "      <td>2.99</td>\n",
              "    </tr>\n",
              "  </tbody>\n",
              "</table>\n",
              "</div>"
            ],
            "text/plain": [
              "            Id  weight (carat)  cut quality  color quality  clarity quality  \\\n",
              "0  1638147.jpg            0.55          4.0            5.0              1.0   \n",
              "1  1612606.jpg            0.51          4.0            2.0              3.0   \n",
              "2  1638140.jpg            0.50          4.0            2.0              3.0   \n",
              "3  1536093.jpg            0.53          4.0            6.0              2.0   \n",
              "4  1643527.jpg            0.52          4.0            1.0              6.0   \n",
              "\n",
              "   depth (percentage)  length (millimeters)  width (millimeters)  \\\n",
              "0           62.553191                  5.05                 4.35   \n",
              "1           64.900662                  4.71                 4.35   \n",
              "2           62.813522                  4.91                 4.26   \n",
              "3           65.720524                  4.70                 4.46   \n",
              "4           65.141612                  4.76                 4.42   \n",
              "\n",
              "   depth (millimeters)  \n",
              "0                 2.94  \n",
              "1                 2.94  \n",
              "2                 2.88  \n",
              "3                 3.01  \n",
              "4                 2.99  "
            ]
          },
          "execution_count": 13,
          "metadata": {},
          "output_type": "execute_result"
        }
      ],
      "source": [
        "df_images_data = df_images_data_original.copy()\n",
        "\n",
        "df_images_data = df_images_data.drop(columns='price')\n",
        "\n",
        "df_images_data['Id'] = df_images_data['Id'].apply(lambda x: x + '.jpg')\n",
        "\n",
        "df_images_data.head()\n"
      ]
    },
    {
      "cell_type": "code",
      "execution_count": null,
      "metadata": {
        "colab": {
          "base_uri": "https://localhost:8080/",
          "height": 268
        },
        "id": "iKMeOss4UiSK",
        "outputId": "8a331579-d6ef-4f78-b178-d482a0f36ec0"
      },
      "outputs": [
        {
          "data": {
            "text/html": [
              "<div>\n",
              "<style scoped>\n",
              "    .dataframe tbody tr th:only-of-type {\n",
              "        vertical-align: middle;\n",
              "    }\n",
              "\n",
              "    .dataframe tbody tr th {\n",
              "        vertical-align: top;\n",
              "    }\n",
              "\n",
              "    .dataframe thead th {\n",
              "        text-align: right;\n",
              "    }\n",
              "</style>\n",
              "<table border=\"1\" class=\"dataframe\">\n",
              "  <thead>\n",
              "    <tr style=\"text-align: right;\">\n",
              "      <th></th>\n",
              "      <th>Id</th>\n",
              "      <th>weight (carat)</th>\n",
              "      <th>cut quality</th>\n",
              "      <th>color quality</th>\n",
              "      <th>clarity quality</th>\n",
              "      <th>depth (percentage)</th>\n",
              "      <th>length (millimeters)</th>\n",
              "      <th>width (millimeters)</th>\n",
              "      <th>depth (millimeters)</th>\n",
              "    </tr>\n",
              "  </thead>\n",
              "  <tbody>\n",
              "    <tr>\n",
              "      <th>1084</th>\n",
              "      <td>1782710.jpg</td>\n",
              "      <td>0.31</td>\n",
              "      <td>4.0</td>\n",
              "      <td>6.0</td>\n",
              "      <td>6.0</td>\n",
              "      <td>53.199498</td>\n",
              "      <td>4.68</td>\n",
              "      <td>3.29</td>\n",
              "      <td>2.12</td>\n",
              "    </tr>\n",
              "    <tr>\n",
              "      <th>2564</th>\n",
              "      <td>211174-39.jpg</td>\n",
              "      <td>1.00</td>\n",
              "      <td>4.0</td>\n",
              "      <td>1.0</td>\n",
              "      <td>5.0</td>\n",
              "      <td>49.358060</td>\n",
              "      <td>8.52</td>\n",
              "      <td>5.50</td>\n",
              "      <td>3.46</td>\n",
              "    </tr>\n",
              "    <tr>\n",
              "      <th>2857</th>\n",
              "      <td>1634758.jpg</td>\n",
              "      <td>0.70</td>\n",
              "      <td>4.0</td>\n",
              "      <td>-1.0</td>\n",
              "      <td>4.0</td>\n",
              "      <td>72.427984</td>\n",
              "      <td>4.90</td>\n",
              "      <td>4.82</td>\n",
              "      <td>3.52</td>\n",
              "    </tr>\n",
              "    <tr>\n",
              "      <th>4325</th>\n",
              "      <td>1659667.jpg</td>\n",
              "      <td>0.50</td>\n",
              "      <td>1.0</td>\n",
              "      <td>5.0</td>\n",
              "      <td>3.0</td>\n",
              "      <td>62.851406</td>\n",
              "      <td>4.94</td>\n",
              "      <td>5.02</td>\n",
              "      <td>3.13</td>\n",
              "    </tr>\n",
              "    <tr>\n",
              "      <th>1482</th>\n",
              "      <td>1785268.jpg</td>\n",
              "      <td>0.30</td>\n",
              "      <td>4.0</td>\n",
              "      <td>6.0</td>\n",
              "      <td>3.0</td>\n",
              "      <td>63.060990</td>\n",
              "      <td>3.98</td>\n",
              "      <td>4.71</td>\n",
              "      <td>2.74</td>\n",
              "    </tr>\n",
              "  </tbody>\n",
              "</table>\n",
              "</div>"
            ],
            "text/plain": [
              "                 Id  weight (carat)  cut quality  color quality  \\\n",
              "1084    1782710.jpg            0.31          4.0            6.0   \n",
              "2564  211174-39.jpg            1.00          4.0            1.0   \n",
              "2857    1634758.jpg            0.70          4.0           -1.0   \n",
              "4325    1659667.jpg            0.50          1.0            5.0   \n",
              "1482    1785268.jpg            0.30          4.0            6.0   \n",
              "\n",
              "      clarity quality  depth (percentage)  length (millimeters)  \\\n",
              "1084              6.0           53.199498                  4.68   \n",
              "2564              5.0           49.358060                  8.52   \n",
              "2857              4.0           72.427984                  4.90   \n",
              "4325              3.0           62.851406                  4.94   \n",
              "1482              3.0           63.060990                  3.98   \n",
              "\n",
              "      width (millimeters)  depth (millimeters)  \n",
              "1084                 3.29                 2.12  \n",
              "2564                 5.50                 3.46  \n",
              "2857                 4.82                 3.52  \n",
              "4325                 5.02                 3.13  \n",
              "1482                 4.71                 2.74  "
            ]
          },
          "execution_count": 14,
          "metadata": {},
          "output_type": "execute_result"
        }
      ],
      "source": [
        "X_train, X_test, y_train, y_test = train_test_split(df_images_data['Id'], df_images_data.drop(columns='Id'), train_size=0.8, random_state=42)\n",
        "\n",
        "df_train = pd.concat((X_train, y_train), axis=1)\n",
        "df_test = pd.concat((X_test, y_test), axis=1)\n",
        "\n",
        "df_train.head()\n"
      ]
    },
    {
      "cell_type": "markdown",
      "metadata": {
        "id": "EKSn_NDZUiSL"
      },
      "source": [
        "## \"Data augmentation\"\n",
        "\n",
        "- Se crea una variable para generar imágenes en diferentes posiciones para que el modelo disponga del mismo diamante colocado de modos distintos\n",
        "\n",
        "- Atención: el ImageDataGenerator devolverá diferentes imágenes cada vez, y no se le puede asignar un \"seed\" para remediarlo\n"
      ]
    },
    {
      "cell_type": "code",
      "execution_count": null,
      "metadata": {
        "id": "0qHrInDXUiSL"
      },
      "outputs": [],
      "source": [
        "# Se establecen las variables para crear nuevos diamantes y para seleccionar el tamaño de imagen correcto\n",
        "data_augmentation = ImageDataGenerator(rotation_range=20,\n",
        "                                        width_shift_range=0.2,\n",
        "                                        height_shift_range=0.2,\n",
        "                                        zoom_range=0.2,\n",
        "                                        horizontal_flip=True,\n",
        "                                        vertical_flip=True,\n",
        "                                        preprocessing_function=preprocess_input,\n",
        "                                        validation_split=0.1\n",
        "                                        )\n"
      ]
    },
    {
      "cell_type": "code",
      "execution_count": null,
      "metadata": {
        "colab": {
          "base_uri": "https://localhost:8080/"
        },
        "id": "Wxc2yRtKUiSM",
        "outputId": "cf38cce5-44be-4cf5-ca32-e69db939ba56"
      },
      "outputs": [
        {
          "name": "stdout",
          "output_type": "stream",
          "text": [
            "Found 3254 validated image filenames.\n",
            "Found 361 validated image filenames.\n",
            "Found 904 validated image filenames.\n"
          ]
        }
      ],
      "source": [
        "# Se crean tres \"generators\" con los datos aumentados (entrenamiento, validación y \"test\")\n",
        "train_generator = data_augmentation.flow_from_dataframe(dataframe=df_train,\n",
        "                                                        directory=processed_images_path,\n",
        "                                                        target_size=(224, 224),\n",
        "                                                        class_mode='raw',\n",
        "                                                        shuffle=False,\n",
        "                                                        x_col='Id',\n",
        "                                                        y_col=list(df_images_data.columns[1:]),\n",
        "                                                        seed=42,\n",
        "                                                        subset='training'\n",
        "                                                        )\n",
        "\n",
        "validation_generator = data_augmentation.flow_from_dataframe(dataframe=df_train,\n",
        "                                                                directory=processed_images_path,\n",
        "                                                                target_size=(224, 224),\n",
        "                                                                class_mode='raw',\n",
        "                                                                shuffle=False,\n",
        "                                                                x_col='Id',\n",
        "                                                                y_col=list(df_images_data.columns[1:]),\n",
        "                                                                seed=42,\n",
        "                                                                subset='validation'\n",
        "                                                                )\n",
        "\n",
        "test_generator = data_augmentation.flow_from_dataframe(dataframe=df_test,\n",
        "                                                        directory=processed_images_path,\n",
        "                                                        target_size=(224, 224),\n",
        "                                                        class_mode='raw',\n",
        "                                                        shuffle=False,\n",
        "                                                        x_col='Id',\n",
        "                                                        y_col=list(df_images_data.columns[1:]),\n",
        "                                                        seed=42,\n",
        "                                                        )\n"
      ]
    },
    {
      "cell_type": "markdown",
      "metadata": {
        "id": "f7HiQ4iwUiSM"
      },
      "source": [
        "## Arquitectura"
      ]
    },
    {
      "cell_type": "code",
      "execution_count": null,
      "metadata": {
        "colab": {
          "base_uri": "https://localhost:8080/"
        },
        "id": "qqd_mhBdUiSN",
        "outputId": "96a200bd-fcb1-4a95-c1ad-f5b7ba7cd1f9"
      },
      "outputs": [
        {
          "name": "stdout",
          "output_type": "stream",
          "text": [
            "Downloading data from https://storage.googleapis.com/tensorflow/keras-applications/vgg16/vgg16_weights_tf_dim_ordering_tf_kernels_notop.h5\n",
            "58889256/58889256 [==============================] - 0s 0us/step\n"
          ]
        }
      ],
      "source": [
        "# Se carga el modelo sin la capa superior\n",
        "base_model = VGG16(include_top=False, input_shape=((224, 224, 3)))\n"
      ]
    },
    {
      "cell_type": "code",
      "execution_count": null,
      "metadata": {
        "id": "rxE07HtqUiSN"
      },
      "outputs": [],
      "source": [
        "# Se congelan las capas base para que no se entrenen al tunear parámetros, sino que queden igual\n",
        "for layer in base_model.layers:\n",
        "    layer.trainable = False\n"
      ]
    },
    {
      "cell_type": "code",
      "execution_count": null,
      "metadata": {
        "id": "7ZgzGhHlUiSO"
      },
      "outputs": [],
      "source": [
        "# Se crea una nueva capa superior\n",
        "top_model = Flatten()(base_model.output)\n",
        "top_model = Dense(1024, activation='relu')(top_model)\n",
        "top_model = Dense(512, activation='relu')(top_model)\n",
        "output_layer = Dense(8, activation='linear')(top_model)\n"
      ]
    },
    {
      "cell_type": "code",
      "execution_count": null,
      "metadata": {
        "id": "mE20ff6kUiSO"
      },
      "outputs": [],
      "source": [
        "# Se tunea el modelo con la capa nueva\n",
        "model = Model(inputs=base_model.input, outputs=output_layer)\n"
      ]
    },
    {
      "cell_type": "code",
      "execution_count": null,
      "metadata": {
        "id": "lf9CInuVUiSO"
      },
      "outputs": [],
      "source": [
        "# Se compila y se le pone un optimizador\n",
        "model.compile(optimizer=Adam(learning_rate=0.001), loss='mae')\n"
      ]
    },
    {
      "cell_type": "markdown",
      "metadata": {
        "id": "3csP_xOyjpZ5"
      },
      "source": [
        "## Entrenamiento"
      ]
    },
    {
      "cell_type": "code",
      "execution_count": null,
      "metadata": {
        "colab": {
          "base_uri": "https://localhost:8080/"
        },
        "id": "0LrHTnA-UiSO",
        "outputId": "f106de9e-8ecd-4c65-b589-f2c11ce51875"
      },
      "outputs": [
        {
          "name": "stdout",
          "output_type": "stream",
          "text": [
            "Epoch 1/20\n",
            "102/102 [==============================] - 1658s 16s/step - loss: 4.7631 - val_loss: 1.8354\n",
            "Epoch 2/20\n",
            "102/102 [==============================] - 1619s 16s/step - loss: 1.6331 - val_loss: 1.5055\n",
            "Epoch 3/20\n",
            "102/102 [==============================] - 1621s 16s/step - loss: 1.4628 - val_loss: 1.4908\n",
            "Epoch 4/20\n",
            "102/102 [==============================] - 1622s 16s/step - loss: 1.3511 - val_loss: 1.4441\n",
            "Epoch 5/20\n",
            "102/102 [==============================] - 1623s 16s/step - loss: 1.3218 - val_loss: 1.2371\n",
            "Epoch 6/20\n",
            "102/102 [==============================] - 1628s 16s/step - loss: 1.2581 - val_loss: 1.2024\n",
            "Epoch 7/20\n",
            "102/102 [==============================] - 1620s 16s/step - loss: 1.2337 - val_loss: 1.2048\n",
            "Epoch 8/20\n",
            "102/102 [==============================] - 1623s 16s/step - loss: 1.2070 - val_loss: 1.1370\n",
            "Epoch 9/20\n",
            "102/102 [==============================] - 1610s 16s/step - loss: 1.1842 - val_loss: 1.0816\n",
            "Epoch 10/20\n",
            "102/102 [==============================] - 1622s 16s/step - loss: 1.1651 - val_loss: 1.2018\n",
            "Epoch 11/20\n",
            "102/102 [==============================] - 1624s 16s/step - loss: 1.1729 - val_loss: 1.1205\n",
            "Epoch 12/20\n",
            "102/102 [==============================] - 1619s 16s/step - loss: 1.1314 - val_loss: 1.1070\n"
          ]
        }
      ],
      "source": [
        "# Se entrena el modelo con \"early stopping\"\n",
        "early_stop = EarlyStopping(monitor='val_loss', patience=3, restore_best_weights=True)\n",
        "\n",
        "history = model.fit(train_generator,\n",
        "                    epochs=20,\n",
        "                    batch_size=64,\n",
        "                    validation_data=validation_generator,\n",
        "                    callbacks=[early_stop]\n",
        "                    )\n"
      ]
    },
    {
      "cell_type": "code",
      "execution_count": null,
      "metadata": {
        "colab": {
          "base_uri": "https://localhost:8080/"
        },
        "id": "py8Hw56BUiSP",
        "outputId": "d3fdbd26-09c3-4be6-b8c8-0b612296e4d9"
      },
      "outputs": [
        {
          "name": "stdout",
          "output_type": "stream",
          "text": [
            "29/29 [==============================] - 403s 14s/step\n"
          ]
        }
      ],
      "source": [
        "y_pred = model.predict(test_generator)\n"
      ]
    },
    {
      "cell_type": "markdown",
      "metadata": {
        "id": "c19KEA2SjpZ6"
      },
      "source": [
        "## Resultados"
      ]
    },
    {
      "cell_type": "code",
      "execution_count": null,
      "metadata": {
        "colab": {
          "base_uri": "https://localhost:8080/"
        },
        "id": "v8CGDLXVUiSP",
        "outputId": "1ee0b62d-32e2-4664-a0d0-a232bc73b655"
      },
      "outputs": [
        {
          "data": {
            "text/plain": [
              "{'weight (carat)': {'mse': 0.1336372049921532,\n",
              "  'rmse': 0.36556422827206875,\n",
              "  'mae': 0.2417054289899173,\n",
              "  'r2': -0.03505052079897086,\n",
              "  'mape': 0.4639574649408659},\n",
              " 'cut quality': {'mse': 1.2739422312412216,\n",
              "  'rmse': 1.1286904939978992,\n",
              "  'mae': 0.818438103010433,\n",
              "  'r2': -0.1435679608231537,\n",
              "  'mape': 72608940205989.75},\n",
              " 'color quality': {'mse': 4.147202059491201,\n",
              "  'rmse': 2.0364680354700395,\n",
              "  'mae': 1.6430471274544345,\n",
              "  'r2': 0.5249337891759873,\n",
              "  'mape': 794924327189803.6},\n",
              " 'clarity quality': {'mse': 2.2534897969237186,\n",
              "  'rmse': 1.5011628149283869,\n",
              "  'mae': 1.139925202503141,\n",
              "  'r2': 0.009078528522102447,\n",
              "  'mape': 43805370364375.625},\n",
              " 'depth (percentage)': {'mse': 20.30939250731928,\n",
              "  'rmse': 4.5065943357838725,\n",
              "  'mae': 3.521957158820884,\n",
              "  'r2': 0.6469763987724068,\n",
              "  'mape': 0.05941118910892257},\n",
              " 'length (millimeters)': {'mse': 0.5882077754517148,\n",
              "  'rmse': 0.7669470486622364,\n",
              "  'mae': 0.5708067799352967,\n",
              "  'r2': 0.6074706713139164,\n",
              "  'mape': 0.10523307766039347},\n",
              " 'width (millimeters)': {'mse': 0.37875802771396294,\n",
              "  'rmse': 0.615433203291765,\n",
              "  'mae': 0.46728212313314454,\n",
              "  'r2': 0.33337117505711666,\n",
              "  'mape': 0.09874659417577042},\n",
              " 'depth (millimeters)': {'mse': 0.1614554768969823,\n",
              "  'rmse': 0.401815227308501,\n",
              "  'mae': 0.2887641126181172,\n",
              "  'r2': 0.34414694604782703,\n",
              "  'mape': 0.09469218655580351}}"
            ]
          },
          "execution_count": 21,
          "metadata": {},
          "output_type": "execute_result"
        }
      ],
      "source": [
        "# Se obtienen las métricas\n",
        "metrics_dict = dict()\n",
        "for index, col in enumerate(df_images_data.columns[1:]):\n",
        "    rmse = mean_squared_error([row[index] for row in test_generator.labels], [row[index] for row in y_pred], squared=False)\n",
        "    mse = mean_squared_error([row[index] for row in test_generator.labels], [row[index] for row in y_pred])\n",
        "    mae = mean_absolute_error([row[index] for row in test_generator.labels], [row[index] for row in y_pred])\n",
        "    r2 = r2_score([row[index] for row in test_generator.labels], [row[index] for row in y_pred])\n",
        "    mape = mean_absolute_percentage_error([row[index] for row in test_generator.labels], [row[index] for row in y_pred])\n",
        "    metrics_dict[col] = {'mse': mse,\n",
        "                            'rmse': rmse,\n",
        "                            'mae': mae,\n",
        "                            'r2': r2,\n",
        "                            'mape': mape\n",
        "                         }\n",
        "\n",
        "metrics_dict\n"
      ]
    },
    {
      "cell_type": "code",
      "execution_count": null,
      "metadata": {
        "colab": {
          "base_uri": "https://localhost:8080/",
          "height": 424
        },
        "id": "xwDkU29mUiSP",
        "outputId": "6e70d3f5-5d52-4152-d55e-4cfa9aff96d5"
      },
      "outputs": [
        {
          "data": {
            "text/html": [
              "\n",
              "  <div id=\"df-eeccd64c-9266-4381-ab3f-25794bf8a2a2\">\n",
              "    <div class=\"colab-df-container\">\n",
              "      <div>\n",
              "<style scoped>\n",
              "    .dataframe tbody tr th:only-of-type {\n",
              "        vertical-align: middle;\n",
              "    }\n",
              "\n",
              "    .dataframe tbody tr th {\n",
              "        vertical-align: top;\n",
              "    }\n",
              "\n",
              "    .dataframe thead th {\n",
              "        text-align: right;\n",
              "    }\n",
              "</style>\n",
              "<table border=\"1\" class=\"dataframe\">\n",
              "  <thead>\n",
              "    <tr style=\"text-align: right;\">\n",
              "      <th></th>\n",
              "      <th>original weight</th>\n",
              "      <th>Prediction</th>\n",
              "    </tr>\n",
              "  </thead>\n",
              "  <tbody>\n",
              "    <tr>\n",
              "      <th>0</th>\n",
              "      <td>0.50</td>\n",
              "      <td>0.486493</td>\n",
              "    </tr>\n",
              "    <tr>\n",
              "      <th>1</th>\n",
              "      <td>1.61</td>\n",
              "      <td>0.900453</td>\n",
              "    </tr>\n",
              "    <tr>\n",
              "      <th>2</th>\n",
              "      <td>0.50</td>\n",
              "      <td>0.682085</td>\n",
              "    </tr>\n",
              "    <tr>\n",
              "      <th>3</th>\n",
              "      <td>0.75</td>\n",
              "      <td>0.906518</td>\n",
              "    </tr>\n",
              "    <tr>\n",
              "      <th>4</th>\n",
              "      <td>0.50</td>\n",
              "      <td>0.750089</td>\n",
              "    </tr>\n",
              "    <tr>\n",
              "      <th>...</th>\n",
              "      <td>...</td>\n",
              "      <td>...</td>\n",
              "    </tr>\n",
              "    <tr>\n",
              "      <th>899</th>\n",
              "      <td>0.50</td>\n",
              "      <td>0.571988</td>\n",
              "    </tr>\n",
              "    <tr>\n",
              "      <th>900</th>\n",
              "      <td>0.50</td>\n",
              "      <td>0.633700</td>\n",
              "    </tr>\n",
              "    <tr>\n",
              "      <th>901</th>\n",
              "      <td>0.31</td>\n",
              "      <td>0.448187</td>\n",
              "    </tr>\n",
              "    <tr>\n",
              "      <th>902</th>\n",
              "      <td>0.50</td>\n",
              "      <td>0.534622</td>\n",
              "    </tr>\n",
              "    <tr>\n",
              "      <th>903</th>\n",
              "      <td>0.50</td>\n",
              "      <td>0.868102</td>\n",
              "    </tr>\n",
              "  </tbody>\n",
              "</table>\n",
              "<p>904 rows × 2 columns</p>\n",
              "</div>\n",
              "      <button class=\"colab-df-convert\" onclick=\"convertToInteractive('df-eeccd64c-9266-4381-ab3f-25794bf8a2a2')\"\n",
              "              title=\"Convert this dataframe to an interactive table.\"\n",
              "              style=\"display:none;\">\n",
              "        \n",
              "  <svg xmlns=\"http://www.w3.org/2000/svg\" height=\"24px\"viewBox=\"0 0 24 24\"\n",
              "       width=\"24px\">\n",
              "    <path d=\"M0 0h24v24H0V0z\" fill=\"none\"/>\n",
              "    <path d=\"M18.56 5.44l.94 2.06.94-2.06 2.06-.94-2.06-.94-.94-2.06-.94 2.06-2.06.94zm-11 1L8.5 8.5l.94-2.06 2.06-.94-2.06-.94L8.5 2.5l-.94 2.06-2.06.94zm10 10l.94 2.06.94-2.06 2.06-.94-2.06-.94-.94-2.06-.94 2.06-2.06.94z\"/><path d=\"M17.41 7.96l-1.37-1.37c-.4-.4-.92-.59-1.43-.59-.52 0-1.04.2-1.43.59L10.3 9.45l-7.72 7.72c-.78.78-.78 2.05 0 2.83L4 21.41c.39.39.9.59 1.41.59.51 0 1.02-.2 1.41-.59l7.78-7.78 2.81-2.81c.8-.78.8-2.07 0-2.86zM5.41 20L4 18.59l7.72-7.72 1.47 1.35L5.41 20z\"/>\n",
              "  </svg>\n",
              "      </button>\n",
              "      \n",
              "  <style>\n",
              "    .colab-df-container {\n",
              "      display:flex;\n",
              "      flex-wrap:wrap;\n",
              "      gap: 12px;\n",
              "    }\n",
              "\n",
              "    .colab-df-convert {\n",
              "      background-color: #E8F0FE;\n",
              "      border: none;\n",
              "      border-radius: 50%;\n",
              "      cursor: pointer;\n",
              "      display: none;\n",
              "      fill: #1967D2;\n",
              "      height: 32px;\n",
              "      padding: 0 0 0 0;\n",
              "      width: 32px;\n",
              "    }\n",
              "\n",
              "    .colab-df-convert:hover {\n",
              "      background-color: #E2EBFA;\n",
              "      box-shadow: 0px 1px 2px rgba(60, 64, 67, 0.3), 0px 1px 3px 1px rgba(60, 64, 67, 0.15);\n",
              "      fill: #174EA6;\n",
              "    }\n",
              "\n",
              "    [theme=dark] .colab-df-convert {\n",
              "      background-color: #3B4455;\n",
              "      fill: #D2E3FC;\n",
              "    }\n",
              "\n",
              "    [theme=dark] .colab-df-convert:hover {\n",
              "      background-color: #434B5C;\n",
              "      box-shadow: 0px 1px 3px 1px rgba(0, 0, 0, 0.15);\n",
              "      filter: drop-shadow(0px 1px 2px rgba(0, 0, 0, 0.3));\n",
              "      fill: #FFFFFF;\n",
              "    }\n",
              "  </style>\n",
              "\n",
              "      <script>\n",
              "        const buttonEl =\n",
              "          document.querySelector('#df-eeccd64c-9266-4381-ab3f-25794bf8a2a2 button.colab-df-convert');\n",
              "        buttonEl.style.display =\n",
              "          google.colab.kernel.accessAllowed ? 'block' : 'none';\n",
              "\n",
              "        async function convertToInteractive(key) {\n",
              "          const element = document.querySelector('#df-eeccd64c-9266-4381-ab3f-25794bf8a2a2');\n",
              "          const dataTable =\n",
              "            await google.colab.kernel.invokeFunction('convertToInteractive',\n",
              "                                                     [key], {});\n",
              "          if (!dataTable) return;\n",
              "\n",
              "          const docLinkHtml = 'Like what you see? Visit the ' +\n",
              "            '<a target=\"_blank\" href=https://colab.research.google.com/notebooks/data_table.ipynb>data table notebook</a>'\n",
              "            + ' to learn more about interactive tables.';\n",
              "          element.innerHTML = '';\n",
              "          dataTable['output_type'] = 'display_data';\n",
              "          await google.colab.output.renderOutput(dataTable, element);\n",
              "          const docLink = document.createElement('div');\n",
              "          docLink.innerHTML = docLinkHtml;\n",
              "          element.appendChild(docLink);\n",
              "        }\n",
              "      </script>\n",
              "    </div>\n",
              "  </div>\n",
              "  "
            ],
            "text/plain": [
              "     original weight  Prediction\n",
              "0               0.50    0.486493\n",
              "1               1.61    0.900453\n",
              "2               0.50    0.682085\n",
              "3               0.75    0.906518\n",
              "4               0.50    0.750089\n",
              "..               ...         ...\n",
              "899             0.50    0.571988\n",
              "900             0.50    0.633700\n",
              "901             0.31    0.448187\n",
              "902             0.50    0.534622\n",
              "903             0.50    0.868102\n",
              "\n",
              "[904 rows x 2 columns]"
            ]
          },
          "execution_count": 22,
          "metadata": {},
          "output_type": "execute_result"
        }
      ],
      "source": [
        "# Se visualiza la predicción del peso, que es la más importante, en un \"dataframe\"\n",
        "df_weight = pd.DataFrame(data={'original weight': [row[0] for row in test_generator.labels], 'Prediction': [row[0] for row in y_pred]})\n",
        "\n",
        "df_weight\n"
      ]
    },
    {
      "attachments": {},
      "cell_type": "markdown",
      "metadata": {
        "id": "_YhoK69cjpZ7"
      },
      "source": [
        "# Prueba 2 (éxito parcial, combinado con prueba 3)\n",
        "\n",
        "- Como predecir tantas variables es muy difícil, se decide ir directamente a por el precio, sin tener que pasar las características a posteriori por el modelo de \"machine learning\" ya creado. \n",
        "\n",
        "- Se utiliza un modelo MobileNetV3Large, que es potente, relativamente moderno, de una fuente confiable (Google), y que se ha demostrado eficaz para la detección de imágenes\n",
        "\n",
        "- Como puede tardar todavía más que el anterior, se pone en marcha en Google Collab y se aprovecha la GPU. Las partes del código solo usadas en Collab se encuentran comentadas\n",
        "\n",
        "- Se hacen algunas otras modificaciones menores, como establecer que los píxeles por completar del \"generator\" tengan el color del fondo\n",
        "\n",
        "- El resultado mejora ostensiblemente"
      ]
    },
    {
      "cell_type": "code",
      "execution_count": null,
      "metadata": {
        "id": "VT5WWFPvHsK2"
      },
      "outputs": [],
      "source": [
        "for image_path in glob.glob(processed_images_path+'/*.jpg'):\n",
        "    with Image.open(image_path) as image:\n",
        "        image = image.resize((224, 224))\n",
        "        image.save(image_path)\n"
      ]
    },
    {
      "cell_type": "code",
      "execution_count": 4,
      "metadata": {
        "colab": {
          "base_uri": "https://localhost:8080/",
          "height": 206
        },
        "id": "lZEBS7EljpZ7",
        "outputId": "e599524a-6053-4abd-8249-c04819be8d9f"
      },
      "outputs": [
        {
          "data": {
            "text/html": [
              "<div>\n",
              "<style scoped>\n",
              "    .dataframe tbody tr th:only-of-type {\n",
              "        vertical-align: middle;\n",
              "    }\n",
              "\n",
              "    .dataframe tbody tr th {\n",
              "        vertical-align: top;\n",
              "    }\n",
              "\n",
              "    .dataframe thead th {\n",
              "        text-align: right;\n",
              "    }\n",
              "</style>\n",
              "<table border=\"1\" class=\"dataframe\">\n",
              "  <thead>\n",
              "    <tr style=\"text-align: right;\">\n",
              "      <th></th>\n",
              "      <th>Id</th>\n",
              "      <th>price</th>\n",
              "    </tr>\n",
              "  </thead>\n",
              "  <tbody>\n",
              "    <tr>\n",
              "      <th>0</th>\n",
              "      <td>1638147.jpg</td>\n",
              "      <td>-0.579172</td>\n",
              "    </tr>\n",
              "    <tr>\n",
              "      <th>1</th>\n",
              "      <td>1630155.jpg</td>\n",
              "      <td>-0.577234</td>\n",
              "    </tr>\n",
              "    <tr>\n",
              "      <th>2</th>\n",
              "      <td>1612606.jpg</td>\n",
              "      <td>-0.576434</td>\n",
              "    </tr>\n",
              "    <tr>\n",
              "      <th>3</th>\n",
              "      <td>1638140.jpg</td>\n",
              "      <td>-0.575688</td>\n",
              "    </tr>\n",
              "    <tr>\n",
              "      <th>4</th>\n",
              "      <td>1536093.jpg</td>\n",
              "      <td>-0.571209</td>\n",
              "    </tr>\n",
              "  </tbody>\n",
              "</table>\n",
              "</div>"
            ],
            "text/plain": [
              "            Id     price\n",
              "0  1638147.jpg -0.579172\n",
              "1  1630155.jpg -0.577234\n",
              "2  1612606.jpg -0.576434\n",
              "3  1638140.jpg -0.575688\n",
              "4  1536093.jpg -0.571209"
            ]
          },
          "execution_count": 4,
          "metadata": {},
          "output_type": "execute_result"
        }
      ],
      "source": [
        "df_images_data = df_images_data_original.copy()\n",
        "\n",
        "df_images_data = df_images_data[['Id', 'price']]\n",
        "\n",
        "df_images_data['Id'] = df_images_data['Id'].apply(lambda x: x + '.jpg')\n",
        "\n",
        "scaler = StandardScaler()\n",
        "\n",
        "df_images_data['price'] = scaler.fit_transform(df_images_data[['price']])\n",
        "\n",
        "df_images_data.head()\n"
      ]
    },
    {
      "cell_type": "code",
      "execution_count": 102,
      "metadata": {
        "colab": {
          "base_uri": "https://localhost:8080/",
          "height": 206
        },
        "id": "rxGn-fDGjpZ8",
        "outputId": "6e36e631-a0d8-4134-8fba-de3ff5afb4e9"
      },
      "outputs": [
        {
          "data": {
            "text/html": [
              "\n",
              "  <div id=\"df-3325d367-4892-43c8-9d05-fbfb77262c12\">\n",
              "    <div class=\"colab-df-container\">\n",
              "      <div>\n",
              "<style scoped>\n",
              "    .dataframe tbody tr th:only-of-type {\n",
              "        vertical-align: middle;\n",
              "    }\n",
              "\n",
              "    .dataframe tbody tr th {\n",
              "        vertical-align: top;\n",
              "    }\n",
              "\n",
              "    .dataframe thead th {\n",
              "        text-align: right;\n",
              "    }\n",
              "</style>\n",
              "<table border=\"1\" class=\"dataframe\">\n",
              "  <thead>\n",
              "    <tr style=\"text-align: right;\">\n",
              "      <th></th>\n",
              "      <th>Id</th>\n",
              "      <th>price</th>\n",
              "    </tr>\n",
              "  </thead>\n",
              "  <tbody>\n",
              "    <tr>\n",
              "      <th>665</th>\n",
              "      <td>1638121.jpg</td>\n",
              "      <td>1.478931</td>\n",
              "    </tr>\n",
              "    <tr>\n",
              "      <th>4058</th>\n",
              "      <td>1770787.jpg</td>\n",
              "      <td>0.639604</td>\n",
              "    </tr>\n",
              "    <tr>\n",
              "      <th>3929</th>\n",
              "      <td>1784542.jpg</td>\n",
              "      <td>0.611201</td>\n",
              "    </tr>\n",
              "    <tr>\n",
              "      <th>910</th>\n",
              "      <td>1771151.jpg</td>\n",
              "      <td>-0.672559</td>\n",
              "    </tr>\n",
              "    <tr>\n",
              "      <th>1074</th>\n",
              "      <td>1794356.jpg</td>\n",
              "      <td>-0.982687</td>\n",
              "    </tr>\n",
              "  </tbody>\n",
              "</table>\n",
              "</div>\n",
              "      <button class=\"colab-df-convert\" onclick=\"convertToInteractive('df-3325d367-4892-43c8-9d05-fbfb77262c12')\"\n",
              "              title=\"Convert this dataframe to an interactive table.\"\n",
              "              style=\"display:none;\">\n",
              "        \n",
              "  <svg xmlns=\"http://www.w3.org/2000/svg\" height=\"24px\"viewBox=\"0 0 24 24\"\n",
              "       width=\"24px\">\n",
              "    <path d=\"M0 0h24v24H0V0z\" fill=\"none\"/>\n",
              "    <path d=\"M18.56 5.44l.94 2.06.94-2.06 2.06-.94-2.06-.94-.94-2.06-.94 2.06-2.06.94zm-11 1L8.5 8.5l.94-2.06 2.06-.94-2.06-.94L8.5 2.5l-.94 2.06-2.06.94zm10 10l.94 2.06.94-2.06 2.06-.94-2.06-.94-.94-2.06-.94 2.06-2.06.94z\"/><path d=\"M17.41 7.96l-1.37-1.37c-.4-.4-.92-.59-1.43-.59-.52 0-1.04.2-1.43.59L10.3 9.45l-7.72 7.72c-.78.78-.78 2.05 0 2.83L4 21.41c.39.39.9.59 1.41.59.51 0 1.02-.2 1.41-.59l7.78-7.78 2.81-2.81c.8-.78.8-2.07 0-2.86zM5.41 20L4 18.59l7.72-7.72 1.47 1.35L5.41 20z\"/>\n",
              "  </svg>\n",
              "      </button>\n",
              "      \n",
              "  <style>\n",
              "    .colab-df-container {\n",
              "      display:flex;\n",
              "      flex-wrap:wrap;\n",
              "      gap: 12px;\n",
              "    }\n",
              "\n",
              "    .colab-df-convert {\n",
              "      background-color: #E8F0FE;\n",
              "      border: none;\n",
              "      border-radius: 50%;\n",
              "      cursor: pointer;\n",
              "      display: none;\n",
              "      fill: #1967D2;\n",
              "      height: 32px;\n",
              "      padding: 0 0 0 0;\n",
              "      width: 32px;\n",
              "    }\n",
              "\n",
              "    .colab-df-convert:hover {\n",
              "      background-color: #E2EBFA;\n",
              "      box-shadow: 0px 1px 2px rgba(60, 64, 67, 0.3), 0px 1px 3px 1px rgba(60, 64, 67, 0.15);\n",
              "      fill: #174EA6;\n",
              "    }\n",
              "\n",
              "    [theme=dark] .colab-df-convert {\n",
              "      background-color: #3B4455;\n",
              "      fill: #D2E3FC;\n",
              "    }\n",
              "\n",
              "    [theme=dark] .colab-df-convert:hover {\n",
              "      background-color: #434B5C;\n",
              "      box-shadow: 0px 1px 3px 1px rgba(0, 0, 0, 0.15);\n",
              "      filter: drop-shadow(0px 1px 2px rgba(0, 0, 0, 0.3));\n",
              "      fill: #FFFFFF;\n",
              "    }\n",
              "  </style>\n",
              "\n",
              "      <script>\n",
              "        const buttonEl =\n",
              "          document.querySelector('#df-3325d367-4892-43c8-9d05-fbfb77262c12 button.colab-df-convert');\n",
              "        buttonEl.style.display =\n",
              "          google.colab.kernel.accessAllowed ? 'block' : 'none';\n",
              "\n",
              "        async function convertToInteractive(key) {\n",
              "          const element = document.querySelector('#df-3325d367-4892-43c8-9d05-fbfb77262c12');\n",
              "          const dataTable =\n",
              "            await google.colab.kernel.invokeFunction('convertToInteractive',\n",
              "                                                     [key], {});\n",
              "          if (!dataTable) return;\n",
              "\n",
              "          const docLinkHtml = 'Like what you see? Visit the ' +\n",
              "            '<a target=\"_blank\" href=https://colab.research.google.com/notebooks/data_table.ipynb>data table notebook</a>'\n",
              "            + ' to learn more about interactive tables.';\n",
              "          element.innerHTML = '';\n",
              "          dataTable['output_type'] = 'display_data';\n",
              "          await google.colab.output.renderOutput(dataTable, element);\n",
              "          const docLink = document.createElement('div');\n",
              "          docLink.innerHTML = docLinkHtml;\n",
              "          element.appendChild(docLink);\n",
              "        }\n",
              "      </script>\n",
              "    </div>\n",
              "  </div>\n",
              "  "
            ],
            "text/plain": [
              "               Id     price\n",
              "665   1638121.jpg  1.478931\n",
              "4058  1770787.jpg  0.639604\n",
              "3929  1784542.jpg  0.611201\n",
              "910   1771151.jpg -0.672559\n",
              "1074  1794356.jpg -0.982687"
            ]
          },
          "execution_count": 102,
          "metadata": {},
          "output_type": "execute_result"
        }
      ],
      "source": [
        "X_train, X_test, y_train, y_test = train_test_split(df_images_data['Id'], df_images_data.drop(columns='Id'), train_size=0.8, random_state=42)\n",
        "\n",
        "df_train = pd.concat((X_train, y_train), axis=1)\n",
        "df_test = pd.concat((X_test, y_test), axis=1)\n",
        "\n",
        "df_train.head()\n"
      ]
    },
    {
      "cell_type": "code",
      "execution_count": 84,
      "metadata": {
        "id": "dsNTa8VajpZ-"
      },
      "outputs": [],
      "source": [
        "data_augmentation = ImageDataGenerator(rotation_range=20,\n",
        "                                        width_shift_range=0.1,\n",
        "                                        height_shift_range=0.1,\n",
        "                                        zoom_range=0.1,\n",
        "                                        horizontal_flip=True,\n",
        "                                        vertical_flip=True,\n",
        "                                        validation_split=0.3,\n",
        "                                        fill_mode='constant',\n",
        "                                        cval=(176+177+181) / 3\n",
        "                                        )\n"
      ]
    },
    {
      "cell_type": "code",
      "execution_count": 85,
      "metadata": {
        "colab": {
          "base_uri": "https://localhost:8080/"
        },
        "id": "5HhaW6fTjpZ-",
        "outputId": "3571f1e0-8a88-4da6-a8d5-545790da57e6"
      },
      "outputs": [
        {
          "name": "stdout",
          "output_type": "stream",
          "text": [
            "Found 2399 validated image filenames.\n",
            "Found 1028 validated image filenames.\n",
            "Found 857 validated image filenames.\n"
          ]
        }
      ],
      "source": [
        "train_generator = data_augmentation.flow_from_dataframe(dataframe=df_train,\n",
        "                                                        directory=processed_images_path,\n",
        "                                                        target_size=(224, 224),\n",
        "                                                        class_mode='raw',\n",
        "                                                        shuffle=False,\n",
        "                                                        x_col='Id',\n",
        "                                                        y_col=list(df_images_data.columns[1:]),\n",
        "                                                        seed=42,\n",
        "                                                        subset='training',\n",
        "                                                        batch_size=256\n",
        "                                                        )\n",
        "\n",
        "validation_generator = data_augmentation.flow_from_dataframe(dataframe=df_train,\n",
        "                                                                directory=processed_images_path,\n",
        "                                                                target_size=(224, 224),\n",
        "                                                                class_mode='raw',\n",
        "                                                                shuffle=False,\n",
        "                                                                x_col='Id',\n",
        "                                                                y_col=list(df_images_data.columns[1:]),\n",
        "                                                                seed=42,\n",
        "                                                                subset='validation',\n",
        "                                                                batch_size=256\n",
        "                                                                )\n",
        "\n",
        "test_generator = data_augmentation.flow_from_dataframe(dataframe=df_test,\n",
        "                                                        directory=processed_images_path,\n",
        "                                                        target_size=(224, 224),\n",
        "                                                        class_mode='raw',\n",
        "                                                        shuffle=False,\n",
        "                                                        x_col='Id',\n",
        "                                                        y_col=list(df_images_data.columns[1:]),\n",
        "                                                        seed=42,\n",
        "                                                        batch_size=256\n",
        "                                                        )\n"
      ]
    },
    {
      "cell_type": "code",
      "execution_count": null,
      "metadata": {
        "colab": {
          "base_uri": "https://localhost:8080/",
          "height": 248
        },
        "id": "MtC1_NH8wMNe",
        "outputId": "f253063e-6fa4-4c58-caa3-d958da455dd8"
      },
      "outputs": [
        {
          "data": {
            "image/png": "[encoded data removed]",
            "text/plain": [
              "<Figure size 432x288 with 9 Axes>"
            ]
          },
          "metadata": {
            "needs_background": "light"
          },
          "output_type": "display_data"
        }
      ],
      "source": [
        "# Se visualizan algunas de las imágenes creadas\n",
        "augmented_images, _ = train_generator.next()\n",
        "augmented_images /= 255\n",
        "\n",
        "for i in range(9):\n",
        "    plt.subplot(3, 3, i+1)\n",
        "    plt.imshow(augmented_images[i])\n",
        "    plt.axis('off')\n",
        "plt.show()\n"
      ]
    },
    {
      "cell_type": "code",
      "execution_count": null,
      "metadata": {
        "colab": {
          "base_uri": "https://localhost:8080/"
        },
        "id": "Oytk27s0jpZ_",
        "outputId": "ed94fa2d-8d34-497c-c90d-e55524077eda"
      },
      "outputs": [
        {
          "name": "stdout",
          "output_type": "stream",
          "text": [
            "/device:GPU:0\n"
          ]
        }
      ],
      "source": [
        "# Se comprueba la GPU\n",
        "# print(tf.test.gpu_device_name())\n"
      ]
    },
    {
      "cell_type": "code",
      "execution_count": 98,
      "metadata": {
        "colab": {
          "base_uri": "https://localhost:8080/"
        },
        "id": "JRuv_D1eOCH0",
        "outputId": "8042e48a-94be-40c8-db6b-dec7931b84bc"
      },
      "outputs": [
        {
          "name": "stdout",
          "output_type": "stream",
          "text": [
            "Epoch 1/100\n",
            "10/10 [==============================] - 48s 4s/step - loss: 0.8463 - val_loss: 0.7382 - lr: 0.0010\n",
            "Epoch 2/100\n",
            "10/10 [==============================] - 38s 4s/step - loss: 0.6945 - val_loss: 0.6185 - lr: 0.0010\n",
            "Epoch 3/100\n",
            "10/10 [==============================] - 38s 4s/step - loss: 0.5918 - val_loss: 0.5969 - lr: 0.0010\n",
            "Epoch 4/100\n",
            "10/10 [==============================] - 38s 4s/step - loss: 0.5670 - val_loss: 0.6194 - lr: 0.0010\n",
            "Epoch 5/100\n",
            "10/10 [==============================] - 38s 4s/step - loss: 0.5396 - val_loss: 0.5553 - lr: 0.0010\n",
            "Epoch 6/100\n",
            "10/10 [==============================] - 38s 4s/step - loss: 0.5333 - val_loss: 0.5691 - lr: 0.0010\n",
            "Epoch 7/100\n",
            "10/10 [==============================] - 38s 4s/step - loss: 0.5260 - val_loss: 0.5617 - lr: 0.0010\n",
            "Epoch 8/100\n",
            "10/10 [==============================] - 38s 4s/step - loss: 0.5136 - val_loss: 0.6014 - lr: 0.0010\n",
            "Epoch 9/100\n",
            "10/10 [==============================] - 38s 4s/step - loss: 0.4994 - val_loss: 0.5632 - lr: 2.0000e-04\n",
            "Epoch 10/100\n",
            "10/10 [==============================] - 38s 4s/step - loss: 0.4850 - val_loss: 0.5623 - lr: 2.0000e-04\n",
            "Epoch 11/100\n",
            "10/10 [==============================] - 38s 4s/step - loss: 0.4921 - val_loss: 0.5622 - lr: 2.0000e-04\n"
          ]
        }
      ],
      "source": [
        "tf.random.set_seed(42)\n",
        "\n",
        "base_model = MobileNetV3Large(weights='imagenet', include_top=False, input_shape=(224, 224, 3))\n",
        "\n",
        "for layer in base_model.layers:\n",
        "    layer.trainable = False\n",
        "\n",
        "top_model = base_model.output\n",
        "\n",
        "top_model = GlobalAveragePooling2D()(top_model)\n",
        "\n",
        "top_model = Dense(1024, activation='relu')(top_model)\n",
        "\n",
        "top_model = Dense(512, activation='relu')(top_model)\n",
        "\n",
        "top_model = Dense(256, activation='relu')(top_model)\n",
        "\n",
        "top_model = Dense(128, activation='relu')(top_model)\n",
        "\n",
        "top_model = Dense(64, activation='relu')(top_model)\n",
        "\n",
        "top_model = Dense(32, activation='relu')(top_model)\n",
        "\n",
        "top_model = Dense(16, activation='relu')(top_model)\n",
        "\n",
        "top_model = Dense(8, activation='relu')(top_model)\n",
        "\n",
        "output_layer = Dense(1, activation='linear')(top_model)\n",
        "\n",
        "model = Model(inputs=base_model.input, outputs=output_layer)\n",
        "model.compile(optimizer=Adam(learning_rate=0.001), loss='mse')\n",
        "\n",
        "early_stop = EarlyStopping(monitor='val_loss', patience=6, restore_best_weights=True)\n",
        "reduce_lr = ReduceLROnPlateau(monitor='val_loss', factor=0.2, patience=3, min_lr=0.00001)\n",
        "\n",
        "# el \"with\" es solo para Collab, donde se usa la GPU para almacenar las imágenes\n",
        "with tf.device('/device:GPU:0'):\n",
        "    history = model.fit(train_generator,\n",
        "                        epochs=100,\n",
        "                        batch_size=128,\n",
        "                        validation_data=validation_generator,\n",
        "                        callbacks=[early_stop, reduce_lr]\n",
        "                        )\n"
      ]
    },
    {
      "cell_type": "code",
      "execution_count": 103,
      "metadata": {
        "colab": {
          "base_uri": "https://localhost:8080/"
        },
        "id": "Ha18hBHT8r4u",
        "outputId": "a457a6a8-70c4-4421-9747-e81666a43b40"
      },
      "outputs": [
        {
          "name": "stdout",
          "output_type": "stream",
          "text": [
            "4/4 [==============================] - 10s 2s/step\n"
          ]
        },
        {
          "data": {
            "text/plain": [
              "{'price': {'mse': 170929.2470616725,\n",
              "  'rmse': 413.435904417689,\n",
              "  'mae': 307.4803614648666,\n",
              "  'r2': 0.45015872278588054,\n",
              "  'mape': 0.21009318097023674}}"
            ]
          },
          "execution_count": 103,
          "metadata": {},
          "output_type": "execute_result"
        }
      ],
      "source": [
        "y_pred = model.predict(test_generator)\n",
        "y_pred = scaler.inverse_transform(y_pred)\n",
        "\n",
        "metrics_dict = dict()\n",
        "for index, col in enumerate(df_images_data.columns[1:]):\n",
        "    rmse = mean_squared_error([row[index] for row in scaler.inverse_transform(test_generator.labels)], [row[index] for row in y_pred], squared=False)\n",
        "    mse = mean_squared_error([row[index] for row in scaler.inverse_transform(test_generator.labels)], [row[index] for row in y_pred])\n",
        "    mae = mean_absolute_error([row[index] for row in scaler.inverse_transform(test_generator.labels)], [row[index] for row in y_pred])\n",
        "    r2 = r2_score([row[index] for row in scaler.inverse_transform(test_generator.labels)], [row[index] for row in y_pred])\n",
        "    mape = mean_absolute_percentage_error([row[index] for row in scaler.inverse_transform(test_generator.labels)], [row[index] for row in y_pred])\n",
        "    metrics_dict[col] = {'mse': mse,\n",
        "                            'rmse': rmse,\n",
        "                            'mae': mae,\n",
        "                            'r2': r2,\n",
        "                            'mape': mape\n",
        "                         }\n",
        "\n",
        "metrics_dict\n"
      ]
    },
    {
      "cell_type": "code",
      "execution_count": 104,
      "metadata": {
        "colab": {
          "base_uri": "https://localhost:8080/",
          "height": 424
        },
        "id": "eUKQG241lt9H",
        "outputId": "63c17619-063b-4032-ab97-cab54595630d"
      },
      "outputs": [
        {
          "data": {
            "text/html": [
              "\n",
              "  <div id=\"df-9c1de3dc-a385-4888-ac5e-6fe8160e3ab6\">\n",
              "    <div class=\"colab-df-container\">\n",
              "      <div>\n",
              "<style scoped>\n",
              "    .dataframe tbody tr th:only-of-type {\n",
              "        vertical-align: middle;\n",
              "    }\n",
              "\n",
              "    .dataframe tbody tr th {\n",
              "        vertical-align: top;\n",
              "    }\n",
              "\n",
              "    .dataframe thead th {\n",
              "        text-align: right;\n",
              "    }\n",
              "</style>\n",
              "<table border=\"1\" class=\"dataframe\">\n",
              "  <thead>\n",
              "    <tr style=\"text-align: right;\">\n",
              "      <th></th>\n",
              "      <th>Original</th>\n",
              "      <th>Prediction</th>\n",
              "    </tr>\n",
              "  </thead>\n",
              "  <tbody>\n",
              "    <tr>\n",
              "      <th>0</th>\n",
              "      <td>1788.05</td>\n",
              "      <td>1925.556641</td>\n",
              "    </tr>\n",
              "    <tr>\n",
              "      <th>1</th>\n",
              "      <td>1497.46</td>\n",
              "      <td>1984.462402</td>\n",
              "    </tr>\n",
              "    <tr>\n",
              "      <th>2</th>\n",
              "      <td>2032.24</td>\n",
              "      <td>1931.508911</td>\n",
              "    </tr>\n",
              "    <tr>\n",
              "      <th>3</th>\n",
              "      <td>2039.59</td>\n",
              "      <td>2026.942017</td>\n",
              "    </tr>\n",
              "    <tr>\n",
              "      <th>4</th>\n",
              "      <td>1407.85</td>\n",
              "      <td>1136.459106</td>\n",
              "    </tr>\n",
              "    <tr>\n",
              "      <th>...</th>\n",
              "      <td>...</td>\n",
              "      <td>...</td>\n",
              "    </tr>\n",
              "    <tr>\n",
              "      <th>852</th>\n",
              "      <td>2123.92</td>\n",
              "      <td>1931.782349</td>\n",
              "    </tr>\n",
              "    <tr>\n",
              "      <th>853</th>\n",
              "      <td>1458.81</td>\n",
              "      <td>1395.767578</td>\n",
              "    </tr>\n",
              "    <tr>\n",
              "      <th>854</th>\n",
              "      <td>2448.28</td>\n",
              "      <td>1947.022461</td>\n",
              "    </tr>\n",
              "    <tr>\n",
              "      <th>855</th>\n",
              "      <td>2223.08</td>\n",
              "      <td>2131.692383</td>\n",
              "    </tr>\n",
              "    <tr>\n",
              "      <th>856</th>\n",
              "      <td>1515.12</td>\n",
              "      <td>1914.339355</td>\n",
              "    </tr>\n",
              "  </tbody>\n",
              "</table>\n",
              "<p>857 rows × 2 columns</p>\n",
              "</div>\n",
              "      <button class=\"colab-df-convert\" onclick=\"convertToInteractive('df-9c1de3dc-a385-4888-ac5e-6fe8160e3ab6')\"\n",
              "              title=\"Convert this dataframe to an interactive table.\"\n",
              "              style=\"display:none;\">\n",
              "        \n",
              "  <svg xmlns=\"http://www.w3.org/2000/svg\" height=\"24px\"viewBox=\"0 0 24 24\"\n",
              "       width=\"24px\">\n",
              "    <path d=\"M0 0h24v24H0V0z\" fill=\"none\"/>\n",
              "    <path d=\"M18.56 5.44l.94 2.06.94-2.06 2.06-.94-2.06-.94-.94-2.06-.94 2.06-2.06.94zm-11 1L8.5 8.5l.94-2.06 2.06-.94-2.06-.94L8.5 2.5l-.94 2.06-2.06.94zm10 10l.94 2.06.94-2.06 2.06-.94-2.06-.94-.94-2.06-.94 2.06-2.06.94z\"/><path d=\"M17.41 7.96l-1.37-1.37c-.4-.4-.92-.59-1.43-.59-.52 0-1.04.2-1.43.59L10.3 9.45l-7.72 7.72c-.78.78-.78 2.05 0 2.83L4 21.41c.39.39.9.59 1.41.59.51 0 1.02-.2 1.41-.59l7.78-7.78 2.81-2.81c.8-.78.8-2.07 0-2.86zM5.41 20L4 18.59l7.72-7.72 1.47 1.35L5.41 20z\"/>\n",
              "  </svg>\n",
              "      </button>\n",
              "      \n",
              "  <style>\n",
              "    .colab-df-container {\n",
              "      display:flex;\n",
              "      flex-wrap:wrap;\n",
              "      gap: 12px;\n",
              "    }\n",
              "\n",
              "    .colab-df-convert {\n",
              "      background-color: #E8F0FE;\n",
              "      border: none;\n",
              "      border-radius: 50%;\n",
              "      cursor: pointer;\n",
              "      display: none;\n",
              "      fill: #1967D2;\n",
              "      height: 32px;\n",
              "      padding: 0 0 0 0;\n",
              "      width: 32px;\n",
              "    }\n",
              "\n",
              "    .colab-df-convert:hover {\n",
              "      background-color: #E2EBFA;\n",
              "      box-shadow: 0px 1px 2px rgba(60, 64, 67, 0.3), 0px 1px 3px 1px rgba(60, 64, 67, 0.15);\n",
              "      fill: #174EA6;\n",
              "    }\n",
              "\n",
              "    [theme=dark] .colab-df-convert {\n",
              "      background-color: #3B4455;\n",
              "      fill: #D2E3FC;\n",
              "    }\n",
              "\n",
              "    [theme=dark] .colab-df-convert:hover {\n",
              "      background-color: #434B5C;\n",
              "      box-shadow: 0px 1px 3px 1px rgba(0, 0, 0, 0.15);\n",
              "      filter: drop-shadow(0px 1px 2px rgba(0, 0, 0, 0.3));\n",
              "      fill: #FFFFFF;\n",
              "    }\n",
              "  </style>\n",
              "\n",
              "      <script>\n",
              "        const buttonEl =\n",
              "          document.querySelector('#df-9c1de3dc-a385-4888-ac5e-6fe8160e3ab6 button.colab-df-convert');\n",
              "        buttonEl.style.display =\n",
              "          google.colab.kernel.accessAllowed ? 'block' : 'none';\n",
              "\n",
              "        async function convertToInteractive(key) {\n",
              "          const element = document.querySelector('#df-9c1de3dc-a385-4888-ac5e-6fe8160e3ab6');\n",
              "          const dataTable =\n",
              "            await google.colab.kernel.invokeFunction('convertToInteractive',\n",
              "                                                     [key], {});\n",
              "          if (!dataTable) return;\n",
              "\n",
              "          const docLinkHtml = 'Like what you see? Visit the ' +\n",
              "            '<a target=\"_blank\" href=https://colab.research.google.com/notebooks/data_table.ipynb>data table notebook</a>'\n",
              "            + ' to learn more about interactive tables.';\n",
              "          element.innerHTML = '';\n",
              "          dataTable['output_type'] = 'display_data';\n",
              "          await google.colab.output.renderOutput(dataTable, element);\n",
              "          const docLink = document.createElement('div');\n",
              "          docLink.innerHTML = docLinkHtml;\n",
              "          element.appendChild(docLink);\n",
              "        }\n",
              "      </script>\n",
              "    </div>\n",
              "  </div>\n",
              "  "
            ],
            "text/plain": [
              "     Original   Prediction\n",
              "0     1788.05  1925.556641\n",
              "1     1497.46  1984.462402\n",
              "2     2032.24  1931.508911\n",
              "3     2039.59  2026.942017\n",
              "4     1407.85  1136.459106\n",
              "..        ...          ...\n",
              "852   2123.92  1931.782349\n",
              "853   1458.81  1395.767578\n",
              "854   2448.28  1947.022461\n",
              "855   2223.08  2131.692383\n",
              "856   1515.12  1914.339355\n",
              "\n",
              "[857 rows x 2 columns]"
            ]
          },
          "execution_count": 104,
          "metadata": {},
          "output_type": "execute_result"
        }
      ],
      "source": [
        "df_price = pd.DataFrame(data={'Original': [row[0] for row in scaler.inverse_transform(test_generator.labels)], 'Prediction': [row[0] for row in y_pred]})\n",
        "\n",
        "df_price\n"
      ]
    },
    {
      "cell_type": "code",
      "execution_count": 105,
      "metadata": {
        "colab": {
          "base_uri": "https://localhost:8080/",
          "height": 265
        },
        "id": "yuunPs_IGBRt",
        "outputId": "ff0e8aa5-8d29-480c-8a12-d96393cf5900"
      },
      "outputs": [
        {
          "data": {
            "image/png": "[encoded data removed]",
            "text/plain": [
              "<Figure size 432x288 with 1 Axes>"
            ]
          },
          "metadata": {
            "needs_background": "light"
          },
          "output_type": "display_data"
        }
      ],
      "source": [
        "train_loss = history.history['loss']\n",
        "val_loss = history.history['val_loss']\n",
        "\n",
        "plt.plot(train_loss, label='train_loss')\n",
        "plt.plot(val_loss, label='val_loss')\n",
        "plt.show()\n"
      ]
    },
    {
      "cell_type": "code",
      "execution_count": 109,
      "metadata": {
        "id": "K0VrpWvZ9QdU"
      },
      "outputs": [],
      "source": [
        "save_model(model, '/content/gdrive/My Drive/price_prediction_images.h5')\n"
      ]
    },
    {
      "cell_type": "markdown",
      "metadata": {
        "id": "KZs0J0C5wMNh"
      },
      "source": [
        "# Prueba 3 (éxito parcial, combinado con la Prueba 2)\n",
        "\n",
        "- Se decide crear un modelo no de \"transfer learning\" que simplemente trate de predecir el precio de los diamantes a partir del peso y de la predicción provisional hecha en la Prueba 2\n",
        "\n",
        "- Se hace un \"baseline\" de modelos supervisados, se encuentra que k vecinos es el más adecuado, y se optimiza"
      ]
    },
    {
      "cell_type": "markdown",
      "metadata": {
        "id": "OuRJhAfxwMNh"
      },
      "source": [
        "## Carga del modelo de la Prueba 2"
      ]
    },
    {
      "cell_type": "code",
      "execution_count": 5,
      "metadata": {
        "colab": {
          "base_uri": "https://localhost:8080/",
          "height": 363
        },
        "id": "ITcRMiMSwMNh",
        "outputId": "e9f3f44d-76ae-4ca7-e22f-163b1c85b51d"
      },
      "outputs": [
        {
          "data": {
            "text/plain": [
              "<keras.engine.functional.Functional at 0x25b7c5a3e50>"
            ]
          },
          "execution_count": 5,
          "metadata": {},
          "output_type": "execute_result"
        }
      ],
      "source": [
        "model_cnn = load_model('models/predict_from_images/price_prediction_images.h5')\n",
        "\n",
        "model_cnn \n"
      ]
    },
    {
      "cell_type": "markdown",
      "metadata": {
        "id": "Bq1RVoPZwMNi"
      },
      "source": [
        "## Preparación de los datos\n",
        "\n",
        "- Se intenta mejorar los precios a partir de las predicciones del modelo de la Prueba 2. Por tanto, hay que trabajar con el que es el \"test\" en ese modelo\n",
        "\n",
        "- Para que los resultados sean reproducibles exactamente iguales fuera de este \"notebook\", se guarda el \"dataframe\" en \"pickle\". De lo contrario, como el \"generator\" devuelve distintas imágenes cada vez, el resultado será similar pero no el mismo"
      ]
    },
    {
      "cell_type": "code",
      "execution_count": 110,
      "metadata": {
        "colab": {
          "base_uri": "https://localhost:8080/",
          "height": 206
        },
        "id": "cwdkzBhJwMNi",
        "outputId": "08f44f55-f93c-48cb-803a-aad27a482db7"
      },
      "outputs": [
        {
          "data": {
            "text/html": [
              "\n",
              "  <div id=\"df-41084b75-7040-4a44-af1b-2bfe7c2b28f1\">\n",
              "    <div class=\"colab-df-container\">\n",
              "      <div>\n",
              "<style scoped>\n",
              "    .dataframe tbody tr th:only-of-type {\n",
              "        vertical-align: middle;\n",
              "    }\n",
              "\n",
              "    .dataframe tbody tr th {\n",
              "        vertical-align: top;\n",
              "    }\n",
              "\n",
              "    .dataframe thead th {\n",
              "        text-align: right;\n",
              "    }\n",
              "</style>\n",
              "<table border=\"1\" class=\"dataframe\">\n",
              "  <thead>\n",
              "    <tr style=\"text-align: right;\">\n",
              "      <th></th>\n",
              "      <th>Id</th>\n",
              "      <th>Weight</th>\n",
              "      <th>price</th>\n",
              "    </tr>\n",
              "  </thead>\n",
              "  <tbody>\n",
              "    <tr>\n",
              "      <th>0</th>\n",
              "      <td>1638147.jpg</td>\n",
              "      <td>0.55</td>\n",
              "      <td>1378.65</td>\n",
              "    </tr>\n",
              "    <tr>\n",
              "      <th>1</th>\n",
              "      <td>1630155.jpg</td>\n",
              "      <td>0.50</td>\n",
              "      <td>1379.74</td>\n",
              "    </tr>\n",
              "    <tr>\n",
              "      <th>2</th>\n",
              "      <td>1612606.jpg</td>\n",
              "      <td>0.51</td>\n",
              "      <td>1380.19</td>\n",
              "    </tr>\n",
              "    <tr>\n",
              "      <th>3</th>\n",
              "      <td>1638140.jpg</td>\n",
              "      <td>0.50</td>\n",
              "      <td>1380.61</td>\n",
              "    </tr>\n",
              "    <tr>\n",
              "      <th>4</th>\n",
              "      <td>1536093.jpg</td>\n",
              "      <td>0.53</td>\n",
              "      <td>1383.13</td>\n",
              "    </tr>\n",
              "  </tbody>\n",
              "</table>\n",
              "</div>\n",
              "      <button class=\"colab-df-convert\" onclick=\"convertToInteractive('df-41084b75-7040-4a44-af1b-2bfe7c2b28f1')\"\n",
              "              title=\"Convert this dataframe to an interactive table.\"\n",
              "              style=\"display:none;\">\n",
              "        \n",
              "  <svg xmlns=\"http://www.w3.org/2000/svg\" height=\"24px\"viewBox=\"0 0 24 24\"\n",
              "       width=\"24px\">\n",
              "    <path d=\"M0 0h24v24H0V0z\" fill=\"none\"/>\n",
              "    <path d=\"M18.56 5.44l.94 2.06.94-2.06 2.06-.94-2.06-.94-.94-2.06-.94 2.06-2.06.94zm-11 1L8.5 8.5l.94-2.06 2.06-.94-2.06-.94L8.5 2.5l-.94 2.06-2.06.94zm10 10l.94 2.06.94-2.06 2.06-.94-2.06-.94-.94-2.06-.94 2.06-2.06.94z\"/><path d=\"M17.41 7.96l-1.37-1.37c-.4-.4-.92-.59-1.43-.59-.52 0-1.04.2-1.43.59L10.3 9.45l-7.72 7.72c-.78.78-.78 2.05 0 2.83L4 21.41c.39.39.9.59 1.41.59.51 0 1.02-.2 1.41-.59l7.78-7.78 2.81-2.81c.8-.78.8-2.07 0-2.86zM5.41 20L4 18.59l7.72-7.72 1.47 1.35L5.41 20z\"/>\n",
              "  </svg>\n",
              "      </button>\n",
              "      \n",
              "  <style>\n",
              "    .colab-df-container {\n",
              "      display:flex;\n",
              "      flex-wrap:wrap;\n",
              "      gap: 12px;\n",
              "    }\n",
              "\n",
              "    .colab-df-convert {\n",
              "      background-color: #E8F0FE;\n",
              "      border: none;\n",
              "      border-radius: 50%;\n",
              "      cursor: pointer;\n",
              "      display: none;\n",
              "      fill: #1967D2;\n",
              "      height: 32px;\n",
              "      padding: 0 0 0 0;\n",
              "      width: 32px;\n",
              "    }\n",
              "\n",
              "    .colab-df-convert:hover {\n",
              "      background-color: #E2EBFA;\n",
              "      box-shadow: 0px 1px 2px rgba(60, 64, 67, 0.3), 0px 1px 3px 1px rgba(60, 64, 67, 0.15);\n",
              "      fill: #174EA6;\n",
              "    }\n",
              "\n",
              "    [theme=dark] .colab-df-convert {\n",
              "      background-color: #3B4455;\n",
              "      fill: #D2E3FC;\n",
              "    }\n",
              "\n",
              "    [theme=dark] .colab-df-convert:hover {\n",
              "      background-color: #434B5C;\n",
              "      box-shadow: 0px 1px 3px 1px rgba(0, 0, 0, 0.15);\n",
              "      filter: drop-shadow(0px 1px 2px rgba(0, 0, 0, 0.3));\n",
              "      fill: #FFFFFF;\n",
              "    }\n",
              "  </style>\n",
              "\n",
              "      <script>\n",
              "        const buttonEl =\n",
              "          document.querySelector('#df-41084b75-7040-4a44-af1b-2bfe7c2b28f1 button.colab-df-convert');\n",
              "        buttonEl.style.display =\n",
              "          google.colab.kernel.accessAllowed ? 'block' : 'none';\n",
              "\n",
              "        async function convertToInteractive(key) {\n",
              "          const element = document.querySelector('#df-41084b75-7040-4a44-af1b-2bfe7c2b28f1');\n",
              "          const dataTable =\n",
              "            await google.colab.kernel.invokeFunction('convertToInteractive',\n",
              "                                                     [key], {});\n",
              "          if (!dataTable) return;\n",
              "\n",
              "          const docLinkHtml = 'Like what you see? Visit the ' +\n",
              "            '<a target=\"_blank\" href=https://colab.research.google.com/notebooks/data_table.ipynb>data table notebook</a>'\n",
              "            + ' to learn more about interactive tables.';\n",
              "          element.innerHTML = '';\n",
              "          dataTable['output_type'] = 'display_data';\n",
              "          await google.colab.output.renderOutput(dataTable, element);\n",
              "          const docLink = document.createElement('div');\n",
              "          docLink.innerHTML = docLinkHtml;\n",
              "          element.appendChild(docLink);\n",
              "        }\n",
              "      </script>\n",
              "    </div>\n",
              "  </div>\n",
              "  "
            ],
            "text/plain": [
              "            Id  Weight    price\n",
              "0  1638147.jpg    0.55  1378.65\n",
              "1  1630155.jpg    0.50  1379.74\n",
              "2  1612606.jpg    0.51  1380.19\n",
              "3  1638140.jpg    0.50  1380.61\n",
              "4  1536093.jpg    0.53  1383.13"
            ]
          },
          "execution_count": 110,
          "metadata": {},
          "output_type": "execute_result"
        }
      ],
      "source": [
        "# df_images_data = df_images_data_original.copy()\n",
        "\n",
        "# df_images_data = df_images_data[['Id', 'Weight', 'price']]\n",
        "\n",
        "# df_images_data['Id'] = df_images_data['Id'].apply(lambda x: x + '.jpg')\n",
        "\n",
        "# df_images_data.head()\n"
      ]
    },
    {
      "cell_type": "code",
      "execution_count": 111,
      "metadata": {
        "colab": {
          "base_uri": "https://localhost:8080/",
          "height": 441
        },
        "id": "UcTFMBG2wMNi",
        "outputId": "828e8746-cba4-4af2-babe-e09ff3b19f95"
      },
      "outputs": [
        {
          "name": "stdout",
          "output_type": "stream",
          "text": [
            "4/4 [==============================] - 10s 2s/step\n"
          ]
        },
        {
          "data": {
            "text/html": [
              "\n",
              "  <div id=\"df-217f5511-9674-4fb4-9cc4-39793cac303d\">\n",
              "    <div class=\"colab-df-container\">\n",
              "      <div>\n",
              "<style scoped>\n",
              "    .dataframe tbody tr th:only-of-type {\n",
              "        vertical-align: middle;\n",
              "    }\n",
              "\n",
              "    .dataframe tbody tr th {\n",
              "        vertical-align: top;\n",
              "    }\n",
              "\n",
              "    .dataframe thead th {\n",
              "        text-align: right;\n",
              "    }\n",
              "</style>\n",
              "<table border=\"1\" class=\"dataframe\">\n",
              "  <thead>\n",
              "    <tr style=\"text-align: right;\">\n",
              "      <th></th>\n",
              "      <th>Id</th>\n",
              "      <th>predicted_price</th>\n",
              "      <th>original_price</th>\n",
              "    </tr>\n",
              "  </thead>\n",
              "  <tbody>\n",
              "    <tr>\n",
              "      <th>0</th>\n",
              "      <td>1764023.jpg</td>\n",
              "      <td>0.474973</td>\n",
              "      <td>0.148514</td>\n",
              "    </tr>\n",
              "    <tr>\n",
              "      <th>1</th>\n",
              "      <td>1782057.jpg</td>\n",
              "      <td>0.388679</td>\n",
              "      <td>-0.367994</td>\n",
              "    </tr>\n",
              "    <tr>\n",
              "      <th>2</th>\n",
              "      <td>1747623.jpg</td>\n",
              "      <td>0.525731</td>\n",
              "      <td>0.582548</td>\n",
              "    </tr>\n",
              "    <tr>\n",
              "      <th>3</th>\n",
              "      <td>1758822.jpg</td>\n",
              "      <td>0.460678</td>\n",
              "      <td>0.595612</td>\n",
              "    </tr>\n",
              "    <tr>\n",
              "      <th>4</th>\n",
              "      <td>1782615.jpg</td>\n",
              "      <td>-1.011315</td>\n",
              "      <td>-0.527270</td>\n",
              "    </tr>\n",
              "    <tr>\n",
              "      <th>...</th>\n",
              "      <td>...</td>\n",
              "      <td>...</td>\n",
              "      <td>...</td>\n",
              "    </tr>\n",
              "    <tr>\n",
              "      <th>852</th>\n",
              "      <td>1658278.jpg</td>\n",
              "      <td>0.452464</td>\n",
              "      <td>0.745504</td>\n",
              "    </tr>\n",
              "    <tr>\n",
              "      <th>853</th>\n",
              "      <td>1793429.jpg</td>\n",
              "      <td>-0.499842</td>\n",
              "      <td>-0.436692</td>\n",
              "    </tr>\n",
              "    <tr>\n",
              "      <th>854</th>\n",
              "      <td>1624339.jpg</td>\n",
              "      <td>0.457524</td>\n",
              "      <td>1.322036</td>\n",
              "    </tr>\n",
              "    <tr>\n",
              "      <th>855</th>\n",
              "      <td>1593512.jpg</td>\n",
              "      <td>0.773811</td>\n",
              "      <td>0.921756</td>\n",
              "    </tr>\n",
              "    <tr>\n",
              "      <th>856</th>\n",
              "      <td>1741629.jpg</td>\n",
              "      <td>0.532177</td>\n",
              "      <td>-0.336604</td>\n",
              "    </tr>\n",
              "  </tbody>\n",
              "</table>\n",
              "<p>857 rows × 3 columns</p>\n",
              "</div>\n",
              "      <button class=\"colab-df-convert\" onclick=\"convertToInteractive('df-217f5511-9674-4fb4-9cc4-39793cac303d')\"\n",
              "              title=\"Convert this dataframe to an interactive table.\"\n",
              "              style=\"display:none;\">\n",
              "        \n",
              "  <svg xmlns=\"http://www.w3.org/2000/svg\" height=\"24px\"viewBox=\"0 0 24 24\"\n",
              "       width=\"24px\">\n",
              "    <path d=\"M0 0h24v24H0V0z\" fill=\"none\"/>\n",
              "    <path d=\"M18.56 5.44l.94 2.06.94-2.06 2.06-.94-2.06-.94-.94-2.06-.94 2.06-2.06.94zm-11 1L8.5 8.5l.94-2.06 2.06-.94-2.06-.94L8.5 2.5l-.94 2.06-2.06.94zm10 10l.94 2.06.94-2.06 2.06-.94-2.06-.94-.94-2.06-.94 2.06-2.06.94z\"/><path d=\"M17.41 7.96l-1.37-1.37c-.4-.4-.92-.59-1.43-.59-.52 0-1.04.2-1.43.59L10.3 9.45l-7.72 7.72c-.78.78-.78 2.05 0 2.83L4 21.41c.39.39.9.59 1.41.59.51 0 1.02-.2 1.41-.59l7.78-7.78 2.81-2.81c.8-.78.8-2.07 0-2.86zM5.41 20L4 18.59l7.72-7.72 1.47 1.35L5.41 20z\"/>\n",
              "  </svg>\n",
              "      </button>\n",
              "      \n",
              "  <style>\n",
              "    .colab-df-container {\n",
              "      display:flex;\n",
              "      flex-wrap:wrap;\n",
              "      gap: 12px;\n",
              "    }\n",
              "\n",
              "    .colab-df-convert {\n",
              "      background-color: #E8F0FE;\n",
              "      border: none;\n",
              "      border-radius: 50%;\n",
              "      cursor: pointer;\n",
              "      display: none;\n",
              "      fill: #1967D2;\n",
              "      height: 32px;\n",
              "      padding: 0 0 0 0;\n",
              "      width: 32px;\n",
              "    }\n",
              "\n",
              "    .colab-df-convert:hover {\n",
              "      background-color: #E2EBFA;\n",
              "      box-shadow: 0px 1px 2px rgba(60, 64, 67, 0.3), 0px 1px 3px 1px rgba(60, 64, 67, 0.15);\n",
              "      fill: #174EA6;\n",
              "    }\n",
              "\n",
              "    [theme=dark] .colab-df-convert {\n",
              "      background-color: #3B4455;\n",
              "      fill: #D2E3FC;\n",
              "    }\n",
              "\n",
              "    [theme=dark] .colab-df-convert:hover {\n",
              "      background-color: #434B5C;\n",
              "      box-shadow: 0px 1px 3px 1px rgba(0, 0, 0, 0.15);\n",
              "      filter: drop-shadow(0px 1px 2px rgba(0, 0, 0, 0.3));\n",
              "      fill: #FFFFFF;\n",
              "    }\n",
              "  </style>\n",
              "\n",
              "      <script>\n",
              "        const buttonEl =\n",
              "          document.querySelector('#df-217f5511-9674-4fb4-9cc4-39793cac303d button.colab-df-convert');\n",
              "        buttonEl.style.display =\n",
              "          google.colab.kernel.accessAllowed ? 'block' : 'none';\n",
              "\n",
              "        async function convertToInteractive(key) {\n",
              "          const element = document.querySelector('#df-217f5511-9674-4fb4-9cc4-39793cac303d');\n",
              "          const dataTable =\n",
              "            await google.colab.kernel.invokeFunction('convertToInteractive',\n",
              "                                                     [key], {});\n",
              "          if (!dataTable) return;\n",
              "\n",
              "          const docLinkHtml = 'Like what you see? Visit the ' +\n",
              "            '<a target=\"_blank\" href=https://colab.research.google.com/notebooks/data_table.ipynb>data table notebook</a>'\n",
              "            + ' to learn more about interactive tables.';\n",
              "          element.innerHTML = '';\n",
              "          dataTable['output_type'] = 'display_data';\n",
              "          await google.colab.output.renderOutput(dataTable, element);\n",
              "          const docLink = document.createElement('div');\n",
              "          docLink.innerHTML = docLinkHtml;\n",
              "          element.appendChild(docLink);\n",
              "        }\n",
              "      </script>\n",
              "    </div>\n",
              "  </div>\n",
              "  "
            ],
            "text/plain": [
              "              Id  predicted_price  original_price\n",
              "0    1764023.jpg         0.474973        0.148514\n",
              "1    1782057.jpg         0.388679       -0.367994\n",
              "2    1747623.jpg         0.525731        0.582548\n",
              "3    1758822.jpg         0.460678        0.595612\n",
              "4    1782615.jpg        -1.011315       -0.527270\n",
              "..           ...              ...             ...\n",
              "852  1658278.jpg         0.452464        0.745504\n",
              "853  1793429.jpg        -0.499842       -0.436692\n",
              "854  1624339.jpg         0.457524        1.322036\n",
              "855  1593512.jpg         0.773811        0.921756\n",
              "856  1741629.jpg         0.532177       -0.336604\n",
              "\n",
              "[857 rows x 3 columns]"
            ]
          },
          "execution_count": 111,
          "metadata": {},
          "output_type": "execute_result"
        }
      ],
      "source": [
        "# previously_predicted_price = model.predict(test_generator)\n",
        "\n",
        "# df_images_weight = pd.DataFrame(data={'Id': test_generator.filenames, \n",
        "#                                           'predicted_price': previously_predicted_price[:, 0].tolist(),\n",
        "#                                           'original_price': test_generator.labels[:, 0].tolist()\n",
        "#                                           }\n",
        "#                                    )\n",
        "\n",
        "# df_images_weight\n"
      ]
    },
    {
      "cell_type": "code",
      "execution_count": 112,
      "metadata": {
        "colab": {
          "base_uri": "https://localhost:8080/",
          "height": 206
        },
        "id": "kH5_9t5KwMNj",
        "outputId": "053279ce-6f53-4b42-88fb-2639e1aba4e8"
      },
      "outputs": [
        {
          "data": {
            "text/html": [
              "\n",
              "  <div id=\"df-591a4beb-51d3-493e-a15e-75bf5772db54\">\n",
              "    <div class=\"colab-df-container\">\n",
              "      <div>\n",
              "<style scoped>\n",
              "    .dataframe tbody tr th:only-of-type {\n",
              "        vertical-align: middle;\n",
              "    }\n",
              "\n",
              "    .dataframe tbody tr th {\n",
              "        vertical-align: top;\n",
              "    }\n",
              "\n",
              "    .dataframe thead th {\n",
              "        text-align: right;\n",
              "    }\n",
              "</style>\n",
              "<table border=\"1\" class=\"dataframe\">\n",
              "  <thead>\n",
              "    <tr style=\"text-align: right;\">\n",
              "      <th></th>\n",
              "      <th>Id</th>\n",
              "      <th>predicted_price</th>\n",
              "      <th>original_price</th>\n",
              "      <th>Weight</th>\n",
              "      <th>price</th>\n",
              "    </tr>\n",
              "  </thead>\n",
              "  <tbody>\n",
              "    <tr>\n",
              "      <th>0</th>\n",
              "      <td>1764023.jpg</td>\n",
              "      <td>0.474973</td>\n",
              "      <td>0.148514</td>\n",
              "      <td>0.50</td>\n",
              "      <td>1788.05</td>\n",
              "    </tr>\n",
              "    <tr>\n",
              "      <th>1</th>\n",
              "      <td>1782057.jpg</td>\n",
              "      <td>0.388679</td>\n",
              "      <td>-0.367994</td>\n",
              "      <td>0.50</td>\n",
              "      <td>1497.46</td>\n",
              "    </tr>\n",
              "    <tr>\n",
              "      <th>2</th>\n",
              "      <td>1747623.jpg</td>\n",
              "      <td>0.525731</td>\n",
              "      <td>0.582548</td>\n",
              "      <td>0.50</td>\n",
              "      <td>2032.24</td>\n",
              "    </tr>\n",
              "    <tr>\n",
              "      <th>3</th>\n",
              "      <td>1758822.jpg</td>\n",
              "      <td>0.460678</td>\n",
              "      <td>0.595612</td>\n",
              "      <td>0.52</td>\n",
              "      <td>2039.59</td>\n",
              "    </tr>\n",
              "    <tr>\n",
              "      <th>4</th>\n",
              "      <td>1782615.jpg</td>\n",
              "      <td>-1.011315</td>\n",
              "      <td>-0.527270</td>\n",
              "      <td>0.50</td>\n",
              "      <td>1407.85</td>\n",
              "    </tr>\n",
              "  </tbody>\n",
              "</table>\n",
              "</div>\n",
              "      <button class=\"colab-df-convert\" onclick=\"convertToInteractive('df-591a4beb-51d3-493e-a15e-75bf5772db54')\"\n",
              "              title=\"Convert this dataframe to an interactive table.\"\n",
              "              style=\"display:none;\">\n",
              "        \n",
              "  <svg xmlns=\"http://www.w3.org/2000/svg\" height=\"24px\"viewBox=\"0 0 24 24\"\n",
              "       width=\"24px\">\n",
              "    <path d=\"M0 0h24v24H0V0z\" fill=\"none\"/>\n",
              "    <path d=\"M18.56 5.44l.94 2.06.94-2.06 2.06-.94-2.06-.94-.94-2.06-.94 2.06-2.06.94zm-11 1L8.5 8.5l.94-2.06 2.06-.94-2.06-.94L8.5 2.5l-.94 2.06-2.06.94zm10 10l.94 2.06.94-2.06 2.06-.94-2.06-.94-.94-2.06-.94 2.06-2.06.94z\"/><path d=\"M17.41 7.96l-1.37-1.37c-.4-.4-.92-.59-1.43-.59-.52 0-1.04.2-1.43.59L10.3 9.45l-7.72 7.72c-.78.78-.78 2.05 0 2.83L4 21.41c.39.39.9.59 1.41.59.51 0 1.02-.2 1.41-.59l7.78-7.78 2.81-2.81c.8-.78.8-2.07 0-2.86zM5.41 20L4 18.59l7.72-7.72 1.47 1.35L5.41 20z\"/>\n",
              "  </svg>\n",
              "      </button>\n",
              "      \n",
              "  <style>\n",
              "    .colab-df-container {\n",
              "      display:flex;\n",
              "      flex-wrap:wrap;\n",
              "      gap: 12px;\n",
              "    }\n",
              "\n",
              "    .colab-df-convert {\n",
              "      background-color: #E8F0FE;\n",
              "      border: none;\n",
              "      border-radius: 50%;\n",
              "      cursor: pointer;\n",
              "      display: none;\n",
              "      fill: #1967D2;\n",
              "      height: 32px;\n",
              "      padding: 0 0 0 0;\n",
              "      width: 32px;\n",
              "    }\n",
              "\n",
              "    .colab-df-convert:hover {\n",
              "      background-color: #E2EBFA;\n",
              "      box-shadow: 0px 1px 2px rgba(60, 64, 67, 0.3), 0px 1px 3px 1px rgba(60, 64, 67, 0.15);\n",
              "      fill: #174EA6;\n",
              "    }\n",
              "\n",
              "    [theme=dark] .colab-df-convert {\n",
              "      background-color: #3B4455;\n",
              "      fill: #D2E3FC;\n",
              "    }\n",
              "\n",
              "    [theme=dark] .colab-df-convert:hover {\n",
              "      background-color: #434B5C;\n",
              "      box-shadow: 0px 1px 3px 1px rgba(0, 0, 0, 0.15);\n",
              "      filter: drop-shadow(0px 1px 2px rgba(0, 0, 0, 0.3));\n",
              "      fill: #FFFFFF;\n",
              "    }\n",
              "  </style>\n",
              "\n",
              "      <script>\n",
              "        const buttonEl =\n",
              "          document.querySelector('#df-591a4beb-51d3-493e-a15e-75bf5772db54 button.colab-df-convert');\n",
              "        buttonEl.style.display =\n",
              "          google.colab.kernel.accessAllowed ? 'block' : 'none';\n",
              "\n",
              "        async function convertToInteractive(key) {\n",
              "          const element = document.querySelector('#df-591a4beb-51d3-493e-a15e-75bf5772db54');\n",
              "          const dataTable =\n",
              "            await google.colab.kernel.invokeFunction('convertToInteractive',\n",
              "                                                     [key], {});\n",
              "          if (!dataTable) return;\n",
              "\n",
              "          const docLinkHtml = 'Like what you see? Visit the ' +\n",
              "            '<a target=\"_blank\" href=https://colab.research.google.com/notebooks/data_table.ipynb>data table notebook</a>'\n",
              "            + ' to learn more about interactive tables.';\n",
              "          element.innerHTML = '';\n",
              "          dataTable['output_type'] = 'display_data';\n",
              "          await google.colab.output.renderOutput(dataTable, element);\n",
              "          const docLink = document.createElement('div');\n",
              "          docLink.innerHTML = docLinkHtml;\n",
              "          element.appendChild(docLink);\n",
              "        }\n",
              "      </script>\n",
              "    </div>\n",
              "  </div>\n",
              "  "
            ],
            "text/plain": [
              "            Id  predicted_price  original_price  Weight    price\n",
              "0  1764023.jpg         0.474973        0.148514    0.50  1788.05\n",
              "1  1782057.jpg         0.388679       -0.367994    0.50  1497.46\n",
              "2  1747623.jpg         0.525731        0.582548    0.50  2032.24\n",
              "3  1758822.jpg         0.460678        0.595612    0.52  2039.59\n",
              "4  1782615.jpg        -1.011315       -0.527270    0.50  1407.85"
            ]
          },
          "execution_count": 112,
          "metadata": {},
          "output_type": "execute_result"
        }
      ],
      "source": [
        "#df_images_weight = pd.merge(df_images_weight, df_images_data, on=['Id'], how='left')\n",
        "\n",
        "# df_images_weight.head()\n"
      ]
    },
    {
      "cell_type": "code",
      "execution_count": 113,
      "metadata": {
        "colab": {
          "base_uri": "https://localhost:8080/",
          "height": 206
        },
        "id": "ukFbkOvpwMNj",
        "outputId": "d762ac88-e9d8-41cf-fc85-50fc98dece89"
      },
      "outputs": [
        {
          "data": {
            "text/html": [
              "\n",
              "  <div id=\"df-004e1fe5-c41e-46ff-b38f-dee5f52ec23a\">\n",
              "    <div class=\"colab-df-container\">\n",
              "      <div>\n",
              "<style scoped>\n",
              "    .dataframe tbody tr th:only-of-type {\n",
              "        vertical-align: middle;\n",
              "    }\n",
              "\n",
              "    .dataframe tbody tr th {\n",
              "        vertical-align: top;\n",
              "    }\n",
              "\n",
              "    .dataframe thead th {\n",
              "        text-align: right;\n",
              "    }\n",
              "</style>\n",
              "<table border=\"1\" class=\"dataframe\">\n",
              "  <thead>\n",
              "    <tr style=\"text-align: right;\">\n",
              "      <th></th>\n",
              "      <th>predicted_price</th>\n",
              "      <th>Weight</th>\n",
              "      <th>original_price</th>\n",
              "    </tr>\n",
              "  </thead>\n",
              "  <tbody>\n",
              "    <tr>\n",
              "      <th>0</th>\n",
              "      <td>0.474973</td>\n",
              "      <td>0.50</td>\n",
              "      <td>0.148514</td>\n",
              "    </tr>\n",
              "    <tr>\n",
              "      <th>1</th>\n",
              "      <td>0.388679</td>\n",
              "      <td>0.50</td>\n",
              "      <td>-0.367994</td>\n",
              "    </tr>\n",
              "    <tr>\n",
              "      <th>2</th>\n",
              "      <td>0.525731</td>\n",
              "      <td>0.50</td>\n",
              "      <td>0.582548</td>\n",
              "    </tr>\n",
              "    <tr>\n",
              "      <th>3</th>\n",
              "      <td>0.460678</td>\n",
              "      <td>0.52</td>\n",
              "      <td>0.595612</td>\n",
              "    </tr>\n",
              "    <tr>\n",
              "      <th>4</th>\n",
              "      <td>-1.011315</td>\n",
              "      <td>0.50</td>\n",
              "      <td>-0.527270</td>\n",
              "    </tr>\n",
              "  </tbody>\n",
              "</table>\n",
              "</div>\n",
              "      <button class=\"colab-df-convert\" onclick=\"convertToInteractive('df-004e1fe5-c41e-46ff-b38f-dee5f52ec23a')\"\n",
              "              title=\"Convert this dataframe to an interactive table.\"\n",
              "              style=\"display:none;\">\n",
              "        \n",
              "  <svg xmlns=\"http://www.w3.org/2000/svg\" height=\"24px\"viewBox=\"0 0 24 24\"\n",
              "       width=\"24px\">\n",
              "    <path d=\"M0 0h24v24H0V0z\" fill=\"none\"/>\n",
              "    <path d=\"M18.56 5.44l.94 2.06.94-2.06 2.06-.94-2.06-.94-.94-2.06-.94 2.06-2.06.94zm-11 1L8.5 8.5l.94-2.06 2.06-.94-2.06-.94L8.5 2.5l-.94 2.06-2.06.94zm10 10l.94 2.06.94-2.06 2.06-.94-2.06-.94-.94-2.06-.94 2.06-2.06.94z\"/><path d=\"M17.41 7.96l-1.37-1.37c-.4-.4-.92-.59-1.43-.59-.52 0-1.04.2-1.43.59L10.3 9.45l-7.72 7.72c-.78.78-.78 2.05 0 2.83L4 21.41c.39.39.9.59 1.41.59.51 0 1.02-.2 1.41-.59l7.78-7.78 2.81-2.81c.8-.78.8-2.07 0-2.86zM5.41 20L4 18.59l7.72-7.72 1.47 1.35L5.41 20z\"/>\n",
              "  </svg>\n",
              "      </button>\n",
              "      \n",
              "  <style>\n",
              "    .colab-df-container {\n",
              "      display:flex;\n",
              "      flex-wrap:wrap;\n",
              "      gap: 12px;\n",
              "    }\n",
              "\n",
              "    .colab-df-convert {\n",
              "      background-color: #E8F0FE;\n",
              "      border: none;\n",
              "      border-radius: 50%;\n",
              "      cursor: pointer;\n",
              "      display: none;\n",
              "      fill: #1967D2;\n",
              "      height: 32px;\n",
              "      padding: 0 0 0 0;\n",
              "      width: 32px;\n",
              "    }\n",
              "\n",
              "    .colab-df-convert:hover {\n",
              "      background-color: #E2EBFA;\n",
              "      box-shadow: 0px 1px 2px rgba(60, 64, 67, 0.3), 0px 1px 3px 1px rgba(60, 64, 67, 0.15);\n",
              "      fill: #174EA6;\n",
              "    }\n",
              "\n",
              "    [theme=dark] .colab-df-convert {\n",
              "      background-color: #3B4455;\n",
              "      fill: #D2E3FC;\n",
              "    }\n",
              "\n",
              "    [theme=dark] .colab-df-convert:hover {\n",
              "      background-color: #434B5C;\n",
              "      box-shadow: 0px 1px 3px 1px rgba(0, 0, 0, 0.15);\n",
              "      filter: drop-shadow(0px 1px 2px rgba(0, 0, 0, 0.3));\n",
              "      fill: #FFFFFF;\n",
              "    }\n",
              "  </style>\n",
              "\n",
              "      <script>\n",
              "        const buttonEl =\n",
              "          document.querySelector('#df-004e1fe5-c41e-46ff-b38f-dee5f52ec23a button.colab-df-convert');\n",
              "        buttonEl.style.display =\n",
              "          google.colab.kernel.accessAllowed ? 'block' : 'none';\n",
              "\n",
              "        async function convertToInteractive(key) {\n",
              "          const element = document.querySelector('#df-004e1fe5-c41e-46ff-b38f-dee5f52ec23a');\n",
              "          const dataTable =\n",
              "            await google.colab.kernel.invokeFunction('convertToInteractive',\n",
              "                                                     [key], {});\n",
              "          if (!dataTable) return;\n",
              "\n",
              "          const docLinkHtml = 'Like what you see? Visit the ' +\n",
              "            '<a target=\"_blank\" href=https://colab.research.google.com/notebooks/data_table.ipynb>data table notebook</a>'\n",
              "            + ' to learn more about interactive tables.';\n",
              "          element.innerHTML = '';\n",
              "          dataTable['output_type'] = 'display_data';\n",
              "          await google.colab.output.renderOutput(dataTable, element);\n",
              "          const docLink = document.createElement('div');\n",
              "          docLink.innerHTML = docLinkHtml;\n",
              "          element.appendChild(docLink);\n",
              "        }\n",
              "      </script>\n",
              "    </div>\n",
              "  </div>\n",
              "  "
            ],
            "text/plain": [
              "   predicted_price  Weight  original_price\n",
              "0         0.474973    0.50        0.148514\n",
              "1         0.388679    0.50       -0.367994\n",
              "2         0.525731    0.50        0.582548\n",
              "3         0.460678    0.52        0.595612\n",
              "4        -1.011315    0.50       -0.527270"
            ]
          },
          "execution_count": 113,
          "metadata": {},
          "output_type": "execute_result"
        }
      ],
      "source": [
        "# df_images_weight = df_images_weight[['predicted_price', 'Weight', 'original_price']]\n",
        "\n",
        "# df_images_weight.head()\n"
      ]
    },
    {
      "cell_type": "code",
      "execution_count": 114,
      "metadata": {
        "colab": {
          "base_uri": "https://localhost:8080/",
          "height": 206
        },
        "id": "GgMjKopD9YT_",
        "outputId": "b9371c7e-185e-4900-cfa5-509e499678ec"
      },
      "outputs": [
        {
          "data": {
            "text/html": [
              "\n",
              "  <div id=\"df-388b90ca-a78d-4e31-b7ad-39ebb619f710\">\n",
              "    <div class=\"colab-df-container\">\n",
              "      <div>\n",
              "<style scoped>\n",
              "    .dataframe tbody tr th:only-of-type {\n",
              "        vertical-align: middle;\n",
              "    }\n",
              "\n",
              "    .dataframe tbody tr th {\n",
              "        vertical-align: top;\n",
              "    }\n",
              "\n",
              "    .dataframe thead th {\n",
              "        text-align: right;\n",
              "    }\n",
              "</style>\n",
              "<table border=\"1\" class=\"dataframe\">\n",
              "  <thead>\n",
              "    <tr style=\"text-align: right;\">\n",
              "      <th></th>\n",
              "      <th>predicted_price</th>\n",
              "      <th>Weight</th>\n",
              "      <th>original_price</th>\n",
              "    </tr>\n",
              "  </thead>\n",
              "  <tbody>\n",
              "    <tr>\n",
              "      <th>0</th>\n",
              "      <td>0.474973</td>\n",
              "      <td>0.50</td>\n",
              "      <td>0.148514</td>\n",
              "    </tr>\n",
              "    <tr>\n",
              "      <th>1</th>\n",
              "      <td>0.388679</td>\n",
              "      <td>0.50</td>\n",
              "      <td>-0.367994</td>\n",
              "    </tr>\n",
              "    <tr>\n",
              "      <th>2</th>\n",
              "      <td>0.525731</td>\n",
              "      <td>0.50</td>\n",
              "      <td>0.582548</td>\n",
              "    </tr>\n",
              "    <tr>\n",
              "      <th>3</th>\n",
              "      <td>0.460678</td>\n",
              "      <td>0.52</td>\n",
              "      <td>0.595612</td>\n",
              "    </tr>\n",
              "    <tr>\n",
              "      <th>4</th>\n",
              "      <td>-1.011315</td>\n",
              "      <td>0.50</td>\n",
              "      <td>-0.527270</td>\n",
              "    </tr>\n",
              "  </tbody>\n",
              "</table>\n",
              "</div>\n",
              "      <button class=\"colab-df-convert\" onclick=\"convertToInteractive('df-388b90ca-a78d-4e31-b7ad-39ebb619f710')\"\n",
              "              title=\"Convert this dataframe to an interactive table.\"\n",
              "              style=\"display:none;\">\n",
              "        \n",
              "  <svg xmlns=\"http://www.w3.org/2000/svg\" height=\"24px\"viewBox=\"0 0 24 24\"\n",
              "       width=\"24px\">\n",
              "    <path d=\"M0 0h24v24H0V0z\" fill=\"none\"/>\n",
              "    <path d=\"M18.56 5.44l.94 2.06.94-2.06 2.06-.94-2.06-.94-.94-2.06-.94 2.06-2.06.94zm-11 1L8.5 8.5l.94-2.06 2.06-.94-2.06-.94L8.5 2.5l-.94 2.06-2.06.94zm10 10l.94 2.06.94-2.06 2.06-.94-2.06-.94-.94-2.06-.94 2.06-2.06.94z\"/><path d=\"M17.41 7.96l-1.37-1.37c-.4-.4-.92-.59-1.43-.59-.52 0-1.04.2-1.43.59L10.3 9.45l-7.72 7.72c-.78.78-.78 2.05 0 2.83L4 21.41c.39.39.9.59 1.41.59.51 0 1.02-.2 1.41-.59l7.78-7.78 2.81-2.81c.8-.78.8-2.07 0-2.86zM5.41 20L4 18.59l7.72-7.72 1.47 1.35L5.41 20z\"/>\n",
              "  </svg>\n",
              "      </button>\n",
              "      \n",
              "  <style>\n",
              "    .colab-df-container {\n",
              "      display:flex;\n",
              "      flex-wrap:wrap;\n",
              "      gap: 12px;\n",
              "    }\n",
              "\n",
              "    .colab-df-convert {\n",
              "      background-color: #E8F0FE;\n",
              "      border: none;\n",
              "      border-radius: 50%;\n",
              "      cursor: pointer;\n",
              "      display: none;\n",
              "      fill: #1967D2;\n",
              "      height: 32px;\n",
              "      padding: 0 0 0 0;\n",
              "      width: 32px;\n",
              "    }\n",
              "\n",
              "    .colab-df-convert:hover {\n",
              "      background-color: #E2EBFA;\n",
              "      box-shadow: 0px 1px 2px rgba(60, 64, 67, 0.3), 0px 1px 3px 1px rgba(60, 64, 67, 0.15);\n",
              "      fill: #174EA6;\n",
              "    }\n",
              "\n",
              "    [theme=dark] .colab-df-convert {\n",
              "      background-color: #3B4455;\n",
              "      fill: #D2E3FC;\n",
              "    }\n",
              "\n",
              "    [theme=dark] .colab-df-convert:hover {\n",
              "      background-color: #434B5C;\n",
              "      box-shadow: 0px 1px 3px 1px rgba(0, 0, 0, 0.15);\n",
              "      filter: drop-shadow(0px 1px 2px rgba(0, 0, 0, 0.3));\n",
              "      fill: #FFFFFF;\n",
              "    }\n",
              "  </style>\n",
              "\n",
              "      <script>\n",
              "        const buttonEl =\n",
              "          document.querySelector('#df-388b90ca-a78d-4e31-b7ad-39ebb619f710 button.colab-df-convert');\n",
              "        buttonEl.style.display =\n",
              "          google.colab.kernel.accessAllowed ? 'block' : 'none';\n",
              "\n",
              "        async function convertToInteractive(key) {\n",
              "          const element = document.querySelector('#df-388b90ca-a78d-4e31-b7ad-39ebb619f710');\n",
              "          const dataTable =\n",
              "            await google.colab.kernel.invokeFunction('convertToInteractive',\n",
              "                                                     [key], {});\n",
              "          if (!dataTable) return;\n",
              "\n",
              "          const docLinkHtml = 'Like what you see? Visit the ' +\n",
              "            '<a target=\"_blank\" href=https://colab.research.google.com/notebooks/data_table.ipynb>data table notebook</a>'\n",
              "            + ' to learn more about interactive tables.';\n",
              "          element.innerHTML = '';\n",
              "          dataTable['output_type'] = 'display_data';\n",
              "          await google.colab.output.renderOutput(dataTable, element);\n",
              "          const docLink = document.createElement('div');\n",
              "          docLink.innerHTML = docLinkHtml;\n",
              "          element.appendChild(docLink);\n",
              "        }\n",
              "      </script>\n",
              "    </div>\n",
              "  </div>\n",
              "  "
            ],
            "text/plain": [
              "   predicted_price  Weight  original_price\n",
              "0         0.474973    0.50        0.148514\n",
              "1         0.388679    0.50       -0.367994\n",
              "2         0.525731    0.50        0.582548\n",
              "3         0.460678    0.52        0.595612\n",
              "4        -1.011315    0.50       -0.527270"
            ]
          },
          "execution_count": 114,
          "metadata": {},
          "output_type": "execute_result"
        }
      ],
      "source": [
        "# joblib.dump(df_images_weight, '/content/gdrive/My Drive/fixed_images_dataframe.pkl')\n",
        "\n",
        "# df_images_weight_imported = joblib.load('/content/gdrive/My Drive/fixed_images_dataframe.pkl')\n",
        "\n",
        "# df_images_weight_imported.head()\n"
      ]
    },
    {
      "cell_type": "code",
      "execution_count": 6,
      "metadata": {
        "colab": {
          "base_uri": "https://localhost:8080/",
          "height": 321
        },
        "id": "6u2SNLKwzpcY",
        "outputId": "3bd903fa-68de-49ed-f0fd-fd0f71f10dc1"
      },
      "outputs": [
        {
          "data": {
            "text/html": [
              "<div>\n",
              "<style scoped>\n",
              "    .dataframe tbody tr th:only-of-type {\n",
              "        vertical-align: middle;\n",
              "    }\n",
              "\n",
              "    .dataframe tbody tr th {\n",
              "        vertical-align: top;\n",
              "    }\n",
              "\n",
              "    .dataframe thead th {\n",
              "        text-align: right;\n",
              "    }\n",
              "</style>\n",
              "<table border=\"1\" class=\"dataframe\">\n",
              "  <thead>\n",
              "    <tr style=\"text-align: right;\">\n",
              "      <th></th>\n",
              "      <th>predicted_price</th>\n",
              "      <th>Weight</th>\n",
              "      <th>original_price</th>\n",
              "    </tr>\n",
              "  </thead>\n",
              "  <tbody>\n",
              "    <tr>\n",
              "      <th>0</th>\n",
              "      <td>0.474973</td>\n",
              "      <td>0.50</td>\n",
              "      <td>0.148514</td>\n",
              "    </tr>\n",
              "    <tr>\n",
              "      <th>1</th>\n",
              "      <td>0.388679</td>\n",
              "      <td>0.50</td>\n",
              "      <td>-0.367994</td>\n",
              "    </tr>\n",
              "    <tr>\n",
              "      <th>2</th>\n",
              "      <td>0.525731</td>\n",
              "      <td>0.50</td>\n",
              "      <td>0.582548</td>\n",
              "    </tr>\n",
              "    <tr>\n",
              "      <th>3</th>\n",
              "      <td>0.460678</td>\n",
              "      <td>0.52</td>\n",
              "      <td>0.595612</td>\n",
              "    </tr>\n",
              "    <tr>\n",
              "      <th>4</th>\n",
              "      <td>-1.011315</td>\n",
              "      <td>0.50</td>\n",
              "      <td>-0.527270</td>\n",
              "    </tr>\n",
              "  </tbody>\n",
              "</table>\n",
              "</div>"
            ],
            "text/plain": [
              "   predicted_price  Weight  original_price\n",
              "0         0.474973    0.50        0.148514\n",
              "1         0.388679    0.50       -0.367994\n",
              "2         0.525731    0.50        0.582548\n",
              "3         0.460678    0.52        0.595612\n",
              "4        -1.011315    0.50       -0.527270"
            ]
          },
          "execution_count": 6,
          "metadata": {},
          "output_type": "execute_result"
        }
      ],
      "source": [
        "df_images_weight = joblib.load('fixed_images_dataframe.pkl')\n",
        "\n",
        "df_images_weight.head()\n"
      ]
    },
    {
      "attachments": {},
      "cell_type": "markdown",
      "metadata": {
        "id": "kSbOpglVwMNj"
      },
      "source": [
        "## Baseline de \"machine learning\"\n",
        "\n",
        "- El mejor modelo para predecir el precio a partir de la estimación hecha por el modelo de \"transfer learning\" y el peso sería un K vecinos. No solo obtiene casi la mejor puntuación para la mayoría de las métricas, sino que también se encuentra entre los que tienen menos varianza. Además, trabaja mejor con valores fuera de los rangos vistos durante el entrenamiento que el resto"
      ]
    },
    {
      "cell_type": "code",
      "execution_count": 7,
      "metadata": {
        "colab": {
          "base_uri": "https://localhost:8080/"
        },
        "id": "-ZZs2ZUlwMNj",
        "outputId": "3d1a8658-a335-4842-e022-8bde9f240951"
      },
      "outputs": [
        {
          "data": {
            "text/plain": [
              "{'LinearRegression': '',\n",
              " 'Ridge': '',\n",
              " 'DecisionTreeRegressor': '',\n",
              " 'KNeighborsRegressor': '',\n",
              " 'RandomForestRegressor': '',\n",
              " 'SVR': '',\n",
              " 'XGBRegressor': ''}"
            ]
          },
          "execution_count": 7,
          "metadata": {},
          "output_type": "execute_result"
        }
      ],
      "source": [
        "Regression.add_models('LinearRegression',\n",
        "                        'Ridge',\n",
        "                        'DecisionTreeRegressor',\n",
        "                        'KNeighborsRegressor',\n",
        "                        'RandomForestRegressor',\n",
        "                        'SVR',\n",
        "                        'XGBRegressor'\n",
        "                        )\n",
        "\n",
        "Regression.chosen_models\n"
      ]
    },
    {
      "cell_type": "code",
      "execution_count": 8,
      "metadata": {
        "colab": {
          "base_uri": "https://localhost:8080/",
          "height": 617
        },
        "id": "I_4V4VPlwMNk",
        "outputId": "1520aeef-4136-4a31-e5f9-606986c2940f"
      },
      "outputs": [
        {
          "name": "stdout",
          "output_type": "stream",
          "text": [
            "-- Regression: using mean of 5 folds --\n",
            "Starting LinearRegression:\n",
            "- LinearRegression done in 0.05 sec(s). Total time: 0.05\n",
            "Starting Ridge:\n",
            "- Ridge done in 0.05 sec(s). Total time: 0.1\n",
            "Starting KNeighborsRegressor:\n",
            "- KNeighborsRegressor done in 0.04 sec(s). Total time: 0.15\n",
            "Starting SVR:\n",
            "- SVR done in 0.23 sec(s). Total time: 0.38\n",
            "Starting DecisionTreeRegressor: random_state=43:\n",
            "- DecisionTreeRegressor: random_state=43 done in 0.06 sec(s). Total time: 0.44\n",
            "Starting RandomForestRegressor: random_state=43:\n",
            "- RandomForestRegressor: random_state=43 done in 2.42 sec(s). Total time: 2.86\n",
            "Starting XGBRegressor: random_state=43:\n",
            "- XGBRegressor: random_state=43 done in 0.59 sec(s). Total time: 3.45\n"
          ]
        },
        {
          "data": {
            "text/html": [
              "<div>\n",
              "<style scoped>\n",
              "    .dataframe tbody tr th:only-of-type {\n",
              "        vertical-align: middle;\n",
              "    }\n",
              "\n",
              "    .dataframe tbody tr th {\n",
              "        vertical-align: top;\n",
              "    }\n",
              "\n",
              "    .dataframe thead th {\n",
              "        text-align: right;\n",
              "    }\n",
              "</style>\n",
              "<table border=\"1\" class=\"dataframe\">\n",
              "  <thead>\n",
              "    <tr style=\"text-align: right;\">\n",
              "      <th></th>\n",
              "      <th>LinearRegression</th>\n",
              "      <th>Ridge</th>\n",
              "      <th>KNeighborsRegressor</th>\n",
              "      <th>SVR</th>\n",
              "      <th>DecisionTreeRegressor: random_state=43</th>\n",
              "      <th>RandomForestRegressor: random_state=43</th>\n",
              "      <th>XGBRegressor: random_state=43</th>\n",
              "      <th>BEST</th>\n",
              "      <th>WORST</th>\n",
              "    </tr>\n",
              "  </thead>\n",
              "  <tbody>\n",
              "    <tr>\n",
              "      <th>rmse</th>\n",
              "      <td>0.630775</td>\n",
              "      <td>0.631217</td>\n",
              "      <td>0.615198</td>\n",
              "      <td>0.608477</td>\n",
              "      <td>0.785897</td>\n",
              "      <td>0.621288</td>\n",
              "      <td>0.675591</td>\n",
              "      <td>SVR</td>\n",
              "      <td>DecisionTreeRegressor: random_state=43</td>\n",
              "    </tr>\n",
              "    <tr>\n",
              "      <th>mse</th>\n",
              "      <td>0.398939</td>\n",
              "      <td>0.399380</td>\n",
              "      <td>0.379379</td>\n",
              "      <td>0.371984</td>\n",
              "      <td>0.623955</td>\n",
              "      <td>0.387413</td>\n",
              "      <td>0.458664</td>\n",
              "      <td>SVR</td>\n",
              "      <td>DecisionTreeRegressor: random_state=43</td>\n",
              "    </tr>\n",
              "    <tr>\n",
              "      <th>mae</th>\n",
              "      <td>0.496044</td>\n",
              "      <td>0.496049</td>\n",
              "      <td>0.457626</td>\n",
              "      <td>0.450517</td>\n",
              "      <td>0.572316</td>\n",
              "      <td>0.463498</td>\n",
              "      <td>0.495763</td>\n",
              "      <td>SVR</td>\n",
              "      <td>DecisionTreeRegressor: random_state=43</td>\n",
              "    </tr>\n",
              "    <tr>\n",
              "      <th>r2_score</th>\n",
              "      <td>0.589622</td>\n",
              "      <td>0.588880</td>\n",
              "      <td>0.608831</td>\n",
              "      <td>0.617272</td>\n",
              "      <td>0.351645</td>\n",
              "      <td>0.600656</td>\n",
              "      <td>0.528783</td>\n",
              "      <td>SVR</td>\n",
              "      <td>XGBRegressor: random_state=43</td>\n",
              "    </tr>\n",
              "    <tr>\n",
              "      <th>mape</th>\n",
              "      <td>1.319980</td>\n",
              "      <td>1.315391</td>\n",
              "      <td>1.301096</td>\n",
              "      <td>1.298596</td>\n",
              "      <td>1.783383</td>\n",
              "      <td>1.357524</td>\n",
              "      <td>1.467668</td>\n",
              "      <td>SVR</td>\n",
              "      <td>DecisionTreeRegressor: random_state=43</td>\n",
              "    </tr>\n",
              "  </tbody>\n",
              "</table>\n",
              "</div>"
            ],
            "text/plain": [
              "          LinearRegression     Ridge  KNeighborsRegressor       SVR  \\\n",
              "rmse              0.630775  0.631217             0.615198  0.608477   \n",
              "mse               0.398939  0.399380             0.379379  0.371984   \n",
              "mae               0.496044  0.496049             0.457626  0.450517   \n",
              "r2_score          0.589622  0.588880             0.608831  0.617272   \n",
              "mape              1.319980  1.315391             1.301096  1.298596   \n",
              "\n",
              "          DecisionTreeRegressor: random_state=43  \\\n",
              "rmse                                    0.785897   \n",
              "mse                                     0.623955   \n",
              "mae                                     0.572316   \n",
              "r2_score                                0.351645   \n",
              "mape                                    1.783383   \n",
              "\n",
              "          RandomForestRegressor: random_state=43  \\\n",
              "rmse                                    0.621288   \n",
              "mse                                     0.387413   \n",
              "mae                                     0.463498   \n",
              "r2_score                                0.600656   \n",
              "mape                                    1.357524   \n",
              "\n",
              "          XGBRegressor: random_state=43 BEST  \\\n",
              "rmse                           0.675591  SVR   \n",
              "mse                            0.458664  SVR   \n",
              "mae                            0.495763  SVR   \n",
              "r2_score                       0.528783  SVR   \n",
              "mape                           1.467668  SVR   \n",
              "\n",
              "                                           WORST  \n",
              "rmse      DecisionTreeRegressor: random_state=43  \n",
              "mse       DecisionTreeRegressor: random_state=43  \n",
              "mae       DecisionTreeRegressor: random_state=43  \n",
              "r2_score           XGBRegressor: random_state=43  \n",
              "mape      DecisionTreeRegressor: random_state=43  "
            ]
          },
          "execution_count": 8,
          "metadata": {},
          "output_type": "execute_result"
        }
      ],
      "source": [
        "baseline = Regression(df_images_weight, 'original_price')\n",
        "X_train, X_test, y_train, y_test = baseline.split_dataframe()\n",
        "baseline.prepare_models(params_list=[['DecisionTreeRegressor', 'random_state=43'],\n",
        "                                    ['RandomForestRegressor', 'random_state=43'],\n",
        "                                    ['XGBRegressor', 'random_state=43']\n",
        "                                    ])\n",
        "baseline.apply_and_evaluate_kfolds()\n",
        "baseline.create_dataframe()\n"
      ]
    },
    {
      "cell_type": "code",
      "execution_count": 9,
      "metadata": {
        "id": "_ObsOHScwMNk"
      },
      "outputs": [
        {
          "data": {
            "image/png": "[encoded data removed]",
            "text/plain": [
              "<Figure size 640x480 with 1 Axes>"
            ]
          },
          "metadata": {},
          "output_type": "display_data"
        }
      ],
      "source": [
        "baseline.visualize('rmse', 'mse', 'r2_score', 'mae')\n"
      ]
    },
    {
      "cell_type": "code",
      "execution_count": 10,
      "metadata": {
        "id": "kTO8H5BYwMNk"
      },
      "outputs": [
        {
          "data": {
            "image/png": "[encoded data removed]",
            "text/plain": [
              "<Figure size 640x480 with 1 Axes>"
            ]
          },
          "metadata": {},
          "output_type": "display_data"
        }
      ],
      "source": [
        "baseline.create_dataframe(chosen_format='variance')\n",
        "baseline.visualize('rmse', 'mse', 'r2_score', 'mae')\n"
      ]
    },
    {
      "cell_type": "markdown",
      "metadata": {
        "id": "4JY4sVHGwMNl"
      },
      "source": [
        "## Optimización Random Forest\n",
        "\n",
        "- Se buscan los mejores parámetros para la predicción\n",
        "\n",
        "- El modelo resultante predice bien en términos generales, pero se equivoca con los diamantes más caros. Al subirlo a la web, habrá que establecer unos límites recomendados en cuanto al peso del diamante"
      ]
    },
    {
      "cell_type": "code",
      "execution_count": null,
      "metadata": {
        "id": "2Fx1hZiMwMNl"
      },
      "outputs": [],
      "source": [
        "kfolds = KFold(n_splits=5, shuffle=True, random_state=43)\n",
        "rmse = make_scorer(calculate_rmse, greater_is_better=False)\n"
      ]
    },
    {
      "cell_type": "markdown",
      "metadata": {
        "id": "_pYGp1Tbzpch"
      },
      "source": [
        "### \"RandomizedSearch\"\n",
        "\n",
        "- Se empieza con una prueba aleatoria para aproximar los mejores hiperparámetros"
      ]
    },
    {
      "cell_type": "code",
      "execution_count": null,
      "metadata": {
        "id": "CH78KoKJzpcj"
      },
      "outputs": [],
      "source": [
        "model = KNeighborsRegressor()\n",
        "\n",
        "params = {'n_neighbors': [2, 4, 6, 8, 10, 12, 14, 16, 18, 20, 22, 24, 26, 28, 30, 32, 34, 36, 38, 40, 42, 44, 46, 48, 50],\n",
        "          'weights': ['uniform', 'distance'],\n",
        "          'algorithm': ['ball_tree', 'auto', 'kd_tree', 'brute'],\n",
        "          'metric': ['cityblock', 'euclidean', 'l1', 'l2', 'manhattan'],\n",
        "          'leaf_size': [1, 4, 7, 9, 13, 16, 19, 22, 25, 28, 31],\n",
        "          'p': [1, 2, 3]\n",
        "            }\n",
        "\n",
        "grid = RandomizedSearchCV(estimator=model,\n",
        "                    param_distributions=params,\n",
        "                    scoring=rmse,\n",
        "                    verbose=4,\n",
        "                    cv=kfolds,\n",
        "                    n_iter=5000\n",
        "                    )\n",
        "\n",
        "grid.fit(X_train, y_train)\n",
        "\n",
        "y_pred = grid.predict(X_test)\n",
        "\n",
        "print(f'Best params: {grid.best_params_}')\n",
        "print(f'Best score: {grid.best_score_}')\n"
      ]
    },
    {
      "cell_type": "markdown",
      "metadata": {
        "id": "2oYDOuRezpck"
      },
      "source": [
        "### \"GridSearch\"\n",
        "\n",
        "- Se itentan acotar los parámetros ganadores del \"RandomSearch\" con algunos \"GridSearch\""
      ]
    },
    {
      "cell_type": "code",
      "execution_count": null,
      "metadata": {
        "id": "7lHXzjw2zpck"
      },
      "outputs": [],
      "source": [
        "model = RandomForestRegressor()\n",
        "\n",
        "params = {'bootstrap': [False],\n",
        "            'max_depth': [9, 10, 11],\n",
        "            'max_features': [1, 2],\n",
        "            'min_samples_leaf': [2, 3],\n",
        "            'min_samples_split': [9, 10, 11],\n",
        "            'n_estimators': [399, 400, 401],\n",
        "            'criterion': ['squared_error'],\n",
        "            'random_state': [43]\n",
        "            }\n",
        "\n",
        "grid = GridSearchCV(estimator=model,\n",
        "                    param_grid=params,\n",
        "                    scoring=rmse,\n",
        "                    verbose=4,\n",
        "                    cv=kfolds\n",
        "                    )\n",
        "\n",
        "grid.fit(X_train, y_train)\n",
        "\n",
        "y_pred = grid.predict(X_test)\n",
        "\n",
        "print(f'Best params: {grid.best_params_}')\n",
        "print(f'Best score: {grid.best_score_}')\n"
      ]
    },
    {
      "cell_type": "code",
      "execution_count": null,
      "metadata": {
        "id": "1c6fUOX_zpcl"
      },
      "outputs": [],
      "source": [
        "model = RandomForestRegressor()\n",
        "\n",
        "params = {'bootstrap': [False],\n",
        "            'max_depth': [8, 9],\n",
        "            'max_features': [2, 3],\n",
        "            'min_samples_leaf': [2],\n",
        "            'min_samples_split': [10],\n",
        "            'n_estimators': [399, 398],\n",
        "            'criterion': ['squared_error'],\n",
        "            'random_state': [43]\n",
        "            }\n",
        "\n",
        "grid = GridSearchCV(estimator=model,\n",
        "                    param_grid=params,\n",
        "                    scoring=rmse,\n",
        "                    verbose=4,\n",
        "                    cv=kfolds\n",
        "                    )\n",
        "\n",
        "grid.fit(X_train, y_train)\n",
        "\n",
        "y_pred = grid.predict(X_test)\n",
        "\n",
        "print(f'Best params: {grid.best_params_}')\n",
        "print(f'Best score: {grid.best_score_}')\n"
      ]
    },
    {
      "cell_type": "code",
      "execution_count": null,
      "metadata": {
        "id": "eMNLXtW2zpcn"
      },
      "outputs": [],
      "source": [
        "model = RandomForestRegressor()\n",
        "\n",
        "params = {'bootstrap': [False],\n",
        "            'max_depth': [2, 3, 4, 5, 6, 7, 8],\n",
        "            'max_features': [2],\n",
        "            'min_samples_leaf': [2],\n",
        "            'min_samples_split': [10],\n",
        "            'n_estimators': [399],\n",
        "            'criterion': ['squared_error'],\n",
        "            'random_state': [43]\n",
        "            }\n",
        "\n",
        "grid = GridSearchCV(estimator=model,\n",
        "                    param_grid=params,\n",
        "                    scoring=rmse,\n",
        "                    verbose=4,\n",
        "                    cv=kfolds\n",
        "                    )\n",
        "\n",
        "grid.fit(X_train, y_train)\n",
        "\n",
        "y_pred = grid.predict(X_test)\n",
        "\n",
        "print(f'Best params: {grid.best_params_}')\n",
        "print(f'Best score: {grid.best_score_}')\n"
      ]
    },
    {
      "cell_type": "code",
      "execution_count": null,
      "metadata": {
        "id": "VmSVBdKSzpcn"
      },
      "outputs": [],
      "source": [
        "model_A = RandomForestRegressor(n_estimators=399, \n",
        "                                bootstrap=False,\n",
        "                                criterion='squared_error',\n",
        "                                max_depth=7,\n",
        "                                max_features=2,\n",
        "                                min_samples_leaf=2,\n",
        "                                min_samples_split=10,\n",
        "                                random_state=43\n",
        "                                )\n",
        "\n",
        "model_A.fit(X_train, y_train)\n",
        "\n",
        "y_pred = model_A.predict(X_test)\n"
      ]
    },
    {
      "cell_type": "code",
      "execution_count": null,
      "metadata": {
        "id": "XvZNvOD7AM0o"
      },
      "outputs": [],
      "source": [
        "y_pred = np.round(scaler.inverse_transform(y_pred.reshape(-1, 1)), 2)\n",
        "y_test = scaler.inverse_transform(y_test.values.reshape(-1, 1))\n"
      ]
    },
    {
      "cell_type": "code",
      "execution_count": null,
      "metadata": {
        "id": "EAN34fkTAM0p"
      },
      "outputs": [],
      "source": [
        "df_price = pd.DataFrame(data={'Original': [row[0] for row in y_test], 'Prediction': [row[0] for row in y_pred]})\n",
        "\n",
        "df_price\n"
      ]
    },
    {
      "cell_type": "code",
      "execution_count": null,
      "metadata": {
        "id": "_u3Jiw4aAM0p"
      },
      "outputs": [],
      "source": [
        "print(f'rmse: {mean_squared_error(y_test, y_pred, squared=False)}')\n",
        "print(f'mse: {mean_squared_error(y_test, y_pred)}')\n",
        "print(f'mae: {mean_absolute_error(y_test,y_pred)}')\n",
        "print(f'r2: {r2_score(y_test, y_pred)}')\n",
        "print(f'mape: {mean_absolute_percentage_error(y_test, y_pred)}')\n"
      ]
    },
    {
      "cell_type": "code",
      "execution_count": null,
      "metadata": {
        "id": "abX6jFtPAM0q"
      },
      "outputs": [],
      "source": [
        "df_price[df_price['Original'] > 10000]\n"
      ]
    }
  ],
  "metadata": {
    "accelerator": "GPU",
    "colab": {
      "collapsed_sections": [
        "wKdaTaCiUiSK",
        "EKSn_NDZUiSL",
        "f7HiQ4iwUiSM",
        "3csP_xOyjpZ5",
        "c19KEA2SjpZ6",
        "kSbOpglVwMNj",
        "4JY4sVHGwMNl",
        "_pYGp1Tbzpch",
        "2oYDOuRezpck"
      ],
      "machine_shape": "hm",
      "provenance": []
    },
    "gpuClass": "premium",
    "kernelspec": {
      "display_name": "data_analytics",
      "language": "python",
      "name": "python3"
    },
    "language_info": {
      "codemirror_mode": {
        "name": "ipython",
        "version": 3
      },
      "file_extension": ".py",
      "mimetype": "text/x-python",
      "name": "python",
      "nbconvert_exporter": "python",
      "pygments_lexer": "ipython3",
      "version": "3.9.16"
    },
    "vscode": {
      "interpreter": {
        "hash": "62be4b4d7aada9f05487a097e316e83dc3ceda15568e9d0ea281b513767b88d7"
      }
    }
  },
  "nbformat": 4,
  "nbformat_minor": 0
}
