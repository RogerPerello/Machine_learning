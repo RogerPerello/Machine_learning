{
  "cells": [
    {
      "cell_type": "code",
      "execution_count": 1,
      "metadata": {
        "colab": {
          "base_uri": "https://localhost:8080/"
        },
        "id": "C-qAea3tjpZl",
        "outputId": "ec995bb7-7529-4617-e857-81881ee3147e"
      },
      "outputs": [],
      "source": [
        "# from google.colab import drive\n",
        "# drive.mount('/content/gdrive')\n"
      ]
    },
    {
      "cell_type": "code",
      "execution_count": 1,
      "metadata": {
        "id": "etR8YA7FUiSC"
      },
      "outputs": [],
      "source": [
        "import os\n",
        "import glob\n",
        "import cv2\n",
        "from PIL import Image\n",
        "import tensorflow as tf\n",
        "\n",
        "from sklearn.metrics import make_scorer\n",
        "from sklearn.preprocessing import StandardScaler\n",
        "from sklearn.model_selection import GridSearchCV\n",
        "\n",
        "from keras.callbacks import EarlyStopping, ReduceLROnPlateau\n",
        "from keras.preprocessing.image import ImageDataGenerator\n",
        "from keras.regularizers import l2\n",
        "from keras.models import load_model, save_model, Model\n",
        "from keras.layers import Flatten, Dense, Conv2D, MaxPooling2D, Dropout, BatchNormalization\n",
        "from keras.optimizers import Adam\n",
        "from keras.applications.vgg16 import VGG16, preprocess_input\n",
        "from keras.applications.mobilenet_v3 import MobileNetV3Large\n",
        "from keras.applications.mobilenet_v3 import preprocess_input as preprocess_input_mobilenet\n",
        "\n",
        "\n",
        "if str(os.getcwdb()[-3:]).split(\"'\")[1] != 'src':\n",
        "    for _ in range(2):\n",
        "        os.chdir(os.path.dirname(os.getcwdb()))\n",
        "\n",
        "from utils.classes import *\n",
        "from utils.functions import *\n"
      ]
    },
    {
      "cell_type": "code",
      "execution_count": 2,
      "metadata": {
        "colab": {
          "base_uri": "https://localhost:8080/",
          "height": 268
        },
        "id": "rtASrsGzVTec",
        "outputId": "b8c25fc5-a3d8-4e6f-8da3-e01e7f90b5f3"
      },
      "outputs": [
        {
          "data": {
            "text/html": [
              "<div>\n",
              "<style scoped>\n",
              "    .dataframe tbody tr th:only-of-type {\n",
              "        vertical-align: middle;\n",
              "    }\n",
              "\n",
              "    .dataframe tbody tr th {\n",
              "        vertical-align: top;\n",
              "    }\n",
              "\n",
              "    .dataframe thead th {\n",
              "        text-align: right;\n",
              "    }\n",
              "</style>\n",
              "<table border=\"1\" class=\"dataframe\">\n",
              "  <thead>\n",
              "    <tr style=\"text-align: right;\">\n",
              "      <th></th>\n",
              "      <th>Id</th>\n",
              "      <th>weight (carat)</th>\n",
              "      <th>cut quality</th>\n",
              "      <th>color quality</th>\n",
              "      <th>clarity quality</th>\n",
              "      <th>depth (percentage)</th>\n",
              "      <th>length (millimeters)</th>\n",
              "      <th>width (millimeters)</th>\n",
              "      <th>depth (millimeters)</th>\n",
              "      <th>price</th>\n",
              "    </tr>\n",
              "  </thead>\n",
              "  <tbody>\n",
              "    <tr>\n",
              "      <th>0</th>\n",
              "      <td>1638147</td>\n",
              "      <td>0.55</td>\n",
              "      <td>4.0</td>\n",
              "      <td>5.0</td>\n",
              "      <td>1.0</td>\n",
              "      <td>62.553191</td>\n",
              "      <td>5.05</td>\n",
              "      <td>4.35</td>\n",
              "      <td>2.94</td>\n",
              "      <td>1378.65</td>\n",
              "    </tr>\n",
              "    <tr>\n",
              "      <th>1</th>\n",
              "      <td>1612606</td>\n",
              "      <td>0.51</td>\n",
              "      <td>4.0</td>\n",
              "      <td>2.0</td>\n",
              "      <td>3.0</td>\n",
              "      <td>64.900662</td>\n",
              "      <td>4.71</td>\n",
              "      <td>4.35</td>\n",
              "      <td>2.94</td>\n",
              "      <td>1380.19</td>\n",
              "    </tr>\n",
              "    <tr>\n",
              "      <th>2</th>\n",
              "      <td>1638140</td>\n",
              "      <td>0.50</td>\n",
              "      <td>4.0</td>\n",
              "      <td>2.0</td>\n",
              "      <td>3.0</td>\n",
              "      <td>62.813522</td>\n",
              "      <td>4.91</td>\n",
              "      <td>4.26</td>\n",
              "      <td>2.88</td>\n",
              "      <td>1380.61</td>\n",
              "    </tr>\n",
              "    <tr>\n",
              "      <th>3</th>\n",
              "      <td>1536093</td>\n",
              "      <td>0.53</td>\n",
              "      <td>4.0</td>\n",
              "      <td>6.0</td>\n",
              "      <td>2.0</td>\n",
              "      <td>65.720524</td>\n",
              "      <td>4.70</td>\n",
              "      <td>4.46</td>\n",
              "      <td>3.01</td>\n",
              "      <td>1383.13</td>\n",
              "    </tr>\n",
              "    <tr>\n",
              "      <th>4</th>\n",
              "      <td>1643527</td>\n",
              "      <td>0.52</td>\n",
              "      <td>4.0</td>\n",
              "      <td>1.0</td>\n",
              "      <td>6.0</td>\n",
              "      <td>65.141612</td>\n",
              "      <td>4.76</td>\n",
              "      <td>4.42</td>\n",
              "      <td>2.99</td>\n",
              "      <td>1384.24</td>\n",
              "    </tr>\n",
              "  </tbody>\n",
              "</table>\n",
              "</div>"
            ],
            "text/plain": [
              "        Id  weight (carat)  cut quality  color quality  clarity quality  \\\n",
              "0  1638147            0.55          4.0            5.0              1.0   \n",
              "1  1612606            0.51          4.0            2.0              3.0   \n",
              "2  1638140            0.50          4.0            2.0              3.0   \n",
              "3  1536093            0.53          4.0            6.0              2.0   \n",
              "4  1643527            0.52          4.0            1.0              6.0   \n",
              "\n",
              "   depth (percentage)  length (millimeters)  width (millimeters)  \\\n",
              "0           62.553191                  5.05                 4.35   \n",
              "1           64.900662                  4.71                 4.35   \n",
              "2           62.813522                  4.91                 4.26   \n",
              "3           65.720524                  4.70                 4.46   \n",
              "4           65.141612                  4.76                 4.42   \n",
              "\n",
              "   depth (millimeters)    price  \n",
              "0                 2.94  1378.65  \n",
              "1                 2.94  1380.19  \n",
              "2                 2.88  1380.61  \n",
              "3                 3.01  1383.13  \n",
              "4                 2.99  1384.24  "
            ]
          },
          "execution_count": 2,
          "metadata": {},
          "output_type": "execute_result"
        }
      ],
      "source": [
        "processed_images_path = r'data\\processed\\images'\n",
        "df_images_data_original = pd.read_csv(r'data\\processed\\images_data_processed.csv')\n",
        "\n",
        "# df_images_data_original = pd.read_csv('/content/gdrive/My Drive/images_data_processed.csv')\n",
        "# processed_images_path = r'/content/gdrive/My Drive/images'\n",
        "\n",
        "df_images_data_original.head()\n"
      ]
    },
    {
      "attachments": {},
      "cell_type": "markdown",
      "metadata": {
        "id": "4IsH6scZjpZu"
      },
      "source": [
        "# Prueba 1 (fracaso)\n",
        "\n",
        "- Para esta primera prueba, se intenta obtener todas las características de los diamantes con un modelo VGG16\n",
        "\n",
        "- Se elige este modelo por las siguientes razones:\n",
        "\n",
        "1) Es popular y se ha utilizado con éxito en investigación\n",
        "2) Es relativamente fácil adaptarlo para problemas de regresión\n",
        "3) Tiene un buen rendimiento\n",
        "4) Trabaja con RGB, y el color de los diamantes es importante\n",
        "5) Utiliza un tamaño de 224x224, y se ha visto que a partir de 150 componentes se obtiene toda la información necesaria\n",
        "6) Otros como ResNet, Inception, EfficientNet o MobileNet son más modernos y tienen el potencial de dar mejores resultados, pero el coste computacional podría elevarse, lo que quizá no valdría la pena para un \"dataset\" tan pequeño\n",
        "\n",
        "- El modelo es lento y no da resultados demasiado buenos por la siguientes razones:\n",
        "\n",
        "1) Las redes neuronales no son muy eficaces para regresión, razón por la cual se encuentran pocos \"papers\" científicos que lo intenten. La situación se agrava porque se pretende predecir 7 \"targets\"\n",
        "\n",
        "2) De esas \"targets\", hay varias que en realidad son de clasificación, como el corte y el color del diamante\n",
        "\n",
        "3) La tarea de discernir el peso o las dimensiones de un diamante sin un punto de referencia es muy complicada"
      ]
    },
    {
      "cell_type": "markdown",
      "metadata": {
        "id": "d5gkxlAaUiSG"
      },
      "source": [
        "## Tamaño de las imágenes\n",
        "\n",
        "- Se modifican los píxeles de cada imagen, de 300 a 224, para que puedan encajar en el modelo"
      ]
    },
    {
      "cell_type": "code",
      "execution_count": null,
      "metadata": {
        "id": "3ORMhbYGUiSI"
      },
      "outputs": [],
      "source": [
        "for image_path in glob.glob(processed_images_path+'/*.jpg'):\n",
        "    with Image.open(image_path) as image:\n",
        "        image = image.resize((224, 224))\n",
        "        image.save(image_path)\n"
      ]
    },
    {
      "cell_type": "markdown",
      "metadata": {
        "id": "wKdaTaCiUiSK"
      },
      "source": [
        "## \"Split\"\n",
        "\n",
        "- Se separa el \"dataframe\" en \"train\" y \"test\""
      ]
    },
    {
      "cell_type": "code",
      "execution_count": null,
      "metadata": {
        "colab": {
          "base_uri": "https://localhost:8080/",
          "height": 268
        },
        "id": "m3b_EA4pUiSK",
        "outputId": "07e74ef9-8dab-48ff-e7a2-fd31315a65e1"
      },
      "outputs": [
        {
          "data": {
            "text/html": [
              "<div>\n",
              "<style scoped>\n",
              "    .dataframe tbody tr th:only-of-type {\n",
              "        vertical-align: middle;\n",
              "    }\n",
              "\n",
              "    .dataframe tbody tr th {\n",
              "        vertical-align: top;\n",
              "    }\n",
              "\n",
              "    .dataframe thead th {\n",
              "        text-align: right;\n",
              "    }\n",
              "</style>\n",
              "<table border=\"1\" class=\"dataframe\">\n",
              "  <thead>\n",
              "    <tr style=\"text-align: right;\">\n",
              "      <th></th>\n",
              "      <th>Id</th>\n",
              "      <th>weight (carat)</th>\n",
              "      <th>cut quality</th>\n",
              "      <th>color quality</th>\n",
              "      <th>clarity quality</th>\n",
              "      <th>depth (percentage)</th>\n",
              "      <th>length (millimeters)</th>\n",
              "      <th>width (millimeters)</th>\n",
              "      <th>depth (millimeters)</th>\n",
              "    </tr>\n",
              "  </thead>\n",
              "  <tbody>\n",
              "    <tr>\n",
              "      <th>0</th>\n",
              "      <td>1638147.jpg</td>\n",
              "      <td>0.55</td>\n",
              "      <td>4.0</td>\n",
              "      <td>5.0</td>\n",
              "      <td>1.0</td>\n",
              "      <td>62.553191</td>\n",
              "      <td>5.05</td>\n",
              "      <td>4.35</td>\n",
              "      <td>2.94</td>\n",
              "    </tr>\n",
              "    <tr>\n",
              "      <th>1</th>\n",
              "      <td>1612606.jpg</td>\n",
              "      <td>0.51</td>\n",
              "      <td>4.0</td>\n",
              "      <td>2.0</td>\n",
              "      <td>3.0</td>\n",
              "      <td>64.900662</td>\n",
              "      <td>4.71</td>\n",
              "      <td>4.35</td>\n",
              "      <td>2.94</td>\n",
              "    </tr>\n",
              "    <tr>\n",
              "      <th>2</th>\n",
              "      <td>1638140.jpg</td>\n",
              "      <td>0.50</td>\n",
              "      <td>4.0</td>\n",
              "      <td>2.0</td>\n",
              "      <td>3.0</td>\n",
              "      <td>62.813522</td>\n",
              "      <td>4.91</td>\n",
              "      <td>4.26</td>\n",
              "      <td>2.88</td>\n",
              "    </tr>\n",
              "    <tr>\n",
              "      <th>3</th>\n",
              "      <td>1536093.jpg</td>\n",
              "      <td>0.53</td>\n",
              "      <td>4.0</td>\n",
              "      <td>6.0</td>\n",
              "      <td>2.0</td>\n",
              "      <td>65.720524</td>\n",
              "      <td>4.70</td>\n",
              "      <td>4.46</td>\n",
              "      <td>3.01</td>\n",
              "    </tr>\n",
              "    <tr>\n",
              "      <th>4</th>\n",
              "      <td>1643527.jpg</td>\n",
              "      <td>0.52</td>\n",
              "      <td>4.0</td>\n",
              "      <td>1.0</td>\n",
              "      <td>6.0</td>\n",
              "      <td>65.141612</td>\n",
              "      <td>4.76</td>\n",
              "      <td>4.42</td>\n",
              "      <td>2.99</td>\n",
              "    </tr>\n",
              "  </tbody>\n",
              "</table>\n",
              "</div>"
            ],
            "text/plain": [
              "            Id  weight (carat)  cut quality  color quality  clarity quality  \\\n",
              "0  1638147.jpg            0.55          4.0            5.0              1.0   \n",
              "1  1612606.jpg            0.51          4.0            2.0              3.0   \n",
              "2  1638140.jpg            0.50          4.0            2.0              3.0   \n",
              "3  1536093.jpg            0.53          4.0            6.0              2.0   \n",
              "4  1643527.jpg            0.52          4.0            1.0              6.0   \n",
              "\n",
              "   depth (percentage)  length (millimeters)  width (millimeters)  \\\n",
              "0           62.553191                  5.05                 4.35   \n",
              "1           64.900662                  4.71                 4.35   \n",
              "2           62.813522                  4.91                 4.26   \n",
              "3           65.720524                  4.70                 4.46   \n",
              "4           65.141612                  4.76                 4.42   \n",
              "\n",
              "   depth (millimeters)  \n",
              "0                 2.94  \n",
              "1                 2.94  \n",
              "2                 2.88  \n",
              "3                 3.01  \n",
              "4                 2.99  "
            ]
          },
          "execution_count": 13,
          "metadata": {},
          "output_type": "execute_result"
        }
      ],
      "source": [
        "df_images_data = df_images_data_original.copy()\n",
        "\n",
        "df_images_data = df_images_data.drop(columns='price')\n",
        "\n",
        "df_images_data['Id'] = df_images_data['Id'].apply(lambda x: x + '.jpg')\n",
        "\n",
        "df_images_data.head()\n"
      ]
    },
    {
      "cell_type": "code",
      "execution_count": null,
      "metadata": {
        "colab": {
          "base_uri": "https://localhost:8080/",
          "height": 268
        },
        "id": "iKMeOss4UiSK",
        "outputId": "8a331579-d6ef-4f78-b178-d482a0f36ec0"
      },
      "outputs": [
        {
          "data": {
            "text/html": [
              "<div>\n",
              "<style scoped>\n",
              "    .dataframe tbody tr th:only-of-type {\n",
              "        vertical-align: middle;\n",
              "    }\n",
              "\n",
              "    .dataframe tbody tr th {\n",
              "        vertical-align: top;\n",
              "    }\n",
              "\n",
              "    .dataframe thead th {\n",
              "        text-align: right;\n",
              "    }\n",
              "</style>\n",
              "<table border=\"1\" class=\"dataframe\">\n",
              "  <thead>\n",
              "    <tr style=\"text-align: right;\">\n",
              "      <th></th>\n",
              "      <th>Id</th>\n",
              "      <th>weight (carat)</th>\n",
              "      <th>cut quality</th>\n",
              "      <th>color quality</th>\n",
              "      <th>clarity quality</th>\n",
              "      <th>depth (percentage)</th>\n",
              "      <th>length (millimeters)</th>\n",
              "      <th>width (millimeters)</th>\n",
              "      <th>depth (millimeters)</th>\n",
              "    </tr>\n",
              "  </thead>\n",
              "  <tbody>\n",
              "    <tr>\n",
              "      <th>1084</th>\n",
              "      <td>1782710.jpg</td>\n",
              "      <td>0.31</td>\n",
              "      <td>4.0</td>\n",
              "      <td>6.0</td>\n",
              "      <td>6.0</td>\n",
              "      <td>53.199498</td>\n",
              "      <td>4.68</td>\n",
              "      <td>3.29</td>\n",
              "      <td>2.12</td>\n",
              "    </tr>\n",
              "    <tr>\n",
              "      <th>2564</th>\n",
              "      <td>211174-39.jpg</td>\n",
              "      <td>1.00</td>\n",
              "      <td>4.0</td>\n",
              "      <td>1.0</td>\n",
              "      <td>5.0</td>\n",
              "      <td>49.358060</td>\n",
              "      <td>8.52</td>\n",
              "      <td>5.50</td>\n",
              "      <td>3.46</td>\n",
              "    </tr>\n",
              "    <tr>\n",
              "      <th>2857</th>\n",
              "      <td>1634758.jpg</td>\n",
              "      <td>0.70</td>\n",
              "      <td>4.0</td>\n",
              "      <td>-1.0</td>\n",
              "      <td>4.0</td>\n",
              "      <td>72.427984</td>\n",
              "      <td>4.90</td>\n",
              "      <td>4.82</td>\n",
              "      <td>3.52</td>\n",
              "    </tr>\n",
              "    <tr>\n",
              "      <th>4325</th>\n",
              "      <td>1659667.jpg</td>\n",
              "      <td>0.50</td>\n",
              "      <td>1.0</td>\n",
              "      <td>5.0</td>\n",
              "      <td>3.0</td>\n",
              "      <td>62.851406</td>\n",
              "      <td>4.94</td>\n",
              "      <td>5.02</td>\n",
              "      <td>3.13</td>\n",
              "    </tr>\n",
              "    <tr>\n",
              "      <th>1482</th>\n",
              "      <td>1785268.jpg</td>\n",
              "      <td>0.30</td>\n",
              "      <td>4.0</td>\n",
              "      <td>6.0</td>\n",
              "      <td>3.0</td>\n",
              "      <td>63.060990</td>\n",
              "      <td>3.98</td>\n",
              "      <td>4.71</td>\n",
              "      <td>2.74</td>\n",
              "    </tr>\n",
              "  </tbody>\n",
              "</table>\n",
              "</div>"
            ],
            "text/plain": [
              "                 Id  weight (carat)  cut quality  color quality  \\\n",
              "1084    1782710.jpg            0.31          4.0            6.0   \n",
              "2564  211174-39.jpg            1.00          4.0            1.0   \n",
              "2857    1634758.jpg            0.70          4.0           -1.0   \n",
              "4325    1659667.jpg            0.50          1.0            5.0   \n",
              "1482    1785268.jpg            0.30          4.0            6.0   \n",
              "\n",
              "      clarity quality  depth (percentage)  length (millimeters)  \\\n",
              "1084              6.0           53.199498                  4.68   \n",
              "2564              5.0           49.358060                  8.52   \n",
              "2857              4.0           72.427984                  4.90   \n",
              "4325              3.0           62.851406                  4.94   \n",
              "1482              3.0           63.060990                  3.98   \n",
              "\n",
              "      width (millimeters)  depth (millimeters)  \n",
              "1084                 3.29                 2.12  \n",
              "2564                 5.50                 3.46  \n",
              "2857                 4.82                 3.52  \n",
              "4325                 5.02                 3.13  \n",
              "1482                 4.71                 2.74  "
            ]
          },
          "execution_count": 14,
          "metadata": {},
          "output_type": "execute_result"
        }
      ],
      "source": [
        "X_train, X_test, y_train, y_test = train_test_split(df_images_data['Id'], df_images_data.drop(columns='Id'), train_size=0.8, random_state=42)\n",
        "\n",
        "df_train = pd.concat((X_train, y_train), axis=1)\n",
        "df_test = pd.concat((X_test, y_test), axis=1)\n",
        "\n",
        "df_train.head()\n"
      ]
    },
    {
      "attachments": {},
      "cell_type": "markdown",
      "metadata": {
        "id": "EKSn_NDZUiSL"
      },
      "source": [
        "## \"Data augmentation\"\n",
        "\n",
        "- Se crea una variable para generar imágenes en diferentes posiciones para que el modelo disponga del mismo diamante colocado de modos distintos\n",
        "\n",
        "- Atención: el ImageDataGenerator devolverá diferentes imágenes cada vez, y no se le puede asignar un \"seed\" para remediarlo\n"
      ]
    },
    {
      "cell_type": "code",
      "execution_count": null,
      "metadata": {
        "id": "0qHrInDXUiSL"
      },
      "outputs": [],
      "source": [
        "# Se establecen las variables para crear nuevos diamantes y para seleccionar el tamaño de imagen correcto\n",
        "data_augmentation = ImageDataGenerator(rotation_range=20,\n",
        "                                        width_shift_range=0.2,\n",
        "                                        height_shift_range=0.2,\n",
        "                                        zoom_range=0.2,\n",
        "                                        horizontal_flip=True,\n",
        "                                        vertical_flip=True,\n",
        "                                        preprocessing_function=preprocess_input,\n",
        "                                        validation_split=0.1\n",
        "                                        )\n"
      ]
    },
    {
      "cell_type": "code",
      "execution_count": null,
      "metadata": {
        "colab": {
          "base_uri": "https://localhost:8080/"
        },
        "id": "Wxc2yRtKUiSM",
        "outputId": "cf38cce5-44be-4cf5-ca32-e69db939ba56"
      },
      "outputs": [
        {
          "name": "stdout",
          "output_type": "stream",
          "text": [
            "Found 3254 validated image filenames.\n",
            "Found 361 validated image filenames.\n",
            "Found 904 validated image filenames.\n"
          ]
        }
      ],
      "source": [
        "# Se crean tres \"generators\" con los datos aumentados (entrenamiento, validación y \"test\")\n",
        "train_generator = data_augmentation.flow_from_dataframe(dataframe=df_train,\n",
        "                                                        directory=processed_images_path,\n",
        "                                                        target_size=(224, 224),\n",
        "                                                        class_mode='raw',\n",
        "                                                        shuffle=False,\n",
        "                                                        x_col='Id',\n",
        "                                                        y_col=list(df_images_data.columns[1:]),\n",
        "                                                        seed=42,\n",
        "                                                        subset='training'\n",
        "                                                        )\n",
        "\n",
        "validation_generator = data_augmentation.flow_from_dataframe(dataframe=df_train,\n",
        "                                                                directory=processed_images_path,\n",
        "                                                                target_size=(224, 224),\n",
        "                                                                class_mode='raw',\n",
        "                                                                shuffle=False,\n",
        "                                                                x_col='Id',\n",
        "                                                                y_col=list(df_images_data.columns[1:]),\n",
        "                                                                seed=42,\n",
        "                                                                subset='validation'\n",
        "                                                                )\n",
        "\n",
        "test_generator = data_augmentation.flow_from_dataframe(dataframe=df_test,\n",
        "                                                        directory=processed_images_path,\n",
        "                                                        target_size=(224, 224),\n",
        "                                                        class_mode='raw',\n",
        "                                                        shuffle=False,\n",
        "                                                        x_col='Id',\n",
        "                                                        y_col=list(df_images_data.columns[1:]),\n",
        "                                                        seed=42,\n",
        "                                                        )\n"
      ]
    },
    {
      "cell_type": "markdown",
      "metadata": {
        "id": "f7HiQ4iwUiSM"
      },
      "source": [
        "## Arquitectura"
      ]
    },
    {
      "cell_type": "code",
      "execution_count": null,
      "metadata": {
        "colab": {
          "base_uri": "https://localhost:8080/"
        },
        "id": "qqd_mhBdUiSN",
        "outputId": "96a200bd-fcb1-4a95-c1ad-f5b7ba7cd1f9"
      },
      "outputs": [
        {
          "name": "stdout",
          "output_type": "stream",
          "text": [
            "Downloading data from https://storage.googleapis.com/tensorflow/keras-applications/vgg16/vgg16_weights_tf_dim_ordering_tf_kernels_notop.h5\n",
            "58889256/58889256 [==============================] - 0s 0us/step\n"
          ]
        }
      ],
      "source": [
        "# Se carga el modelo sin la capa superior\n",
        "base_model = VGG16(include_top=False, input_shape=((224, 224, 3)))\n"
      ]
    },
    {
      "cell_type": "code",
      "execution_count": null,
      "metadata": {
        "id": "rxE07HtqUiSN"
      },
      "outputs": [],
      "source": [
        "# Se congelan las capas base para que no se entrenen al tunear parámetros, sino que queden igual\n",
        "for layer in base_model.layers:\n",
        "    layer.trainable = False\n"
      ]
    },
    {
      "cell_type": "code",
      "execution_count": null,
      "metadata": {
        "id": "7ZgzGhHlUiSO"
      },
      "outputs": [],
      "source": [
        "# Se crea una nueva capa superior\n",
        "top_model = Flatten()(base_model.output)\n",
        "top_model = Dense(1024, activation='relu')(top_model)\n",
        "top_model = Dense(512, activation='relu')(top_model)\n",
        "output_layer = Dense(8, activation='linear')(top_model)\n"
      ]
    },
    {
      "cell_type": "code",
      "execution_count": null,
      "metadata": {
        "id": "mE20ff6kUiSO"
      },
      "outputs": [],
      "source": [
        "# Se tunea el modelo con la capa nueva\n",
        "model = Model(inputs=base_model.input, outputs=output_layer)\n"
      ]
    },
    {
      "cell_type": "code",
      "execution_count": null,
      "metadata": {
        "id": "lf9CInuVUiSO"
      },
      "outputs": [],
      "source": [
        "# Se compila y se le pone un optimizador\n",
        "model.compile(optimizer=Adam(learning_rate=0.001), loss='mae')\n"
      ]
    },
    {
      "cell_type": "markdown",
      "metadata": {
        "id": "3csP_xOyjpZ5"
      },
      "source": [
        "## Entrenamiento"
      ]
    },
    {
      "cell_type": "code",
      "execution_count": null,
      "metadata": {
        "colab": {
          "base_uri": "https://localhost:8080/"
        },
        "id": "0LrHTnA-UiSO",
        "outputId": "f106de9e-8ecd-4c65-b589-f2c11ce51875"
      },
      "outputs": [
        {
          "name": "stdout",
          "output_type": "stream",
          "text": [
            "Epoch 1/20\n",
            "102/102 [==============================] - 1658s 16s/step - loss: 4.7631 - val_loss: 1.8354\n",
            "Epoch 2/20\n",
            "102/102 [==============================] - 1619s 16s/step - loss: 1.6331 - val_loss: 1.5055\n",
            "Epoch 3/20\n",
            "102/102 [==============================] - 1621s 16s/step - loss: 1.4628 - val_loss: 1.4908\n",
            "Epoch 4/20\n",
            "102/102 [==============================] - 1622s 16s/step - loss: 1.3511 - val_loss: 1.4441\n",
            "Epoch 5/20\n",
            "102/102 [==============================] - 1623s 16s/step - loss: 1.3218 - val_loss: 1.2371\n",
            "Epoch 6/20\n",
            "102/102 [==============================] - 1628s 16s/step - loss: 1.2581 - val_loss: 1.2024\n",
            "Epoch 7/20\n",
            "102/102 [==============================] - 1620s 16s/step - loss: 1.2337 - val_loss: 1.2048\n",
            "Epoch 8/20\n",
            "102/102 [==============================] - 1623s 16s/step - loss: 1.2070 - val_loss: 1.1370\n",
            "Epoch 9/20\n",
            "102/102 [==============================] - 1610s 16s/step - loss: 1.1842 - val_loss: 1.0816\n",
            "Epoch 10/20\n",
            "102/102 [==============================] - 1622s 16s/step - loss: 1.1651 - val_loss: 1.2018\n",
            "Epoch 11/20\n",
            "102/102 [==============================] - 1624s 16s/step - loss: 1.1729 - val_loss: 1.1205\n",
            "Epoch 12/20\n",
            "102/102 [==============================] - 1619s 16s/step - loss: 1.1314 - val_loss: 1.1070\n"
          ]
        }
      ],
      "source": [
        "# Se entrena el modelo con \"early stopping\"\n",
        "early_stop = EarlyStopping(monitor='val_loss', patience=3, restore_best_weights=True)\n",
        "\n",
        "history = model.fit(train_generator,\n",
        "                    epochs=20,\n",
        "                    batch_size=64,\n",
        "                    validation_data=validation_generator,\n",
        "                    callbacks=[early_stop]\n",
        "                    )\n"
      ]
    },
    {
      "cell_type": "code",
      "execution_count": null,
      "metadata": {
        "colab": {
          "base_uri": "https://localhost:8080/"
        },
        "id": "py8Hw56BUiSP",
        "outputId": "d3fdbd26-09c3-4be6-b8c8-0b612296e4d9"
      },
      "outputs": [
        {
          "name": "stdout",
          "output_type": "stream",
          "text": [
            "29/29 [==============================] - 403s 14s/step\n"
          ]
        }
      ],
      "source": [
        "y_pred = model.predict(test_generator)\n"
      ]
    },
    {
      "cell_type": "markdown",
      "metadata": {
        "id": "c19KEA2SjpZ6"
      },
      "source": [
        "## Resultados"
      ]
    },
    {
      "cell_type": "code",
      "execution_count": null,
      "metadata": {
        "colab": {
          "base_uri": "https://localhost:8080/"
        },
        "id": "v8CGDLXVUiSP",
        "outputId": "1ee0b62d-32e2-4664-a0d0-a232bc73b655"
      },
      "outputs": [
        {
          "data": {
            "text/plain": [
              "{'weight (carat)': {'mse': 0.1336372049921532,\n",
              "  'rmse': 0.36556422827206875,\n",
              "  'mae': 0.2417054289899173,\n",
              "  'r2': -0.03505052079897086,\n",
              "  'mape': 0.4639574649408659},\n",
              " 'cut quality': {'mse': 1.2739422312412216,\n",
              "  'rmse': 1.1286904939978992,\n",
              "  'mae': 0.818438103010433,\n",
              "  'r2': -0.1435679608231537,\n",
              "  'mape': 72608940205989.75},\n",
              " 'color quality': {'mse': 4.147202059491201,\n",
              "  'rmse': 2.0364680354700395,\n",
              "  'mae': 1.6430471274544345,\n",
              "  'r2': 0.5249337891759873,\n",
              "  'mape': 794924327189803.6},\n",
              " 'clarity quality': {'mse': 2.2534897969237186,\n",
              "  'rmse': 1.5011628149283869,\n",
              "  'mae': 1.139925202503141,\n",
              "  'r2': 0.009078528522102447,\n",
              "  'mape': 43805370364375.625},\n",
              " 'depth (percentage)': {'mse': 20.30939250731928,\n",
              "  'rmse': 4.5065943357838725,\n",
              "  'mae': 3.521957158820884,\n",
              "  'r2': 0.6469763987724068,\n",
              "  'mape': 0.05941118910892257},\n",
              " 'length (millimeters)': {'mse': 0.5882077754517148,\n",
              "  'rmse': 0.7669470486622364,\n",
              "  'mae': 0.5708067799352967,\n",
              "  'r2': 0.6074706713139164,\n",
              "  'mape': 0.10523307766039347},\n",
              " 'width (millimeters)': {'mse': 0.37875802771396294,\n",
              "  'rmse': 0.615433203291765,\n",
              "  'mae': 0.46728212313314454,\n",
              "  'r2': 0.33337117505711666,\n",
              "  'mape': 0.09874659417577042},\n",
              " 'depth (millimeters)': {'mse': 0.1614554768969823,\n",
              "  'rmse': 0.401815227308501,\n",
              "  'mae': 0.2887641126181172,\n",
              "  'r2': 0.34414694604782703,\n",
              "  'mape': 0.09469218655580351}}"
            ]
          },
          "execution_count": 21,
          "metadata": {},
          "output_type": "execute_result"
        }
      ],
      "source": [
        "# Se obtienen las métricas\n",
        "metrics_dict = dict()\n",
        "for index, col in enumerate(df_images_data.columns[1:]):\n",
        "    rmse = mean_squared_error([row[index] for row in test_generator.labels], [row[index] for row in y_pred], squared=False)\n",
        "    mse = mean_squared_error([row[index] for row in test_generator.labels], [row[index] for row in y_pred])\n",
        "    mae = mean_absolute_error([row[index] for row in test_generator.labels], [row[index] for row in y_pred])\n",
        "    r2 = r2_score([row[index] for row in test_generator.labels], [row[index] for row in y_pred])\n",
        "    mape = mean_absolute_percentage_error([row[index] for row in test_generator.labels], [row[index] for row in y_pred])\n",
        "    metrics_dict[col] = {'mse': mse,\n",
        "                            'rmse': rmse,\n",
        "                            'mae': mae,\n",
        "                            'r2': r2,\n",
        "                            'mape': mape\n",
        "                         }\n",
        "\n",
        "metrics_dict\n"
      ]
    },
    {
      "cell_type": "code",
      "execution_count": null,
      "metadata": {
        "colab": {
          "base_uri": "https://localhost:8080/",
          "height": 424
        },
        "id": "xwDkU29mUiSP",
        "outputId": "6e70d3f5-5d52-4152-d55e-4cfa9aff96d5"
      },
      "outputs": [
        {
          "data": {
            "text/html": [
              "\n",
              "  <div id=\"df-eeccd64c-9266-4381-ab3f-25794bf8a2a2\">\n",
              "    <div class=\"colab-df-container\">\n",
              "      <div>\n",
              "<style scoped>\n",
              "    .dataframe tbody tr th:only-of-type {\n",
              "        vertical-align: middle;\n",
              "    }\n",
              "\n",
              "    .dataframe tbody tr th {\n",
              "        vertical-align: top;\n",
              "    }\n",
              "\n",
              "    .dataframe thead th {\n",
              "        text-align: right;\n",
              "    }\n",
              "</style>\n",
              "<table border=\"1\" class=\"dataframe\">\n",
              "  <thead>\n",
              "    <tr style=\"text-align: right;\">\n",
              "      <th></th>\n",
              "      <th>original weight</th>\n",
              "      <th>Prediction</th>\n",
              "    </tr>\n",
              "  </thead>\n",
              "  <tbody>\n",
              "    <tr>\n",
              "      <th>0</th>\n",
              "      <td>0.50</td>\n",
              "      <td>0.486493</td>\n",
              "    </tr>\n",
              "    <tr>\n",
              "      <th>1</th>\n",
              "      <td>1.61</td>\n",
              "      <td>0.900453</td>\n",
              "    </tr>\n",
              "    <tr>\n",
              "      <th>2</th>\n",
              "      <td>0.50</td>\n",
              "      <td>0.682085</td>\n",
              "    </tr>\n",
              "    <tr>\n",
              "      <th>3</th>\n",
              "      <td>0.75</td>\n",
              "      <td>0.906518</td>\n",
              "    </tr>\n",
              "    <tr>\n",
              "      <th>4</th>\n",
              "      <td>0.50</td>\n",
              "      <td>0.750089</td>\n",
              "    </tr>\n",
              "    <tr>\n",
              "      <th>...</th>\n",
              "      <td>...</td>\n",
              "      <td>...</td>\n",
              "    </tr>\n",
              "    <tr>\n",
              "      <th>899</th>\n",
              "      <td>0.50</td>\n",
              "      <td>0.571988</td>\n",
              "    </tr>\n",
              "    <tr>\n",
              "      <th>900</th>\n",
              "      <td>0.50</td>\n",
              "      <td>0.633700</td>\n",
              "    </tr>\n",
              "    <tr>\n",
              "      <th>901</th>\n",
              "      <td>0.31</td>\n",
              "      <td>0.448187</td>\n",
              "    </tr>\n",
              "    <tr>\n",
              "      <th>902</th>\n",
              "      <td>0.50</td>\n",
              "      <td>0.534622</td>\n",
              "    </tr>\n",
              "    <tr>\n",
              "      <th>903</th>\n",
              "      <td>0.50</td>\n",
              "      <td>0.868102</td>\n",
              "    </tr>\n",
              "  </tbody>\n",
              "</table>\n",
              "<p>904 rows × 2 columns</p>\n",
              "</div>\n",
              "      <button class=\"colab-df-convert\" onclick=\"convertToInteractive('df-eeccd64c-9266-4381-ab3f-25794bf8a2a2')\"\n",
              "              title=\"Convert this dataframe to an interactive table.\"\n",
              "              style=\"display:none;\">\n",
              "        \n",
              "  <svg xmlns=\"http://www.w3.org/2000/svg\" height=\"24px\"viewBox=\"0 0 24 24\"\n",
              "       width=\"24px\">\n",
              "    <path d=\"M0 0h24v24H0V0z\" fill=\"none\"/>\n",
              "    <path d=\"M18.56 5.44l.94 2.06.94-2.06 2.06-.94-2.06-.94-.94-2.06-.94 2.06-2.06.94zm-11 1L8.5 8.5l.94-2.06 2.06-.94-2.06-.94L8.5 2.5l-.94 2.06-2.06.94zm10 10l.94 2.06.94-2.06 2.06-.94-2.06-.94-.94-2.06-.94 2.06-2.06.94z\"/><path d=\"M17.41 7.96l-1.37-1.37c-.4-.4-.92-.59-1.43-.59-.52 0-1.04.2-1.43.59L10.3 9.45l-7.72 7.72c-.78.78-.78 2.05 0 2.83L4 21.41c.39.39.9.59 1.41.59.51 0 1.02-.2 1.41-.59l7.78-7.78 2.81-2.81c.8-.78.8-2.07 0-2.86zM5.41 20L4 18.59l7.72-7.72 1.47 1.35L5.41 20z\"/>\n",
              "  </svg>\n",
              "      </button>\n",
              "      \n",
              "  <style>\n",
              "    .colab-df-container {\n",
              "      display:flex;\n",
              "      flex-wrap:wrap;\n",
              "      gap: 12px;\n",
              "    }\n",
              "\n",
              "    .colab-df-convert {\n",
              "      background-color: #E8F0FE;\n",
              "      border: none;\n",
              "      border-radius: 50%;\n",
              "      cursor: pointer;\n",
              "      display: none;\n",
              "      fill: #1967D2;\n",
              "      height: 32px;\n",
              "      padding: 0 0 0 0;\n",
              "      width: 32px;\n",
              "    }\n",
              "\n",
              "    .colab-df-convert:hover {\n",
              "      background-color: #E2EBFA;\n",
              "      box-shadow: 0px 1px 2px rgba(60, 64, 67, 0.3), 0px 1px 3px 1px rgba(60, 64, 67, 0.15);\n",
              "      fill: #174EA6;\n",
              "    }\n",
              "\n",
              "    [theme=dark] .colab-df-convert {\n",
              "      background-color: #3B4455;\n",
              "      fill: #D2E3FC;\n",
              "    }\n",
              "\n",
              "    [theme=dark] .colab-df-convert:hover {\n",
              "      background-color: #434B5C;\n",
              "      box-shadow: 0px 1px 3px 1px rgba(0, 0, 0, 0.15);\n",
              "      filter: drop-shadow(0px 1px 2px rgba(0, 0, 0, 0.3));\n",
              "      fill: #FFFFFF;\n",
              "    }\n",
              "  </style>\n",
              "\n",
              "      <script>\n",
              "        const buttonEl =\n",
              "          document.querySelector('#df-eeccd64c-9266-4381-ab3f-25794bf8a2a2 button.colab-df-convert');\n",
              "        buttonEl.style.display =\n",
              "          google.colab.kernel.accessAllowed ? 'block' : 'none';\n",
              "\n",
              "        async function convertToInteractive(key) {\n",
              "          const element = document.querySelector('#df-eeccd64c-9266-4381-ab3f-25794bf8a2a2');\n",
              "          const dataTable =\n",
              "            await google.colab.kernel.invokeFunction('convertToInteractive',\n",
              "                                                     [key], {});\n",
              "          if (!dataTable) return;\n",
              "\n",
              "          const docLinkHtml = 'Like what you see? Visit the ' +\n",
              "            '<a target=\"_blank\" href=https://colab.research.google.com/notebooks/data_table.ipynb>data table notebook</a>'\n",
              "            + ' to learn more about interactive tables.';\n",
              "          element.innerHTML = '';\n",
              "          dataTable['output_type'] = 'display_data';\n",
              "          await google.colab.output.renderOutput(dataTable, element);\n",
              "          const docLink = document.createElement('div');\n",
              "          docLink.innerHTML = docLinkHtml;\n",
              "          element.appendChild(docLink);\n",
              "        }\n",
              "      </script>\n",
              "    </div>\n",
              "  </div>\n",
              "  "
            ],
            "text/plain": [
              "     original weight  Prediction\n",
              "0               0.50    0.486493\n",
              "1               1.61    0.900453\n",
              "2               0.50    0.682085\n",
              "3               0.75    0.906518\n",
              "4               0.50    0.750089\n",
              "..               ...         ...\n",
              "899             0.50    0.571988\n",
              "900             0.50    0.633700\n",
              "901             0.31    0.448187\n",
              "902             0.50    0.534622\n",
              "903             0.50    0.868102\n",
              "\n",
              "[904 rows x 2 columns]"
            ]
          },
          "execution_count": 22,
          "metadata": {},
          "output_type": "execute_result"
        }
      ],
      "source": [
        "# Se visualiza la predicción del peso, que es la más importante, en un \"dataframe\"\n",
        "df_weight = pd.DataFrame(data={'original weight': [row[0] for row in test_generator.labels], 'Prediction': [row[0] for row in y_pred]})\n",
        "\n",
        "df_weight\n"
      ]
    },
    {
      "attachments": {},
      "cell_type": "markdown",
      "metadata": {
        "id": "_YhoK69cjpZ7"
      },
      "source": [
        "# Prueba 2 (éxito parcial, combinado con prueba 3)\n",
        "\n",
        "- Como predecir tantas variables es muy difícil, se decide ir directamente a por el precio, sin tener que pasar las características a posteriori por el modelo de \"machine learning\" ya creado. \n",
        "\n",
        "- Se utiliza un modelo MobileNetV3Large, que es potente, relativamente moderno, de una fuente confiable (Google), y que se ha demostrado eficaz para la detección de imágenes\n",
        "\n",
        "- Como puede tardar todavía más que el anterior, se pone en marcha en Google Collab y se aprovecha la GPU. Las partes del código solo usadas en Collab se encuentran comentadas\n",
        "\n",
        "- El resultado es bastante flojo, pero menos escandaloso que en la Prueba 1"
      ]
    },
    {
      "cell_type": "code",
      "execution_count": 3,
      "metadata": {
        "colab": {
          "base_uri": "https://localhost:8080/",
          "height": 206
        },
        "id": "lZEBS7EljpZ7",
        "outputId": "b4d9e801-a738-4018-9d4d-cb98de08902e"
      },
      "outputs": [
        {
          "data": {
            "text/html": [
              "<div>\n",
              "<style scoped>\n",
              "    .dataframe tbody tr th:only-of-type {\n",
              "        vertical-align: middle;\n",
              "    }\n",
              "\n",
              "    .dataframe tbody tr th {\n",
              "        vertical-align: top;\n",
              "    }\n",
              "\n",
              "    .dataframe thead th {\n",
              "        text-align: right;\n",
              "    }\n",
              "</style>\n",
              "<table border=\"1\" class=\"dataframe\">\n",
              "  <thead>\n",
              "    <tr style=\"text-align: right;\">\n",
              "      <th></th>\n",
              "      <th>Id</th>\n",
              "      <th>price</th>\n",
              "    </tr>\n",
              "  </thead>\n",
              "  <tbody>\n",
              "    <tr>\n",
              "      <th>0</th>\n",
              "      <td>1638147.jpg</td>\n",
              "      <td>-0.254320</td>\n",
              "    </tr>\n",
              "    <tr>\n",
              "      <th>1</th>\n",
              "      <td>1612606.jpg</td>\n",
              "      <td>-0.253912</td>\n",
              "    </tr>\n",
              "    <tr>\n",
              "      <th>2</th>\n",
              "      <td>1638140.jpg</td>\n",
              "      <td>-0.253801</td>\n",
              "    </tr>\n",
              "    <tr>\n",
              "      <th>3</th>\n",
              "      <td>1536093.jpg</td>\n",
              "      <td>-0.253133</td>\n",
              "    </tr>\n",
              "    <tr>\n",
              "      <th>4</th>\n",
              "      <td>1643527.jpg</td>\n",
              "      <td>-0.252839</td>\n",
              "    </tr>\n",
              "  </tbody>\n",
              "</table>\n",
              "</div>"
            ],
            "text/plain": [
              "            Id     price\n",
              "0  1638147.jpg -0.254320\n",
              "1  1612606.jpg -0.253912\n",
              "2  1638140.jpg -0.253801\n",
              "3  1536093.jpg -0.253133\n",
              "4  1643527.jpg -0.252839"
            ]
          },
          "execution_count": 3,
          "metadata": {},
          "output_type": "execute_result"
        }
      ],
      "source": [
        "df_images_data = df_images_data_original.copy()\n",
        "\n",
        "df_images_data = df_images_data[['Id', 'price']]\n",
        "\n",
        "df_images_data['Id'] = df_images_data['Id'].apply(lambda x: x + '.jpg')\n",
        "\n",
        "scaler = StandardScaler()\n",
        "\n",
        "df_images_data['price'] = scaler.fit_transform(df_images_data[['price']])\n",
        "\n",
        "df_images_data.head()\n"
      ]
    },
    {
      "cell_type": "code",
      "execution_count": 4,
      "metadata": {
        "colab": {
          "base_uri": "https://localhost:8080/",
          "height": 206
        },
        "id": "rxGn-fDGjpZ8",
        "outputId": "e20da77a-3520-4db8-c3e3-9ea20e6ab8c0"
      },
      "outputs": [
        {
          "data": {
            "text/html": [
              "<div>\n",
              "<style scoped>\n",
              "    .dataframe tbody tr th:only-of-type {\n",
              "        vertical-align: middle;\n",
              "    }\n",
              "\n",
              "    .dataframe tbody tr th {\n",
              "        vertical-align: top;\n",
              "    }\n",
              "\n",
              "    .dataframe thead th {\n",
              "        text-align: right;\n",
              "    }\n",
              "</style>\n",
              "<table border=\"1\" class=\"dataframe\">\n",
              "  <thead>\n",
              "    <tr style=\"text-align: right;\">\n",
              "      <th></th>\n",
              "      <th>Id</th>\n",
              "      <th>price</th>\n",
              "    </tr>\n",
              "  </thead>\n",
              "  <tbody>\n",
              "    <tr>\n",
              "      <th>1084</th>\n",
              "      <td>1782710.jpg</td>\n",
              "      <td>-0.313508</td>\n",
              "    </tr>\n",
              "    <tr>\n",
              "      <th>2564</th>\n",
              "      <td>211174-39.jpg</td>\n",
              "      <td>1.121658</td>\n",
              "    </tr>\n",
              "    <tr>\n",
              "      <th>2857</th>\n",
              "      <td>1634758.jpg</td>\n",
              "      <td>-0.108507</td>\n",
              "    </tr>\n",
              "    <tr>\n",
              "      <th>4325</th>\n",
              "      <td>1659667.jpg</td>\n",
              "      <td>-0.069858</td>\n",
              "    </tr>\n",
              "    <tr>\n",
              "      <th>1482</th>\n",
              "      <td>1785268.jpg</td>\n",
              "      <td>-0.331227</td>\n",
              "    </tr>\n",
              "  </tbody>\n",
              "</table>\n",
              "</div>"
            ],
            "text/plain": [
              "                 Id     price\n",
              "1084    1782710.jpg -0.313508\n",
              "2564  211174-39.jpg  1.121658\n",
              "2857    1634758.jpg -0.108507\n",
              "4325    1659667.jpg -0.069858\n",
              "1482    1785268.jpg -0.331227"
            ]
          },
          "execution_count": 4,
          "metadata": {},
          "output_type": "execute_result"
        }
      ],
      "source": [
        "X_train, X_test, y_train, y_test = train_test_split(df_images_data['Id'], df_images_data.drop(columns='Id'), train_size=0.8, random_state=42)\n",
        "\n",
        "df_train = pd.concat((X_train, y_train), axis=1)\n",
        "df_test = pd.concat((X_test, y_test), axis=1)\n",
        "\n",
        "df_train.head()\n"
      ]
    },
    {
      "cell_type": "code",
      "execution_count": 5,
      "metadata": {
        "id": "dsNTa8VajpZ-"
      },
      "outputs": [],
      "source": [
        "data_augmentation = ImageDataGenerator(rotation_range=20,\n",
        "                                        width_shift_range=0.1,\n",
        "                                        height_shift_range=0.1,\n",
        "                                        zoom_range=0.1,\n",
        "                                        horizontal_flip=True,\n",
        "                                        vertical_flip=True,\n",
        "                                        preprocessing_function=preprocess_input_mobilenet,\n",
        "                                        validation_split=0.3,\n",
        "                                        )\n"
      ]
    },
    {
      "cell_type": "code",
      "execution_count": 6,
      "metadata": {
        "colab": {
          "base_uri": "https://localhost:8080/"
        },
        "id": "5HhaW6fTjpZ-",
        "outputId": "7f7341a6-56ac-484e-b0ea-445fe445b5df"
      },
      "outputs": [
        {
          "name": "stdout",
          "output_type": "stream",
          "text": [
            "Found 2545 validated image filenames.\n",
            "Found 1090 validated image filenames.\n",
            "Found 909 validated image filenames.\n"
          ]
        }
      ],
      "source": [
        "train_generator = data_augmentation.flow_from_dataframe(dataframe=df_train,\n",
        "                                                        directory=processed_images_path,\n",
        "                                                        target_size=(224, 224),\n",
        "                                                        class_mode='raw',\n",
        "                                                        shuffle=False,\n",
        "                                                        x_col='Id',\n",
        "                                                        y_col=list(df_images_data.columns[1:]),\n",
        "                                                        seed=42,\n",
        "                                                        subset='training'\n",
        "                                                        )\n",
        "\n",
        "validation_generator = data_augmentation.flow_from_dataframe(dataframe=df_train,\n",
        "                                                                directory=processed_images_path,\n",
        "                                                                target_size=(224, 224),\n",
        "                                                                class_mode='raw',\n",
        "                                                                shuffle=False,\n",
        "                                                                x_col='Id',\n",
        "                                                                y_col=list(df_images_data.columns[1:]),\n",
        "                                                                seed=42,\n",
        "                                                                subset='validation'\n",
        "                                                                )\n",
        "\n",
        "test_generator = data_augmentation.flow_from_dataframe(dataframe=df_test,\n",
        "                                                        directory=processed_images_path,\n",
        "                                                        target_size=(224, 224),\n",
        "                                                        class_mode='raw',\n",
        "                                                        shuffle=False,\n",
        "                                                        x_col='Id',\n",
        "                                                        y_col=list(df_images_data.columns[1:]),\n",
        "                                                        seed=42,\n",
        "                                                        )\n"
      ]
    },
    {
      "cell_type": "code",
      "execution_count": null,
      "metadata": {
        "id": "MtC1_NH8wMNe",
        "outputId": "4db24761-d99f-473b-f813-c284abe56a04"
      },
      "outputs": [
        {
          "data": {
            "image/png": "[encoded data removed]",
            "text/plain": [
              "<Figure size 640x480 with 9 Axes>"
            ]
          },
          "metadata": {},
          "output_type": "display_data"
        }
      ],
      "source": [
        "# Se visualizan algunas de las imágenes creadas\n",
        "augmented_images, _ = train_generator.next()\n",
        "augmented_images /= 255\n",
        "\n",
        "for i in range(9):\n",
        "    plt.subplot(3, 3, i+1)\n",
        "    plt.imshow(augmented_images[i])\n",
        "    plt.axis('off')\n",
        "plt.show()\n"
      ]
    },
    {
      "cell_type": "code",
      "execution_count": null,
      "metadata": {
        "colab": {
          "base_uri": "https://localhost:8080/"
        },
        "id": "Oytk27s0jpZ_",
        "outputId": "ed94fa2d-8d34-497c-c90d-e55524077eda"
      },
      "outputs": [
        {
          "name": "stdout",
          "output_type": "stream",
          "text": [
            "/device:GPU:0\n"
          ]
        }
      ],
      "source": [
        "# Se comprueba la GPU\n",
        "# print(tf.test.gpu_device_name())\n"
      ]
    },
    {
      "cell_type": "code",
      "execution_count": 10,
      "metadata": {
        "colab": {
          "base_uri": "https://localhost:8080/"
        },
        "id": "aYhI42VEjpZ_",
        "outputId": "24eab003-3cae-4093-b236-9700b7fe5629"
      },
      "outputs": [
        {
          "name": "stdout",
          "output_type": "stream",
          "text": [
            "Downloading data from https://storage.googleapis.com/tensorflow/keras-applications/mobilenet_v3/weights_mobilenet_v3_large_224_1.0_float_no_top_v2.h5\n",
            "12683000/12683000 [==============================] - 2s 0us/step\n",
            "Epoch 1/200\n",
            "80/80 [==============================] - 2626s 33s/step - loss: 1.9926 - val_loss: 1.8329 - lr: 0.0010\n",
            "Epoch 2/200\n",
            "80/80 [==============================] - 42s 530ms/step - loss: 0.9966 - val_loss: 1.6067 - lr: 0.0010\n",
            "Epoch 3/200\n",
            "80/80 [==============================] - 42s 529ms/step - loss: 0.8165 - val_loss: 1.5651 - lr: 0.0010\n",
            "Epoch 4/200\n",
            "80/80 [==============================] - 42s 532ms/step - loss: 0.7681 - val_loss: 1.5335 - lr: 0.0010\n",
            "Epoch 5/200\n",
            "80/80 [==============================] - 42s 532ms/step - loss: 0.6856 - val_loss: 1.5559 - lr: 0.0010\n",
            "Epoch 6/200\n",
            "80/80 [==============================] - 42s 529ms/step - loss: 0.6777 - val_loss: 1.5461 - lr: 0.0010\n",
            "Epoch 7/200\n",
            "80/80 [==============================] - 42s 532ms/step - loss: 0.6450 - val_loss: 1.5350 - lr: 0.0010\n",
            "Epoch 8/200\n",
            "80/80 [==============================] - 42s 529ms/step - loss: 0.6409 - val_loss: 1.4942 - lr: 1.0000e-04\n",
            "Epoch 9/200\n",
            "80/80 [==============================] - 42s 530ms/step - loss: 0.6213 - val_loss: 1.5415 - lr: 1.0000e-04\n",
            "Epoch 10/200\n",
            "80/80 [==============================] - 42s 532ms/step - loss: 0.6089 - val_loss: 1.4991 - lr: 1.0000e-04\n",
            "Epoch 11/200\n",
            "80/80 [==============================] - 43s 535ms/step - loss: 0.6214 - val_loss: 1.4384 - lr: 1.0000e-04\n",
            "Epoch 12/200\n",
            "80/80 [==============================] - 43s 533ms/step - loss: 0.6093 - val_loss: 1.5164 - lr: 1.0000e-04\n",
            "Epoch 13/200\n",
            "80/80 [==============================] - 42s 529ms/step - loss: 0.6307 - val_loss: 1.4751 - lr: 1.0000e-04\n",
            "Epoch 14/200\n",
            "80/80 [==============================] - 42s 530ms/step - loss: 0.5984 - val_loss: 1.4807 - lr: 1.0000e-04\n",
            "Epoch 15/200\n",
            "80/80 [==============================] - 42s 528ms/step - loss: 0.6191 - val_loss: 1.4621 - lr: 1.0000e-05\n",
            "Epoch 16/200\n",
            "80/80 [==============================] - 43s 533ms/step - loss: 0.5965 - val_loss: 1.4627 - lr: 1.0000e-05\n"
          ]
        }
      ],
      "source": [
        "tf.random.set_seed(42)\n",
        "\n",
        "base_model = MobileNetV3Large(weights='imagenet', include_top=False, input_shape=(224, 224, 3))\n",
        "\n",
        "for layer in base_model.layers:\n",
        "    layer.trainable = False\n",
        "\n",
        "top_model = base_model.output\n",
        "top_model = Conv2D(32, kernel_size=(3, 3), activation='relu', padding='same')(top_model)\n",
        "top_model = BatchNormalization()(top_model)\n",
        "top_model = MaxPooling2D(pool_size=(2, 2))(top_model)\n",
        "top_model = Flatten()(top_model)\n",
        "top_model = Dense(16, activation='relu')(top_model)\n",
        "top_model = BatchNormalization()(top_model)\n",
        "top_model = Dropout(0.5)(top_model)\n",
        "top_model = Dense(4, activation='relu')(top_model)\n",
        "output_layer = Dense(1, activation='linear', kernel_regularizer=l2(0.0001))(top_model)\n",
        "\n",
        "model = Model(inputs=base_model.input, outputs=output_layer)\n",
        "model.compile(optimizer=Adam(learning_rate=0.001, decay=0.001/50), loss='mse')\n",
        "\n",
        "early_stop = EarlyStopping(monitor='val_loss', patience=5, restore_best_weights=True)\n",
        "reduce_lr = ReduceLROnPlateau(monitor='val_loss', factor=0.1, patience=3, min_lr=0.00001)\n",
        "\n",
        "# el \"with\" es solo para Collab, donde se usa la GPU para almacenar las imágenes\n",
        "with tf.device('/device:GPU:0'):\n",
        "    history = model.fit(train_generator,\n",
        "                        epochs=200,\n",
        "                        batch_size=128,\n",
        "                        validation_data=validation_generator,\n",
        "                        callbacks=[early_stop, reduce_lr]\n",
        "                        )\n"
      ]
    },
    {
      "cell_type": "code",
      "execution_count": 14,
      "metadata": {
        "colab": {
          "base_uri": "https://localhost:8080/"
        },
        "id": "xJ26MJwrxXj4",
        "outputId": "7d51e183-aa76-4966-c326-a00d4d0280a7"
      },
      "outputs": [
        {
          "name": "stdout",
          "output_type": "stream",
          "text": [
            "29/29 [==============================] - 635s 23s/step\n"
          ]
        },
        {
          "data": {
            "text/plain": [
              "{'price': {'mse': 15684913.124972064,\n",
              "  'rmse': 3960.4183017671335,\n",
              "  'mae': 1106.3769556805535,\n",
              "  'r2': 0.07481449487248704,\n",
              "  'mape': 0.3946862133988051}}"
            ]
          },
          "execution_count": 14,
          "metadata": {},
          "output_type": "execute_result"
        }
      ],
      "source": [
        "y_pred = model.predict(test_generator)\n",
        "y_pred = scaler.inverse_transform(y_pred)\n",
        "\n",
        "metrics_dict = dict()\n",
        "for index, col in enumerate(df_images_data.columns[1:]):\n",
        "    rmse = mean_squared_error([row[index] for row in scaler.inverse_transform(test_generator.labels)], [row[index] for row in y_pred], squared=False)\n",
        "    mse = mean_squared_error([row[index] for row in scaler.inverse_transform(test_generator.labels)], [row[index] for row in y_pred])\n",
        "    mae = mean_absolute_error([row[index] for row in scaler.inverse_transform(test_generator.labels)], [row[index] for row in y_pred])\n",
        "    r2 = r2_score([row[index] for row in scaler.inverse_transform(test_generator.labels)], [row[index] for row in y_pred])\n",
        "    mape = mean_absolute_percentage_error([row[index] for row in scaler.inverse_transform(test_generator.labels)], [row[index] for row in y_pred])\n",
        "    metrics_dict[col] = {'mse': mse,\n",
        "                            'rmse': rmse,\n",
        "                            'mae': mae,\n",
        "                            'r2': r2,\n",
        "                            'mape': mape\n",
        "                         }\n",
        "\n",
        "metrics_dict\n"
      ]
    },
    {
      "cell_type": "code",
      "execution_count": 15,
      "metadata": {
        "colab": {
          "base_uri": "https://localhost:8080/",
          "height": 424
        },
        "id": "9eYpKgGnxy9i",
        "outputId": "85abbb9b-f7b2-4c4e-b215-022c4a66f967"
      },
      "outputs": [
        {
          "data": {
            "text/html": [
              "\n",
              "  <div id=\"df-19d67e87-ff11-45ed-a94e-2b65a2a33994\">\n",
              "    <div class=\"colab-df-container\">\n",
              "      <div>\n",
              "<style scoped>\n",
              "    .dataframe tbody tr th:only-of-type {\n",
              "        vertical-align: middle;\n",
              "    }\n",
              "\n",
              "    .dataframe tbody tr th {\n",
              "        vertical-align: top;\n",
              "    }\n",
              "\n",
              "    .dataframe thead th {\n",
              "        text-align: right;\n",
              "    }\n",
              "</style>\n",
              "<table border=\"1\" class=\"dataframe\">\n",
              "  <thead>\n",
              "    <tr style=\"text-align: right;\">\n",
              "      <th></th>\n",
              "      <th>Original</th>\n",
              "      <th>Prediction</th>\n",
              "    </tr>\n",
              "  </thead>\n",
              "  <tbody>\n",
              "    <tr>\n",
              "      <th>0</th>\n",
              "      <td>1041.16</td>\n",
              "      <td>1536.036133</td>\n",
              "    </tr>\n",
              "    <tr>\n",
              "      <th>1</th>\n",
              "      <td>2568.78</td>\n",
              "      <td>1812.694092</td>\n",
              "    </tr>\n",
              "    <tr>\n",
              "      <th>2</th>\n",
              "      <td>1758.85</td>\n",
              "      <td>1339.755737</td>\n",
              "    </tr>\n",
              "    <tr>\n",
              "      <th>3</th>\n",
              "      <td>2021.84</td>\n",
              "      <td>2749.885498</td>\n",
              "    </tr>\n",
              "    <tr>\n",
              "      <th>4</th>\n",
              "      <td>3539.54</td>\n",
              "      <td>1999.509277</td>\n",
              "    </tr>\n",
              "    <tr>\n",
              "      <th>...</th>\n",
              "      <td>...</td>\n",
              "      <td>...</td>\n",
              "    </tr>\n",
              "    <tr>\n",
              "      <th>904</th>\n",
              "      <td>2354.31</td>\n",
              "      <td>1742.341675</td>\n",
              "    </tr>\n",
              "    <tr>\n",
              "      <th>905</th>\n",
              "      <td>896.75</td>\n",
              "      <td>1777.376465</td>\n",
              "    </tr>\n",
              "    <tr>\n",
              "      <th>906</th>\n",
              "      <td>2087.23</td>\n",
              "      <td>1807.968018</td>\n",
              "    </tr>\n",
              "    <tr>\n",
              "      <th>907</th>\n",
              "      <td>15861.09</td>\n",
              "      <td>3534.126221</td>\n",
              "    </tr>\n",
              "    <tr>\n",
              "      <th>908</th>\n",
              "      <td>1039.70</td>\n",
              "      <td>1757.475220</td>\n",
              "    </tr>\n",
              "  </tbody>\n",
              "</table>\n",
              "<p>909 rows × 2 columns</p>\n",
              "</div>\n",
              "      <button class=\"colab-df-convert\" onclick=\"convertToInteractive('df-19d67e87-ff11-45ed-a94e-2b65a2a33994')\"\n",
              "              title=\"Convert this dataframe to an interactive table.\"\n",
              "              style=\"display:none;\">\n",
              "        \n",
              "  <svg xmlns=\"http://www.w3.org/2000/svg\" height=\"24px\"viewBox=\"0 0 24 24\"\n",
              "       width=\"24px\">\n",
              "    <path d=\"M0 0h24v24H0V0z\" fill=\"none\"/>\n",
              "    <path d=\"M18.56 5.44l.94 2.06.94-2.06 2.06-.94-2.06-.94-.94-2.06-.94 2.06-2.06.94zm-11 1L8.5 8.5l.94-2.06 2.06-.94-2.06-.94L8.5 2.5l-.94 2.06-2.06.94zm10 10l.94 2.06.94-2.06 2.06-.94-2.06-.94-.94-2.06-.94 2.06-2.06.94z\"/><path d=\"M17.41 7.96l-1.37-1.37c-.4-.4-.92-.59-1.43-.59-.52 0-1.04.2-1.43.59L10.3 9.45l-7.72 7.72c-.78.78-.78 2.05 0 2.83L4 21.41c.39.39.9.59 1.41.59.51 0 1.02-.2 1.41-.59l7.78-7.78 2.81-2.81c.8-.78.8-2.07 0-2.86zM5.41 20L4 18.59l7.72-7.72 1.47 1.35L5.41 20z\"/>\n",
              "  </svg>\n",
              "      </button>\n",
              "      \n",
              "  <style>\n",
              "    .colab-df-container {\n",
              "      display:flex;\n",
              "      flex-wrap:wrap;\n",
              "      gap: 12px;\n",
              "    }\n",
              "\n",
              "    .colab-df-convert {\n",
              "      background-color: #E8F0FE;\n",
              "      border: none;\n",
              "      border-radius: 50%;\n",
              "      cursor: pointer;\n",
              "      display: none;\n",
              "      fill: #1967D2;\n",
              "      height: 32px;\n",
              "      padding: 0 0 0 0;\n",
              "      width: 32px;\n",
              "    }\n",
              "\n",
              "    .colab-df-convert:hover {\n",
              "      background-color: #E2EBFA;\n",
              "      box-shadow: 0px 1px 2px rgba(60, 64, 67, 0.3), 0px 1px 3px 1px rgba(60, 64, 67, 0.15);\n",
              "      fill: #174EA6;\n",
              "    }\n",
              "\n",
              "    [theme=dark] .colab-df-convert {\n",
              "      background-color: #3B4455;\n",
              "      fill: #D2E3FC;\n",
              "    }\n",
              "\n",
              "    [theme=dark] .colab-df-convert:hover {\n",
              "      background-color: #434B5C;\n",
              "      box-shadow: 0px 1px 3px 1px rgba(0, 0, 0, 0.15);\n",
              "      filter: drop-shadow(0px 1px 2px rgba(0, 0, 0, 0.3));\n",
              "      fill: #FFFFFF;\n",
              "    }\n",
              "  </style>\n",
              "\n",
              "      <script>\n",
              "        const buttonEl =\n",
              "          document.querySelector('#df-19d67e87-ff11-45ed-a94e-2b65a2a33994 button.colab-df-convert');\n",
              "        buttonEl.style.display =\n",
              "          google.colab.kernel.accessAllowed ? 'block' : 'none';\n",
              "\n",
              "        async function convertToInteractive(key) {\n",
              "          const element = document.querySelector('#df-19d67e87-ff11-45ed-a94e-2b65a2a33994');\n",
              "          const dataTable =\n",
              "            await google.colab.kernel.invokeFunction('convertToInteractive',\n",
              "                                                     [key], {});\n",
              "          if (!dataTable) return;\n",
              "\n",
              "          const docLinkHtml = 'Like what you see? Visit the ' +\n",
              "            '<a target=\"_blank\" href=https://colab.research.google.com/notebooks/data_table.ipynb>data table notebook</a>'\n",
              "            + ' to learn more about interactive tables.';\n",
              "          element.innerHTML = '';\n",
              "          dataTable['output_type'] = 'display_data';\n",
              "          await google.colab.output.renderOutput(dataTable, element);\n",
              "          const docLink = document.createElement('div');\n",
              "          docLink.innerHTML = docLinkHtml;\n",
              "          element.appendChild(docLink);\n",
              "        }\n",
              "      </script>\n",
              "    </div>\n",
              "  </div>\n",
              "  "
            ],
            "text/plain": [
              "     Original   Prediction\n",
              "0     1041.16  1536.036133\n",
              "1     2568.78  1812.694092\n",
              "2     1758.85  1339.755737\n",
              "3     2021.84  2749.885498\n",
              "4     3539.54  1999.509277\n",
              "..        ...          ...\n",
              "904   2354.31  1742.341675\n",
              "905    896.75  1777.376465\n",
              "906   2087.23  1807.968018\n",
              "907  15861.09  3534.126221\n",
              "908   1039.70  1757.475220\n",
              "\n",
              "[909 rows x 2 columns]"
            ]
          },
          "execution_count": 15,
          "metadata": {},
          "output_type": "execute_result"
        }
      ],
      "source": [
        "df_price = pd.DataFrame(data={'Original': [row[0] for row in scaler.inverse_transform(test_generator.labels)], 'Prediction': [row[0] for row in y_pred]})\n",
        "\n",
        "df_price\n"
      ]
    },
    {
      "cell_type": "code",
      "execution_count": 17,
      "metadata": {
        "id": "5b3OO1NExium"
      },
      "outputs": [],
      "source": [
        "# save_model(model, '/content/gdrive/My Drive/price_prediction_images.h5')\n"
      ]
    },
    {
      "attachments": {},
      "cell_type": "markdown",
      "metadata": {
        "id": "KZs0J0C5wMNh"
      },
      "source": [
        "# Prueba 3 (éxito parcial, combinado con la Prueba 2)\n",
        "\n",
        "- Se decide crear un modelo no de \"transfer learning\" que simplemente trate de predecir el precio de los diamantes a partir del peso y de la predicción provisional hecha en la Prueba 2\n",
        "\n",
        "- Se hace un \"baseline\" de modelos supervisados, se encuentra que k vecinos es el más adecuado, y se optimiza"
      ]
    },
    {
      "cell_type": "markdown",
      "metadata": {
        "id": "OuRJhAfxwMNh"
      },
      "source": [
        "## Carga del modelo de la Prueba 2"
      ]
    },
    {
      "cell_type": "code",
      "execution_count": 7,
      "metadata": {
        "id": "ITcRMiMSwMNh",
        "outputId": "72494bfa-77f1-4306-bdce-2105ae786863"
      },
      "outputs": [
        {
          "data": {
            "text/plain": [
              "<keras.engine.functional.Functional at 0x2945d2ec3a0>"
            ]
          },
          "execution_count": 7,
          "metadata": {},
          "output_type": "execute_result"
        }
      ],
      "source": [
        "model_cnn = load_model('models/predict_from_images/price_prediction_images.h5')\n",
        "\n",
        "model_cnn \n"
      ]
    },
    {
      "cell_type": "markdown",
      "metadata": {
        "id": "Bq1RVoPZwMNi"
      },
      "source": [
        "## Preparación de los datos\n",
        "\n",
        "- Se intenta mejorar los precios a partir de las predicciones del modelo de la Prueba 2. Por tanto, hay que trabajar con el que es el \"test\" en ese modelo"
      ]
    },
    {
      "cell_type": "code",
      "execution_count": 8,
      "metadata": {
        "id": "cwdkzBhJwMNi",
        "outputId": "75ce3f2b-e79d-4bcf-e8aa-4c2a4954c7ab"
      },
      "outputs": [
        {
          "data": {
            "text/html": [
              "<div>\n",
              "<style scoped>\n",
              "    .dataframe tbody tr th:only-of-type {\n",
              "        vertical-align: middle;\n",
              "    }\n",
              "\n",
              "    .dataframe tbody tr th {\n",
              "        vertical-align: top;\n",
              "    }\n",
              "\n",
              "    .dataframe thead th {\n",
              "        text-align: right;\n",
              "    }\n",
              "</style>\n",
              "<table border=\"1\" class=\"dataframe\">\n",
              "  <thead>\n",
              "    <tr style=\"text-align: right;\">\n",
              "      <th></th>\n",
              "      <th>Id</th>\n",
              "      <th>weight (carat)</th>\n",
              "      <th>price</th>\n",
              "    </tr>\n",
              "  </thead>\n",
              "  <tbody>\n",
              "    <tr>\n",
              "      <th>0</th>\n",
              "      <td>1638147.jpg</td>\n",
              "      <td>0.55</td>\n",
              "      <td>1378.65</td>\n",
              "    </tr>\n",
              "    <tr>\n",
              "      <th>1</th>\n",
              "      <td>1612606.jpg</td>\n",
              "      <td>0.51</td>\n",
              "      <td>1380.19</td>\n",
              "    </tr>\n",
              "    <tr>\n",
              "      <th>2</th>\n",
              "      <td>1638140.jpg</td>\n",
              "      <td>0.50</td>\n",
              "      <td>1380.61</td>\n",
              "    </tr>\n",
              "    <tr>\n",
              "      <th>3</th>\n",
              "      <td>1536093.jpg</td>\n",
              "      <td>0.53</td>\n",
              "      <td>1383.13</td>\n",
              "    </tr>\n",
              "    <tr>\n",
              "      <th>4</th>\n",
              "      <td>1643527.jpg</td>\n",
              "      <td>0.52</td>\n",
              "      <td>1384.24</td>\n",
              "    </tr>\n",
              "  </tbody>\n",
              "</table>\n",
              "</div>"
            ],
            "text/plain": [
              "            Id  weight (carat)    price\n",
              "0  1638147.jpg            0.55  1378.65\n",
              "1  1612606.jpg            0.51  1380.19\n",
              "2  1638140.jpg            0.50  1380.61\n",
              "3  1536093.jpg            0.53  1383.13\n",
              "4  1643527.jpg            0.52  1384.24"
            ]
          },
          "execution_count": 8,
          "metadata": {},
          "output_type": "execute_result"
        }
      ],
      "source": [
        "df_images_data = df_images_data_original.copy()\n",
        "\n",
        "df_images_data = df_images_data[['Id', 'weight (carat)', 'price']]\n",
        "\n",
        "df_images_data['Id'] = df_images_data['Id'].apply(lambda x: x + '.jpg')\n",
        "\n",
        "df_images_data.head()\n"
      ]
    },
    {
      "cell_type": "code",
      "execution_count": 19,
      "metadata": {
        "id": "UcTFMBG2wMNi",
        "outputId": "45ef8ca8-7591-480a-ec32-2df06187d88b"
      },
      "outputs": [
        {
          "name": "stdout",
          "output_type": "stream",
          "text": [
            "29/29 [==============================] - 62s 2s/step\n"
          ]
        },
        {
          "data": {
            "text/html": [
              "<div>\n",
              "<style scoped>\n",
              "    .dataframe tbody tr th:only-of-type {\n",
              "        vertical-align: middle;\n",
              "    }\n",
              "\n",
              "    .dataframe tbody tr th {\n",
              "        vertical-align: top;\n",
              "    }\n",
              "\n",
              "    .dataframe thead th {\n",
              "        text-align: right;\n",
              "    }\n",
              "</style>\n",
              "<table border=\"1\" class=\"dataframe\">\n",
              "  <thead>\n",
              "    <tr style=\"text-align: right;\">\n",
              "      <th></th>\n",
              "      <th>Id</th>\n",
              "      <th>predicted_price</th>\n",
              "      <th>original_price</th>\n",
              "    </tr>\n",
              "  </thead>\n",
              "  <tbody>\n",
              "    <tr>\n",
              "      <th>0</th>\n",
              "      <td>1799878.jpg</td>\n",
              "      <td>-0.208654</td>\n",
              "      <td>-0.343747</td>\n",
              "    </tr>\n",
              "    <tr>\n",
              "      <th>1</th>\n",
              "      <td>1655664.jpg</td>\n",
              "      <td>-0.153543</td>\n",
              "      <td>0.061035</td>\n",
              "    </tr>\n",
              "    <tr>\n",
              "      <th>2</th>\n",
              "      <td>1781492.jpg</td>\n",
              "      <td>-0.168187</td>\n",
              "      <td>-0.153577</td>\n",
              "    </tr>\n",
              "    <tr>\n",
              "      <th>3</th>\n",
              "      <td>1668301.jpg</td>\n",
              "      <td>0.023471</td>\n",
              "      <td>-0.083891</td>\n",
              "    </tr>\n",
              "    <tr>\n",
              "      <th>4</th>\n",
              "      <td>203227-227.jpg</td>\n",
              "      <td>-0.103216</td>\n",
              "      <td>0.318263</td>\n",
              "    </tr>\n",
              "    <tr>\n",
              "      <th>...</th>\n",
              "      <td>...</td>\n",
              "      <td>...</td>\n",
              "      <td>...</td>\n",
              "    </tr>\n",
              "    <tr>\n",
              "      <th>904</th>\n",
              "      <td>1659693.jpg</td>\n",
              "      <td>-0.145077</td>\n",
              "      <td>0.004206</td>\n",
              "    </tr>\n",
              "    <tr>\n",
              "      <th>905</th>\n",
              "      <td>1783565.jpg</td>\n",
              "      <td>-0.162381</td>\n",
              "      <td>-0.382012</td>\n",
              "    </tr>\n",
              "    <tr>\n",
              "      <th>906</th>\n",
              "      <td>1756946.jpg</td>\n",
              "      <td>-0.154829</td>\n",
              "      <td>-0.066564</td>\n",
              "    </tr>\n",
              "    <tr>\n",
              "      <th>907</th>\n",
              "      <td>210587-62.jpg</td>\n",
              "      <td>0.823280</td>\n",
              "      <td>3.583171</td>\n",
              "    </tr>\n",
              "    <tr>\n",
              "      <th>908</th>\n",
              "      <td>1769657.jpg</td>\n",
              "      <td>-0.137473</td>\n",
              "      <td>-0.344134</td>\n",
              "    </tr>\n",
              "  </tbody>\n",
              "</table>\n",
              "<p>909 rows × 3 columns</p>\n",
              "</div>"
            ],
            "text/plain": [
              "                 Id  predicted_price  original_price\n",
              "0       1799878.jpg        -0.208654       -0.343747\n",
              "1       1655664.jpg        -0.153543        0.061035\n",
              "2       1781492.jpg        -0.168187       -0.153577\n",
              "3       1668301.jpg         0.023471       -0.083891\n",
              "4    203227-227.jpg        -0.103216        0.318263\n",
              "..              ...              ...             ...\n",
              "904     1659693.jpg        -0.145077        0.004206\n",
              "905     1783565.jpg        -0.162381       -0.382012\n",
              "906     1756946.jpg        -0.154829       -0.066564\n",
              "907   210587-62.jpg         0.823280        3.583171\n",
              "908     1769657.jpg        -0.137473       -0.344134\n",
              "\n",
              "[909 rows x 3 columns]"
            ]
          },
          "execution_count": 19,
          "metadata": {},
          "output_type": "execute_result"
        }
      ],
      "source": [
        "previously_predicted_price = model_cnn.predict(test_generator)\n",
        "\n",
        "df_images_weight = pd.DataFrame(data={'Id': test_generator.filenames, \n",
        "                                          'predicted_price': previously_predicted_price[:, 0].tolist(),\n",
        "                                          'original_price': test_generator.labels[:, 0].tolist()\n",
        "                                          }\n",
        "                                   )\n",
        "\n",
        "df_images_weight\n"
      ]
    },
    {
      "cell_type": "code",
      "execution_count": 20,
      "metadata": {
        "id": "kH5_9t5KwMNj",
        "outputId": "17a79471-99d8-4962-aa0a-b4ca5aea16f2"
      },
      "outputs": [
        {
          "data": {
            "text/html": [
              "<div>\n",
              "<style scoped>\n",
              "    .dataframe tbody tr th:only-of-type {\n",
              "        vertical-align: middle;\n",
              "    }\n",
              "\n",
              "    .dataframe tbody tr th {\n",
              "        vertical-align: top;\n",
              "    }\n",
              "\n",
              "    .dataframe thead th {\n",
              "        text-align: right;\n",
              "    }\n",
              "</style>\n",
              "<table border=\"1\" class=\"dataframe\">\n",
              "  <thead>\n",
              "    <tr style=\"text-align: right;\">\n",
              "      <th></th>\n",
              "      <th>Id</th>\n",
              "      <th>predicted_price</th>\n",
              "      <th>original_price</th>\n",
              "      <th>weight (carat)</th>\n",
              "      <th>price</th>\n",
              "    </tr>\n",
              "  </thead>\n",
              "  <tbody>\n",
              "    <tr>\n",
              "      <th>0</th>\n",
              "      <td>1799878.jpg</td>\n",
              "      <td>-0.208654</td>\n",
              "      <td>-0.343747</td>\n",
              "      <td>0.31</td>\n",
              "      <td>1041.16</td>\n",
              "    </tr>\n",
              "    <tr>\n",
              "      <th>1</th>\n",
              "      <td>1655664.jpg</td>\n",
              "      <td>-0.153543</td>\n",
              "      <td>0.061035</td>\n",
              "      <td>0.50</td>\n",
              "      <td>2568.78</td>\n",
              "    </tr>\n",
              "    <tr>\n",
              "      <th>2</th>\n",
              "      <td>1781492.jpg</td>\n",
              "      <td>-0.168187</td>\n",
              "      <td>-0.153577</td>\n",
              "      <td>0.70</td>\n",
              "      <td>1758.85</td>\n",
              "    </tr>\n",
              "    <tr>\n",
              "      <th>3</th>\n",
              "      <td>1668301.jpg</td>\n",
              "      <td>0.023471</td>\n",
              "      <td>-0.083891</td>\n",
              "      <td>0.59</td>\n",
              "      <td>2021.84</td>\n",
              "    </tr>\n",
              "    <tr>\n",
              "      <th>4</th>\n",
              "      <td>203227-227.jpg</td>\n",
              "      <td>-0.103216</td>\n",
              "      <td>0.318263</td>\n",
              "      <td>0.96</td>\n",
              "      <td>3539.54</td>\n",
              "    </tr>\n",
              "  </tbody>\n",
              "</table>\n",
              "</div>"
            ],
            "text/plain": [
              "               Id  predicted_price  original_price  weight (carat)    price\n",
              "0     1799878.jpg        -0.208654       -0.343747            0.31  1041.16\n",
              "1     1655664.jpg        -0.153543        0.061035            0.50  2568.78\n",
              "2     1781492.jpg        -0.168187       -0.153577            0.70  1758.85\n",
              "3     1668301.jpg         0.023471       -0.083891            0.59  2021.84\n",
              "4  203227-227.jpg        -0.103216        0.318263            0.96  3539.54"
            ]
          },
          "execution_count": 20,
          "metadata": {},
          "output_type": "execute_result"
        }
      ],
      "source": [
        "df_images_weight = pd.merge(df_images_weight, df_images_data, on=['Id'], how='left')\n",
        "\n",
        "df_images_weight.head()\n"
      ]
    },
    {
      "cell_type": "code",
      "execution_count": 21,
      "metadata": {
        "id": "ukFbkOvpwMNj",
        "outputId": "15b8f7bd-81d5-4ed8-ec69-944d992e3136"
      },
      "outputs": [
        {
          "data": {
            "text/html": [
              "<div>\n",
              "<style scoped>\n",
              "    .dataframe tbody tr th:only-of-type {\n",
              "        vertical-align: middle;\n",
              "    }\n",
              "\n",
              "    .dataframe tbody tr th {\n",
              "        vertical-align: top;\n",
              "    }\n",
              "\n",
              "    .dataframe thead th {\n",
              "        text-align: right;\n",
              "    }\n",
              "</style>\n",
              "<table border=\"1\" class=\"dataframe\">\n",
              "  <thead>\n",
              "    <tr style=\"text-align: right;\">\n",
              "      <th></th>\n",
              "      <th>predicted_price</th>\n",
              "      <th>weight (carat)</th>\n",
              "      <th>original_price</th>\n",
              "    </tr>\n",
              "  </thead>\n",
              "  <tbody>\n",
              "    <tr>\n",
              "      <th>0</th>\n",
              "      <td>-0.208654</td>\n",
              "      <td>0.31</td>\n",
              "      <td>-0.343747</td>\n",
              "    </tr>\n",
              "    <tr>\n",
              "      <th>1</th>\n",
              "      <td>-0.153543</td>\n",
              "      <td>0.50</td>\n",
              "      <td>0.061035</td>\n",
              "    </tr>\n",
              "    <tr>\n",
              "      <th>2</th>\n",
              "      <td>-0.168187</td>\n",
              "      <td>0.70</td>\n",
              "      <td>-0.153577</td>\n",
              "    </tr>\n",
              "    <tr>\n",
              "      <th>3</th>\n",
              "      <td>0.023471</td>\n",
              "      <td>0.59</td>\n",
              "      <td>-0.083891</td>\n",
              "    </tr>\n",
              "    <tr>\n",
              "      <th>4</th>\n",
              "      <td>-0.103216</td>\n",
              "      <td>0.96</td>\n",
              "      <td>0.318263</td>\n",
              "    </tr>\n",
              "  </tbody>\n",
              "</table>\n",
              "</div>"
            ],
            "text/plain": [
              "   predicted_price  weight (carat)  original_price\n",
              "0        -0.208654            0.31       -0.343747\n",
              "1        -0.153543            0.50        0.061035\n",
              "2        -0.168187            0.70       -0.153577\n",
              "3         0.023471            0.59       -0.083891\n",
              "4        -0.103216            0.96        0.318263"
            ]
          },
          "execution_count": 21,
          "metadata": {},
          "output_type": "execute_result"
        }
      ],
      "source": [
        "df_images_weight = df_images_weight[['predicted_price', 'weight (carat)', 'original_price']]\n",
        "\n",
        "df_images_weight.head()\n"
      ]
    },
    {
      "cell_type": "markdown",
      "metadata": {
        "id": "kSbOpglVwMNj"
      },
      "source": [
        "## Baseline de \"machine learning\"\n",
        "\n",
        "- El mejor modelo para predecir el precio a partir de la estimación hecha por el modelo de \"transfer learning\" y el peso sería un k vecinos. No solo obtiene el mejor \"r2\", sino también la menor varianza entre los \"folds\" para cada métrica\n"
      ]
    },
    {
      "cell_type": "code",
      "execution_count": 22,
      "metadata": {
        "id": "-ZZs2ZUlwMNj",
        "outputId": "af922c74-f62c-49e7-b3c8-abc263999b85"
      },
      "outputs": [
        {
          "data": {
            "text/plain": [
              "{'LinearRegression': '',\n",
              " 'Ridge': '',\n",
              " 'DecisionTreeRegressor': '',\n",
              " 'KNeighborsRegressor': '',\n",
              " 'RandomForestRegressor': '',\n",
              " 'SVR': '',\n",
              " 'XGBRegressor': ''}"
            ]
          },
          "execution_count": 22,
          "metadata": {},
          "output_type": "execute_result"
        }
      ],
      "source": [
        "Regression.add_models('LinearRegression',\n",
        "                        'Ridge',\n",
        "                        'DecisionTreeRegressor',\n",
        "                        'KNeighborsRegressor',\n",
        "                        'RandomForestRegressor',\n",
        "                        'SVR',\n",
        "                        'XGBRegressor'\n",
        "                        )\n",
        "\n",
        "Regression.chosen_models\n"
      ]
    },
    {
      "cell_type": "code",
      "execution_count": 23,
      "metadata": {
        "id": "I_4V4VPlwMNk",
        "outputId": "8c79132c-8a97-4fa7-bcc9-e0bb8e90c4e6"
      },
      "outputs": [
        {
          "name": "stdout",
          "output_type": "stream",
          "text": [
            "-- Regression: using mean of 5 folds --\n",
            "Starting LinearRegression:\n",
            "- LinearRegression done in 0.12 sec(s). Total time: 0.12\n",
            "Starting Ridge:\n",
            "- Ridge done in 0.09 sec(s). Total time: 0.21\n",
            "Starting KNeighborsRegressor:\n",
            "- KNeighborsRegressor done in 0.11 sec(s). Total time: 0.32\n",
            "Starting SVR:\n",
            "- SVR done in 0.3 sec(s). Total time: 0.62\n",
            "Starting DecisionTreeRegressor: random_state=43:\n",
            "- DecisionTreeRegressor: random_state=43 done in 0.08 sec(s). Total time: 0.69\n",
            "Starting RandomForestRegressor: random_state=43:\n",
            "- RandomForestRegressor: random_state=43 done in 4.62 sec(s). Total time: 5.31\n",
            "Starting XGBRegressor: random_state=43:\n",
            "- XGBRegressor: random_state=43 done in 1.11 sec(s). Total time: 6.42\n"
          ]
        },
        {
          "data": {
            "text/html": [
              "<div>\n",
              "<style scoped>\n",
              "    .dataframe tbody tr th:only-of-type {\n",
              "        vertical-align: middle;\n",
              "    }\n",
              "\n",
              "    .dataframe tbody tr th {\n",
              "        vertical-align: top;\n",
              "    }\n",
              "\n",
              "    .dataframe thead th {\n",
              "        text-align: right;\n",
              "    }\n",
              "</style>\n",
              "<table border=\"1\" class=\"dataframe\">\n",
              "  <thead>\n",
              "    <tr style=\"text-align: right;\">\n",
              "      <th></th>\n",
              "      <th>LinearRegression</th>\n",
              "      <th>Ridge</th>\n",
              "      <th>KNeighborsRegressor</th>\n",
              "      <th>SVR</th>\n",
              "      <th>DecisionTreeRegressor: random_state=43</th>\n",
              "      <th>RandomForestRegressor: random_state=43</th>\n",
              "      <th>XGBRegressor: random_state=43</th>\n",
              "      <th>BEST</th>\n",
              "      <th>WORST</th>\n",
              "    </tr>\n",
              "  </thead>\n",
              "  <tbody>\n",
              "    <tr>\n",
              "      <th>rmse</th>\n",
              "      <td>0.690666</td>\n",
              "      <td>0.689189</td>\n",
              "      <td>0.410431</td>\n",
              "      <td>0.699293</td>\n",
              "      <td>0.482975</td>\n",
              "      <td>0.385933</td>\n",
              "      <td>0.531976</td>\n",
              "      <td>RandomForestRegressor: random_state=43</td>\n",
              "      <td>SVR</td>\n",
              "    </tr>\n",
              "    <tr>\n",
              "      <th>mse</th>\n",
              "      <td>0.500776</td>\n",
              "      <td>0.501296</td>\n",
              "      <td>0.210145</td>\n",
              "      <td>0.673977</td>\n",
              "      <td>0.294876</td>\n",
              "      <td>0.201451</td>\n",
              "      <td>0.485748</td>\n",
              "      <td>RandomForestRegressor: random_state=43</td>\n",
              "      <td>SVR</td>\n",
              "    </tr>\n",
              "    <tr>\n",
              "      <th>mae</th>\n",
              "      <td>0.375572</td>\n",
              "      <td>0.368842</td>\n",
              "      <td>0.142676</td>\n",
              "      <td>0.186413</td>\n",
              "      <td>0.175377</td>\n",
              "      <td>0.138162</td>\n",
              "      <td>0.172190</td>\n",
              "      <td>RandomForestRegressor: random_state=43</td>\n",
              "      <td>LinearRegression</td>\n",
              "    </tr>\n",
              "    <tr>\n",
              "      <th>r2_score</th>\n",
              "      <td>0.340826</td>\n",
              "      <td>0.358381</td>\n",
              "      <td>0.838788</td>\n",
              "      <td>0.603281</td>\n",
              "      <td>0.661175</td>\n",
              "      <td>0.810643</td>\n",
              "      <td>0.673833</td>\n",
              "      <td>KNeighborsRegressor</td>\n",
              "      <td>XGBRegressor: random_state=43</td>\n",
              "    </tr>\n",
              "    <tr>\n",
              "      <th>mape</th>\n",
              "      <td>10.406234</td>\n",
              "      <td>10.179979</td>\n",
              "      <td>1.962636</td>\n",
              "      <td>2.523721</td>\n",
              "      <td>3.215679</td>\n",
              "      <td>2.450939</td>\n",
              "      <td>2.026414</td>\n",
              "      <td>KNeighborsRegressor</td>\n",
              "      <td>LinearRegression</td>\n",
              "    </tr>\n",
              "  </tbody>\n",
              "</table>\n",
              "</div>"
            ],
            "text/plain": [
              "          LinearRegression      Ridge  KNeighborsRegressor       SVR  \\\n",
              "rmse              0.690666   0.689189             0.410431  0.699293   \n",
              "mse               0.500776   0.501296             0.210145  0.673977   \n",
              "mae               0.375572   0.368842             0.142676  0.186413   \n",
              "r2_score          0.340826   0.358381             0.838788  0.603281   \n",
              "mape             10.406234  10.179979             1.962636  2.523721   \n",
              "\n",
              "          DecisionTreeRegressor: random_state=43  \\\n",
              "rmse                                    0.482975   \n",
              "mse                                     0.294876   \n",
              "mae                                     0.175377   \n",
              "r2_score                                0.661175   \n",
              "mape                                    3.215679   \n",
              "\n",
              "          RandomForestRegressor: random_state=43  \\\n",
              "rmse                                    0.385933   \n",
              "mse                                     0.201451   \n",
              "mae                                     0.138162   \n",
              "r2_score                                0.810643   \n",
              "mape                                    2.450939   \n",
              "\n",
              "          XGBRegressor: random_state=43  \\\n",
              "rmse                           0.531976   \n",
              "mse                            0.485748   \n",
              "mae                            0.172190   \n",
              "r2_score                       0.673833   \n",
              "mape                           2.026414   \n",
              "\n",
              "                                            BEST  \\\n",
              "rmse      RandomForestRegressor: random_state=43   \n",
              "mse       RandomForestRegressor: random_state=43   \n",
              "mae       RandomForestRegressor: random_state=43   \n",
              "r2_score                     KNeighborsRegressor   \n",
              "mape                         KNeighborsRegressor   \n",
              "\n",
              "                                  WORST  \n",
              "rmse                                SVR  \n",
              "mse                                 SVR  \n",
              "mae                    LinearRegression  \n",
              "r2_score  XGBRegressor: random_state=43  \n",
              "mape                   LinearRegression  "
            ]
          },
          "execution_count": 23,
          "metadata": {},
          "output_type": "execute_result"
        }
      ],
      "source": [
        "baseline = Regression(df_images_weight, 'original_price')\n",
        "X_train, X_test, y_train, y_test = baseline.split_dataframe()\n",
        "baseline.prepare_models(params_list=[['DecisionTreeRegressor', 'random_state=43'],\n",
        "                                    ['RandomForestRegressor', 'random_state=43'],\n",
        "                                    ['XGBRegressor', 'random_state=43']\n",
        "                                    ])\n",
        "baseline.apply_and_evaluate_kfolds()\n",
        "baseline.create_dataframe()\n"
      ]
    },
    {
      "cell_type": "code",
      "execution_count": 24,
      "metadata": {
        "id": "_ObsOHScwMNk",
        "outputId": "e4a1f54d-b2ce-4abe-ad05-dfe1d6a6f6ed"
      },
      "outputs": [
        {
          "data": {
            "image/png": "[encoded data removed]",
            "text/plain": [
              "<Figure size 640x480 with 1 Axes>"
            ]
          },
          "metadata": {},
          "output_type": "display_data"
        }
      ],
      "source": [
        "baseline.visualize('rmse', 'mse', 'r2_score', 'mae')\n"
      ]
    },
    {
      "cell_type": "code",
      "execution_count": 25,
      "metadata": {
        "id": "kTO8H5BYwMNk",
        "outputId": "8829e7ba-11f3-4d9a-cdbd-933ccb138bf7"
      },
      "outputs": [
        {
          "data": {
            "image/png": "[encoded data removed]",
            "text/plain": [
              "<Figure size 640x480 with 1 Axes>"
            ]
          },
          "metadata": {},
          "output_type": "display_data"
        }
      ],
      "source": [
        "baseline.create_dataframe(chosen_format='variance')\n",
        "baseline.visualize('rmse', 'mse', 'r2_score', 'mae')\n"
      ]
    },
    {
      "attachments": {},
      "cell_type": "markdown",
      "metadata": {
        "id": "4JY4sVHGwMNl"
      },
      "source": [
        "## Optimización k vecinos\n",
        "\n",
        "- Para que los resultados sean reproducibles exactamente iguales fuera de este \"notebook\", se guarda el \"dataframe\" en \"pickle\". De lo contrario, como el \"generator\" devuelve distintas imágenes cada vez, el resultado será similar pero no el mismo\n",
        "\n",
        "- Se buscan los mejores parámetros para la predicción\n",
        "\n",
        "- El modelo resultante predice bien en términos generales, pero se equivoca con los diamantes más caros. Al subirlo a la web, habrá que establecer unos límites recomendados en cuanto al peso del diamante"
      ]
    },
    {
      "cell_type": "code",
      "execution_count": 26,
      "metadata": {
        "id": "2Fx1hZiMwMNl"
      },
      "outputs": [],
      "source": [
        "kfolds = KFold(n_splits=5, shuffle=True, random_state=43)\n",
        "rmse = make_scorer(calculate_rmse, greater_is_better=False)\n"
      ]
    },
    {
      "cell_type": "code",
      "execution_count": 27,
      "metadata": {},
      "outputs": [
        {
          "data": {
            "text/plain": [
              "['fixed_images_dataframe.pkl']"
            ]
          },
          "execution_count": 27,
          "metadata": {},
          "output_type": "execute_result"
        }
      ],
      "source": [
        "joblib.dump(df_images_weight, 'fixed_images_dataframe.pkl')\n"
      ]
    },
    {
      "cell_type": "code",
      "execution_count": 30,
      "metadata": {},
      "outputs": [
        {
          "data": {
            "text/html": [
              "<div>\n",
              "<style scoped>\n",
              "    .dataframe tbody tr th:only-of-type {\n",
              "        vertical-align: middle;\n",
              "    }\n",
              "\n",
              "    .dataframe tbody tr th {\n",
              "        vertical-align: top;\n",
              "    }\n",
              "\n",
              "    .dataframe thead th {\n",
              "        text-align: right;\n",
              "    }\n",
              "</style>\n",
              "<table border=\"1\" class=\"dataframe\">\n",
              "  <thead>\n",
              "    <tr style=\"text-align: right;\">\n",
              "      <th></th>\n",
              "      <th>predicted_price</th>\n",
              "      <th>weight (carat)</th>\n",
              "      <th>original_price</th>\n",
              "    </tr>\n",
              "  </thead>\n",
              "  <tbody>\n",
              "    <tr>\n",
              "      <th>0</th>\n",
              "      <td>-0.208654</td>\n",
              "      <td>0.31</td>\n",
              "      <td>-0.343747</td>\n",
              "    </tr>\n",
              "    <tr>\n",
              "      <th>1</th>\n",
              "      <td>-0.153543</td>\n",
              "      <td>0.50</td>\n",
              "      <td>0.061035</td>\n",
              "    </tr>\n",
              "    <tr>\n",
              "      <th>2</th>\n",
              "      <td>-0.168187</td>\n",
              "      <td>0.70</td>\n",
              "      <td>-0.153577</td>\n",
              "    </tr>\n",
              "    <tr>\n",
              "      <th>3</th>\n",
              "      <td>0.023471</td>\n",
              "      <td>0.59</td>\n",
              "      <td>-0.083891</td>\n",
              "    </tr>\n",
              "    <tr>\n",
              "      <th>4</th>\n",
              "      <td>-0.103216</td>\n",
              "      <td>0.96</td>\n",
              "      <td>0.318263</td>\n",
              "    </tr>\n",
              "  </tbody>\n",
              "</table>\n",
              "</div>"
            ],
            "text/plain": [
              "   predicted_price  weight (carat)  original_price\n",
              "0        -0.208654            0.31       -0.343747\n",
              "1        -0.153543            0.50        0.061035\n",
              "2        -0.168187            0.70       -0.153577\n",
              "3         0.023471            0.59       -0.083891\n",
              "4        -0.103216            0.96        0.318263"
            ]
          },
          "execution_count": 30,
          "metadata": {},
          "output_type": "execute_result"
        }
      ],
      "source": [
        "df_images_weight_imported = joblib.load('fixed_images_dataframe.pkl')\n",
        "\n",
        "df_images_weight_imported.head()\n"
      ]
    },
    {
      "cell_type": "code",
      "execution_count": 31,
      "metadata": {
        "id": "pzDj-7MfwMNl",
        "outputId": "91a2c193-5369-4a95-fbfc-512946885279"
      },
      "outputs": [],
      "source": [
        "model = KNeighborsRegressor()\n",
        "\n",
        "params = {'n_neighbors': range(2, 51),\n",
        "          'weights': ['uniform', 'distance'],\n",
        "          'p': [1, 2, 3, 4, 5],\n",
        "          'algorithm': ['ball_tree', 'kd_tree', 'brute', 'auto'],\n",
        "          'metric': ['cityblock', 'euclidean', 'minkowski', 'chebyshev'],\n",
        "          'leaf_size': range(1, 21),\n",
        "          }\n",
        "\n",
        "grid = GridSearchCV(estimator=model,\n",
        "                    param_grid=params,\n",
        "                    scoring=rmse,\n",
        "                    cv=kfolds\n",
        "                    )\n",
        "\n",
        "grid.fit(X_train, y_train)\n",
        "\n",
        "print(f'Best params: {grid.best_params_}')\n",
        "print(f'Best score: {grid.best_score_}')\n"
      ]
    },
    {
      "cell_type": "code",
      "execution_count": null,
      "metadata": {},
      "outputs": [
        {
          "data": {
            "text/plain": [
              "array([-1.63450813e-01, -3.22230714e-01, -8.41140351e-02, -1.86759603e-01,\n",
              "        2.52834157e+00,  1.89480811e-02, -2.93742507e-01, -1.24791936e-01,\n",
              "       -2.69404657e-01, -3.61311891e-01, -1.86383304e-02, -1.14592225e-02,\n",
              "       -1.75426607e-01, -3.30112011e-01, -3.68281622e-01, -1.73447214e-01,\n",
              "       -3.41004048e-01, -6.07253138e-02, -9.54539300e-02, -1.96114408e-01,\n",
              "       -4.10731651e-01, -1.58189701e-01, -3.19847500e-01, -1.75910837e-01,\n",
              "        1.49527872e-01,  1.98294330e+00,  2.91165660e-01, -9.00267958e-02,\n",
              "        2.01584019e-02, -3.18761223e-01, -3.81751781e-01, -9.49832149e-02,\n",
              "        1.07416282e-01,  2.49777813e-01, -1.59486408e-01,  6.10384639e-03,\n",
              "       -1.46453478e-01, -2.50400036e-01, -2.77313112e-01, -1.89557227e-01,\n",
              "       -1.55359779e-01, -1.98630767e-01, -8.36009288e-02, -7.41803625e-02,\n",
              "       -7.83639808e-02, -3.66889585e-01,  7.55178381e-01, -5.46989329e-02,\n",
              "        1.45145721e-01, -2.80178684e-01, -1.35312873e-01, -2.70570120e-01,\n",
              "       -2.76831807e-01, -3.63608001e-01, -9.98644711e-02, -3.70197505e-01,\n",
              "       -3.71469355e-01, -3.48130105e-01,  5.86633297e-02, -6.70580347e-02,\n",
              "       -1.82281617e-01,  1.33741153e+00,  3.94050455e-02,  3.33239592e-01,\n",
              "       -1.60830924e-01, -3.69732502e-01,  3.89131853e-01, -3.25773382e-01,\n",
              "       -2.05043160e-02, -2.25080571e-01,  1.45352734e-02, -1.72413295e-01,\n",
              "       -1.82884924e-01, -2.28916719e-01, -7.96730056e-02,  1.83767670e-01,\n",
              "        2.08286688e-01,  1.62308705e-01, -2.28833489e-01, -7.36245374e-02,\n",
              "        3.14838893e-03, -2.59176741e-01, -3.45633638e-01,  1.81090213e+00,\n",
              "       -1.90666068e-01, -3.26708420e-01, -5.68764315e-03, -2.10773935e-01,\n",
              "       -1.27676960e-01, -1.90204298e-01,  7.57912428e-02, -8.72719230e-02,\n",
              "       -1.23265112e-01, -2.96467109e-01, -9.87270195e-02, -1.73884970e-01,\n",
              "       -8.01005068e-02, -3.45501632e-01, -3.35248860e-01,  6.66760597e-01,\n",
              "       -3.38578784e-01, -1.01082759e-01, -3.52175818e-01, -3.68357356e-01,\n",
              "       -9.26173960e-02,  4.57611565e-01, -3.43149164e-01, -3.54334770e-01,\n",
              "       -3.50009006e-01, -3.43845051e-01, -1.76102658e-01, -8.46430451e-02,\n",
              "       -1.55227809e-01,  2.14946286e-01, -2.10710432e-01, -2.98556356e-01,\n",
              "       -6.15388588e-02, -1.50433182e-01, -8.26402562e-02, -1.97756015e-01,\n",
              "       -2.33467429e-01,  3.92508686e-03, -1.70485542e-02,  3.54944230e-01,\n",
              "       -7.82134427e-02,  5.91720871e-02, -1.97176214e-01,  1.89502127e-01,\n",
              "        2.04596937e-01, -3.30500286e-01, -3.47451293e-01, -3.52351299e-01,\n",
              "       -2.74262609e-01, -1.77754383e-01, -1.74436262e-01, -2.11994808e-01,\n",
              "       -2.30180139e-01, -3.46523624e-01,  3.20617167e-02, -7.98166934e-02,\n",
              "       -8.10099609e-02, -3.38514033e-01, -1.17341948e-01, -9.51699813e-02,\n",
              "       -1.07636902e-01, -3.27579050e-01, -1.00723598e-01,  4.07966685e+00,\n",
              "       -3.58817101e-01, -1.75812137e-01, -2.78654478e-01, -1.98366121e-01,\n",
              "        2.98746368e-01, -1.08835116e-01, -5.07406921e-02,  9.93661026e+00,\n",
              "       -1.91341171e-01, -1.62607450e-01, -5.60887720e-02, -1.80025354e-01,\n",
              "       -1.47580357e-01, -1.54096046e-01,  9.19269148e-02, -8.87632396e-02,\n",
              "       -3.37445176e-01, -6.76378872e-02, -2.56197503e-01,  2.61532792e-01,\n",
              "       -5.29831593e-02, -7.46495901e-02, -2.21298673e-01, -1.01576813e-02,\n",
              "       -1.12397970e-01, -3.44449442e-01, -3.49443999e-01,  2.49368723e-01,\n",
              "       -3.51735458e-01,  7.71927246e-01, -3.70837290e-01,  6.45076406e-03,\n",
              "       -2.61261441e-01, -2.20420204e-01, -8.20391853e-02, -2.48233264e-01,\n",
              "       -3.53880212e-01, -7.33853313e-03,  1.25134671e-01, -2.97101016e-01,\n",
              "        1.89883086e-01, -7.99319281e-02, -3.75794818e-01, -2.82143965e-01,\n",
              "       -8.35419510e-02, -7.47781557e-02, -2.84724411e-01, -3.78502804e-01,\n",
              "       -1.62504127e-01, -8.56312424e-02, -1.51762548e-01, -1.72042042e-01,\n",
              "       -2.13268818e-01, -7.85032284e-02, -3.44709277e-01, -3.51554830e-01,\n",
              "       -3.68557750e-01, -2.97525330e-01, -3.56953275e-01, -1.44945399e-01,\n",
              "       -1.04284746e-01,  3.13718327e+00, -2.92250619e-01,  3.30259164e-02,\n",
              "       -6.06609121e-02, -8.49407850e-02, -7.99877838e-02, -3.71694340e-01,\n",
              "       -1.67282046e-01, -3.57392528e-01, -9.54548025e-02, -3.17993220e-01,\n",
              "       -3.54668835e-01, -2.94126134e-01, -5.55257382e-02, -2.99606746e-01,\n",
              "       -3.74332189e-01, -2.74859356e-01,  1.16231279e+00, -3.43974390e-01,\n",
              "       -3.59407936e-02, -2.46979474e-01, -3.38273987e-01, -3.10019230e-01,\n",
              "       -3.53602096e-01,  5.30210296e-02,  1.62169454e+00, -1.75203147e-02,\n",
              "       -4.98580430e-02, -1.14050918e-01, -2.88539127e-01, -3.17823655e-01,\n",
              "       -2.00668054e-01, -6.15085576e-02, -3.71961204e-01,  9.92111222e-02,\n",
              "       -2.99540205e-01, -2.64234556e-01, -7.59900716e-02,  1.22287531e+00,\n",
              "       -1.86168738e-01, -3.22206026e-01, -7.07171895e-02, -1.18704565e-01,\n",
              "        1.15173526e+00, -1.73061676e-01, -1.35730186e-01, -2.06316510e-01,\n",
              "       -1.23731433e-01, -7.68062439e-02, -9.16681713e-02, -1.57860955e-01,\n",
              "       -1.56365813e-01, -1.38191891e-01, -1.57442442e-01,  6.55401073e-02,\n",
              "       -6.81338700e-02, -2.90583740e-01, -6.05950106e-02, -6.19109201e-02,\n",
              "       -2.85212481e-01, -1.76606536e-01, -6.81096498e-02, -3.34500597e-01,\n",
              "       -2.11769477e-01])"
            ]
          },
          "execution_count": 37,
          "metadata": {},
          "output_type": "execute_result"
        }
      ],
      "source": [
        "# Se lleva a cabo la predicción de prueba\n",
        "model = KNeighborsRegressor(n_neighbors=6, \n",
        "                            weights='distance',\n",
        "                            p=1,\n",
        "                            algorithm='brute', \n",
        "                            metric='chebyshev', \n",
        "                            leaf_size=1\n",
        "                            )\n",
        "\n",
        "model.fit(X_train, y_train)\n",
        "\n",
        "y_pred = model.predict(X_test)\n",
        "\n",
        "y_pred\n"
      ]
    },
    {
      "cell_type": "code",
      "execution_count": 38,
      "metadata": {},
      "outputs": [],
      "source": [
        "y_pred = np.round(scaler.inverse_transform(y_pred.reshape(-1, 1)), 2)\n",
        "y_test = scaler.inverse_transform(y_test.values.reshape(-1, 1))\n"
      ]
    },
    {
      "cell_type": "code",
      "execution_count": 39,
      "metadata": {},
      "outputs": [
        {
          "data": {
            "text/html": [
              "<div>\n",
              "<style scoped>\n",
              "    .dataframe tbody tr th:only-of-type {\n",
              "        vertical-align: middle;\n",
              "    }\n",
              "\n",
              "    .dataframe tbody tr th {\n",
              "        vertical-align: top;\n",
              "    }\n",
              "\n",
              "    .dataframe thead th {\n",
              "        text-align: right;\n",
              "    }\n",
              "</style>\n",
              "<table border=\"1\" class=\"dataframe\">\n",
              "  <thead>\n",
              "    <tr style=\"text-align: right;\">\n",
              "      <th></th>\n",
              "      <th>Original</th>\n",
              "      <th>Prediction</th>\n",
              "    </tr>\n",
              "  </thead>\n",
              "  <tbody>\n",
              "    <tr>\n",
              "      <th>0</th>\n",
              "      <td>2028.32</td>\n",
              "      <td>1721.59</td>\n",
              "    </tr>\n",
              "    <tr>\n",
              "      <th>1</th>\n",
              "      <td>1056.32</td>\n",
              "      <td>1122.36</td>\n",
              "    </tr>\n",
              "    <tr>\n",
              "      <th>2</th>\n",
              "      <td>2030.78</td>\n",
              "      <td>2021.00</td>\n",
              "    </tr>\n",
              "    <tr>\n",
              "      <th>3</th>\n",
              "      <td>1263.85</td>\n",
              "      <td>1633.62</td>\n",
              "    </tr>\n",
              "    <tr>\n",
              "      <th>4</th>\n",
              "      <td>30806.38</td>\n",
              "      <td>11880.23</td>\n",
              "    </tr>\n",
              "    <tr>\n",
              "      <th>...</th>\n",
              "      <td>...</td>\n",
              "      <td>...</td>\n",
              "    </tr>\n",
              "    <tr>\n",
              "      <th>268</th>\n",
              "      <td>1284.20</td>\n",
              "      <td>1262.06</td>\n",
              "    </tr>\n",
              "    <tr>\n",
              "      <th>269</th>\n",
              "      <td>977.20</td>\n",
              "      <td>1671.94</td>\n",
              "    </tr>\n",
              "    <tr>\n",
              "      <th>270</th>\n",
              "      <td>2330.97</td>\n",
              "      <td>2081.40</td>\n",
              "    </tr>\n",
              "    <tr>\n",
              "      <th>271</th>\n",
              "      <td>1161.20</td>\n",
              "      <td>1076.05</td>\n",
              "    </tr>\n",
              "    <tr>\n",
              "      <th>272</th>\n",
              "      <td>1244.88</td>\n",
              "      <td>1539.23</td>\n",
              "    </tr>\n",
              "  </tbody>\n",
              "</table>\n",
              "<p>273 rows × 2 columns</p>\n",
              "</div>"
            ],
            "text/plain": [
              "     Original  Prediction\n",
              "0     2028.32     1721.59\n",
              "1     1056.32     1122.36\n",
              "2     2030.78     2021.00\n",
              "3     1263.85     1633.62\n",
              "4    30806.38    11880.23\n",
              "..        ...         ...\n",
              "268   1284.20     1262.06\n",
              "269    977.20     1671.94\n",
              "270   2330.97     2081.40\n",
              "271   1161.20     1076.05\n",
              "272   1244.88     1539.23\n",
              "\n",
              "[273 rows x 2 columns]"
            ]
          },
          "execution_count": 39,
          "metadata": {},
          "output_type": "execute_result"
        }
      ],
      "source": [
        "df_price = pd.DataFrame(data={'Original': [row[0] for row in y_test], 'Prediction': [row[0] for row in y_pred]})\n",
        "\n",
        "df_price\n"
      ]
    },
    {
      "cell_type": "code",
      "execution_count": 41,
      "metadata": {},
      "outputs": [
        {
          "name": "stdout",
          "output_type": "stream",
          "text": [
            "rmse: 1632.4538690113675\n",
            "mse: 2664905.634450183\n",
            "mae: 542.9856776556776\n",
            "r2: 0.814961302120536\n",
            "mape: 0.18494679823055715\n"
          ]
        }
      ],
      "source": [
        "print(f'rmse: {mean_squared_error(y_test, y_pred, squared=False)}')\n",
        "print(f'mse: {mean_squared_error(y_test, y_pred)}')\n",
        "print(f'mae: {mean_absolute_error(y_test,y_pred)}')\n",
        "print(f'r2: {r2_score(y_test, y_pred)}')\n",
        "print(f'mape: {mean_absolute_percentage_error(y_test, y_pred)}')\n"
      ]
    },
    {
      "cell_type": "code",
      "execution_count": 43,
      "metadata": {},
      "outputs": [
        {
          "data": {
            "text/html": [
              "<div>\n",
              "<style scoped>\n",
              "    .dataframe tbody tr th:only-of-type {\n",
              "        vertical-align: middle;\n",
              "    }\n",
              "\n",
              "    .dataframe tbody tr th {\n",
              "        vertical-align: top;\n",
              "    }\n",
              "\n",
              "    .dataframe thead th {\n",
              "        text-align: right;\n",
              "    }\n",
              "</style>\n",
              "<table border=\"1\" class=\"dataframe\">\n",
              "  <thead>\n",
              "    <tr style=\"text-align: right;\">\n",
              "      <th></th>\n",
              "      <th>Original</th>\n",
              "      <th>Prediction</th>\n",
              "    </tr>\n",
              "  </thead>\n",
              "  <tbody>\n",
              "    <tr>\n",
              "      <th>4</th>\n",
              "      <td>30806.38</td>\n",
              "      <td>11880.23</td>\n",
              "    </tr>\n",
              "    <tr>\n",
              "      <th>25</th>\n",
              "      <td>13500.16</td>\n",
              "      <td>9821.94</td>\n",
              "    </tr>\n",
              "    <tr>\n",
              "      <th>147</th>\n",
              "      <td>30949.54</td>\n",
              "      <td>17734.83</td>\n",
              "    </tr>\n",
              "    <tr>\n",
              "      <th>155</th>\n",
              "      <td>41719.09</td>\n",
              "      <td>39838.55</td>\n",
              "    </tr>\n",
              "    <tr>\n",
              "      <th>209</th>\n",
              "      <td>15382.34</td>\n",
              "      <td>14177.96</td>\n",
              "    </tr>\n",
              "  </tbody>\n",
              "</table>\n",
              "</div>"
            ],
            "text/plain": [
              "     Original  Prediction\n",
              "4    30806.38    11880.23\n",
              "25   13500.16     9821.94\n",
              "147  30949.54    17734.83\n",
              "155  41719.09    39838.55\n",
              "209  15382.34    14177.96"
            ]
          },
          "execution_count": 43,
          "metadata": {},
          "output_type": "execute_result"
        }
      ],
      "source": [
        "df_price[df_price['Original'] > 10000]\n"
      ]
    }
  ],
  "metadata": {
    "accelerator": "GPU",
    "colab": {
      "provenance": []
    },
    "gpuClass": "premium",
    "kernelspec": {
      "display_name": "data_analytics",
      "language": "python",
      "name": "python3"
    },
    "language_info": {
      "codemirror_mode": {
        "name": "ipython",
        "version": 3
      },
      "file_extension": ".py",
      "mimetype": "text/x-python",
      "name": "python",
      "nbconvert_exporter": "python",
      "pygments_lexer": "ipython3",
      "version": "3.9.16"
    },
    "orig_nbformat": 4,
    "vscode": {
      "interpreter": {
        "hash": "62be4b4d7aada9f05487a097e316e83dc3ceda15568e9d0ea281b513767b88d7"
      }
    }
  },
  "nbformat": 4,
  "nbformat_minor": 0
}
