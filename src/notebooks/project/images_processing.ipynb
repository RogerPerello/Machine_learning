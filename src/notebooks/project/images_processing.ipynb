{
 "cells": [
  {
   "cell_type": "code",
   "execution_count": 146,
   "metadata": {},
   "outputs": [],
   "source": [
    "import os\n",
    "\n",
    "import matplotlib.pylab as plt\n",
    "import numpy as np\n",
    "import pandas as pd\n",
    "import cv2\n",
    "from keras.models import Sequential\n",
    "from keras.callbacks import EarlyStopping\n",
    "import tensorflow as tf\n",
    "import tensorflow_hub as hub\n",
    "from sklearn.preprocessing import label_binarize\n",
    "from itertools import cycle\n",
    "import splitfolders\n",
    "\n",
    "\n",
    "if str(os.getcwdb()[-3:]).split(\"'\")[1] != 'src':\n",
    "    for _ in range(2):\n",
    "        os.chdir(os.path.dirname(os.getcwdb()))\n"
   ]
  },
  {
   "attachments": {},
   "cell_type": "markdown",
   "metadata": {},
   "source": [
    "# Proceso\n",
    "\n",
    "- Se borran las imágenes vacías (\".png\") y las que se eliminaron durante el procesado del \"dataframe\" de características, y se actualiza ese conjunto de datos quitando esas imágenes sin diamantes\n",
    "\n",
    "- El resultado es que en la carpeta de imágenes quedan el mismo número de archivos \".jpg\" que en el índice del \"dataframe\" de características"
   ]
  },
  {
   "cell_type": "code",
   "execution_count": 147,
   "metadata": {},
   "outputs": [],
   "source": [
    "df_images_data = pd.read_csv(r'data\\processed\\images_data_processed.csv', index_col='Id')\n",
    "raw_data_path = r'data\\raw\\images'\n"
   ]
  },
  {
   "cell_type": "code",
   "execution_count": 148,
   "metadata": {},
   "outputs": [
    {
     "data": {
      "text/html": [
       "<div>\n",
       "<style scoped>\n",
       "    .dataframe tbody tr th:only-of-type {\n",
       "        vertical-align: middle;\n",
       "    }\n",
       "\n",
       "    .dataframe tbody tr th {\n",
       "        vertical-align: top;\n",
       "    }\n",
       "\n",
       "    .dataframe thead th {\n",
       "        text-align: right;\n",
       "    }\n",
       "</style>\n",
       "<table border=\"1\" class=\"dataframe\">\n",
       "  <thead>\n",
       "    <tr style=\"text-align: right;\">\n",
       "      <th></th>\n",
       "      <th>weight (carat)</th>\n",
       "      <th>cut quality</th>\n",
       "      <th>color quality</th>\n",
       "      <th>clarity quality</th>\n",
       "      <th>depth (percentage)</th>\n",
       "      <th>lenght (millimeters)</th>\n",
       "      <th>width (millimeters)</th>\n",
       "      <th>depth (millimeters)</th>\n",
       "    </tr>\n",
       "    <tr>\n",
       "      <th>Id</th>\n",
       "      <th></th>\n",
       "      <th></th>\n",
       "      <th></th>\n",
       "      <th></th>\n",
       "      <th></th>\n",
       "      <th></th>\n",
       "      <th></th>\n",
       "      <th></th>\n",
       "    </tr>\n",
       "  </thead>\n",
       "  <tbody>\n",
       "    <tr>\n",
       "      <th>1638147</th>\n",
       "      <td>0.55</td>\n",
       "      <td>4.0</td>\n",
       "      <td>5.0</td>\n",
       "      <td>1.0</td>\n",
       "      <td>62.553191</td>\n",
       "      <td>5.05</td>\n",
       "      <td>4.35</td>\n",
       "      <td>2.94</td>\n",
       "    </tr>\n",
       "    <tr>\n",
       "      <th>1612606</th>\n",
       "      <td>0.51</td>\n",
       "      <td>4.0</td>\n",
       "      <td>2.0</td>\n",
       "      <td>3.0</td>\n",
       "      <td>64.900662</td>\n",
       "      <td>4.71</td>\n",
       "      <td>4.35</td>\n",
       "      <td>2.94</td>\n",
       "    </tr>\n",
       "    <tr>\n",
       "      <th>1638140</th>\n",
       "      <td>0.50</td>\n",
       "      <td>4.0</td>\n",
       "      <td>2.0</td>\n",
       "      <td>3.0</td>\n",
       "      <td>62.813522</td>\n",
       "      <td>4.91</td>\n",
       "      <td>4.26</td>\n",
       "      <td>2.88</td>\n",
       "    </tr>\n",
       "    <tr>\n",
       "      <th>1536093</th>\n",
       "      <td>0.53</td>\n",
       "      <td>4.0</td>\n",
       "      <td>6.0</td>\n",
       "      <td>2.0</td>\n",
       "      <td>65.720524</td>\n",
       "      <td>4.70</td>\n",
       "      <td>4.46</td>\n",
       "      <td>3.01</td>\n",
       "    </tr>\n",
       "    <tr>\n",
       "      <th>1643527</th>\n",
       "      <td>0.52</td>\n",
       "      <td>4.0</td>\n",
       "      <td>1.0</td>\n",
       "      <td>6.0</td>\n",
       "      <td>65.141612</td>\n",
       "      <td>4.76</td>\n",
       "      <td>4.42</td>\n",
       "      <td>2.99</td>\n",
       "    </tr>\n",
       "    <tr>\n",
       "      <th>...</th>\n",
       "      <td>...</td>\n",
       "      <td>...</td>\n",
       "      <td>...</td>\n",
       "      <td>...</td>\n",
       "      <td>...</td>\n",
       "      <td>...</td>\n",
       "      <td>...</td>\n",
       "      <td>...</td>\n",
       "    </tr>\n",
       "    <tr>\n",
       "      <th>1624337</th>\n",
       "      <td>0.50</td>\n",
       "      <td>4.0</td>\n",
       "      <td>3.0</td>\n",
       "      <td>3.0</td>\n",
       "      <td>60.523763</td>\n",
       "      <td>5.14</td>\n",
       "      <td>5.17</td>\n",
       "      <td>3.12</td>\n",
       "    </tr>\n",
       "    <tr>\n",
       "      <th>1751206</th>\n",
       "      <td>0.50</td>\n",
       "      <td>4.0</td>\n",
       "      <td>5.0</td>\n",
       "      <td>2.0</td>\n",
       "      <td>63.346614</td>\n",
       "      <td>5.00</td>\n",
       "      <td>5.04</td>\n",
       "      <td>3.18</td>\n",
       "    </tr>\n",
       "    <tr>\n",
       "      <th>1773024</th>\n",
       "      <td>0.50</td>\n",
       "      <td>4.0</td>\n",
       "      <td>5.0</td>\n",
       "      <td>2.0</td>\n",
       "      <td>62.636274</td>\n",
       "      <td>5.03</td>\n",
       "      <td>5.06</td>\n",
       "      <td>3.16</td>\n",
       "    </tr>\n",
       "    <tr>\n",
       "      <th>1774887</th>\n",
       "      <td>0.52</td>\n",
       "      <td>4.0</td>\n",
       "      <td>2.0</td>\n",
       "      <td>2.0</td>\n",
       "      <td>62.500000</td>\n",
       "      <td>5.11</td>\n",
       "      <td>5.13</td>\n",
       "      <td>3.20</td>\n",
       "    </tr>\n",
       "    <tr>\n",
       "      <th>1630512</th>\n",
       "      <td>0.50</td>\n",
       "      <td>4.0</td>\n",
       "      <td>2.0</td>\n",
       "      <td>4.0</td>\n",
       "      <td>61.056751</td>\n",
       "      <td>5.09</td>\n",
       "      <td>5.13</td>\n",
       "      <td>3.12</td>\n",
       "    </tr>\n",
       "  </tbody>\n",
       "</table>\n",
       "<p>3913 rows × 8 columns</p>\n",
       "</div>"
      ],
      "text/plain": [
       "         weight (carat)  cut quality  color quality  clarity quality  \\\n",
       "Id                                                                     \n",
       "1638147            0.55          4.0            5.0              1.0   \n",
       "1612606            0.51          4.0            2.0              3.0   \n",
       "1638140            0.50          4.0            2.0              3.0   \n",
       "1536093            0.53          4.0            6.0              2.0   \n",
       "1643527            0.52          4.0            1.0              6.0   \n",
       "...                 ...          ...            ...              ...   \n",
       "1624337            0.50          4.0            3.0              3.0   \n",
       "1751206            0.50          4.0            5.0              2.0   \n",
       "1773024            0.50          4.0            5.0              2.0   \n",
       "1774887            0.52          4.0            2.0              2.0   \n",
       "1630512            0.50          4.0            2.0              4.0   \n",
       "\n",
       "         depth (percentage)  lenght (millimeters)  width (millimeters)  \\\n",
       "Id                                                                       \n",
       "1638147           62.553191                  5.05                 4.35   \n",
       "1612606           64.900662                  4.71                 4.35   \n",
       "1638140           62.813522                  4.91                 4.26   \n",
       "1536093           65.720524                  4.70                 4.46   \n",
       "1643527           65.141612                  4.76                 4.42   \n",
       "...                     ...                   ...                  ...   \n",
       "1624337           60.523763                  5.14                 5.17   \n",
       "1751206           63.346614                  5.00                 5.04   \n",
       "1773024           62.636274                  5.03                 5.06   \n",
       "1774887           62.500000                  5.11                 5.13   \n",
       "1630512           61.056751                  5.09                 5.13   \n",
       "\n",
       "         depth (millimeters)  \n",
       "Id                            \n",
       "1638147                 2.94  \n",
       "1612606                 2.94  \n",
       "1638140                 2.88  \n",
       "1536093                 3.01  \n",
       "1643527                 2.99  \n",
       "...                      ...  \n",
       "1624337                 3.12  \n",
       "1751206                 3.18  \n",
       "1773024                 3.16  \n",
       "1774887                 3.20  \n",
       "1630512                 3.12  \n",
       "\n",
       "[3913 rows x 8 columns]"
      ]
     },
     "execution_count": 148,
     "metadata": {},
     "output_type": "execute_result"
    }
   ],
   "source": [
    "df_images_data"
   ]
  },
  {
   "cell_type": "code",
   "execution_count": 149,
   "metadata": {},
   "outputs": [],
   "source": [
    "# Hay varias imágenes vacías. Todas están en formato \"png\". Hay que eliminarlas antes que nada\n",
    "no_delete_extension = '.jpg'\n",
    "for (dirpath, dirnames, filenames) in os.walk(raw_data_path):\n",
    "    for file in filenames:\n",
    "        if no_delete_extension not in file:\n",
    "            if file != 'info_raw.txt':\n",
    "                os.remove(f'{dirpath}/{file}')\n"
   ]
  },
  {
   "cell_type": "code",
   "execution_count": 150,
   "metadata": {},
   "outputs": [],
   "source": [
    "# Se han eliminado muchas filas del \"dataframe\", con lo que toca borrar las imágenes correspondientes\n",
    "for (dirpath, dirnames, filenames) in os.walk(raw_data_path):\n",
    "    for file in filenames:\n",
    "        if file[:-4] not in df_images_data.index and file[:-4] != 'info_raw':\n",
    "            os.remove(f'{dirpath}/{file}')\n"
   ]
  },
  {
   "cell_type": "code",
   "execution_count": 151,
   "metadata": {},
   "outputs": [
    {
     "data": {
      "text/plain": [
       "3913"
      ]
     },
     "execution_count": 151,
     "metadata": {},
     "output_type": "execute_result"
    }
   ],
   "source": [
    "# Se crea una lista de las imágenes definitivas de la carpeta\n",
    "filenames_list = []\n",
    "for (dirpath, dirnames, filenames) in os.walk(raw_data_path):\n",
    "    filenames_list += [file[:-4] for file in filenames if file != \"info_raw.txt\"]\n",
    "\n",
    "len(filenames_list)\n"
   ]
  },
  {
   "cell_type": "code",
   "execution_count": 152,
   "metadata": {},
   "outputs": [
    {
     "data": {
      "text/plain": [
       "3913"
      ]
     },
     "execution_count": 152,
     "metadata": {},
     "output_type": "execute_result"
    }
   ],
   "source": [
    "# Asimismo, hay que borrar del \"dataframe\" los diamantes que se han sacado de la carpeta por no tener imagen\n",
    "for index in df_images_data.index:\n",
    "    if index not in filenames_list:\n",
    "        try:\n",
    "            df_images_data.drop(index, inplace=True)\n",
    "        except Exception:\n",
    "            print(f'El diamante {index} ya se borró durante la limpieza')\n",
    "\n",
    "len(df_images_data)\n"
   ]
  },
  {
   "cell_type": "code",
   "execution_count": 153,
   "metadata": {},
   "outputs": [
    {
     "data": {
      "text/plain": [
       "True"
      ]
     },
     "execution_count": 153,
     "metadata": {},
     "output_type": "execute_result"
    }
   ],
   "source": [
    "# En el \"dataframe\" de características de imagen solo quedan los mismos que en la carpeta de imágenes \"raw\".\n",
    "sorted(df_images_data.index) == sorted(filenames_list)\n"
   ]
  },
  {
   "cell_type": "code",
   "execution_count": 154,
   "metadata": {},
   "outputs": [],
   "source": [
    "# En el \"dataframe\" de características de imagen solo quedan los mismos que en la carpeta de imágenes \"raw\". Se actualiza el archivo procesado\n",
    "df_images_data.to_csv(r'data\\processed\\images_data_processed.csv', index='Id')\n"
   ]
  }
 ],
 "metadata": {
  "kernelspec": {
   "display_name": "data_analytics",
   "language": "python",
   "name": "python3"
  },
  "language_info": {
   "codemirror_mode": {
    "name": "ipython",
    "version": 3
   },
   "file_extension": ".py",
   "mimetype": "text/x-python",
   "name": "python",
   "nbconvert_exporter": "python",
   "pygments_lexer": "ipython3",
   "version": "3.9.16"
  },
  "orig_nbformat": 4,
  "vscode": {
   "interpreter": {
    "hash": "62be4b4d7aada9f05487a097e316e83dc3ceda15568e9d0ea281b513767b88d7"
   }
  }
 },
 "nbformat": 4,
 "nbformat_minor": 2
}
