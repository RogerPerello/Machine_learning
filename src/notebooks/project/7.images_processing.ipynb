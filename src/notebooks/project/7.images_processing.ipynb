{
 "cells": [
  {
   "cell_type": "code",
   "execution_count": 1,
   "metadata": {},
   "outputs": [],
   "source": [
    "import os\n",
    "\n",
    "import matplotlib.pylab as plt\n",
    "import numpy as np\n",
    "import pandas as pd\n",
    "import cv2\n",
    "from keras.models import Sequential\n",
    "from keras.callbacks import EarlyStopping\n",
    "import tensorflow as tf\n",
    "import tensorflow_hub as hub\n",
    "from sklearn.preprocessing import label_binarize\n",
    "from itertools import cycle\n",
    "import splitfolders\n",
    "\n",
    "\n",
    "if str(os.getcwdb()[-3:]).split(\"'\")[1] != 'src':\n",
    "    for _ in range(2):\n",
    "        os.chdir(os.path.dirname(os.getcwdb()))\n"
   ]
  },
  {
   "attachments": {},
   "cell_type": "markdown",
   "metadata": {},
   "source": [
    "# Proceso\n",
    "\n",
    "- Se borran las imágenes vacías (\".png\") y las eliminadas durante el procesado del \"dataframe\" de características (en el \"notebook\" llamado \"images_data_processing\"), y se actualiza paralelamente ese conjunto de datos quitándole las filas correspondientes a las imágenes \"png\" mencionadas\n",
    "\n",
    "- El resultado es que en la carpeta de imágenes quedan tantos archivos \".jpg\" como filas hay en el \"dataframe\" de características"
   ]
  },
  {
   "cell_type": "code",
   "execution_count": 2,
   "metadata": {},
   "outputs": [],
   "source": [
    "df_images_data = pd.read_csv(r'data\\processed\\images_data_processed.csv', index_col='Id')\n",
    "raw_data_path = r'data\\raw\\images'\n"
   ]
  },
  {
   "cell_type": "code",
   "execution_count": 3,
   "metadata": {},
   "outputs": [
    {
     "data": {
      "text/plain": [
       "5701"
      ]
     },
     "execution_count": 3,
     "metadata": {},
     "output_type": "execute_result"
    }
   ],
   "source": [
    "len(df_images_data)\n"
   ]
  },
  {
   "cell_type": "code",
   "execution_count": 4,
   "metadata": {},
   "outputs": [],
   "source": [
    "# Hay varias imágenes vacías. Todas están en formato \"png\". Hay que eliminarlas antes que nada\n",
    "no_delete_extension = '.jpg'\n",
    "for (dirpath, dirnames, filenames) in os.walk(raw_data_path):\n",
    "    for file in filenames:\n",
    "        if no_delete_extension not in file:\n",
    "            if file != 'info_raw.txt':\n",
    "                os.remove(f'{dirpath}/{file}')\n"
   ]
  },
  {
   "cell_type": "code",
   "execution_count": 5,
   "metadata": {},
   "outputs": [],
   "source": [
    "# Se han eliminado muchas filas del \"dataframe\", con lo que toca borrar las imágenes correspondientes\n",
    "for (dirpath, dirnames, filenames) in os.walk(raw_data_path):\n",
    "    for file in filenames:\n",
    "        if file[:-4] not in df_images_data.index and file[:-4] != 'info_raw':\n",
    "            os.remove(f'{dirpath}/{file}')\n"
   ]
  },
  {
   "cell_type": "code",
   "execution_count": 6,
   "metadata": {},
   "outputs": [
    {
     "data": {
      "text/plain": [
       "4519"
      ]
     },
     "execution_count": 6,
     "metadata": {},
     "output_type": "execute_result"
    }
   ],
   "source": [
    "# Se crea una lista de las imágenes definitivas de la carpeta\n",
    "filenames_list = []\n",
    "for (dirpath, dirnames, filenames) in os.walk(raw_data_path):\n",
    "    filenames_list += [file[:-4] for file in filenames if file != \"info_raw.txt\"]\n",
    "\n",
    "len(filenames_list)\n"
   ]
  },
  {
   "cell_type": "code",
   "execution_count": 7,
   "metadata": {},
   "outputs": [
    {
     "data": {
      "text/plain": [
       "4519"
      ]
     },
     "execution_count": 7,
     "metadata": {},
     "output_type": "execute_result"
    }
   ],
   "source": [
    "# Asimismo, hay que borrar del \"dataframe\" los diamantes que se han sacado de la carpeta por no tener imagen\n",
    "for index in df_images_data.index:\n",
    "    if index not in filenames_list:\n",
    "        try:\n",
    "            df_images_data.drop(index, inplace=True)\n",
    "        except Exception:\n",
    "            print(f'El diamante {index} ya se borró durante la limpieza')\n",
    "\n",
    "len(df_images_data)\n"
   ]
  },
  {
   "cell_type": "code",
   "execution_count": 8,
   "metadata": {},
   "outputs": [
    {
     "data": {
      "text/plain": [
       "True"
      ]
     },
     "execution_count": 8,
     "metadata": {},
     "output_type": "execute_result"
    }
   ],
   "source": [
    "# En el \"dataframe\" de características de las imágenes solo quedan los mismos diamantes que en la carpeta de imágenes \"raw\".\n",
    "sorted(df_images_data.index) == sorted(filenames_list)\n"
   ]
  },
  {
   "cell_type": "code",
   "execution_count": 9,
   "metadata": {},
   "outputs": [],
   "source": [
    "# En el \"dataframe\" de características de imagen solo quedan los mismos que en la carpeta de imágenes \"raw\". Se actualiza el archivo procesado\n",
    "df_images_data.to_csv(r'data\\processed\\images_data_processed.csv', index='Id')\n"
   ]
  }
 ],
 "metadata": {
  "kernelspec": {
   "display_name": "data_analytics",
   "language": "python",
   "name": "python3"
  },
  "language_info": {
   "codemirror_mode": {
    "name": "ipython",
    "version": 3
   },
   "file_extension": ".py",
   "mimetype": "text/x-python",
   "name": "python",
   "nbconvert_exporter": "python",
   "pygments_lexer": "ipython3",
   "version": "3.9.16"
  },
  "orig_nbformat": 4,
  "vscode": {
   "interpreter": {
    "hash": "62be4b4d7aada9f05487a097e316e83dc3ceda15568e9d0ea281b513767b88d7"
   }
  }
 },
 "nbformat": 4,
 "nbformat_minor": 2
}
