{
 "cells": [
  {
   "cell_type": "code",
   "execution_count": 76,
   "metadata": {},
   "outputs": [],
   "source": [
    "import os\n",
    "\n",
    "import matplotlib.pylab as plt\n",
    "import numpy as np\n",
    "import pandas as pd\n",
    "import cv2\n",
    "from keras.models import Sequential\n",
    "from keras.callbacks import EarlyStopping\n",
    "import tensorflow as tf\n",
    "import tensorflow_hub as hub\n",
    "from sklearn.preprocessing import label_binarize\n",
    "from itertools import cycle\n",
    "import splitfolders\n",
    "import glob\n",
    "from PIL import Image\n",
    "\n",
    "\n",
    "if str(os.getcwdb()[-3:]).split(\"'\")[1] != 'src':\n",
    "    for _ in range(2):\n",
    "        os.chdir(os.path.dirname(os.getcwdb()))\n"
   ]
  },
  {
   "attachments": {},
   "cell_type": "markdown",
   "metadata": {},
   "source": [
    "# Limpieza\n",
    "\n",
    "- Se borran las imágenes vacías (\".png\") y las eliminadas durante el procesado del \"dataframe\" de características (en el \"notebook\" llamado \"images_data_processing\"), y se actualiza paralelamente ese conjunto de datos quitándole las filas correspondientes a las imágenes \"png\" mencionadas\n",
    "\n",
    "- El resultado es que en la carpeta de imágenes quedan tantos archivos \".jpg\" como filas hay en el \"dataframe\" de características"
   ]
  },
  {
   "cell_type": "code",
   "execution_count": 77,
   "metadata": {},
   "outputs": [],
   "source": [
    "df_images_data = pd.read_csv(r'data\\processed\\images_data_processed.csv', index_col='Id')\n",
    "raw_data_path = r'data\\raw\\images'\n"
   ]
  },
  {
   "cell_type": "code",
   "execution_count": 78,
   "metadata": {},
   "outputs": [
    {
     "data": {
      "text/plain": [
       "5701"
      ]
     },
     "execution_count": 78,
     "metadata": {},
     "output_type": "execute_result"
    }
   ],
   "source": [
    "len(df_images_data)\n"
   ]
  },
  {
   "cell_type": "code",
   "execution_count": 79,
   "metadata": {},
   "outputs": [],
   "source": [
    "# Hay varias imágenes vacías. Todas están en formato \"png\". Hay que eliminarlas antes que nada\n",
    "no_delete_extension = '.jpg'\n",
    "for (dirpath, dirnames, filenames) in os.walk(raw_data_path):\n",
    "    for file in filenames:\n",
    "        if no_delete_extension not in file:\n",
    "            if file != 'info_raw.txt':\n",
    "                os.remove(f'{dirpath}/{file}')\n"
   ]
  },
  {
   "cell_type": "code",
   "execution_count": 80,
   "metadata": {},
   "outputs": [],
   "source": [
    "# Se han eliminado muchas filas del \"dataframe\", con lo que toca borrar las imágenes correspondientes\n",
    "for (dirpath, dirnames, filenames) in os.walk(raw_data_path):\n",
    "    for file in filenames:\n",
    "        if file[:-4] not in df_images_data.index and file[:-4] != 'info_raw':\n",
    "            os.remove(f'{dirpath}/{file}')\n"
   ]
  },
  {
   "cell_type": "code",
   "execution_count": 81,
   "metadata": {},
   "outputs": [
    {
     "data": {
      "text/plain": [
       "4519"
      ]
     },
     "execution_count": 81,
     "metadata": {},
     "output_type": "execute_result"
    }
   ],
   "source": [
    "# Se crea una lista de las imágenes definitivas de la carpeta\n",
    "filenames_list = []\n",
    "for (dirpath, dirnames, filenames) in os.walk(raw_data_path):\n",
    "    filenames_list += [file[:-4] for file in filenames if file != \"info_raw.txt\"]\n",
    "\n",
    "len(filenames_list)\n"
   ]
  },
  {
   "cell_type": "code",
   "execution_count": 82,
   "metadata": {},
   "outputs": [
    {
     "data": {
      "text/plain": [
       "4519"
      ]
     },
     "execution_count": 82,
     "metadata": {},
     "output_type": "execute_result"
    }
   ],
   "source": [
    "# Asimismo, hay que borrar del \"dataframe\" los diamantes que se han sacado de la carpeta por no tener imagen\n",
    "for index in df_images_data.index:\n",
    "    if index not in filenames_list:\n",
    "        try:\n",
    "            df_images_data.drop(index, inplace=True)\n",
    "        except Exception:\n",
    "            print(f'El diamante {index} ya se borró durante la limpieza')\n",
    "\n",
    "len(df_images_data)\n"
   ]
  },
  {
   "cell_type": "code",
   "execution_count": 83,
   "metadata": {},
   "outputs": [
    {
     "data": {
      "text/plain": [
       "True"
      ]
     },
     "execution_count": 83,
     "metadata": {},
     "output_type": "execute_result"
    }
   ],
   "source": [
    "# En el \"dataframe\" de características de las imágenes solo quedan los mismos diamantes que en la carpeta de imágenes \"raw\".\n",
    "sorted(df_images_data.index) == sorted(filenames_list)\n"
   ]
  },
  {
   "attachments": {},
   "cell_type": "markdown",
   "metadata": {},
   "source": [
    "# Colocación de imágenes"
   ]
  },
  {
   "cell_type": "code",
   "execution_count": 84,
   "metadata": {},
   "outputs": [
    {
     "data": {
      "text/html": [
       "<div>\n",
       "<style scoped>\n",
       "    .dataframe tbody tr th:only-of-type {\n",
       "        vertical-align: middle;\n",
       "    }\n",
       "\n",
       "    .dataframe tbody tr th {\n",
       "        vertical-align: top;\n",
       "    }\n",
       "\n",
       "    .dataframe thead th {\n",
       "        text-align: right;\n",
       "    }\n",
       "</style>\n",
       "<table border=\"1\" class=\"dataframe\">\n",
       "  <thead>\n",
       "    <tr style=\"text-align: right;\">\n",
       "      <th></th>\n",
       "      <th>weight (carat)</th>\n",
       "      <th>cut quality</th>\n",
       "      <th>color quality</th>\n",
       "      <th>clarity quality</th>\n",
       "      <th>depth (percentage)</th>\n",
       "      <th>length (millimeters)</th>\n",
       "      <th>width (millimeters)</th>\n",
       "      <th>depth (millimeters)</th>\n",
       "      <th>images</th>\n",
       "    </tr>\n",
       "    <tr>\n",
       "      <th>Id</th>\n",
       "      <th></th>\n",
       "      <th></th>\n",
       "      <th></th>\n",
       "      <th></th>\n",
       "      <th></th>\n",
       "      <th></th>\n",
       "      <th></th>\n",
       "      <th></th>\n",
       "      <th></th>\n",
       "    </tr>\n",
       "  </thead>\n",
       "  <tbody>\n",
       "    <tr>\n",
       "      <th>111000-6305</th>\n",
       "      <td>1.00</td>\n",
       "      <td>4.0</td>\n",
       "      <td>-9.0</td>\n",
       "      <td>1.0</td>\n",
       "      <td>49.350649</td>\n",
       "      <td>8.47</td>\n",
       "      <td>5.39</td>\n",
       "      <td>3.42</td>\n",
       "      <td>(111000-6305, [[[178 178 178], [178 178 178], ...</td>\n",
       "    </tr>\n",
       "    <tr>\n",
       "      <th>111000-6320</th>\n",
       "      <td>1.01</td>\n",
       "      <td>4.0</td>\n",
       "      <td>5.0</td>\n",
       "      <td>1.0</td>\n",
       "      <td>43.460765</td>\n",
       "      <td>9.39</td>\n",
       "      <td>5.52</td>\n",
       "      <td>3.24</td>\n",
       "      <td>(111000-6320, [[[177 179 180], [177 179 180], ...</td>\n",
       "    </tr>\n",
       "    <tr>\n",
       "      <th>1490932</th>\n",
       "      <td>0.27</td>\n",
       "      <td>4.0</td>\n",
       "      <td>3.0</td>\n",
       "      <td>5.0</td>\n",
       "      <td>62.857143</td>\n",
       "      <td>3.94</td>\n",
       "      <td>4.46</td>\n",
       "      <td>2.64</td>\n",
       "      <td>(1490932, [[[180 178 178], [180 178 178], [180...</td>\n",
       "    </tr>\n",
       "    <tr>\n",
       "      <th>1506838</th>\n",
       "      <td>0.70</td>\n",
       "      <td>4.0</td>\n",
       "      <td>1.0</td>\n",
       "      <td>2.0</td>\n",
       "      <td>64.618434</td>\n",
       "      <td>5.28</td>\n",
       "      <td>4.81</td>\n",
       "      <td>3.26</td>\n",
       "      <td>(1506838, [[[180 175 176], [180 175 176], [180...</td>\n",
       "    </tr>\n",
       "    <tr>\n",
       "      <th>1513169</th>\n",
       "      <td>0.29</td>\n",
       "      <td>2.0</td>\n",
       "      <td>4.0</td>\n",
       "      <td>2.0</td>\n",
       "      <td>61.899179</td>\n",
       "      <td>4.23</td>\n",
       "      <td>4.30</td>\n",
       "      <td>2.64</td>\n",
       "      <td>(1513169, [[[182 178 177], [182 178 177], [183...</td>\n",
       "    </tr>\n",
       "  </tbody>\n",
       "</table>\n",
       "</div>"
      ],
      "text/plain": [
       "             weight (carat)  cut quality  color quality  clarity quality  \\\n",
       "Id                                                                         \n",
       "111000-6305            1.00          4.0           -9.0              1.0   \n",
       "111000-6320            1.01          4.0            5.0              1.0   \n",
       "1490932                0.27          4.0            3.0              5.0   \n",
       "1506838                0.70          4.0            1.0              2.0   \n",
       "1513169                0.29          2.0            4.0              2.0   \n",
       "\n",
       "             depth (percentage)  length (millimeters)  width (millimeters)  \\\n",
       "Id                                                                           \n",
       "111000-6305           49.350649                  8.47                 5.39   \n",
       "111000-6320           43.460765                  9.39                 5.52   \n",
       "1490932               62.857143                  3.94                 4.46   \n",
       "1506838               64.618434                  5.28                 4.81   \n",
       "1513169               61.899179                  4.23                 4.30   \n",
       "\n",
       "             depth (millimeters)  \\\n",
       "Id                                 \n",
       "111000-6305                 3.42   \n",
       "111000-6320                 3.24   \n",
       "1490932                     2.64   \n",
       "1506838                     3.26   \n",
       "1513169                     2.64   \n",
       "\n",
       "                                                        images  \n",
       "Id                                                              \n",
       "111000-6305  (111000-6305, [[[178 178 178], [178 178 178], ...  \n",
       "111000-6320  (111000-6320, [[[177 179 180], [177 179 180], ...  \n",
       "1490932      (1490932, [[[180 178 178], [180 178 178], [180...  \n",
       "1506838      (1506838, [[[180 175 176], [180 175 176], [180...  \n",
       "1513169      (1513169, [[[182 178 177], [182 178 177], [183...  "
      ]
     },
     "execution_count": 84,
     "metadata": {},
     "output_type": "execute_result"
    }
   ],
   "source": [
    "image_list = []\n",
    "for filename in glob.glob(raw_data_path + '\\\\*.jpg'):\n",
    "    image_code = filename.split('\\\\')[3].split('.')[0]\n",
    "    image = cv2.imread(filename)\n",
    "    image_list.append((image_code, image))\n",
    "\n",
    "df_images_data = df_images_data.sort_index()\n",
    "image_list.sort()\n",
    "\n",
    "df_images_data['images'] = image_list\n",
    "\n",
    "df_images_data.head()\n"
   ]
  }
 ],
 "metadata": {
  "kernelspec": {
   "display_name": "data_analytics",
   "language": "python",
   "name": "python3"
  },
  "language_info": {
   "codemirror_mode": {
    "name": "ipython",
    "version": 3
   },
   "file_extension": ".py",
   "mimetype": "text/x-python",
   "name": "python",
   "nbconvert_exporter": "python",
   "pygments_lexer": "ipython3",
   "version": "3.9.16"
  },
  "orig_nbformat": 4,
  "vscode": {
   "interpreter": {
    "hash": "62be4b4d7aada9f05487a097e316e83dc3ceda15568e9d0ea281b513767b88d7"
   }
  }
 },
 "nbformat": 4,
 "nbformat_minor": 2
}
