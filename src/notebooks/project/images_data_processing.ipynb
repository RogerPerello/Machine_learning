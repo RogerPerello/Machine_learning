{
 "cells": [
  {
   "cell_type": "code",
   "execution_count": 1,
   "metadata": {},
   "outputs": [],
   "source": [
    "import os\n",
    "import pandas as pd\n",
    "\n",
    "if str(os.getcwdb()[-3:]).split(\"'\")[1] != 'src':\n",
    "    for _ in range(2):\n",
    "        os.chdir(os.path.dirname(os.getcwdb()))\n"
   ]
  },
  {
   "attachments": {},
   "cell_type": "markdown",
   "metadata": {},
   "source": [
    "# Consideraciones\n",
    "\n",
    "- En este \"notebook\" se trabajan los \"dataframes\" que relacionan cada imagen con sus características con tal de obtener un único \"dataframe\" que contenga los datos necesarios para que, una vez identificada la imagen introducida para la predicción, el otro modelo (\"XGB\"), basado en el \"dataframe\" original de precios, sea capaz de predecir el precio\n",
    "\n",
    "- Las imágenes y sus datos se obtienen aquí: https://www.kaggle.com/datasets/harshitlakhani/natural-diamonds-prices-images\n"
   ]
  },
  {
   "attachments": {},
   "cell_type": "markdown",
   "metadata": {},
   "source": [
    "# Unión\n",
    "\n",
    "- Como es más cómodo trabajar con un único \"dataframe\", se fusionan todos los de los diamantes por características \n"
   ]
  },
  {
   "cell_type": "code",
   "execution_count": 2,
   "metadata": {},
   "outputs": [],
   "source": [
    "df_cushion = pd.read_csv(r'data\\raw\\images_data\\data_cushion.csv')\n",
    "df_emerald = pd.read_csv(r'data\\raw\\images_data\\data_emerald.csv')\n",
    "df_heart = pd.read_csv(r'data\\raw\\images_data\\data_heart.csv')\n",
    "df_marquise = pd.read_csv(r'data\\raw\\images_data\\data_marquise.csv')\n",
    "df_oval = pd.read_csv(r'data\\raw\\images_data\\data_oval.csv')\n",
    "df_pear = pd.read_csv(r'data\\raw\\images_data\\data_pear.csv')\n",
    "df_princess = pd.read_csv(r'data\\raw\\images_data\\data_princess.csv')\n",
    "df_round = pd.read_csv(r'data\\raw\\images_data\\data_round.csv')\n",
    "\n",
    "df_diamonds = pd.read_csv(r'data\\processed\\competition\\train_processed.csv')\n"
   ]
  },
  {
   "cell_type": "code",
   "execution_count": 3,
   "metadata": {},
   "outputs": [
    {
     "data": {
      "text/html": [
       "<div>\n",
       "<style scoped>\n",
       "    .dataframe tbody tr th:only-of-type {\n",
       "        vertical-align: middle;\n",
       "    }\n",
       "\n",
       "    .dataframe tbody tr th {\n",
       "        vertical-align: top;\n",
       "    }\n",
       "\n",
       "    .dataframe thead th {\n",
       "        text-align: right;\n",
       "    }\n",
       "</style>\n",
       "<table border=\"1\" class=\"dataframe\">\n",
       "  <thead>\n",
       "    <tr style=\"text-align: right;\">\n",
       "      <th></th>\n",
       "      <th>Id</th>\n",
       "      <th>Shape</th>\n",
       "      <th>Weight</th>\n",
       "      <th>Clarity</th>\n",
       "      <th>Colour</th>\n",
       "      <th>Cut</th>\n",
       "      <th>Polish</th>\n",
       "      <th>Symmetry</th>\n",
       "      <th>Fluorescence</th>\n",
       "      <th>Messurements</th>\n",
       "      <th>Price</th>\n",
       "    </tr>\n",
       "  </thead>\n",
       "  <tbody>\n",
       "    <tr>\n",
       "      <th>0</th>\n",
       "      <td>1638147</td>\n",
       "      <td>CUSHION</td>\n",
       "      <td>0.55</td>\n",
       "      <td>SI2</td>\n",
       "      <td>E</td>\n",
       "      <td>EX</td>\n",
       "      <td>EX</td>\n",
       "      <td>VG</td>\n",
       "      <td>N</td>\n",
       "      <td>5.05-4.35×2.94</td>\n",
       "      <td>1,378.65</td>\n",
       "    </tr>\n",
       "    <tr>\n",
       "      <th>1</th>\n",
       "      <td>1630155</td>\n",
       "      <td>CUSHION</td>\n",
       "      <td>0.50</td>\n",
       "      <td>VVS1</td>\n",
       "      <td>FANCY</td>\n",
       "      <td>EX</td>\n",
       "      <td>EX</td>\n",
       "      <td>VG</td>\n",
       "      <td>F</td>\n",
       "      <td>4.60-4.31×2.92</td>\n",
       "      <td>1,379.74</td>\n",
       "    </tr>\n",
       "    <tr>\n",
       "      <th>2</th>\n",
       "      <td>1612606</td>\n",
       "      <td>CUSHION</td>\n",
       "      <td>0.51</td>\n",
       "      <td>VS2</td>\n",
       "      <td>H</td>\n",
       "      <td>EX</td>\n",
       "      <td>EX</td>\n",
       "      <td>VG</td>\n",
       "      <td>N</td>\n",
       "      <td>4.71-4.35×2.94</td>\n",
       "      <td>1,380.19</td>\n",
       "    </tr>\n",
       "    <tr>\n",
       "      <th>3</th>\n",
       "      <td>1638140</td>\n",
       "      <td>CUSHION</td>\n",
       "      <td>0.50</td>\n",
       "      <td>VS2</td>\n",
       "      <td>H</td>\n",
       "      <td>EX</td>\n",
       "      <td>EX</td>\n",
       "      <td>VG</td>\n",
       "      <td>N</td>\n",
       "      <td>4.91-4.26×2.88</td>\n",
       "      <td>1,380.61</td>\n",
       "    </tr>\n",
       "    <tr>\n",
       "      <th>4</th>\n",
       "      <td>1536093</td>\n",
       "      <td>CUSHION</td>\n",
       "      <td>0.53</td>\n",
       "      <td>SI1</td>\n",
       "      <td>D</td>\n",
       "      <td>EX</td>\n",
       "      <td>VG</td>\n",
       "      <td>VG</td>\n",
       "      <td>N</td>\n",
       "      <td>4.70-4.46×3.01</td>\n",
       "      <td>1,383.13</td>\n",
       "    </tr>\n",
       "  </tbody>\n",
       "</table>\n",
       "</div>"
      ],
      "text/plain": [
       "        Id    Shape  Weight Clarity Colour Cut Polish Symmetry Fluorescence  \\\n",
       "0  1638147  CUSHION    0.55     SI2      E  EX     EX       VG            N   \n",
       "1  1630155  CUSHION    0.50    VVS1  FANCY  EX     EX       VG            F   \n",
       "2  1612606  CUSHION    0.51     VS2      H  EX     EX       VG            N   \n",
       "3  1638140  CUSHION    0.50     VS2      H  EX     EX       VG            N   \n",
       "4  1536093  CUSHION    0.53     SI1      D  EX     VG       VG            N   \n",
       "\n",
       "     Messurements     Price  \n",
       "0  5.05-4.35×2.94  1,378.65  \n",
       "1  4.60-4.31×2.92  1,379.74  \n",
       "2  4.71-4.35×2.94  1,380.19  \n",
       "3  4.91-4.26×2.88  1,380.61  \n",
       "4  4.70-4.46×3.01  1,383.13  "
      ]
     },
     "execution_count": 3,
     "metadata": {},
     "output_type": "execute_result"
    }
   ],
   "source": [
    "df_cushion.head()\n"
   ]
  },
  {
   "cell_type": "code",
   "execution_count": 4,
   "metadata": {},
   "outputs": [
    {
     "name": "stdout",
     "output_type": "stream",
     "text": [
      "<class 'pandas.core.frame.DataFrame'>\n",
      "Int64Index: 6339 entries, 0 to 2055\n",
      "Data columns (total 11 columns):\n",
      " #   Column        Non-Null Count  Dtype  \n",
      "---  ------        --------------  -----  \n",
      " 0   Id            6339 non-null   object \n",
      " 1   Shape         6339 non-null   object \n",
      " 2   Weight        6339 non-null   float64\n",
      " 3   Clarity       6319 non-null   object \n",
      " 4   Colour        6339 non-null   object \n",
      " 5   Cut           6337 non-null   object \n",
      " 6   Polish        6338 non-null   object \n",
      " 7   Symmetry      6332 non-null   object \n",
      " 8   Fluorescence  6337 non-null   object \n",
      " 9   Messurements  6339 non-null   object \n",
      " 10  Price         6339 non-null   object \n",
      "dtypes: float64(1), object(10)\n",
      "memory usage: 594.3+ KB\n"
     ]
    }
   ],
   "source": [
    "dataframes_characteristics_list = [df_cushion, \n",
    "                                   df_emerald,\n",
    "                                   df_heart,\n",
    "                                   df_marquise,\n",
    "                                   df_oval,\n",
    "                                   df_pear,\n",
    "                                   df_princess,\n",
    "                                   df_round\n",
    "                                   ]\n",
    "\n",
    "df_characteristics = pd.concat(dataframes_characteristics_list)\n",
    "\n",
    "df_characteristics.info()\n"
   ]
  },
  {
   "attachments": {},
   "cell_type": "markdown",
   "metadata": {},
   "source": [
    "# Adaptación\n",
    "\n",
    "- Se adapta el \"dataframe\" resultante para que sea idéntico al que se pasará al modelo \"xgboost\" para su entreno"
   ]
  },
  {
   "cell_type": "code",
   "execution_count": 5,
   "metadata": {},
   "outputs": [
    {
     "data": {
      "text/html": [
       "<div>\n",
       "<style scoped>\n",
       "    .dataframe tbody tr th:only-of-type {\n",
       "        vertical-align: middle;\n",
       "    }\n",
       "\n",
       "    .dataframe tbody tr th {\n",
       "        vertical-align: top;\n",
       "    }\n",
       "\n",
       "    .dataframe thead th {\n",
       "        text-align: right;\n",
       "    }\n",
       "</style>\n",
       "<table border=\"1\" class=\"dataframe\">\n",
       "  <thead>\n",
       "    <tr style=\"text-align: right;\">\n",
       "      <th></th>\n",
       "      <th>id</th>\n",
       "      <th>weight (carat)</th>\n",
       "      <th>cut quality</th>\n",
       "      <th>color quality</th>\n",
       "      <th>clarity quality</th>\n",
       "      <th>depth (percentage)</th>\n",
       "      <th>table (percentage)</th>\n",
       "      <th>lenght (millimeters)</th>\n",
       "      <th>width (millimeters)</th>\n",
       "      <th>depth (millimeters)</th>\n",
       "      <th>price</th>\n",
       "    </tr>\n",
       "  </thead>\n",
       "  <tbody>\n",
       "    <tr>\n",
       "      <th>0</th>\n",
       "      <td>0</td>\n",
       "      <td>0.30</td>\n",
       "      <td>3.0</td>\n",
       "      <td>6.0</td>\n",
       "      <td>1.0</td>\n",
       "      <td>62.4</td>\n",
       "      <td>58.0</td>\n",
       "      <td>4.31</td>\n",
       "      <td>4.28</td>\n",
       "      <td>2.68</td>\n",
       "      <td>6.353</td>\n",
       "    </tr>\n",
       "    <tr>\n",
       "      <th>1</th>\n",
       "      <td>1</td>\n",
       "      <td>1.01</td>\n",
       "      <td>4.0</td>\n",
       "      <td>5.0</td>\n",
       "      <td>5.0</td>\n",
       "      <td>62.7</td>\n",
       "      <td>56.0</td>\n",
       "      <td>6.42</td>\n",
       "      <td>6.46</td>\n",
       "      <td>4.04</td>\n",
       "      <td>9.183</td>\n",
       "    </tr>\n",
       "    <tr>\n",
       "      <th>2</th>\n",
       "      <td>2</td>\n",
       "      <td>0.72</td>\n",
       "      <td>4.0</td>\n",
       "      <td>4.0</td>\n",
       "      <td>3.0</td>\n",
       "      <td>61.8</td>\n",
       "      <td>59.0</td>\n",
       "      <td>5.71</td>\n",
       "      <td>5.74</td>\n",
       "      <td>3.54</td>\n",
       "      <td>7.983</td>\n",
       "    </tr>\n",
       "    <tr>\n",
       "      <th>3</th>\n",
       "      <td>3</td>\n",
       "      <td>1.08</td>\n",
       "      <td>2.0</td>\n",
       "      <td>3.0</td>\n",
       "      <td>1.0</td>\n",
       "      <td>63.2</td>\n",
       "      <td>57.0</td>\n",
       "      <td>6.54</td>\n",
       "      <td>6.50</td>\n",
       "      <td>4.12</td>\n",
       "      <td>8.371</td>\n",
       "    </tr>\n",
       "    <tr>\n",
       "      <th>4</th>\n",
       "      <td>4</td>\n",
       "      <td>0.36</td>\n",
       "      <td>3.0</td>\n",
       "      <td>3.0</td>\n",
       "      <td>4.0</td>\n",
       "      <td>62.3</td>\n",
       "      <td>59.0</td>\n",
       "      <td>4.50</td>\n",
       "      <td>4.55</td>\n",
       "      <td>2.82</td>\n",
       "      <td>6.588</td>\n",
       "    </tr>\n",
       "  </tbody>\n",
       "</table>\n",
       "</div>"
      ],
      "text/plain": [
       "   id  weight (carat)  cut quality  color quality  clarity quality  \\\n",
       "0   0            0.30          3.0            6.0              1.0   \n",
       "1   1            1.01          4.0            5.0              5.0   \n",
       "2   2            0.72          4.0            4.0              3.0   \n",
       "3   3            1.08          2.0            3.0              1.0   \n",
       "4   4            0.36          3.0            3.0              4.0   \n",
       "\n",
       "   depth (percentage)  table (percentage)  lenght (millimeters)  \\\n",
       "0                62.4                58.0                  4.31   \n",
       "1                62.7                56.0                  6.42   \n",
       "2                61.8                59.0                  5.71   \n",
       "3                63.2                57.0                  6.54   \n",
       "4                62.3                59.0                  4.50   \n",
       "\n",
       "   width (millimeters)  depth (millimeters)  price  \n",
       "0                 4.28                 2.68  6.353  \n",
       "1                 6.46                 4.04  9.183  \n",
       "2                 5.74                 3.54  7.983  \n",
       "3                 6.50                 4.12  8.371  \n",
       "4                 4.55                 2.82  6.588  "
      ]
     },
     "execution_count": 5,
     "metadata": {},
     "output_type": "execute_result"
    }
   ],
   "source": [
    "df_diamonds.head()\n"
   ]
  },
  {
   "attachments": {},
   "cell_type": "markdown",
   "metadata": {},
   "source": [
    "## Índice"
   ]
  },
  {
   "cell_type": "code",
   "execution_count": 6,
   "metadata": {},
   "outputs": [
    {
     "data": {
      "text/html": [
       "<div>\n",
       "<style scoped>\n",
       "    .dataframe tbody tr th:only-of-type {\n",
       "        vertical-align: middle;\n",
       "    }\n",
       "\n",
       "    .dataframe tbody tr th {\n",
       "        vertical-align: top;\n",
       "    }\n",
       "\n",
       "    .dataframe thead th {\n",
       "        text-align: right;\n",
       "    }\n",
       "</style>\n",
       "<table border=\"1\" class=\"dataframe\">\n",
       "  <thead>\n",
       "    <tr style=\"text-align: right;\">\n",
       "      <th></th>\n",
       "      <th>Shape</th>\n",
       "      <th>Weight</th>\n",
       "      <th>Clarity</th>\n",
       "      <th>Colour</th>\n",
       "      <th>Cut</th>\n",
       "      <th>Polish</th>\n",
       "      <th>Symmetry</th>\n",
       "      <th>Fluorescence</th>\n",
       "      <th>Messurements</th>\n",
       "      <th>Price</th>\n",
       "    </tr>\n",
       "    <tr>\n",
       "      <th>Id</th>\n",
       "      <th></th>\n",
       "      <th></th>\n",
       "      <th></th>\n",
       "      <th></th>\n",
       "      <th></th>\n",
       "      <th></th>\n",
       "      <th></th>\n",
       "      <th></th>\n",
       "      <th></th>\n",
       "      <th></th>\n",
       "    </tr>\n",
       "  </thead>\n",
       "  <tbody>\n",
       "    <tr>\n",
       "      <th>1638147</th>\n",
       "      <td>CUSHION</td>\n",
       "      <td>0.55</td>\n",
       "      <td>SI2</td>\n",
       "      <td>E</td>\n",
       "      <td>EX</td>\n",
       "      <td>EX</td>\n",
       "      <td>VG</td>\n",
       "      <td>N</td>\n",
       "      <td>5.05-4.35×2.94</td>\n",
       "      <td>1,378.65</td>\n",
       "    </tr>\n",
       "    <tr>\n",
       "      <th>1630155</th>\n",
       "      <td>CUSHION</td>\n",
       "      <td>0.50</td>\n",
       "      <td>VVS1</td>\n",
       "      <td>FANCY</td>\n",
       "      <td>EX</td>\n",
       "      <td>EX</td>\n",
       "      <td>VG</td>\n",
       "      <td>F</td>\n",
       "      <td>4.60-4.31×2.92</td>\n",
       "      <td>1,379.74</td>\n",
       "    </tr>\n",
       "    <tr>\n",
       "      <th>1612606</th>\n",
       "      <td>CUSHION</td>\n",
       "      <td>0.51</td>\n",
       "      <td>VS2</td>\n",
       "      <td>H</td>\n",
       "      <td>EX</td>\n",
       "      <td>EX</td>\n",
       "      <td>VG</td>\n",
       "      <td>N</td>\n",
       "      <td>4.71-4.35×2.94</td>\n",
       "      <td>1,380.19</td>\n",
       "    </tr>\n",
       "    <tr>\n",
       "      <th>1638140</th>\n",
       "      <td>CUSHION</td>\n",
       "      <td>0.50</td>\n",
       "      <td>VS2</td>\n",
       "      <td>H</td>\n",
       "      <td>EX</td>\n",
       "      <td>EX</td>\n",
       "      <td>VG</td>\n",
       "      <td>N</td>\n",
       "      <td>4.91-4.26×2.88</td>\n",
       "      <td>1,380.61</td>\n",
       "    </tr>\n",
       "    <tr>\n",
       "      <th>1536093</th>\n",
       "      <td>CUSHION</td>\n",
       "      <td>0.53</td>\n",
       "      <td>SI1</td>\n",
       "      <td>D</td>\n",
       "      <td>EX</td>\n",
       "      <td>VG</td>\n",
       "      <td>VG</td>\n",
       "      <td>N</td>\n",
       "      <td>4.70-4.46×3.01</td>\n",
       "      <td>1,383.13</td>\n",
       "    </tr>\n",
       "  </tbody>\n",
       "</table>\n",
       "</div>"
      ],
      "text/plain": [
       "           Shape  Weight Clarity Colour Cut Polish Symmetry Fluorescence  \\\n",
       "Id                                                                         \n",
       "1638147  CUSHION    0.55     SI2      E  EX     EX       VG            N   \n",
       "1630155  CUSHION    0.50    VVS1  FANCY  EX     EX       VG            F   \n",
       "1612606  CUSHION    0.51     VS2      H  EX     EX       VG            N   \n",
       "1638140  CUSHION    0.50     VS2      H  EX     EX       VG            N   \n",
       "1536093  CUSHION    0.53     SI1      D  EX     VG       VG            N   \n",
       "\n",
       "           Messurements     Price  \n",
       "Id                                 \n",
       "1638147  5.05-4.35×2.94  1,378.65  \n",
       "1630155  4.60-4.31×2.92  1,379.74  \n",
       "1612606  4.71-4.35×2.94  1,380.19  \n",
       "1638140  4.91-4.26×2.88  1,380.61  \n",
       "1536093  4.70-4.46×3.01  1,383.13  "
      ]
     },
     "execution_count": 6,
     "metadata": {},
     "output_type": "execute_result"
    }
   ],
   "source": [
    "df_characteristics = df_characteristics.set_index('Id')\n",
    "\n",
    "df_characteristics.head()\n"
   ]
  },
  {
   "attachments": {},
   "cell_type": "markdown",
   "metadata": {},
   "source": [
    "## Borrado de columnas\n",
    "\n",
    "- Ya existe una columna de precio, pero se borrará para usar el otro modelo con tal de predecirlo, a partir de la imagen que se introduzca, con mayor exactitud, ya que el otro modelo se entrena con datos que este primero no ve y tiene ocho veces los diamantes que constan en este. Tratar de predecir el precio directamente de la imagen podría dar lugar a un mayor margen de error\n",
    "\n",
    "- Se ha visto en \"Unión\" que hay nulos, además de columnas que no sirven. No queda más remedio que descartarlos"
   ]
  },
  {
   "cell_type": "code",
   "execution_count": 7,
   "metadata": {},
   "outputs": [
    {
     "data": {
      "text/html": [
       "<div>\n",
       "<style scoped>\n",
       "    .dataframe tbody tr th:only-of-type {\n",
       "        vertical-align: middle;\n",
       "    }\n",
       "\n",
       "    .dataframe tbody tr th {\n",
       "        vertical-align: top;\n",
       "    }\n",
       "\n",
       "    .dataframe thead th {\n",
       "        text-align: right;\n",
       "    }\n",
       "</style>\n",
       "<table border=\"1\" class=\"dataframe\">\n",
       "  <thead>\n",
       "    <tr style=\"text-align: right;\">\n",
       "      <th></th>\n",
       "      <th>Weight</th>\n",
       "      <th>Clarity</th>\n",
       "      <th>Colour</th>\n",
       "      <th>Cut</th>\n",
       "      <th>Messurements</th>\n",
       "    </tr>\n",
       "    <tr>\n",
       "      <th>Id</th>\n",
       "      <th></th>\n",
       "      <th></th>\n",
       "      <th></th>\n",
       "      <th></th>\n",
       "      <th></th>\n",
       "    </tr>\n",
       "  </thead>\n",
       "  <tbody>\n",
       "    <tr>\n",
       "      <th>1638147</th>\n",
       "      <td>0.55</td>\n",
       "      <td>SI2</td>\n",
       "      <td>E</td>\n",
       "      <td>EX</td>\n",
       "      <td>5.05-4.35×2.94</td>\n",
       "    </tr>\n",
       "    <tr>\n",
       "      <th>1630155</th>\n",
       "      <td>0.50</td>\n",
       "      <td>VVS1</td>\n",
       "      <td>FANCY</td>\n",
       "      <td>EX</td>\n",
       "      <td>4.60-4.31×2.92</td>\n",
       "    </tr>\n",
       "    <tr>\n",
       "      <th>1612606</th>\n",
       "      <td>0.51</td>\n",
       "      <td>VS2</td>\n",
       "      <td>H</td>\n",
       "      <td>EX</td>\n",
       "      <td>4.71-4.35×2.94</td>\n",
       "    </tr>\n",
       "    <tr>\n",
       "      <th>1638140</th>\n",
       "      <td>0.50</td>\n",
       "      <td>VS2</td>\n",
       "      <td>H</td>\n",
       "      <td>EX</td>\n",
       "      <td>4.91-4.26×2.88</td>\n",
       "    </tr>\n",
       "    <tr>\n",
       "      <th>1536093</th>\n",
       "      <td>0.53</td>\n",
       "      <td>SI1</td>\n",
       "      <td>D</td>\n",
       "      <td>EX</td>\n",
       "      <td>4.70-4.46×3.01</td>\n",
       "    </tr>\n",
       "  </tbody>\n",
       "</table>\n",
       "</div>"
      ],
      "text/plain": [
       "         Weight Clarity Colour Cut    Messurements\n",
       "Id                                                \n",
       "1638147    0.55     SI2      E  EX  5.05-4.35×2.94\n",
       "1630155    0.50    VVS1  FANCY  EX  4.60-4.31×2.92\n",
       "1612606    0.51     VS2      H  EX  4.71-4.35×2.94\n",
       "1638140    0.50     VS2      H  EX  4.91-4.26×2.88\n",
       "1536093    0.53     SI1      D  EX  4.70-4.46×3.01"
      ]
     },
     "execution_count": 7,
     "metadata": {},
     "output_type": "execute_result"
    }
   ],
   "source": [
    "df_characteristics = df_characteristics.drop(columns=['Polish', 'Symmetry', 'Fluorescence', 'Price', 'Shape'])\n",
    "\n",
    "df_characteristics.head()\n"
   ]
  },
  {
   "cell_type": "code",
   "execution_count": 8,
   "metadata": {},
   "outputs": [
    {
     "name": "stdout",
     "output_type": "stream",
     "text": [
      "<class 'pandas.core.frame.DataFrame'>\n",
      "Index: 6317 entries, 1638147 to 1630512\n",
      "Data columns (total 5 columns):\n",
      " #   Column        Non-Null Count  Dtype  \n",
      "---  ------        --------------  -----  \n",
      " 0   Weight        6317 non-null   float64\n",
      " 1   Clarity       6317 non-null   object \n",
      " 2   Colour        6317 non-null   object \n",
      " 3   Cut           6317 non-null   object \n",
      " 4   Messurements  6317 non-null   object \n",
      "dtypes: float64(1), object(4)\n",
      "memory usage: 296.1+ KB\n"
     ]
    }
   ],
   "source": [
    "df_characteristics = df_characteristics.dropna()\n",
    "\n",
    "df_characteristics.info()\n"
   ]
  },
  {
   "attachments": {},
   "cell_type": "markdown",
   "metadata": {},
   "source": [
    "## Columna \"Cut\"\n",
    "\n",
    "- Se pasa la columna a números\n",
    "\n",
    "- No hay el equivalente a \"Premium\" del \"dataframe\" de predicción de precios, así que se ignora ese número\n"
   ]
  },
  {
   "cell_type": "code",
   "execution_count": 9,
   "metadata": {},
   "outputs": [
    {
     "data": {
      "text/plain": [
       "array(['EX', 'VG', 'GD', 'F'], dtype=object)"
      ]
     },
     "execution_count": 9,
     "metadata": {},
     "output_type": "execute_result"
    }
   ],
   "source": [
    "df_characteristics['Cut'].unique()\n"
   ]
  },
  {
   "cell_type": "code",
   "execution_count": 10,
   "metadata": {},
   "outputs": [
    {
     "name": "stderr",
     "output_type": "stream",
     "text": [
      "C:\\Users\\Roger\\AppData\\Local\\Temp\\ipykernel_8388\\1055745526.py:1: DeprecationWarning: In a future version, `df.iloc[:, i] = newvals` will attempt to set the values inplace instead of always setting a new array. To retain the old behavior, use either `df[df.columns[i]] = newvals` or, if columns are non-unique, `df.isetitem(i, newvals)`\n",
      "  df_characteristics.loc[:, 'Cut'] = df_characteristics['Cut'].apply(lambda x: 0 if x == 'F'\n",
      "C:\\Users\\Roger\\AppData\\Local\\Temp\\ipykernel_8388\\1055745526.py:6: DeprecationWarning: In a future version, `df.iloc[:, i] = newvals` will attempt to set the values inplace instead of always setting a new array. To retain the old behavior, use either `df[df.columns[i]] = newvals` or, if columns are non-unique, `df.isetitem(i, newvals)`\n",
      "  df_characteristics.loc[:, 'Cut'] = df_characteristics['Cut'].astype(float)\n"
     ]
    },
    {
     "data": {
      "text/plain": [
       "array([4., 2., 1., 0.])"
      ]
     },
     "execution_count": 10,
     "metadata": {},
     "output_type": "execute_result"
    }
   ],
   "source": [
    "df_characteristics.loc[:, 'Cut'] = df_characteristics['Cut'].apply(lambda x: 0 if x == 'F' \n",
    "                                                                    else 1 if x == 'GD'\n",
    "                                                                    else 2 if x == 'VG'\n",
    "                                                                    else 4\n",
    "                                                                    )\n",
    "df_characteristics.loc[:, 'Cut'] = df_characteristics['Cut'].astype(float)\n",
    "\n",
    "df_characteristics['Cut'].unique()"
   ]
  },
  {
   "attachments": {},
   "cell_type": "markdown",
   "metadata": {},
   "source": [
    "## Columna \"Colour\"\n",
    "\n",
    "- Hay muchas más posibilidades de color que en el \"dataframe\" de precios, así que se descartan "
   ]
  },
  {
   "cell_type": "code",
   "execution_count": 11,
   "metadata": {},
   "outputs": [
    {
     "data": {
      "text/plain": [
       "array(['E', 'FANCY', 'H', 'D', 'I', 'M', 'K', 'W-X', 'Y-Z', 'N', 'J', 'F',\n",
       "       'L', 'G', 'O-P', 'S-T', 'U-V', 'W', 'Q-R', 'O'], dtype=object)"
      ]
     },
     "execution_count": 11,
     "metadata": {},
     "output_type": "execute_result"
    }
   ],
   "source": [
    "df_characteristics['Colour'].unique()\n"
   ]
  },
  {
   "cell_type": "code",
   "execution_count": 12,
   "metadata": {},
   "outputs": [
    {
     "name": "stderr",
     "output_type": "stream",
     "text": [
      "C:\\Users\\Roger\\AppData\\Local\\Temp\\ipykernel_8388\\3476073297.py:1: FutureWarning: Index.__or__ operating as a set operation is deprecated, in the future this will be a logical operation matching Series.__or__.  Use index.union(other) instead.\n",
      "  df_characteristics = df_characteristics.drop(df_characteristics[df_characteristics['Colour'] == 'FANCY'].index\n",
      "C:\\Users\\Roger\\AppData\\Local\\Temp\\ipykernel_8388\\3476073297.py:1: FutureWarning: Index.__or__ operating as a set operation is deprecated, in the future this will be a logical operation matching Series.__or__.  Use index.union(other) instead.\n",
      "  df_characteristics = df_characteristics.drop(df_characteristics[df_characteristics['Colour'] == 'FANCY'].index\n",
      "C:\\Users\\Roger\\AppData\\Local\\Temp\\ipykernel_8388\\3476073297.py:1: FutureWarning: Index.__or__ operating as a set operation is deprecated, in the future this will be a logical operation matching Series.__or__.  Use index.union(other) instead.\n",
      "  df_characteristics = df_characteristics.drop(df_characteristics[df_characteristics['Colour'] == 'FANCY'].index\n",
      "C:\\Users\\Roger\\AppData\\Local\\Temp\\ipykernel_8388\\3476073297.py:1: FutureWarning: Index.__or__ operating as a set operation is deprecated, in the future this will be a logical operation matching Series.__or__.  Use index.union(other) instead.\n",
      "  df_characteristics = df_characteristics.drop(df_characteristics[df_characteristics['Colour'] == 'FANCY'].index\n",
      "C:\\Users\\Roger\\AppData\\Local\\Temp\\ipykernel_8388\\3476073297.py:1: FutureWarning: Index.__or__ operating as a set operation is deprecated, in the future this will be a logical operation matching Series.__or__.  Use index.union(other) instead.\n",
      "  df_characteristics = df_characteristics.drop(df_characteristics[df_characteristics['Colour'] == 'FANCY'].index\n",
      "C:\\Users\\Roger\\AppData\\Local\\Temp\\ipykernel_8388\\3476073297.py:1: FutureWarning: Index.__or__ operating as a set operation is deprecated, in the future this will be a logical operation matching Series.__or__.  Use index.union(other) instead.\n",
      "  df_characteristics = df_characteristics.drop(df_characteristics[df_characteristics['Colour'] == 'FANCY'].index\n",
      "C:\\Users\\Roger\\AppData\\Local\\Temp\\ipykernel_8388\\3476073297.py:1: FutureWarning: Index.__or__ operating as a set operation is deprecated, in the future this will be a logical operation matching Series.__or__.  Use index.union(other) instead.\n",
      "  df_characteristics = df_characteristics.drop(df_characteristics[df_characteristics['Colour'] == 'FANCY'].index\n"
     ]
    },
    {
     "data": {
      "text/plain": [
       "array(['E', 'H', 'D', 'I', 'J', 'F', 'G'], dtype=object)"
      ]
     },
     "execution_count": 12,
     "metadata": {},
     "output_type": "execute_result"
    }
   ],
   "source": [
    "df_characteristics = df_characteristics.drop(df_characteristics[df_characteristics['Colour'] == 'FANCY'].index\n",
    "                                                | df_characteristics[df_characteristics['Colour'] == 'M'].index\n",
    "                                                | df_characteristics[df_characteristics['Colour'] == 'K'].index\n",
    "                                                | df_characteristics[df_characteristics['Colour'] == 'W-X'].index\n",
    "                                                | df_characteristics[df_characteristics['Colour'] == 'Y-Z'].index\n",
    "                                                | df_characteristics[df_characteristics['Colour'] == 'N'].index\n",
    "                                                | df_characteristics[df_characteristics['Colour'] == 'L'].index\n",
    "                                                | df_characteristics[df_characteristics['Colour'] == 'O-P'].index\n",
    "                                                | df_characteristics[df_characteristics['Colour'] == 'S-T'].index\n",
    "                                                | df_characteristics[df_characteristics['Colour'] == 'U-V'].index\n",
    "                                                | df_characteristics[df_characteristics['Colour'] == 'W'].index\n",
    "                                                | df_characteristics[df_characteristics['Colour'] == 'Q-R'].index\n",
    "                                                | df_characteristics[df_characteristics['Colour'] == 'O'].index                                                                                  \n",
    "                                                )\n",
    "\n",
    "df_characteristics['Colour'].unique()\n"
   ]
  },
  {
   "cell_type": "code",
   "execution_count": 13,
   "metadata": {},
   "outputs": [
    {
     "name": "stderr",
     "output_type": "stream",
     "text": [
      "C:\\Users\\Roger\\AppData\\Local\\Temp\\ipykernel_8388\\1919486356.py:1: DeprecationWarning: In a future version, `df.iloc[:, i] = newvals` will attempt to set the values inplace instead of always setting a new array. To retain the old behavior, use either `df[df.columns[i]] = newvals` or, if columns are non-unique, `df.isetitem(i, newvals)`\n",
      "  df_characteristics.loc[:, 'Colour'] = df_characteristics['Colour'].apply(lambda x: 0 if x == 'J'\n",
      "C:\\Users\\Roger\\AppData\\Local\\Temp\\ipykernel_8388\\1919486356.py:8: DeprecationWarning: In a future version, `df.iloc[:, i] = newvals` will attempt to set the values inplace instead of always setting a new array. To retain the old behavior, use either `df[df.columns[i]] = newvals` or, if columns are non-unique, `df.isetitem(i, newvals)`\n",
      "  df_characteristics.loc[:, 'Colour'] = df_characteristics['Colour'].astype(float)\n"
     ]
    },
    {
     "data": {
      "text/plain": [
       "array([5., 2., 6., 1., 0., 4., 3.])"
      ]
     },
     "execution_count": 13,
     "metadata": {},
     "output_type": "execute_result"
    }
   ],
   "source": [
    "df_characteristics.loc[:, 'Colour'] = df_characteristics['Colour'].apply(lambda x: 0 if x == 'J'\n",
    "                                                else 1 if x == 'I' \n",
    "                                                else 2 if x == 'H' \n",
    "                                                else 3 if x == 'G'\n",
    "                                                else 4 if x == 'F'\n",
    "                                                else 5 if x == 'E'\n",
    "                                                else 6)\n",
    "df_characteristics.loc[:, 'Colour'] = df_characteristics['Colour'].astype(float)\n",
    "\n",
    "df_characteristics['Colour'].unique()\n"
   ]
  },
  {
   "attachments": {},
   "cell_type": "markdown",
   "metadata": {},
   "source": [
    "## Columna \"Clarity\"\n",
    "\n",
    "- No existe la claridad \"FL\" en el \"dataframe\" de precios, así que se descarta"
   ]
  },
  {
   "cell_type": "code",
   "execution_count": 14,
   "metadata": {},
   "outputs": [
    {
     "data": {
      "text/plain": [
       "array(['SI2', 'VS2', 'SI1', 'VVS1', 'VVS2', 'VS1', 'IF', 'I1', 'FL'],\n",
       "      dtype=object)"
      ]
     },
     "execution_count": 14,
     "metadata": {},
     "output_type": "execute_result"
    }
   ],
   "source": [
    "df_characteristics['Clarity'].unique()\n"
   ]
  },
  {
   "cell_type": "code",
   "execution_count": 15,
   "metadata": {},
   "outputs": [
    {
     "data": {
      "text/plain": [
       "array(['SI2', 'VS2', 'SI1', 'VVS1', 'VVS2', 'VS1', 'IF', 'I1'],\n",
       "      dtype=object)"
      ]
     },
     "execution_count": 15,
     "metadata": {},
     "output_type": "execute_result"
    }
   ],
   "source": [
    "df_characteristics = df_characteristics.drop(df_characteristics[df_characteristics['Clarity'] == 'FL'].index)\n",
    "\n",
    "df_characteristics['Clarity'].unique()\n"
   ]
  },
  {
   "cell_type": "code",
   "execution_count": 16,
   "metadata": {},
   "outputs": [
    {
     "name": "stderr",
     "output_type": "stream",
     "text": [
      "C:\\Users\\Roger\\AppData\\Local\\Temp\\ipykernel_8388\\3580306968.py:1: DeprecationWarning: In a future version, `df.iloc[:, i] = newvals` will attempt to set the values inplace instead of always setting a new array. To retain the old behavior, use either `df[df.columns[i]] = newvals` or, if columns are non-unique, `df.isetitem(i, newvals)`\n",
      "  df_characteristics.loc[:, 'Clarity'] = df_characteristics['Clarity'].apply(lambda x: 0 if x == 'I1'\n",
      "C:\\Users\\Roger\\AppData\\Local\\Temp\\ipykernel_8388\\3580306968.py:10: DeprecationWarning: In a future version, `df.iloc[:, i] = newvals` will attempt to set the values inplace instead of always setting a new array. To retain the old behavior, use either `df[df.columns[i]] = newvals` or, if columns are non-unique, `df.isetitem(i, newvals)`\n",
      "  df_characteristics.loc[:, 'Clarity'] = df_characteristics['Clarity'].astype(float)\n"
     ]
    },
    {
     "data": {
      "text/plain": [
       "array([1., 3., 2., 6., 5., 4., 7., 0.])"
      ]
     },
     "execution_count": 16,
     "metadata": {},
     "output_type": "execute_result"
    }
   ],
   "source": [
    "df_characteristics.loc[:, 'Clarity'] = df_characteristics['Clarity'].apply(lambda x: 0 if x == 'I1'\n",
    "                                                                            else 1 if x == 'SI2'\n",
    "                                                                            else 2 if x == 'SI1'\n",
    "                                                                            else 3 if x == 'VS2'\n",
    "                                                                            else 4 if x == 'VS1'\n",
    "                                                                            else 5 if x == 'VVS2'\n",
    "                                                                            else 6 if x == 'VVS1'\n",
    "                                                                            else 7\n",
    "                                                                            )\n",
    "df_characteristics.loc[:, 'Clarity'] = df_characteristics['Clarity'].astype(float)\n",
    "\n",
    "df_characteristics['Clarity'].unique()\n"
   ]
  },
  {
   "attachments": {},
   "cell_type": "markdown",
   "metadata": {},
   "source": [
    "## Columna \"Messurements\"\n",
    "\n",
    "- Hay que dividirla en las 3 correspondientes del \"dataframe\" de precios\n",
    "\n",
    "- Con los datos resultantes, hay que calcular la columna de \"depth (percentage)\" mediante la operación aprendida en el EDA"
   ]
  },
  {
   "cell_type": "code",
   "execution_count": 17,
   "metadata": {},
   "outputs": [
    {
     "data": {
      "text/plain": [
       "array(['5.05-4.35×2.94', '4.71-4.35×2.94', '4.91-4.26×2.88', ...,\n",
       "       '5.00-5.04×3.18', '4.93-4.96×3.19', '5.09-5.13×3.12'], dtype=object)"
      ]
     },
     "execution_count": 17,
     "metadata": {},
     "output_type": "execute_result"
    }
   ],
   "source": [
    "df_characteristics['Messurements'].unique()\n"
   ]
  },
  {
   "cell_type": "code",
   "execution_count": 18,
   "metadata": {},
   "outputs": [
    {
     "data": {
      "text/plain": [
       "array(['5.05', '4.71', '4.91', '4.70', '4.76', '5.16', '4.48', '4.55',\n",
       "       '4.89', '4.69', '4.78', '4.64', '4.63', '4.53', '5.13', '4.67',\n",
       "       '4.62', '5.19', '5.01', '4.57', '4.96', '5.28', '5.34', '4.49',\n",
       "       '4.77', '4.95', '4.66', '3.95', '4.25', '4.97', '4.98', '4.59',\n",
       "       '4.44', '4.93', '4.60', '4.92', '4.84', '5.18', '4.73', '4.94',\n",
       "       '4.56', '4.74', '4.99', '4.86', '4.61', '5.03', '5.06', '5.08',\n",
       "       '4.52', '4.43', '4.82', '4.58', '5.55', '4.87', '5.20', '4.72',\n",
       "       '4.47', '5.02', '4.88', '4.75', '5.22', '5.23', '5.17', '5.21',\n",
       "       '4.81', '4.68', '5.04', '5.53', '5.24', '4.45', '4.39', '5.44',\n",
       "       '4.51', '5.35', '5.00', '5.52', '4.90', '5.15', '4.50', '4.65',\n",
       "       '5.10', '4.54', '5.11', '5.29', '4.83', '4.32', '4.22', '5.46',\n",
       "       '5.62', '5.32', '5.36', '5.30', '5.54', '5.37', '5.73', '5.64',\n",
       "       '5.51', '5.67', '5.60', '5.80', '5.83', '5.43', '5.45', '5.88',\n",
       "       '6.06', '5.78', '5.26', '5.09', '5.56', '5.42', '5.58', '5.12',\n",
       "       '5.69', '5.75', '5.41', '5.70', '5.40', '5.33', '5.14', '5.25',\n",
       "       '5.72', '5.31', '5.86', '5.49', '5.47', '5.57', '5.85', '5.07',\n",
       "       '5.27', '5.93', '5.48', '6.13', '5.38', '5.68', '5.76', '6.37',\n",
       "       '5.61', '5.84', '5.65', '5.77', '6.08', '5.79', '6.04', '6.36',\n",
       "       '5.50', '5.82', '6.34', '5.95', '5.66', '6.99', '6.68', '5.90',\n",
       "       '6.32', '6.03', '6.27', '5.39', '5.74', '5.63', '6.10', '6.43',\n",
       "       '5.71', '5.92', '5.97', '5.94', '6.55', '5.99', '6.50', '6.22',\n",
       "       '6.72', '6.01', '6.15', '6.05', '6.11', '6.00', '5.89', '6.02',\n",
       "       '6.24', '6.19', '6.20', '6.66', '5.98', '5.91', '7.59', '6.12',\n",
       "       '7.07', '6.17', '5.59', '6.28', '6.38', '7.05', '6.25', '5.81',\n",
       "       '5.87', '6.35', '6.14', '6.07', '6.29', '6.23', '5.96', '6.30',\n",
       "       '6.42', '6.51', '6.21', '6.45', '6.09', '6.40', '6.47', '6.18',\n",
       "       '6.33', '6.26', '7.06', '6.81', '7.19', '6.88', '7.87', '6.56',\n",
       "       '6.69', '6.71', '6.54', '6.64', '7.35', '7.43', '6.39', '6.84',\n",
       "       '7.16', '6.60', '6.77', '6.49', '6.46', '6.61', '7.32', '8.29',\n",
       "       '8.61', '8.33', '8.52', '9.34', '9.42', '9.21', '9.63', '6.52',\n",
       "       '6.75', '7.28', '7.00', '7.04', '6.67', '8.25', '6.53', '6.95',\n",
       "       '7.78', '7.25', '7.33', '7.39', '7.31', '7.97', '7.73', '7.34',\n",
       "       '7.03', '7.66', '7.36', '7.44', '6.63', '7.13', '7.48', '7.10',\n",
       "       '7.93', '7.86', '7.58', '9.14', '8.21', '8.94', '7.64', '8.93',\n",
       "       '6.98', '7.09', '7.45', '6.62', '6.90', '7.41', '7.38', '8.15',\n",
       "       '8.14', '7.71', '7.62', '4.35', '4.40', '4.41', '4.79', '4.46',\n",
       "       '4.42', '4.80', '4.85', '4.27', '3.96', '3.94', '4.07', '4.16',\n",
       "       '4.23', '3.97', '4.04', '4.26', '3.99', '4.09', '4.12', '4.13',\n",
       "       '4.15', '4.30', '3.93', '4.05', '4.24', '4.08', '4.03', '4.29',\n",
       "       '3.92', '4.38', '4.19', '3.98', '4.20', '3.88', '4.37', '4.33',\n",
       "       '3.90', '3.86', '4.10', '4.01', '4.02', '4.21', '4.11', '4.14',\n",
       "       '3.84', '4.17', '4.36', '4.28', '4.31', '3.73', '4.18', '4.06',\n",
       "       '4.00', '3.91', '3.87', '3.89', '4.34', '3.83', '3.85', '8.09',\n",
       "       '9.12', '8.01', '8.56', '8.71', '8.80', '8.38', '8.43', '8.54',\n",
       "       '8.49', '8.83', '7.60', '7.82', '8.82', '8.05', '8.20', '9.26',\n",
       "       '9.10', '9.08', '7.65', '7.50', '7.68', '7.88', '7.08', '6.97',\n",
       "       '7.69', '7.11', '7.56', '6.44', '6.57', '7.52', '6.96', '8.26',\n",
       "       '7.94', '6.31', '6.65', '6.79', '7.01', '6.48', '6.73', '6.82',\n",
       "       '6.58', '6.78', '6.80', '6.89', '6.70', '7.02', '6.93', '6.87',\n",
       "       '7.53', '7.37', '6.85', '6.74', '6.92', '6.83', '7.23', '6.16',\n",
       "       '6.86', '6.41', '7.15', '7.27', '7.18', '6.76', '7.24', '7.63',\n",
       "       '7.26', '7.20', '7.47', '7.90', '7.30', '7.54', '7.55', '7.17',\n",
       "       '8.13', '7.40', '8.44', '7.29', '8.00', '7.51', '7.61', '7.95',\n",
       "       '9.43', '9.55', '9.53', '9.38', '10', '9.94', '11', '9.60', '8.98',\n",
       "       '8.50', '8.39', '8.11', '9.98', '8.28', '8.53', '8.16', '7.91',\n",
       "       '8.74', '9.22', '9.70', '9.25', '9.18', '9.61', '9.67', '9.81',\n",
       "       '9.49', '9.85', '9.75', '7.74', '7.79', '7.21', '8.65', '8.45',\n",
       "       '7.42', '9.84', '7.67', '7.22', '7.84', '7.12', '7.46', '8.55',\n",
       "       '8.46', '9.58', '9.03', '8.08', '8.57', '9.68', '7.80', '8.72',\n",
       "       '9.39', '8.19', '7.83', '8.77', '8.30', '9.01', '8.37', '9.33',\n",
       "       '8.59', '8.34', '8.99', '8.17', '12', '9.71', '9.99', '9.48',\n",
       "       '8.90', '8.27', '8.63', '8.60', '8.84', '8.79', '7.96', '8.10',\n",
       "       '8.32', '8.64', '9.06', '8.36', '8.92', '8.35', '9.07', '8.85',\n",
       "       '9.45', '6.59', '8.03', '8.70', '9.13', '9.00', '9.24', '9.30',\n",
       "       '9.44', '8.22', '8.40', '8.87', '9.46', '9.23', '8.62', '9.05',\n",
       "       '9.97', '9.62', '8.23', '9.76', '3.76', '3.80', '3.79', '3.74',\n",
       "       '3.66', '3.78', '3.63', '3.72', '3.81', '3.77', '3.71', '3.82',\n",
       "       '3.75', '3.67', '3.54', '3.69', '3.64', '3.59'], dtype=object)"
      ]
     },
     "execution_count": 18,
     "metadata": {},
     "output_type": "execute_result"
    }
   ],
   "source": [
    "df_characteristics['lenght (millimeters)'] =  df_characteristics['Messurements'].str.extract('^([0-9]?.?[0-9]+)')\n",
    "\n",
    "df_characteristics['lenght (millimeters)'].unique()\n"
   ]
  },
  {
   "cell_type": "code",
   "execution_count": 19,
   "metadata": {},
   "outputs": [
    {
     "data": {
      "text/plain": [
       "array(['4.35', '4.26', '4.46', '4.42', '4.21', '4.17', '4.38', '4.50',\n",
       "       '4.24', '4.52', '4.48', '4.33', '4.43', '4.47', '4.12', '4.28',\n",
       "       '4.40', '4.45', '4.29', '4.20', '4.81', '4.27', '4.32', '4.34',\n",
       "       '4.00', '3.89', '3.98', '3.78', '4.06', '4.53', '4.25', '4.16',\n",
       "       '4.13', '4.37', '4.49', '4.31', '4.39', '4.19', '4.51', '4.23',\n",
       "       '4.22', '4.79', '4.44', '4.09', '4.36', '4.86', '4.18', '4.95',\n",
       "       '4.72', '4.78', '4.83', '4.62', '4.41', '4.14', '4.84', '4.67',\n",
       "       '4.30', '4.73', '4.58', '4.54', '3.92', '3.84', '3.97', '4.60',\n",
       "       '4.11', '4.96', '5.01', '4.55', '5.11', '4.90', '4.10', '5.14',\n",
       "       '5.16', '4.94', '4.82', '5.08', '5.26', '5.06', '4.98', '4.63',\n",
       "       '4.93', '5.10', '4.71', '5.04', '5.00', '4.68', '5.12', '4.89',\n",
       "       '4.88', '5.03', '4.87', '5.52', '5.30', '5.15', '4.80', '4.66',\n",
       "       '4.85', '5.29', '4.74', '5.02', '5.05', '4.99', '4.91', '5.19',\n",
       "       '5.47', '4.77', '5.23', '5.13', '4.59', '5.18', '5.09', '4.75',\n",
       "       '4.65', '5.27', '5.42', '5.33', '4.97', '5.22', '5.79', '5.36',\n",
       "       '5.39', '5.07', '4.64', '4.56', '5.21', '4.69', '4.92', '5.38',\n",
       "       '5.41', '5.54', '5.44', '6.58', '6.51', '5.35', '5.50', '5.48',\n",
       "       '5.56', '5.40', '5.32', '5.43', '5.51', '6.33', '5.69', '5.49',\n",
       "       '5.17', '6.37', '5.46', '4.76', '5.57', '5.77', '5.37', '5.66',\n",
       "       '5.25', '4.70', '5.53', '5.91', '6.85', '6.42', '5.20', '5.31',\n",
       "       '5.68', '5.34', '6.59', '5.70', '5.84', '6.03', '5.63', '5.62',\n",
       "       '5.67', '5.71', '5.60', '5.93', '5.28', '5.81', '5.61', '5.24',\n",
       "       '5.78', '5.45', '6.30', '5.55', '6.05', '5.82', '5.58', '4.61',\n",
       "       '7.01', '5.72', '5.94', '6.74', '5.87', '6.20', '6.52', '6.18',\n",
       "       '5.59', '6.32', '6.06', '6.46', '5.65', '5.92', '5.74', '5.75',\n",
       "       '6.38', '6.08', '7.08', '5.97', '5.85', '5.99', '6.19', '6.25',\n",
       "       '5.88', '5.64', '6.63', '5.73', '8.07', '7.83', '8.03', '8.35',\n",
       "       '8.70', '8.98', '8.59', '8.61', '8.38', '6.31', '5.90', '6.79',\n",
       "       '6.82', '6.35', '6.60', '5.86', '6.76', '7.07', '7.32', '6.97',\n",
       "       '7.22', '6.93', '6.70', '6.81', '7.03', '6.72', '6.65', '6.78',\n",
       "       '7.27', '6.56', '5.96', '6.36', '7.09', '6.88', '7.85', '7.67',\n",
       "       '7.86', '7.81', '7.37', '6.87', '6.54', '6.61', '6.89', '6.75',\n",
       "       '6.90', '6.53', '7.15', '7.19', '7.38', '6.64', '7.59', '3.16',\n",
       "       '3.19', '3.06', '3.27', '3.28', '3.22', '3.26', '3.25', '3.21',\n",
       "       '3.50', '3.17', '3.23', '3.38', '3.31', '3.41', '3.35', '3.33',\n",
       "       '3.32', '3.24', '3.79', '3.12', '3.34', '3.14', '3.10', '3.01',\n",
       "       '3.30', '3.13', '3.49', '3.37', '3.09', '3.68', '3.15', '3.36',\n",
       "       '3.40', '3.20', '3.48', '3.18', '3.45', '3.46', '3.59', '3.08',\n",
       "       '3.39', '3.44', '3.29', '3.75', '3.63', '3.65', '3.11', '3.73',\n",
       "       '3.66', '3.47', '3.74', '3.58', '3.80', '3.77', '3.53', '3.76',\n",
       "       '3.70', '3.54', '3.42', '3.52', '3.64', '3.51', '3.67', '3.83',\n",
       "       '3.60', '3.56', '3.62', '3.81', '3.57', '3.86', '3.93', '3.87',\n",
       "       '3.61', '3.71', '3.82', '3.43', '3.85', '3.69', '3.55', '3.94',\n",
       "       '3.88', '3.90', '3.95', '4.57', '4.15', '4.04', '4.01', '4.03',\n",
       "       '3.72', '3.91', '4.02', '4.05', '3.96', '5.80', '5.76', '6.26',\n",
       "       '7.00', '6.44', '7.11', '7.04', '6.40', '6.34', '5.89', '6.21',\n",
       "       '6.04', '6.83', '6.69', '5.98', '6.28', '6.95', '6.92', '6.43',\n",
       "       '6.94', '6.13', '6.48', '6.73', '6.16', '6.01', '6.96', '7.47',\n",
       "       '6.67', '7.68', '6.24', '7.29', '6.10', '6.02', '6.77', '6.39',\n",
       "       '4.08', '3.99', '4.07', '4.1'], dtype=object)"
      ]
     },
     "execution_count": 19,
     "metadata": {},
     "output_type": "execute_result"
    }
   ],
   "source": [
    "df_characteristics['width (millimeters)'] =  df_characteristics['Messurements'].str.extract('[\\sX\\-]+([0-9]?.?[0-9]+)[\\sxX×]+')\n",
    "\n",
    "df_characteristics['width (millimeters)'].unique()\n"
   ]
  },
  {
   "cell_type": "code",
   "execution_count": 20,
   "metadata": {},
   "outputs": [
    {
     "data": {
      "text/plain": [
       "array(['2.94', '2.88', '3.01', '2.99', '2.85', '2.90', '3.04', '3.02',\n",
       "       '2.84', '2.83', '3.03', '2.92', '3.00', '2.78', '2.79', '2.87',\n",
       "       '3.26', '2.86', '2.68', '2.64', '2.53', '2.74', '3.06', '2.98',\n",
       "       '2.80', '2.97', '2.81', '2.95', '2.89', '3.05', '2.93', '3.07',\n",
       "       '2.96', '2.82', '3.25', '2.73', '3.30', '3.33', '3.29', '3.28',\n",
       "       '3.13', '3.34', '3.20', '3.12', '3.22', '2.91', '3.08', '3.27',\n",
       "       '2.56', '3.11', '3.21', '3.37', '3.44', '3.09', '3.42', '3.49',\n",
       "       '3.47', '3.41', '3.45', '3.56', '3.43', '3.38', '3.17', '3.31',\n",
       "       '3.35', '3.18', '3.59', '3.50', '3.52', '3.16', '3.40', '3.15',\n",
       "       '3.55', '3.51', '3.32', '3.14', '3.46', '3.48', '3.54', '3.71',\n",
       "       '3.24', '3.36', '3.66', '3.53', '3.69', '3.68', '3.39', '3.58',\n",
       "       '3.19', '3.83', '3.67', '3.57', '3.23', '3.72', '3.70', '3.63',\n",
       "       '3.76', '3.64', '4.16', '4.39', '3.62', '3.75', '3.74', '3.65',\n",
       "       '3.61', '3.77', '3.79', '4.02', '3.97', '4.52', '3.60', '3.92',\n",
       "       '3.95', '3.90', '3.78', '3.85', '4.00', '4.12', '4.27', '3.82',\n",
       "       '3.99', '3.73', '4.29', '4.01', '3.86', '3.91', '4.08', '3.80',\n",
       "       '3.84', '3.81', '3.93', '4.25', '4.09', '4.11', '4.05', '4.40',\n",
       "       '3.98', '4.38', '4.31', '4.24', '3.96', '4.44', '4.28', '4.32',\n",
       "       '4.13', '4.30', '4.23', '4.06', '4.04', '4.20', '4.70', '4.21',\n",
       "       '3.94', '4.07', '4.42', '5.47', '5.30', '5.32', '5.82', '5.76',\n",
       "       '6.07', '5.84', '5.83', '4.51', '4.37', '4.43', '4.53', '4.76',\n",
       "       '4.91', '4.72', '4.96', '4.68', '4.57', '4.74', '4.77', '4.82',\n",
       "       '4.59', '4.15', '4.61', '4.46', '4.69', '5.49', '5.07', '5.20',\n",
       "       '5.13', '4.94', '4.71', '4.64', '4.50', '4.55', '4.36', '4.98',\n",
       "       '4.79', '5.00', '5.12', '4.99', '2.15', '2.03', '2.09', '2.22',\n",
       "       '2.25', '2.21', '2.17', '2.13', '2.19', '2.24', '2.08', '2.20',\n",
       "       '2.33', '2.18', '2.07', '2.14', '2.27', '2.59', '1.89', '1.93',\n",
       "       '2.12', '2.29', '2.10', '2.04', '2.23', '1.97', '2.05', '2.02',\n",
       "       '1.88', '2.11', '2.38', '2.16', '2.41', '2.46', '1.99', '2.30',\n",
       "       '2.06', '2.26', '2.35', '2.00', '2.31', '1.94', '2.60', '2.28',\n",
       "       '1.92', '2.01', '1.90', '2.42', '2.34', '2.44', '2.45', '2.40',\n",
       "       '2.37', '2.32', '2.52', '2.70', '2.36', '2.61', '2.39', '2.47',\n",
       "       '2.50', '2.65', '2.75', '2.58', '2.43', '2.49', '2.57', '2.66',\n",
       "       '2.51', '2.69', '2.55', '2.62', '2.54', '2.72', '2.67', '2.48',\n",
       "       '2.76', '2.71', '2.63', '2.77', '1.96', '1.98', '3.89', '4.41',\n",
       "       '4.03', '4.17', '5.04', '3.10'], dtype=object)"
      ]
     },
     "execution_count": 20,
     "metadata": {},
     "output_type": "execute_result"
    }
   ],
   "source": [
    "df_characteristics['depth (millimeters)'] =  df_characteristics['Messurements'].str.extract('[\\sX\\-]+[0-9]?.?[0-9]+[\\sxX×]+([0-9]?.?[0-9]+)')\n",
    "\n",
    "df_characteristics['depth (millimeters)'].unique()\n"
   ]
  },
  {
   "cell_type": "code",
   "execution_count": 21,
   "metadata": {},
   "outputs": [
    {
     "data": {
      "text/html": [
       "<div>\n",
       "<style scoped>\n",
       "    .dataframe tbody tr th:only-of-type {\n",
       "        vertical-align: middle;\n",
       "    }\n",
       "\n",
       "    .dataframe tbody tr th {\n",
       "        vertical-align: top;\n",
       "    }\n",
       "\n",
       "    .dataframe thead th {\n",
       "        text-align: right;\n",
       "    }\n",
       "</style>\n",
       "<table border=\"1\" class=\"dataframe\">\n",
       "  <thead>\n",
       "    <tr style=\"text-align: right;\">\n",
       "      <th></th>\n",
       "      <th>Weight</th>\n",
       "      <th>Clarity</th>\n",
       "      <th>Colour</th>\n",
       "      <th>Cut</th>\n",
       "      <th>Messurements</th>\n",
       "      <th>lenght (millimeters)</th>\n",
       "      <th>width (millimeters)</th>\n",
       "      <th>depth (millimeters)</th>\n",
       "    </tr>\n",
       "    <tr>\n",
       "      <th>Id</th>\n",
       "      <th></th>\n",
       "      <th></th>\n",
       "      <th></th>\n",
       "      <th></th>\n",
       "      <th></th>\n",
       "      <th></th>\n",
       "      <th></th>\n",
       "      <th></th>\n",
       "    </tr>\n",
       "  </thead>\n",
       "  <tbody>\n",
       "  </tbody>\n",
       "</table>\n",
       "</div>"
      ],
      "text/plain": [
       "Empty DataFrame\n",
       "Columns: [Weight, Clarity, Colour, Cut, Messurements, lenght (millimeters), width (millimeters), depth (millimeters)]\n",
       "Index: []"
      ]
     },
     "execution_count": 21,
     "metadata": {},
     "output_type": "execute_result"
    }
   ],
   "source": [
    "df_characteristics[df_characteristics['depth (millimeters)'].isna()]"
   ]
  },
  {
   "cell_type": "code",
   "execution_count": 22,
   "metadata": {},
   "outputs": [
    {
     "data": {
      "text/html": [
       "<div>\n",
       "<style scoped>\n",
       "    .dataframe tbody tr th:only-of-type {\n",
       "        vertical-align: middle;\n",
       "    }\n",
       "\n",
       "    .dataframe tbody tr th {\n",
       "        vertical-align: top;\n",
       "    }\n",
       "\n",
       "    .dataframe thead th {\n",
       "        text-align: right;\n",
       "    }\n",
       "</style>\n",
       "<table border=\"1\" class=\"dataframe\">\n",
       "  <thead>\n",
       "    <tr style=\"text-align: right;\">\n",
       "      <th></th>\n",
       "      <th>Weight</th>\n",
       "      <th>Clarity</th>\n",
       "      <th>Colour</th>\n",
       "      <th>Cut</th>\n",
       "      <th>lenght (millimeters)</th>\n",
       "      <th>width (millimeters)</th>\n",
       "      <th>depth (millimeters)</th>\n",
       "    </tr>\n",
       "    <tr>\n",
       "      <th>Id</th>\n",
       "      <th></th>\n",
       "      <th></th>\n",
       "      <th></th>\n",
       "      <th></th>\n",
       "      <th></th>\n",
       "      <th></th>\n",
       "      <th></th>\n",
       "    </tr>\n",
       "  </thead>\n",
       "  <tbody>\n",
       "    <tr>\n",
       "      <th>1638147</th>\n",
       "      <td>0.55</td>\n",
       "      <td>1.0</td>\n",
       "      <td>5.0</td>\n",
       "      <td>4.0</td>\n",
       "      <td>5.05</td>\n",
       "      <td>4.35</td>\n",
       "      <td>2.94</td>\n",
       "    </tr>\n",
       "    <tr>\n",
       "      <th>1612606</th>\n",
       "      <td>0.51</td>\n",
       "      <td>3.0</td>\n",
       "      <td>2.0</td>\n",
       "      <td>4.0</td>\n",
       "      <td>4.71</td>\n",
       "      <td>4.35</td>\n",
       "      <td>2.94</td>\n",
       "    </tr>\n",
       "    <tr>\n",
       "      <th>1638140</th>\n",
       "      <td>0.50</td>\n",
       "      <td>3.0</td>\n",
       "      <td>2.0</td>\n",
       "      <td>4.0</td>\n",
       "      <td>4.91</td>\n",
       "      <td>4.26</td>\n",
       "      <td>2.88</td>\n",
       "    </tr>\n",
       "    <tr>\n",
       "      <th>1536093</th>\n",
       "      <td>0.53</td>\n",
       "      <td>2.0</td>\n",
       "      <td>6.0</td>\n",
       "      <td>4.0</td>\n",
       "      <td>4.70</td>\n",
       "      <td>4.46</td>\n",
       "      <td>3.01</td>\n",
       "    </tr>\n",
       "    <tr>\n",
       "      <th>1643527</th>\n",
       "      <td>0.52</td>\n",
       "      <td>6.0</td>\n",
       "      <td>1.0</td>\n",
       "      <td>4.0</td>\n",
       "      <td>4.76</td>\n",
       "      <td>4.42</td>\n",
       "      <td>2.99</td>\n",
       "    </tr>\n",
       "  </tbody>\n",
       "</table>\n",
       "</div>"
      ],
      "text/plain": [
       "         Weight  Clarity  Colour  Cut lenght (millimeters)  \\\n",
       "Id                                                           \n",
       "1638147    0.55      1.0     5.0  4.0                 5.05   \n",
       "1612606    0.51      3.0     2.0  4.0                 4.71   \n",
       "1638140    0.50      3.0     2.0  4.0                 4.91   \n",
       "1536093    0.53      2.0     6.0  4.0                 4.70   \n",
       "1643527    0.52      6.0     1.0  4.0                 4.76   \n",
       "\n",
       "        width (millimeters) depth (millimeters)  \n",
       "Id                                               \n",
       "1638147                4.35                2.94  \n",
       "1612606                4.35                2.94  \n",
       "1638140                4.26                2.88  \n",
       "1536093                4.46                3.01  \n",
       "1643527                4.42                2.99  "
      ]
     },
     "execution_count": 22,
     "metadata": {},
     "output_type": "execute_result"
    }
   ],
   "source": [
    "df_characteristics = df_characteristics.drop(columns='Messurements')\n",
    "\n",
    "df_characteristics.head()\n"
   ]
  },
  {
   "cell_type": "code",
   "execution_count": 23,
   "metadata": {},
   "outputs": [
    {
     "data": {
      "text/plain": [
       "array([62.55319149, 64.90066225, 62.81352236, ..., 59.90338164,\n",
       "       60.50583658, 63.34661355])"
      ]
     },
     "execution_count": 23,
     "metadata": {},
     "output_type": "execute_result"
    }
   ],
   "source": [
    "df_characteristics = df_characteristics.apply(pd.to_numeric)\n",
    "\n",
    "df_characteristics['depth (percentage)'] = (df_characteristics['depth (millimeters)'] / ((df_characteristics['lenght (millimeters)'] + df_characteristics['width (millimeters)']) / 2)) * 100\n",
    "\n",
    "df_characteristics['depth (percentage)'].unique()\n"
   ]
  },
  {
   "attachments": {},
   "cell_type": "markdown",
   "metadata": {},
   "source": [
    "## Nuevos nombres"
   ]
  },
  {
   "cell_type": "code",
   "execution_count": 24,
   "metadata": {},
   "outputs": [
    {
     "data": {
      "text/html": [
       "<div>\n",
       "<style scoped>\n",
       "    .dataframe tbody tr th:only-of-type {\n",
       "        vertical-align: middle;\n",
       "    }\n",
       "\n",
       "    .dataframe tbody tr th {\n",
       "        vertical-align: top;\n",
       "    }\n",
       "\n",
       "    .dataframe thead th {\n",
       "        text-align: right;\n",
       "    }\n",
       "</style>\n",
       "<table border=\"1\" class=\"dataframe\">\n",
       "  <thead>\n",
       "    <tr style=\"text-align: right;\">\n",
       "      <th></th>\n",
       "      <th>weight (carat)</th>\n",
       "      <th>clarity quality</th>\n",
       "      <th>color quality</th>\n",
       "      <th>cut quality</th>\n",
       "      <th>lenght (millimeters)</th>\n",
       "      <th>width (millimeters)</th>\n",
       "      <th>depth (millimeters)</th>\n",
       "      <th>depth (percentage)</th>\n",
       "    </tr>\n",
       "    <tr>\n",
       "      <th>Id</th>\n",
       "      <th></th>\n",
       "      <th></th>\n",
       "      <th></th>\n",
       "      <th></th>\n",
       "      <th></th>\n",
       "      <th></th>\n",
       "      <th></th>\n",
       "      <th></th>\n",
       "    </tr>\n",
       "  </thead>\n",
       "  <tbody>\n",
       "    <tr>\n",
       "      <th>1638147</th>\n",
       "      <td>0.55</td>\n",
       "      <td>1.0</td>\n",
       "      <td>5.0</td>\n",
       "      <td>4.0</td>\n",
       "      <td>5.05</td>\n",
       "      <td>4.35</td>\n",
       "      <td>2.94</td>\n",
       "      <td>62.553191</td>\n",
       "    </tr>\n",
       "    <tr>\n",
       "      <th>1612606</th>\n",
       "      <td>0.51</td>\n",
       "      <td>3.0</td>\n",
       "      <td>2.0</td>\n",
       "      <td>4.0</td>\n",
       "      <td>4.71</td>\n",
       "      <td>4.35</td>\n",
       "      <td>2.94</td>\n",
       "      <td>64.900662</td>\n",
       "    </tr>\n",
       "    <tr>\n",
       "      <th>1638140</th>\n",
       "      <td>0.50</td>\n",
       "      <td>3.0</td>\n",
       "      <td>2.0</td>\n",
       "      <td>4.0</td>\n",
       "      <td>4.91</td>\n",
       "      <td>4.26</td>\n",
       "      <td>2.88</td>\n",
       "      <td>62.813522</td>\n",
       "    </tr>\n",
       "    <tr>\n",
       "      <th>1536093</th>\n",
       "      <td>0.53</td>\n",
       "      <td>2.0</td>\n",
       "      <td>6.0</td>\n",
       "      <td>4.0</td>\n",
       "      <td>4.70</td>\n",
       "      <td>4.46</td>\n",
       "      <td>3.01</td>\n",
       "      <td>65.720524</td>\n",
       "    </tr>\n",
       "    <tr>\n",
       "      <th>1643527</th>\n",
       "      <td>0.52</td>\n",
       "      <td>6.0</td>\n",
       "      <td>1.0</td>\n",
       "      <td>4.0</td>\n",
       "      <td>4.76</td>\n",
       "      <td>4.42</td>\n",
       "      <td>2.99</td>\n",
       "      <td>65.141612</td>\n",
       "    </tr>\n",
       "  </tbody>\n",
       "</table>\n",
       "</div>"
      ],
      "text/plain": [
       "         weight (carat)  clarity quality  color quality  cut quality  \\\n",
       "Id                                                                     \n",
       "1638147            0.55              1.0            5.0          4.0   \n",
       "1612606            0.51              3.0            2.0          4.0   \n",
       "1638140            0.50              3.0            2.0          4.0   \n",
       "1536093            0.53              2.0            6.0          4.0   \n",
       "1643527            0.52              6.0            1.0          4.0   \n",
       "\n",
       "         lenght (millimeters)  width (millimeters)  depth (millimeters)  \\\n",
       "Id                                                                        \n",
       "1638147                  5.05                 4.35                 2.94   \n",
       "1612606                  4.71                 4.35                 2.94   \n",
       "1638140                  4.91                 4.26                 2.88   \n",
       "1536093                  4.70                 4.46                 3.01   \n",
       "1643527                  4.76                 4.42                 2.99   \n",
       "\n",
       "         depth (percentage)  \n",
       "Id                           \n",
       "1638147           62.553191  \n",
       "1612606           64.900662  \n",
       "1638140           62.813522  \n",
       "1536093           65.720524  \n",
       "1643527           65.141612  "
      ]
     },
     "execution_count": 24,
     "metadata": {},
     "output_type": "execute_result"
    }
   ],
   "source": [
    "df_characteristics = df_characteristics.rename(columns={'Weight': 'weight (carat)',\n",
    "                                                        'Cut': 'cut quality',\n",
    "                                                        'Colour': 'color quality',\n",
    "                                                        'Clarity': 'clarity quality',\n",
    "                                                        }\n",
    "                                                )\n",
    "\n",
    "df_characteristics.head()\n"
   ]
  },
  {
   "attachments": {},
   "cell_type": "markdown",
   "metadata": {},
   "source": [
    "## Cambio de orden"
   ]
  },
  {
   "cell_type": "code",
   "execution_count": 25,
   "metadata": {},
   "outputs": [
    {
     "data": {
      "text/html": [
       "<div>\n",
       "<style scoped>\n",
       "    .dataframe tbody tr th:only-of-type {\n",
       "        vertical-align: middle;\n",
       "    }\n",
       "\n",
       "    .dataframe tbody tr th {\n",
       "        vertical-align: top;\n",
       "    }\n",
       "\n",
       "    .dataframe thead th {\n",
       "        text-align: right;\n",
       "    }\n",
       "</style>\n",
       "<table border=\"1\" class=\"dataframe\">\n",
       "  <thead>\n",
       "    <tr style=\"text-align: right;\">\n",
       "      <th></th>\n",
       "      <th>weight (carat)</th>\n",
       "      <th>cut quality</th>\n",
       "      <th>color quality</th>\n",
       "      <th>clarity quality</th>\n",
       "      <th>depth (percentage)</th>\n",
       "      <th>lenght (millimeters)</th>\n",
       "      <th>width (millimeters)</th>\n",
       "      <th>depth (millimeters)</th>\n",
       "    </tr>\n",
       "    <tr>\n",
       "      <th>Id</th>\n",
       "      <th></th>\n",
       "      <th></th>\n",
       "      <th></th>\n",
       "      <th></th>\n",
       "      <th></th>\n",
       "      <th></th>\n",
       "      <th></th>\n",
       "      <th></th>\n",
       "    </tr>\n",
       "  </thead>\n",
       "  <tbody>\n",
       "    <tr>\n",
       "      <th>1638147</th>\n",
       "      <td>0.55</td>\n",
       "      <td>4.0</td>\n",
       "      <td>5.0</td>\n",
       "      <td>1.0</td>\n",
       "      <td>62.553191</td>\n",
       "      <td>5.05</td>\n",
       "      <td>4.35</td>\n",
       "      <td>2.94</td>\n",
       "    </tr>\n",
       "    <tr>\n",
       "      <th>1612606</th>\n",
       "      <td>0.51</td>\n",
       "      <td>4.0</td>\n",
       "      <td>2.0</td>\n",
       "      <td>3.0</td>\n",
       "      <td>64.900662</td>\n",
       "      <td>4.71</td>\n",
       "      <td>4.35</td>\n",
       "      <td>2.94</td>\n",
       "    </tr>\n",
       "    <tr>\n",
       "      <th>1638140</th>\n",
       "      <td>0.50</td>\n",
       "      <td>4.0</td>\n",
       "      <td>2.0</td>\n",
       "      <td>3.0</td>\n",
       "      <td>62.813522</td>\n",
       "      <td>4.91</td>\n",
       "      <td>4.26</td>\n",
       "      <td>2.88</td>\n",
       "    </tr>\n",
       "    <tr>\n",
       "      <th>1536093</th>\n",
       "      <td>0.53</td>\n",
       "      <td>4.0</td>\n",
       "      <td>6.0</td>\n",
       "      <td>2.0</td>\n",
       "      <td>65.720524</td>\n",
       "      <td>4.70</td>\n",
       "      <td>4.46</td>\n",
       "      <td>3.01</td>\n",
       "    </tr>\n",
       "    <tr>\n",
       "      <th>1643527</th>\n",
       "      <td>0.52</td>\n",
       "      <td>4.0</td>\n",
       "      <td>1.0</td>\n",
       "      <td>6.0</td>\n",
       "      <td>65.141612</td>\n",
       "      <td>4.76</td>\n",
       "      <td>4.42</td>\n",
       "      <td>2.99</td>\n",
       "    </tr>\n",
       "  </tbody>\n",
       "</table>\n",
       "</div>"
      ],
      "text/plain": [
       "         weight (carat)  cut quality  color quality  clarity quality  \\\n",
       "Id                                                                     \n",
       "1638147            0.55          4.0            5.0              1.0   \n",
       "1612606            0.51          4.0            2.0              3.0   \n",
       "1638140            0.50          4.0            2.0              3.0   \n",
       "1536093            0.53          4.0            6.0              2.0   \n",
       "1643527            0.52          4.0            1.0              6.0   \n",
       "\n",
       "         depth (percentage)  lenght (millimeters)  width (millimeters)  \\\n",
       "Id                                                                       \n",
       "1638147           62.553191                  5.05                 4.35   \n",
       "1612606           64.900662                  4.71                 4.35   \n",
       "1638140           62.813522                  4.91                 4.26   \n",
       "1536093           65.720524                  4.70                 4.46   \n",
       "1643527           65.141612                  4.76                 4.42   \n",
       "\n",
       "         depth (millimeters)  \n",
       "Id                            \n",
       "1638147                 2.94  \n",
       "1612606                 2.94  \n",
       "1638140                 2.88  \n",
       "1536093                 3.01  \n",
       "1643527                 2.99  "
      ]
     },
     "execution_count": 25,
     "metadata": {},
     "output_type": "execute_result"
    }
   ],
   "source": [
    "df_characteristics = df_characteristics[['weight (carat)', 'cut quality', 'color quality', 'clarity quality', 'depth (percentage)', 'lenght (millimeters)', 'width (millimeters)', 'depth (millimeters)']]\n",
    "\n",
    "df_characteristics.head()\n"
   ]
  },
  {
   "attachments": {},
   "cell_type": "markdown",
   "metadata": {},
   "source": [
    "## Eliminación de duplicados"
   ]
  },
  {
   "cell_type": "code",
   "execution_count": 26,
   "metadata": {},
   "outputs": [],
   "source": [
    "df_characteristics = df_characteristics.drop_duplicates()\n"
   ]
  },
  {
   "attachments": {},
   "cell_type": "markdown",
   "metadata": {},
   "source": [
    "# Exportación\n",
    "\n",
    "- Se guarda el nuevo \"dataframe\" como \"csv\" listo para el modelaje\n",
    "\n",
    "- Como no hay columna \"table (percentage)\", no queda más remedio que reentrenar el modelo \"XGBoost\" sin esa columna. En ese sentido, se usa el \"dataset\" original en lugar del de competición para un mejor resultado"
   ]
  },
  {
   "cell_type": "code",
   "execution_count": 27,
   "metadata": {},
   "outputs": [],
   "source": [
    "df_characteristics.to_csv(r'data\\processed\\images_data_processed.csv', index='Id')\n"
   ]
  }
 ],
 "metadata": {
  "kernelspec": {
   "display_name": "data_analytics",
   "language": "python",
   "name": "python3"
  },
  "language_info": {
   "codemirror_mode": {
    "name": "ipython",
    "version": 3
   },
   "file_extension": ".py",
   "mimetype": "text/x-python",
   "name": "python",
   "nbconvert_exporter": "python",
   "pygments_lexer": "ipython3",
   "version": "3.9.16"
  },
  "orig_nbformat": 4,
  "vscode": {
   "interpreter": {
    "hash": "62be4b4d7aada9f05487a097e316e83dc3ceda15568e9d0ea281b513767b88d7"
   }
  }
 },
 "nbformat": 4,
 "nbformat_minor": 2
}
