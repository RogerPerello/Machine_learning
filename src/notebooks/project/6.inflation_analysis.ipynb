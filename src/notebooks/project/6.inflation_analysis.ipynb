{
 "cells": [
  {
   "cell_type": "code",
   "execution_count": 1,
   "metadata": {},
   "outputs": [],
   "source": [
    "import os\n",
    "from datetime import datetime\n",
    "import requests\n",
    "from bs4 import BeautifulSoup as bs\n",
    "import re\n",
    "\n",
    "if str(os.getcwdb()[-3:]).split(\"'\")[1] != 'src':\n",
    "    for _ in range(2):\n",
    "        os.chdir(os.path.dirname(os.getcwdb()))\n",
    "\n",
    "from utils.classes import *\n",
    "from utils.functions import *\n"
   ]
  },
  {
   "attachments": {},
   "cell_type": "markdown",
   "metadata": {},
   "source": [
    "# Cálculo inicial\n",
    "\n",
    "- Se utiliza una calculadora \"online\" para detectar la diferencia de precio por inflación de los diamantes entre 2017, que es el año del \"dataset\" utilizado, y la actualidad\n",
    "\n",
    "- Esta es la calculadora: https://www.in2013dollars.com/Jewelry/price-inflation/2017-to-2023?amount=326\n",
    "\n",
    "- El resultado es que, para 2023, los precios han subido cerca de un 11%"
   ]
  },
  {
   "attachments": {},
   "cell_type": "markdown",
   "metadata": {},
   "source": [
    "# Automatización\n",
    "\n",
    "- Se utiliza \"webscrapping\" para obtener esa cifra automáticamente cada vez\n",
    "\n",
    "- Se implementa este método en la \"app\"\n",
    "\n",
    "- Se detecta también una alternativa para aproximar la inflación mediante la media de los últimos años, en caso de que la página dejara de funcionar puntualmente"
   ]
  },
  {
   "cell_type": "code",
   "execution_count": 2,
   "metadata": {},
   "outputs": [
    {
     "data": {
      "text/plain": [
       "'https://www.in2013dollars.com/Jewelry/price-inflation/2017-to-2023'"
      ]
     },
     "execution_count": 2,
     "metadata": {},
     "output_type": "execute_result"
    }
   ],
   "source": [
    "current_year = datetime.now().year\n",
    "\n",
    "url = f'https://www.in2013dollars.com/Jewelry/price-inflation/2017-to-{current_year}'\n",
    "\n",
    "url\n"
   ]
  },
  {
   "cell_type": "code",
   "execution_count": 3,
   "metadata": {},
   "outputs": [
    {
     "data": {
      "text/plain": [
       "<Response [200]>"
      ]
     },
     "execution_count": 3,
     "metadata": {},
     "output_type": "execute_result"
    }
   ],
   "source": [
    "r = requests.get(url)\n",
    "\n",
    "r\n"
   ]
  },
  {
   "cell_type": "code",
   "execution_count": 4,
   "metadata": {},
   "outputs": [
    {
     "data": {
      "text/plain": [
       "'11.14% higher'"
      ]
     },
     "execution_count": 4,
     "metadata": {},
     "output_type": "execute_result"
    }
   ],
   "source": [
    "soup = bs(r.text, 'html')\n",
    "\n",
    "info = soup.find_all(class_='highlight')[0].text\n",
    "\n",
    "info\n"
   ]
  },
  {
   "cell_type": "code",
   "execution_count": 5,
   "metadata": {},
   "outputs": [
    {
     "data": {
      "text/plain": [
       "11.14"
      ]
     },
     "execution_count": 5,
     "metadata": {},
     "output_type": "execute_result"
    }
   ],
   "source": [
    "pattern = '^(.+)%'\n",
    "\n",
    "inflation_percentage = float(re.search(pattern, info)[0][:-1])\n",
    "\n",
    "inflation_percentage\n"
   ]
  },
  {
   "cell_type": "code",
   "execution_count": 6,
   "metadata": {},
   "outputs": [
    {
     "data": {
      "text/plain": [
       "10.68"
      ]
     },
     "execution_count": 6,
     "metadata": {},
     "output_type": "execute_result"
    }
   ],
   "source": [
    "alternate_inflation = (int(current_year) - 2017) * 1.78\n",
    "\n",
    "alternate_inflation\n"
   ]
  }
 ],
 "metadata": {
  "kernelspec": {
   "display_name": "data_analytics",
   "language": "python",
   "name": "python3"
  },
  "language_info": {
   "codemirror_mode": {
    "name": "ipython",
    "version": 3
   },
   "file_extension": ".py",
   "mimetype": "text/x-python",
   "name": "python",
   "nbconvert_exporter": "python",
   "pygments_lexer": "ipython3",
   "version": "3.9.16"
  },
  "orig_nbformat": 4,
  "vscode": {
   "interpreter": {
    "hash": "62be4b4d7aada9f05487a097e316e83dc3ceda15568e9d0ea281b513767b88d7"
   }
  }
 },
 "nbformat": 4,
 "nbformat_minor": 2
}
