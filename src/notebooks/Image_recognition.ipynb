{
 "cells": [
  {
   "cell_type": "code",
   "execution_count": 1,
   "metadata": {},
   "outputs": [],
   "source": [
    "import os\n",
    "\n",
    "import matplotlib.pylab as plt\n",
    "import numpy as np\n",
    "import pandas as pd\n",
    "import cv2\n",
    "from keras.models import Sequential\n",
    "from keras.callbacks import EarlyStopping\n",
    "import tensorflow as tf\n",
    "import tensorflow_hub as hub\n",
    "from sklearn.preprocessing import label_binarize\n",
    "from itertools import cycle\n",
    "import splitfolders\n",
    "\n",
    "\n",
    "if str(os.getcwdb()[-3:]).split(\"'\")[1] != 'src':\n",
    "    os.chdir(os.path.dirname(os.getcwdb()))\n"
   ]
  },
  {
   "cell_type": "code",
   "execution_count": 12,
   "metadata": {},
   "outputs": [],
   "source": [
    "# Hay varias imágenes vacías. Todas están en formato \"png\" Hay que eliminarlas antes de hacer el \"split\"\n",
    "data_path = r'data\\raw\\images'\n",
    "\n",
    "no_delete_extension = '.jpg'\n",
    "for (dirpath, dirnames, filenames) in os.walk(data_path):\n",
    "    for file in filenames:\n",
    "        if no_delete_extension not in file:\n",
    "            if file != 'info_raw.txt':\n",
    "                os.remove(f'{dirpath}/{file}')\n"
   ]
  },
  {
   "cell_type": "code",
   "execution_count": 13,
   "metadata": {},
   "outputs": [
    {
     "name": "stderr",
     "output_type": "stream",
     "text": [
      "Copying files: 4729 files [00:10, 443.83 files/s]\n"
     ]
    }
   ],
   "source": [
    "# Se hace el \"split\" entre \"train\", \"test\" y \"validation\"\n",
    "splitfolders.ratio(data_path, output=r'data\\processed\\images', seed=42, ratio=(.8, .1, .1), move=True)\n"
   ]
  }
 ],
 "metadata": {
  "kernelspec": {
   "display_name": "data_analytics",
   "language": "python",
   "name": "python3"
  },
  "language_info": {
   "codemirror_mode": {
    "name": "ipython",
    "version": 3
   },
   "file_extension": ".py",
   "mimetype": "text/x-python",
   "name": "python",
   "nbconvert_exporter": "python",
   "pygments_lexer": "ipython3",
   "version": "3.9.16"
  },
  "orig_nbformat": 4,
  "vscode": {
   "interpreter": {
    "hash": "62be4b4d7aada9f05487a097e316e83dc3ceda15568e9d0ea281b513767b88d7"
   }
  }
 },
 "nbformat": 4,
 "nbformat_minor": 2
}
