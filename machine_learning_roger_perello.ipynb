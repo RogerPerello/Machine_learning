{
 "cells": [
  {
   "cell_type": "code",
   "execution_count": 7,
   "metadata": {},
   "outputs": [],
   "source": [
    "import pandas as pd\n"
   ]
  },
  {
   "cell_type": "code",
   "execution_count": 8,
   "metadata": {},
   "outputs": [],
   "source": [
    "df_ed = pd.read_csv('Economic_data.csv')\n"
   ]
  },
  {
   "cell_type": "code",
   "execution_count": 9,
   "metadata": {},
   "outputs": [
    {
     "data": {
      "text/html": [
       "<div>\n",
       "<style scoped>\n",
       "    .dataframe tbody tr th:only-of-type {\n",
       "        vertical-align: middle;\n",
       "    }\n",
       "\n",
       "    .dataframe tbody tr th {\n",
       "        vertical-align: top;\n",
       "    }\n",
       "\n",
       "    .dataframe thead th {\n",
       "        text-align: right;\n",
       "    }\n",
       "</style>\n",
       "<table border=\"1\" class=\"dataframe\">\n",
       "  <thead>\n",
       "    <tr style=\"text-align: right;\">\n",
       "      <th></th>\n",
       "      <th>stock index</th>\n",
       "      <th>country</th>\n",
       "      <th>year</th>\n",
       "      <th>index price</th>\n",
       "      <th>log_indexprice</th>\n",
       "      <th>inflationrate</th>\n",
       "      <th>oil prices</th>\n",
       "      <th>exchange_rate</th>\n",
       "      <th>gdppercent</th>\n",
       "      <th>percapitaincome</th>\n",
       "      <th>unemploymentrate</th>\n",
       "      <th>manufacturingoutput</th>\n",
       "      <th>tradebalance</th>\n",
       "      <th>USTreasury</th>\n",
       "    </tr>\n",
       "  </thead>\n",
       "  <tbody>\n",
       "    <tr>\n",
       "      <th>0</th>\n",
       "      <td>NASDAQ</td>\n",
       "      <td>United States of America</td>\n",
       "      <td>1980.0</td>\n",
       "      <td>168.61</td>\n",
       "      <td>2.23</td>\n",
       "      <td>0.14</td>\n",
       "      <td>21.59</td>\n",
       "      <td>1.0</td>\n",
       "      <td>0.09</td>\n",
       "      <td>12575.0</td>\n",
       "      <td>0.07</td>\n",
       "      <td>NaN</td>\n",
       "      <td>-13.06</td>\n",
       "      <td>0.11</td>\n",
       "    </tr>\n",
       "    <tr>\n",
       "      <th>1</th>\n",
       "      <td>NASDAQ</td>\n",
       "      <td>United States of America</td>\n",
       "      <td>1981.0</td>\n",
       "      <td>203.15</td>\n",
       "      <td>2.31</td>\n",
       "      <td>0.10</td>\n",
       "      <td>31.77</td>\n",
       "      <td>1.0</td>\n",
       "      <td>0.12</td>\n",
       "      <td>13976.0</td>\n",
       "      <td>0.08</td>\n",
       "      <td>NaN</td>\n",
       "      <td>-12.52</td>\n",
       "      <td>0.14</td>\n",
       "    </tr>\n",
       "    <tr>\n",
       "      <th>2</th>\n",
       "      <td>NASDAQ</td>\n",
       "      <td>United States of America</td>\n",
       "      <td>1982.0</td>\n",
       "      <td>188.98</td>\n",
       "      <td>2.28</td>\n",
       "      <td>0.06</td>\n",
       "      <td>28.52</td>\n",
       "      <td>1.0</td>\n",
       "      <td>0.04</td>\n",
       "      <td>14434.0</td>\n",
       "      <td>0.10</td>\n",
       "      <td>NaN</td>\n",
       "      <td>-19.97</td>\n",
       "      <td>0.13</td>\n",
       "    </tr>\n",
       "    <tr>\n",
       "      <th>3</th>\n",
       "      <td>NASDAQ</td>\n",
       "      <td>United States of America</td>\n",
       "      <td>1983.0</td>\n",
       "      <td>285.43</td>\n",
       "      <td>2.46</td>\n",
       "      <td>0.03</td>\n",
       "      <td>26.19</td>\n",
       "      <td>1.0</td>\n",
       "      <td>0.09</td>\n",
       "      <td>15544.0</td>\n",
       "      <td>0.10</td>\n",
       "      <td>NaN</td>\n",
       "      <td>-51.64</td>\n",
       "      <td>0.11</td>\n",
       "    </tr>\n",
       "    <tr>\n",
       "      <th>4</th>\n",
       "      <td>NASDAQ</td>\n",
       "      <td>United States of America</td>\n",
       "      <td>1984.0</td>\n",
       "      <td>248.89</td>\n",
       "      <td>2.40</td>\n",
       "      <td>0.04</td>\n",
       "      <td>25.88</td>\n",
       "      <td>1.0</td>\n",
       "      <td>0.11</td>\n",
       "      <td>17121.0</td>\n",
       "      <td>0.08</td>\n",
       "      <td>NaN</td>\n",
       "      <td>-102.73</td>\n",
       "      <td>0.12</td>\n",
       "    </tr>\n",
       "  </tbody>\n",
       "</table>\n",
       "</div>"
      ],
      "text/plain": [
       "  stock index                   country    year  index price  log_indexprice  \\\n",
       "0      NASDAQ  United States of America  1980.0       168.61            2.23   \n",
       "1      NASDAQ  United States of America  1981.0       203.15            2.31   \n",
       "2      NASDAQ  United States of America  1982.0       188.98            2.28   \n",
       "3      NASDAQ  United States of America  1983.0       285.43            2.46   \n",
       "4      NASDAQ  United States of America  1984.0       248.89            2.40   \n",
       "\n",
       "   inflationrate  oil prices  exchange_rate  gdppercent  percapitaincome  \\\n",
       "0           0.14       21.59            1.0        0.09          12575.0   \n",
       "1           0.10       31.77            1.0        0.12          13976.0   \n",
       "2           0.06       28.52            1.0        0.04          14434.0   \n",
       "3           0.03       26.19            1.0        0.09          15544.0   \n",
       "4           0.04       25.88            1.0        0.11          17121.0   \n",
       "\n",
       "   unemploymentrate  manufacturingoutput  tradebalance  USTreasury  \n",
       "0              0.07                  NaN        -13.06        0.11  \n",
       "1              0.08                  NaN        -12.52        0.14  \n",
       "2              0.10                  NaN        -19.97        0.13  \n",
       "3              0.10                  NaN        -51.64        0.11  \n",
       "4              0.08                  NaN       -102.73        0.12  "
      ]
     },
     "execution_count": 9,
     "metadata": {},
     "output_type": "execute_result"
    }
   ],
   "source": [
    "df_ed.head()\n"
   ]
  },
  {
   "cell_type": "code",
   "execution_count": 11,
   "metadata": {},
   "outputs": [
    {
     "name": "stdout",
     "output_type": "stream",
     "text": [
      "<class 'pandas.core.frame.DataFrame'>\n",
      "RangeIndex: 369 entries, 0 to 368\n",
      "Data columns (total 14 columns):\n",
      " #   Column               Non-Null Count  Dtype  \n",
      "---  ------               --------------  -----  \n",
      " 0   stock index          369 non-null    object \n",
      " 1   country              369 non-null    object \n",
      " 2   year                 369 non-null    float64\n",
      " 3   index price          317 non-null    float64\n",
      " 4   log_indexprice       369 non-null    float64\n",
      " 5   inflationrate        326 non-null    float64\n",
      " 6   oil prices           369 non-null    float64\n",
      " 7   exchange_rate        367 non-null    float64\n",
      " 8   gdppercent           350 non-null    float64\n",
      " 9   percapitaincome      368 non-null    float64\n",
      " 10  unemploymentrate     348 non-null    float64\n",
      " 11  manufacturingoutput  278 non-null    float64\n",
      " 12  tradebalance         365 non-null    float64\n",
      " 13  USTreasury           369 non-null    float64\n",
      "dtypes: float64(12), object(2)\n",
      "memory usage: 40.5+ KB\n"
     ]
    }
   ],
   "source": [
    "df_ed.info()\n"
   ]
  },
  {
   "cell_type": "code",
   "execution_count": 10,
   "metadata": {},
   "outputs": [
    {
     "data": {
      "text/plain": [
       "array(['United States of America', 'United Kingdom', 'India', 'Japan',\n",
       "       'Hong Kong', 'China', 'Germany', 'France', 'Spain'], dtype=object)"
      ]
     },
     "execution_count": 10,
     "metadata": {},
     "output_type": "execute_result"
    }
   ],
   "source": [
    "df_ed['country'].unique()\n"
   ]
  }
 ],
 "metadata": {
  "kernelspec": {
   "display_name": "data_analytics",
   "language": "python",
   "name": "python3"
  },
  "language_info": {
   "codemirror_mode": {
    "name": "ipython",
    "version": 3
   },
   "file_extension": ".py",
   "mimetype": "text/x-python",
   "name": "python",
   "nbconvert_exporter": "python",
   "pygments_lexer": "ipython3",
   "version": "3.9.15"
  },
  "orig_nbformat": 4,
  "vscode": {
   "interpreter": {
    "hash": "b824bf52cf534a16238dce884e8fdba8cd1853727e048048d6b0b37b0d718f27"
   }
  }
 },
 "nbformat": 4,
 "nbformat_minor": 2
}
