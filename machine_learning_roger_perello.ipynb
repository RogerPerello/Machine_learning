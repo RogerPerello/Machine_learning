{
 "cells": [
  {
   "attachments": {},
   "cell_type": "markdown",
   "metadata": {},
   "source": [
    "# Importaciones"
   ]
  },
  {
   "cell_type": "code",
   "execution_count": 303,
   "metadata": {},
   "outputs": [],
   "source": [
    "import pandas as pd\n",
    "import matplotlib.pyplot as plt\n",
    "import seaborn as sns\n"
   ]
  },
  {
   "cell_type": "code",
   "execution_count": 304,
   "metadata": {},
   "outputs": [],
   "source": [
    "# Origen: https://www.kaggle.com/datasets/swatikhedekar/price-prediction-of-diamond\n",
    "df_diamonds = pd.read_csv('diamonds.csv')\n"
   ]
  },
  {
   "attachments": {},
   "cell_type": "markdown",
   "metadata": {},
   "source": [
    "# Observaciones iniciales"
   ]
  },
  {
   "cell_type": "code",
   "execution_count": 305,
   "metadata": {},
   "outputs": [
    {
     "data": {
      "text/html": [
       "<div>\n",
       "<style scoped>\n",
       "    .dataframe tbody tr th:only-of-type {\n",
       "        vertical-align: middle;\n",
       "    }\n",
       "\n",
       "    .dataframe tbody tr th {\n",
       "        vertical-align: top;\n",
       "    }\n",
       "\n",
       "    .dataframe thead th {\n",
       "        text-align: right;\n",
       "    }\n",
       "</style>\n",
       "<table border=\"1\" class=\"dataframe\">\n",
       "  <thead>\n",
       "    <tr style=\"text-align: right;\">\n",
       "      <th></th>\n",
       "      <th>Unnamed: 0</th>\n",
       "      <th>carat</th>\n",
       "      <th>cut</th>\n",
       "      <th>color</th>\n",
       "      <th>clarity</th>\n",
       "      <th>depth</th>\n",
       "      <th>table</th>\n",
       "      <th>price</th>\n",
       "      <th>x</th>\n",
       "      <th>y</th>\n",
       "      <th>z</th>\n",
       "    </tr>\n",
       "  </thead>\n",
       "  <tbody>\n",
       "    <tr>\n",
       "      <th>0</th>\n",
       "      <td>1</td>\n",
       "      <td>0.23</td>\n",
       "      <td>Ideal</td>\n",
       "      <td>E</td>\n",
       "      <td>SI2</td>\n",
       "      <td>61.5</td>\n",
       "      <td>55.0</td>\n",
       "      <td>326</td>\n",
       "      <td>3.95</td>\n",
       "      <td>3.98</td>\n",
       "      <td>2.43</td>\n",
       "    </tr>\n",
       "    <tr>\n",
       "      <th>1</th>\n",
       "      <td>2</td>\n",
       "      <td>0.21</td>\n",
       "      <td>Premium</td>\n",
       "      <td>E</td>\n",
       "      <td>SI1</td>\n",
       "      <td>59.8</td>\n",
       "      <td>61.0</td>\n",
       "      <td>326</td>\n",
       "      <td>3.89</td>\n",
       "      <td>3.84</td>\n",
       "      <td>2.31</td>\n",
       "    </tr>\n",
       "    <tr>\n",
       "      <th>2</th>\n",
       "      <td>3</td>\n",
       "      <td>0.23</td>\n",
       "      <td>Good</td>\n",
       "      <td>E</td>\n",
       "      <td>VS1</td>\n",
       "      <td>56.9</td>\n",
       "      <td>65.0</td>\n",
       "      <td>327</td>\n",
       "      <td>4.05</td>\n",
       "      <td>4.07</td>\n",
       "      <td>2.31</td>\n",
       "    </tr>\n",
       "    <tr>\n",
       "      <th>3</th>\n",
       "      <td>4</td>\n",
       "      <td>0.29</td>\n",
       "      <td>Premium</td>\n",
       "      <td>I</td>\n",
       "      <td>VS2</td>\n",
       "      <td>62.4</td>\n",
       "      <td>58.0</td>\n",
       "      <td>334</td>\n",
       "      <td>4.20</td>\n",
       "      <td>4.23</td>\n",
       "      <td>2.63</td>\n",
       "    </tr>\n",
       "    <tr>\n",
       "      <th>4</th>\n",
       "      <td>5</td>\n",
       "      <td>0.31</td>\n",
       "      <td>Good</td>\n",
       "      <td>J</td>\n",
       "      <td>SI2</td>\n",
       "      <td>63.3</td>\n",
       "      <td>58.0</td>\n",
       "      <td>335</td>\n",
       "      <td>4.34</td>\n",
       "      <td>4.35</td>\n",
       "      <td>2.75</td>\n",
       "    </tr>\n",
       "  </tbody>\n",
       "</table>\n",
       "</div>"
      ],
      "text/plain": [
       "   Unnamed: 0  carat      cut color clarity  depth  table  price     x     y  \\\n",
       "0           1   0.23    Ideal     E     SI2   61.5   55.0    326  3.95  3.98   \n",
       "1           2   0.21  Premium     E     SI1   59.8   61.0    326  3.89  3.84   \n",
       "2           3   0.23     Good     E     VS1   56.9   65.0    327  4.05  4.07   \n",
       "3           4   0.29  Premium     I     VS2   62.4   58.0    334  4.20  4.23   \n",
       "4           5   0.31     Good     J     SI2   63.3   58.0    335  4.34  4.35   \n",
       "\n",
       "      z  \n",
       "0  2.43  \n",
       "1  2.31  \n",
       "2  2.31  \n",
       "3  2.63  \n",
       "4  2.75  "
      ]
     },
     "execution_count": 305,
     "metadata": {},
     "output_type": "execute_result"
    }
   ],
   "source": [
    "df_diamonds.head()\n"
   ]
  },
  {
   "cell_type": "code",
   "execution_count": 306,
   "metadata": {},
   "outputs": [],
   "source": [
    "# Adaptamos los nombres de las columnas para que sean legibles y borramos la primera porque no sirve\n",
    "\n",
    "df_diamonds = df_diamonds.drop(columns='Unnamed: 0')\n",
    "\n",
    "df_diamonds = df_diamonds.rename(columns={'carat': 'weight (carat)',\n",
    "                                                'cut': 'cut quality',\n",
    "                                                'color': 'color quality',\n",
    "                                                'clarity': 'clarity quality', # Fuente: https://4cs.gia.edu/en-us/diamond-clarity/\n",
    "                                                'depth': 'depth (percentage)', # Medida de la altura del diamante (distancia entre la punta y la parte plana) en relación a su anchura. Fuente: https://www.withclarity.com/education/diamond-education/diamond-cut/what-is-diamond-depth-or-diamond-education\n",
    "                                                'table': 'table (percentage)', # Medida de la parte plana del diamante en relación a su anchura. Fuente: https://www.brilliance.com/education/diamonds/depth-table\n",
    "                                                'price': 'price (dollars)',\n",
    "                                                'x': 'lenght (millimeters)',\n",
    "                                                'y': 'width (millimeters)',\n",
    "                                                'z': 'depth (millimeters)'\n",
    "                                                }\n",
    "                                )\n"
   ]
  },
  {
   "cell_type": "code",
   "execution_count": 307,
   "metadata": {},
   "outputs": [
    {
     "data": {
      "text/html": [
       "<div>\n",
       "<style scoped>\n",
       "    .dataframe tbody tr th:only-of-type {\n",
       "        vertical-align: middle;\n",
       "    }\n",
       "\n",
       "    .dataframe tbody tr th {\n",
       "        vertical-align: top;\n",
       "    }\n",
       "\n",
       "    .dataframe thead th {\n",
       "        text-align: right;\n",
       "    }\n",
       "</style>\n",
       "<table border=\"1\" class=\"dataframe\">\n",
       "  <thead>\n",
       "    <tr style=\"text-align: right;\">\n",
       "      <th></th>\n",
       "      <th>weight (carat)</th>\n",
       "      <th>cut quality</th>\n",
       "      <th>color quality</th>\n",
       "      <th>clarity quality</th>\n",
       "      <th>depth (percentage)</th>\n",
       "      <th>table (percentage)</th>\n",
       "      <th>price (dollars)</th>\n",
       "      <th>lenght (millimeters)</th>\n",
       "      <th>width (millimeters)</th>\n",
       "      <th>depth (millimeters)</th>\n",
       "    </tr>\n",
       "  </thead>\n",
       "  <tbody>\n",
       "    <tr>\n",
       "      <th>0</th>\n",
       "      <td>0.23</td>\n",
       "      <td>Ideal</td>\n",
       "      <td>E</td>\n",
       "      <td>SI2</td>\n",
       "      <td>61.5</td>\n",
       "      <td>55.0</td>\n",
       "      <td>326</td>\n",
       "      <td>3.95</td>\n",
       "      <td>3.98</td>\n",
       "      <td>2.43</td>\n",
       "    </tr>\n",
       "    <tr>\n",
       "      <th>1</th>\n",
       "      <td>0.21</td>\n",
       "      <td>Premium</td>\n",
       "      <td>E</td>\n",
       "      <td>SI1</td>\n",
       "      <td>59.8</td>\n",
       "      <td>61.0</td>\n",
       "      <td>326</td>\n",
       "      <td>3.89</td>\n",
       "      <td>3.84</td>\n",
       "      <td>2.31</td>\n",
       "    </tr>\n",
       "    <tr>\n",
       "      <th>2</th>\n",
       "      <td>0.23</td>\n",
       "      <td>Good</td>\n",
       "      <td>E</td>\n",
       "      <td>VS1</td>\n",
       "      <td>56.9</td>\n",
       "      <td>65.0</td>\n",
       "      <td>327</td>\n",
       "      <td>4.05</td>\n",
       "      <td>4.07</td>\n",
       "      <td>2.31</td>\n",
       "    </tr>\n",
       "    <tr>\n",
       "      <th>3</th>\n",
       "      <td>0.29</td>\n",
       "      <td>Premium</td>\n",
       "      <td>I</td>\n",
       "      <td>VS2</td>\n",
       "      <td>62.4</td>\n",
       "      <td>58.0</td>\n",
       "      <td>334</td>\n",
       "      <td>4.20</td>\n",
       "      <td>4.23</td>\n",
       "      <td>2.63</td>\n",
       "    </tr>\n",
       "    <tr>\n",
       "      <th>4</th>\n",
       "      <td>0.31</td>\n",
       "      <td>Good</td>\n",
       "      <td>J</td>\n",
       "      <td>SI2</td>\n",
       "      <td>63.3</td>\n",
       "      <td>58.0</td>\n",
       "      <td>335</td>\n",
       "      <td>4.34</td>\n",
       "      <td>4.35</td>\n",
       "      <td>2.75</td>\n",
       "    </tr>\n",
       "  </tbody>\n",
       "</table>\n",
       "</div>"
      ],
      "text/plain": [
       "   weight (carat) cut quality color quality clarity quality  \\\n",
       "0            0.23       Ideal             E             SI2   \n",
       "1            0.21     Premium             E             SI1   \n",
       "2            0.23        Good             E             VS1   \n",
       "3            0.29     Premium             I             VS2   \n",
       "4            0.31        Good             J             SI2   \n",
       "\n",
       "   depth (percentage)  table (percentage)  price (dollars)  \\\n",
       "0                61.5                55.0              326   \n",
       "1                59.8                61.0              326   \n",
       "2                56.9                65.0              327   \n",
       "3                62.4                58.0              334   \n",
       "4                63.3                58.0              335   \n",
       "\n",
       "   lenght (millimeters)  width (millimeters)  depth (millimeters)  \n",
       "0                  3.95                 3.98                 2.43  \n",
       "1                  3.89                 3.84                 2.31  \n",
       "2                  4.05                 4.07                 2.31  \n",
       "3                  4.20                 4.23                 2.63  \n",
       "4                  4.34                 4.35                 2.75  "
      ]
     },
     "execution_count": 307,
     "metadata": {},
     "output_type": "execute_result"
    }
   ],
   "source": [
    "df_diamonds.head()\n"
   ]
  },
  {
   "cell_type": "code",
   "execution_count": 308,
   "metadata": {},
   "outputs": [
    {
     "name": "stdout",
     "output_type": "stream",
     "text": [
      "<class 'pandas.core.frame.DataFrame'>\n",
      "RangeIndex: 53940 entries, 0 to 53939\n",
      "Data columns (total 10 columns):\n",
      " #   Column                Non-Null Count  Dtype  \n",
      "---  ------                --------------  -----  \n",
      " 0   weight (carat)        53940 non-null  float64\n",
      " 1   cut quality           53940 non-null  object \n",
      " 2   color quality         53940 non-null  object \n",
      " 3   clarity quality       53940 non-null  object \n",
      " 4   depth (percentage)    53940 non-null  float64\n",
      " 5   table (percentage)    53940 non-null  float64\n",
      " 6   price (dollars)       53940 non-null  int64  \n",
      " 7   lenght (millimeters)  53940 non-null  float64\n",
      " 8   width (millimeters)   53940 non-null  float64\n",
      " 9   depth (millimeters)   53940 non-null  float64\n",
      "dtypes: float64(6), int64(1), object(3)\n",
      "memory usage: 4.1+ MB\n"
     ]
    }
   ],
   "source": [
    "# No hay valores nulos\n",
    "df_diamonds.info()\n"
   ]
  },
  {
   "cell_type": "code",
   "execution_count": 309,
   "metadata": {},
   "outputs": [
    {
     "data": {
      "text/html": [
       "<div>\n",
       "<style scoped>\n",
       "    .dataframe tbody tr th:only-of-type {\n",
       "        vertical-align: middle;\n",
       "    }\n",
       "\n",
       "    .dataframe tbody tr th {\n",
       "        vertical-align: top;\n",
       "    }\n",
       "\n",
       "    .dataframe thead th {\n",
       "        text-align: right;\n",
       "    }\n",
       "</style>\n",
       "<table border=\"1\" class=\"dataframe\">\n",
       "  <thead>\n",
       "    <tr style=\"text-align: right;\">\n",
       "      <th></th>\n",
       "      <th>weight (carat)</th>\n",
       "      <th>depth (percentage)</th>\n",
       "      <th>table (percentage)</th>\n",
       "      <th>price (dollars)</th>\n",
       "      <th>lenght (millimeters)</th>\n",
       "      <th>width (millimeters)</th>\n",
       "      <th>depth (millimeters)</th>\n",
       "    </tr>\n",
       "  </thead>\n",
       "  <tbody>\n",
       "    <tr>\n",
       "      <th>count</th>\n",
       "      <td>53940.000000</td>\n",
       "      <td>53940.000000</td>\n",
       "      <td>53940.000000</td>\n",
       "      <td>53940.000000</td>\n",
       "      <td>53940.000000</td>\n",
       "      <td>53940.000000</td>\n",
       "      <td>53940.000000</td>\n",
       "    </tr>\n",
       "    <tr>\n",
       "      <th>mean</th>\n",
       "      <td>0.797940</td>\n",
       "      <td>61.749405</td>\n",
       "      <td>57.457184</td>\n",
       "      <td>3932.799722</td>\n",
       "      <td>5.731157</td>\n",
       "      <td>5.734526</td>\n",
       "      <td>3.538734</td>\n",
       "    </tr>\n",
       "    <tr>\n",
       "      <th>std</th>\n",
       "      <td>0.474011</td>\n",
       "      <td>1.432621</td>\n",
       "      <td>2.234491</td>\n",
       "      <td>3989.439738</td>\n",
       "      <td>1.121761</td>\n",
       "      <td>1.142135</td>\n",
       "      <td>0.705699</td>\n",
       "    </tr>\n",
       "    <tr>\n",
       "      <th>min</th>\n",
       "      <td>0.200000</td>\n",
       "      <td>43.000000</td>\n",
       "      <td>43.000000</td>\n",
       "      <td>326.000000</td>\n",
       "      <td>0.000000</td>\n",
       "      <td>0.000000</td>\n",
       "      <td>0.000000</td>\n",
       "    </tr>\n",
       "    <tr>\n",
       "      <th>25%</th>\n",
       "      <td>0.400000</td>\n",
       "      <td>61.000000</td>\n",
       "      <td>56.000000</td>\n",
       "      <td>950.000000</td>\n",
       "      <td>4.710000</td>\n",
       "      <td>4.720000</td>\n",
       "      <td>2.910000</td>\n",
       "    </tr>\n",
       "    <tr>\n",
       "      <th>50%</th>\n",
       "      <td>0.700000</td>\n",
       "      <td>61.800000</td>\n",
       "      <td>57.000000</td>\n",
       "      <td>2401.000000</td>\n",
       "      <td>5.700000</td>\n",
       "      <td>5.710000</td>\n",
       "      <td>3.530000</td>\n",
       "    </tr>\n",
       "    <tr>\n",
       "      <th>75%</th>\n",
       "      <td>1.040000</td>\n",
       "      <td>62.500000</td>\n",
       "      <td>59.000000</td>\n",
       "      <td>5324.250000</td>\n",
       "      <td>6.540000</td>\n",
       "      <td>6.540000</td>\n",
       "      <td>4.040000</td>\n",
       "    </tr>\n",
       "    <tr>\n",
       "      <th>max</th>\n",
       "      <td>5.010000</td>\n",
       "      <td>79.000000</td>\n",
       "      <td>95.000000</td>\n",
       "      <td>18823.000000</td>\n",
       "      <td>10.740000</td>\n",
       "      <td>58.900000</td>\n",
       "      <td>31.800000</td>\n",
       "    </tr>\n",
       "  </tbody>\n",
       "</table>\n",
       "</div>"
      ],
      "text/plain": [
       "       weight (carat)  depth (percentage)  table (percentage)  \\\n",
       "count    53940.000000        53940.000000        53940.000000   \n",
       "mean         0.797940           61.749405           57.457184   \n",
       "std          0.474011            1.432621            2.234491   \n",
       "min          0.200000           43.000000           43.000000   \n",
       "25%          0.400000           61.000000           56.000000   \n",
       "50%          0.700000           61.800000           57.000000   \n",
       "75%          1.040000           62.500000           59.000000   \n",
       "max          5.010000           79.000000           95.000000   \n",
       "\n",
       "       price (dollars)  lenght (millimeters)  width (millimeters)  \\\n",
       "count     53940.000000          53940.000000         53940.000000   \n",
       "mean       3932.799722              5.731157             5.734526   \n",
       "std        3989.439738              1.121761             1.142135   \n",
       "min         326.000000              0.000000             0.000000   \n",
       "25%         950.000000              4.710000             4.720000   \n",
       "50%        2401.000000              5.700000             5.710000   \n",
       "75%        5324.250000              6.540000             6.540000   \n",
       "max       18823.000000             10.740000            58.900000   \n",
       "\n",
       "       depth (millimeters)  \n",
       "count         53940.000000  \n",
       "mean              3.538734  \n",
       "std               0.705699  \n",
       "min               0.000000  \n",
       "25%               2.910000  \n",
       "50%               3.530000  \n",
       "75%               4.040000  \n",
       "max              31.800000  "
      ]
     },
     "execution_count": 309,
     "metadata": {},
     "output_type": "execute_result"
    }
   ],
   "source": [
    "# No parece posible que haya diamantes con 0 milimetros de altura, anchura o profundidad. Habrá que revisarlo\n",
    "df_diamonds.describe()\n"
   ]
  },
  {
   "cell_type": "code",
   "execution_count": 310,
   "metadata": {},
   "outputs": [
    {
     "data": {
      "text/html": [
       "<div>\n",
       "<style scoped>\n",
       "    .dataframe tbody tr th:only-of-type {\n",
       "        vertical-align: middle;\n",
       "    }\n",
       "\n",
       "    .dataframe tbody tr th {\n",
       "        vertical-align: top;\n",
       "    }\n",
       "\n",
       "    .dataframe thead th {\n",
       "        text-align: right;\n",
       "    }\n",
       "</style>\n",
       "<table border=\"1\" class=\"dataframe\">\n",
       "  <thead>\n",
       "    <tr style=\"text-align: right;\">\n",
       "      <th></th>\n",
       "      <th>cut quality</th>\n",
       "      <th>color quality</th>\n",
       "      <th>clarity quality</th>\n",
       "    </tr>\n",
       "  </thead>\n",
       "  <tbody>\n",
       "    <tr>\n",
       "      <th>count</th>\n",
       "      <td>53940</td>\n",
       "      <td>53940</td>\n",
       "      <td>53940</td>\n",
       "    </tr>\n",
       "    <tr>\n",
       "      <th>unique</th>\n",
       "      <td>5</td>\n",
       "      <td>7</td>\n",
       "      <td>8</td>\n",
       "    </tr>\n",
       "    <tr>\n",
       "      <th>top</th>\n",
       "      <td>Ideal</td>\n",
       "      <td>G</td>\n",
       "      <td>SI1</td>\n",
       "    </tr>\n",
       "    <tr>\n",
       "      <th>freq</th>\n",
       "      <td>21551</td>\n",
       "      <td>11292</td>\n",
       "      <td>13065</td>\n",
       "    </tr>\n",
       "  </tbody>\n",
       "</table>\n",
       "</div>"
      ],
      "text/plain": [
       "       cut quality color quality clarity quality\n",
       "count        53940         53940           53940\n",
       "unique           5             7               8\n",
       "top          Ideal             G             SI1\n",
       "freq         21551         11292           13065"
      ]
     },
     "execution_count": 310,
     "metadata": {},
     "output_type": "execute_result"
    }
   ],
   "source": [
    "df_diamonds.describe(include='object')\n"
   ]
  },
  {
   "attachments": {},
   "cell_type": "markdown",
   "metadata": {},
   "source": [
    "# Desglose por columnas"
   ]
  },
  {
   "attachments": {},
   "cell_type": "markdown",
   "metadata": {},
   "source": [
    "## weight (carat)"
   ]
  },
  {
   "cell_type": "code",
   "execution_count": 312,
   "metadata": {},
   "outputs": [
    {
     "data": {
      "text/plain": [
       "array([0.23, 0.21, 0.29, 0.31, 0.24, 0.26, 0.22, 0.3 , 0.2 , 0.32, 0.33,\n",
       "       0.25, 0.35, 0.42, 0.28, 0.38, 0.7 , 0.86, 0.71, 0.78, 0.96, 0.73,\n",
       "       0.8 , 0.75, 0.74, 0.81, 0.59, 0.9 , 0.91, 0.61, 0.77, 0.63, 0.76,\n",
       "       0.64, 0.72, 0.79, 0.58, 1.17, 0.6 , 0.83, 0.54, 0.98, 0.52, 1.01,\n",
       "       0.53, 0.84, 0.51, 1.05, 0.55, 0.87, 1.  , 0.57, 0.82, 1.04, 0.93,\n",
       "       1.2 , 0.99, 0.34, 0.43, 0.36, 0.95, 0.89, 1.02, 0.97, 0.56, 0.85,\n",
       "       0.92, 1.27, 0.66, 1.12, 0.68, 1.03, 0.62, 1.22, 1.08, 0.88, 0.5 ,\n",
       "       1.19, 0.39, 0.65, 1.24, 1.5 , 0.27, 0.41, 1.13, 1.06, 0.69, 0.4 ,\n",
       "       1.14, 0.94, 1.29, 1.52, 1.16, 1.21, 1.23, 1.09, 0.67, 1.11, 1.1 ,\n",
       "       1.18, 1.15, 1.25, 1.07, 1.28, 1.51, 0.37, 1.31, 1.26, 1.39, 1.44,\n",
       "       1.35, 1.3 , 1.32, 1.41, 1.36, 1.45, 1.34, 1.58, 1.54, 1.38, 1.33,\n",
       "       1.74, 1.64, 1.47, 1.4 , 1.55, 1.95, 2.  , 1.37, 1.83, 1.62, 1.57,\n",
       "       1.69, 2.06, 1.72, 1.66, 2.14, 1.49, 1.46, 2.15, 1.96, 2.22, 1.7 ,\n",
       "       1.53, 1.85, 2.01, 2.27, 1.68, 1.56, 1.81, 1.65, 1.82, 2.03, 1.73,\n",
       "       1.59, 1.42, 1.43, 2.08, 1.48, 1.6 , 2.49, 1.71, 2.02, 2.07, 3.  ,\n",
       "       2.21, 2.1 , 1.91, 2.25, 2.17, 2.32, 2.72, 1.61, 2.23, 2.11, 2.05,\n",
       "       1.63, 2.3 , 2.31, 1.75, 2.04, 2.12, 1.77, 2.5 , 1.8 , 1.67, 1.84,\n",
       "       2.2 , 3.01, 1.88, 2.33, 2.68, 2.34, 1.9 , 2.16, 2.74, 1.78, 1.76,\n",
       "       2.28, 1.79, 1.94, 2.43, 1.86, 3.11, 1.87, 2.09, 1.89, 2.52, 2.19,\n",
       "       2.18, 2.77, 2.63, 3.05, 2.46, 3.02, 2.38, 2.24, 2.26, 2.36, 1.99,\n",
       "       2.29, 3.65, 2.45, 2.4 , 2.54, 3.24, 2.13, 2.58, 3.22, 3.5 , 2.48,\n",
       "       1.98, 2.44, 2.75, 1.93, 2.41, 2.61, 2.35, 2.51, 2.7 , 2.55, 1.97,\n",
       "       2.53, 2.37, 2.47, 2.8 , 4.01, 2.56, 3.04, 1.92, 2.39, 3.4 , 4.  ,\n",
       "       3.67, 2.42, 2.66, 2.65, 2.59, 2.6 , 2.57, 2.71, 4.13, 2.64, 5.01,\n",
       "       4.5 , 2.67, 3.51, 0.44, 0.45, 0.47, 0.46, 0.48, 0.49])"
      ]
     },
     "execution_count": 312,
     "metadata": {},
     "output_type": "execute_result"
    }
   ],
   "source": [
    "df_diamonds['weight (carat)'].unique()\n"
   ]
  },
  {
   "cell_type": "code",
   "execution_count": 313,
   "metadata": {},
   "outputs": [
    {
     "data": {
      "image/png": "[encoded data removed]",
      "text/plain": [
       "<Figure size 500x500 with 1 Axes>"
      ]
     },
     "metadata": {},
     "output_type": "display_data"
    }
   ],
   "source": [
    "# Hay muy pocos diamantes que pesen más de 2 \"carat\" (quilates)\n",
    "sns.displot(df_diamonds['weight (carat)'])\n",
    "plt.show()\n"
   ]
  },
  {
   "cell_type": "code",
   "execution_count": 314,
   "metadata": {},
   "outputs": [
    {
     "data": {
      "image/png": "[encoded data removed]",
      "text/plain": [
       "<Figure size 640x480 with 1 Axes>"
      ]
     },
     "metadata": {},
     "output_type": "display_data"
    }
   ],
   "source": [
    "# Lo suavizamos con un gráfico de densidad. Hay una subida importante en el 1\n",
    "sns.kdeplot(df_diamonds['weight (carat)'])\n",
    "plt.show()\n"
   ]
  },
  {
   "attachments": {},
   "cell_type": "markdown",
   "metadata": {},
   "source": [
    "### Outliers"
   ]
  },
  {
   "cell_type": "code",
   "execution_count": 315,
   "metadata": {},
   "outputs": [
    {
     "data": {
      "image/png": "[encoded data removed]",
      "text/plain": [
       "<Figure size 640x480 with 1 Axes>"
      ]
     },
     "metadata": {},
     "output_type": "display_data"
    }
   ],
   "source": [
    "# Confirmamos lo visto con un boxplot\n",
    "ax = sns.boxplot(df_diamonds['weight (carat)'])\n",
    "ax.set_xticklabels(['weight (carat)'])\n",
    "plt.show()\n"
   ]
  },
  {
   "attachments": {},
   "cell_type": "markdown",
   "metadata": {},
   "source": [
    "## cut quality"
   ]
  },
  {
   "cell_type": "code",
   "execution_count": 316,
   "metadata": {},
   "outputs": [
    {
     "data": {
      "text/plain": [
       "['Ideal', 'Premium', 'Good', 'Very Good', 'Fair']"
      ]
     },
     "execution_count": 316,
     "metadata": {},
     "output_type": "execute_result"
    }
   ],
   "source": [
    "# No es numérica, habrá que transformarla. \n",
    "cut_uniques = list(df_diamonds['cut quality'].unique())\n",
    "cut_uniques\n"
   ]
  },
  {
   "cell_type": "code",
   "execution_count": 317,
   "metadata": {},
   "outputs": [
    {
     "name": "stdout",
     "output_type": "stream",
     "text": [
      "0 Fair\n",
      "1 Good\n",
      "2 Very Good\n",
      "3 Premium\n",
      "4 Ideal\n"
     ]
    }
   ],
   "source": [
    "very_good = cut_uniques[3]\n",
    "cut_uniques.remove(very_good)\n",
    "cut_uniques.insert(2, very_good)\n",
    "\n",
    "for index, value in (enumerate(reversed(cut_uniques))):\n",
    "    df_diamonds.loc[df_diamonds['cut quality'] == value, 'cut quality'] = index\n",
    "    print(index, value)\n"
   ]
  },
  {
   "cell_type": "code",
   "execution_count": 318,
   "metadata": {},
   "outputs": [
    {
     "data": {
      "text/plain": [
       "array([4, 3, 1, 2, 0], dtype=object)"
      ]
     },
     "execution_count": 318,
     "metadata": {},
     "output_type": "execute_result"
    }
   ],
   "source": [
    "df_diamonds['cut quality'].unique()\n"
   ]
  },
  {
   "cell_type": "code",
   "execution_count": 319,
   "metadata": {},
   "outputs": [
    {
     "data": {
      "image/png": "[encoded data removed]",
      "text/plain": [
       "<Figure size 640x480 with 1 Axes>"
      ]
     },
     "metadata": {},
     "output_type": "display_data"
    }
   ],
   "source": [
    "# Están bastente repartidos, aunque hay menos de categoría \"Good\" (1) o inferior\n",
    "sns.countplot(x=df_diamonds['cut quality'])\n",
    "plt.show()\n"
   ]
  },
  {
   "cell_type": "code",
   "execution_count": 320,
   "metadata": {},
   "outputs": [
    {
     "data": {
      "image/png": "[encoded data removed]",
      "text/plain": [
       "<Figure size 640x480 with 1 Axes>"
      ]
     },
     "metadata": {},
     "output_type": "display_data"
    }
   ],
   "source": [
    "# En efecto, no hay \"outliers\"\n",
    "ax = sns.boxplot(df_diamonds['cut quality'])\n",
    "ax.set_xticklabels(['cut quality'])\n",
    "plt.show()\n"
   ]
  },
  {
   "attachments": {},
   "cell_type": "markdown",
   "metadata": {},
   "source": [
    "## color quality"
   ]
  },
  {
   "cell_type": "code",
   "execution_count": 321,
   "metadata": {},
   "outputs": [
    {
     "data": {
      "text/plain": [
       "['J', 'I', 'H', 'G', 'F', 'E', 'D']"
      ]
     },
     "execution_count": 321,
     "metadata": {},
     "output_type": "execute_result"
    }
   ],
   "source": [
    "color_uniques = list(df_diamonds['color quality'].unique())\n",
    "color_uniques.sort(reverse=True)\n",
    "color_uniques\n"
   ]
  },
  {
   "cell_type": "code",
   "execution_count": 322,
   "metadata": {},
   "outputs": [
    {
     "name": "stdout",
     "output_type": "stream",
     "text": [
      "0 J\n",
      "1 I\n",
      "2 H\n",
      "3 G\n",
      "4 F\n",
      "5 E\n",
      "6 D\n"
     ]
    }
   ],
   "source": [
    "# Similar al anterior, hay que pasar los valores a numéricos (J es la peor calidad, y D es la mejor)\n",
    "for index, value in enumerate(color_uniques):\n",
    "    df_diamonds.loc[df_diamonds['color quality'] == value, 'color quality'] = index\n",
    "    print(index, value)\n"
   ]
  },
  {
   "cell_type": "code",
   "execution_count": 323,
   "metadata": {},
   "outputs": [
    {
     "data": {
      "text/plain": [
       "array([5, 1, 0, 2, 4, 3, 6], dtype=object)"
      ]
     },
     "execution_count": 323,
     "metadata": {},
     "output_type": "execute_result"
    }
   ],
   "source": [
    "df_diamonds['color quality'].unique()\n"
   ]
  },
  {
   "cell_type": "code",
   "execution_count": 324,
   "metadata": {},
   "outputs": [
    {
     "data": {
      "image/png": "[encoded data removed]",
      "text/plain": [
       "<Figure size 640x480 with 1 Axes>"
      ]
     },
     "metadata": {},
     "output_type": "display_data"
    }
   ],
   "source": [
    "# Repartidos, si bien pocos de calidad J (0)\n",
    "sns.countplot(x=df_diamonds['color quality'])\n",
    "plt.show()\n"
   ]
  },
  {
   "cell_type": "code",
   "execution_count": 325,
   "metadata": {},
   "outputs": [
    {
     "data": {
      "image/png": "[encoded data removed]",
      "text/plain": [
       "<Figure size 640x480 with 1 Axes>"
      ]
     },
     "metadata": {},
     "output_type": "display_data"
    }
   ],
   "source": [
    "# Sin \"outliers\"\n",
    "ax = sns.boxplot(df_diamonds['color quality'])\n",
    "ax.set_xticklabels(['color quality'])\n",
    "plt.show()\n"
   ]
  },
  {
   "attachments": {},
   "cell_type": "markdown",
   "metadata": {},
   "source": [
    "## clarity quality"
   ]
  },
  {
   "cell_type": "code",
   "execution_count": 326,
   "metadata": {},
   "outputs": [
    {
     "data": {
      "text/plain": [
       "array(['SI2', 'SI1', 'VS1', 'VS2', 'VVS2', 'VVS1', 'I1', 'IF'],\n",
       "      dtype=object)"
      ]
     },
     "execution_count": 326,
     "metadata": {},
     "output_type": "execute_result"
    }
   ],
   "source": [
    "# Hay que buscar a qué nivel de calidad corresponde cada valor y numerarlos\n",
    "df_diamonds['clarity quality'].unique()\n"
   ]
  },
  {
   "cell_type": "code",
   "execution_count": 327,
   "metadata": {},
   "outputs": [
    {
     "data": {
      "text/plain": [
       "array([1, 2, 4, 3, 5, 6, 0, 7], dtype=int64)"
      ]
     },
     "execution_count": 327,
     "metadata": {},
     "output_type": "execute_result"
    }
   ],
   "source": [
    "# Fuente: https://www.77diamonds.com/es/grados-de-pureza-del-diamante\n",
    "df_diamonds['clarity quality'] = df_diamonds['clarity quality'].apply(lambda x: 0 if x == 'I1'\n",
    "                                                                        else 1 if x == 'SI2'\n",
    "                                                                        else 2 if x == 'SI1'\n",
    "                                                                        else 3 if x == 'VS2'\n",
    "                                                                        else 4 if x == 'VS1'\n",
    "                                                                        else 5 if x == 'VVS2'\n",
    "                                                                        else 6 if x == 'VVS1'\n",
    "                                                                        else 7\n",
    "                                                                        )\n",
    "\n",
    "df_diamonds['clarity quality'].unique()\n"
   ]
  },
  {
   "cell_type": "code",
   "execution_count": 328,
   "metadata": {},
   "outputs": [
    {
     "data": {
      "image/png": "[encoded data removed]",
      "text/plain": [
       "<Figure size 640x480 with 1 Axes>"
      ]
     },
     "metadata": {},
     "output_type": "display_data"
    }
   ],
   "source": [
    "# Tal como indica la fuente, los diamantes de máxima calidad son muy raros. Hay menos, todavía, de la peor calidad\n",
    "sns.countplot(x=df_diamonds['clarity quality'])\n",
    "plt.show()\n"
   ]
  },
  {
   "cell_type": "code",
   "execution_count": 329,
   "metadata": {},
   "outputs": [
    {
     "data": {
      "image/png": "[encoded data removed]",
      "text/plain": [
       "<Figure size 640x480 with 1 Axes>"
      ]
     },
     "metadata": {},
     "output_type": "display_data"
    }
   ],
   "source": [
    "# Con todo, no hay \"outliers\"\n",
    "ax = sns.boxplot(df_diamonds['clarity quality'])\n",
    "ax.set_xticklabels(['clarity quality'])\n",
    "plt.show()\n"
   ]
  },
  {
   "attachments": {},
   "cell_type": "markdown",
   "metadata": {},
   "source": [
    "## depth (percentage)"
   ]
  },
  {
   "cell_type": "code",
   "execution_count": 330,
   "metadata": {},
   "outputs": [
    {
     "data": {
      "text/plain": [
       "array([61.5, 59.8, 56.9, 62.4, 63.3, 62.8, 62.3, 61.9, 65.1, 59.4, 64. ,\n",
       "       60.4, 62.2, 60.2, 60.9, 62. , 63.4, 63.8, 62.7, 61. , 58.1, 62.5,\n",
       "       60.5, 60. , 60.7, 59.5, 58.2, 64.1, 60.8, 61.8, 61.2, 61.1, 65.2,\n",
       "       58.4, 63.1, 61.6, 59.3, 62.6, 63. , 63.2, 62.1, 61.4, 62.9, 63.7,\n",
       "       59.2, 59.9, 57.9, 55.1, 57.5, 66.3, 61.7, 58.8, 64.5, 65.3, 59.6,\n",
       "       64.4, 65.7, 63.6, 61.3, 60.1, 60.3, 58. , 64.6, 59.7, 57.8, 67.9,\n",
       "       60.6, 57.2, 64.2, 65.8, 67.4, 59. , 63.5, 67.3, 58.7, 66.4, 68.1,\n",
       "       63.9, 55. , 58.6, 64.3, 58.5, 65. , 56. , 58.3, 53.1, 64.9, 59.1,\n",
       "       58.9, 66.7, 57.7, 65.4, 53.3, 53. , 67.8, 66.1, 55.8, 67.6, 68.2,\n",
       "       65.5, 67.7, 69.5, 56.6, 56.3, 66.9, 66. , 67. , 57.6, 67.1, 65.6,\n",
       "       64.8, 69.3, 66.2, 55.4, 66.8, 64.7, 66.6, 55.9, 57.3, 57.4, 68.3,\n",
       "       68.5, 56.2, 65.9, 56.5, 56.1, 66.5, 68.4, 69.7, 57.1, 68.7, 56.7,\n",
       "       68.6, 71.6, 43. , 68.8, 67.5, 69. , 55.2, 68.9, 69.6, 57. , 56.4,\n",
       "       56.8, 44. , 67.2, 70.1, 71.3, 70.6, 69.8, 71.8, 53.8, 53.2, 70. ,\n",
       "       69.4, 68. , 70.2, 50.8, 55.6, 70.5, 71. , 69.1, 55.3, 54.2, 51. ,\n",
       "       70.8, 54.6, 54. , 54.4, 52.3, 55.5, 78.2, 71.2, 52.7, 54.3, 69.2,\n",
       "       73.6, 52.2, 69.9, 53.4, 72.2, 79. , 72.9, 54.7])"
      ]
     },
     "execution_count": 330,
     "metadata": {},
     "output_type": "execute_result"
    }
   ],
   "source": [
    "df_diamonds['depth (percentage)'].unique()\n"
   ]
  },
  {
   "cell_type": "code",
   "execution_count": 331,
   "metadata": {},
   "outputs": [
    {
     "data": {
      "image/png": "[encoded data removed]",
      "text/plain": [
       "<Figure size 500x500 with 1 Axes>"
      ]
     },
     "metadata": {},
     "output_type": "display_data"
    }
   ],
   "source": [
    "# Si no fuera porque el grueso de los números se encuentra en el centro, se asemejaría bastante a una distribución normal\n",
    "sns.displot(df_diamonds['depth (percentage)'], kde=True)\n",
    "plt.show()\n"
   ]
  },
  {
   "attachments": {},
   "cell_type": "markdown",
   "metadata": {},
   "source": [
    "### Outliers"
   ]
  },
  {
   "cell_type": "code",
   "execution_count": 332,
   "metadata": {},
   "outputs": [
    {
     "data": {
      "image/png": "[encoded data removed]",
      "text/plain": [
       "<Figure size 640x480 with 1 Axes>"
      ]
     },
     "metadata": {},
     "output_type": "display_data"
    }
   ],
   "source": [
    "# A consecuencia de ello, hay muchos \"outliers2\n",
    "ax = sns.boxplot(df_diamonds['depth (percentage)'])\n",
    "ax.set_xticklabels(['depth (percentage)'])\n",
    "plt.show()\n"
   ]
  },
  {
   "attachments": {},
   "cell_type": "markdown",
   "metadata": {},
   "source": [
    "## table (percentage)"
   ]
  },
  {
   "cell_type": "code",
   "execution_count": 333,
   "metadata": {},
   "outputs": [
    {
     "data": {
      "text/plain": [
       "array([55. , 61. , 65. , 58. , 57. , 56. , 54. , 62. , 59. , 63. , 60. ,\n",
       "       55.3, 69. , 53. , 64. , 56.4, 60.5, 67. , 52. , 55.8, 66. , 70. ,\n",
       "       68. , 54.4, 57.1, 53.6, 54.8, 54.2, 54.9, 56.7, 53.9, 57.8, 54.1,\n",
       "       55.1, 51. , 58.1, 56.9, 56.5, 53.7, 60.7, 56.2, 56.6, 56.1, 56.3,\n",
       "       57.2, 57.5, 60.9, 59.8, 62.3, 60.1, 55.9, 50.1, 62.2, 54.5, 55.7,\n",
       "       53.4, 54.7, 58.8, 59.4, 62.5, 54.3, 60.6, 55.2, 58.6, 49. , 50. ,\n",
       "       54.6, 62.6, 57.7, 56.8, 57.9, 60.3, 55.6, 59.5, 57.4, 62.4, 60.4,\n",
       "       53.3, 60.2, 60.8, 58.5, 57.6, 43. , 59.9, 63.5, 57.3, 61.4, 58.3,\n",
       "       55.4, 58.2, 53.5, 59.7, 55.5, 58.7, 53.8, 59.1, 53.2, 59.3, 61.1,\n",
       "       51.6, 95. , 61.2, 59.2, 58.4, 53.1, 52.8, 44. , 61.3, 61.9, 61.8,\n",
       "       59.6, 61.5, 58.9, 64.3, 62.8, 71. , 52.4, 63.3, 61.7, 64.2, 73. ,\n",
       "       65.4, 63.4, 62.1, 79. , 76. , 61.6])"
      ]
     },
     "execution_count": 333,
     "metadata": {},
     "output_type": "execute_result"
    }
   ],
   "source": [
    "df_diamonds['table (percentage)'].unique()\n"
   ]
  },
  {
   "cell_type": "code",
   "execution_count": 334,
   "metadata": {},
   "outputs": [
    {
     "data": {
      "image/png": "[encoded data removed]",
      "text/plain": [
       "<Figure size 640x480 with 1 Axes>"
      ]
     },
     "metadata": {},
     "output_type": "display_data"
    }
   ],
   "source": [
    "# Vemos que la inmensa mayoría se encuentran entre 50% y 65%, con números distintos, y que hay unos pocos valores que se repiten mucho\n",
    "# Detectamos también un \"outlier\" flagrante del 95%\n",
    "barplot = plt.bar(x=df_diamonds['table (percentage)'].unique(), height=df_diamonds['table (percentage)'].value_counts())\n",
    "plt.bar_label(barplot, labels=df_diamonds['table (percentage)'].unique(), label_type='edge')\n",
    "plt.show()\n"
   ]
  },
  {
   "cell_type": "code",
   "execution_count": 335,
   "metadata": {},
   "outputs": [
    {
     "data": {
      "image/png": "[encoded data removed]",
      "text/plain": [
       "<Figure size 640x480 with 1 Axes>"
      ]
     },
     "metadata": {},
     "output_type": "display_data"
    }
   ],
   "source": [
    "# Lo suavizamos con un gráfico de densidad para clarificar esa tendencia\n",
    "sns.kdeplot(df_diamonds['table (percentage)'])\n",
    "plt.show()\n"
   ]
  },
  {
   "attachments": {},
   "cell_type": "markdown",
   "metadata": {},
   "source": [
    "### Outliers"
   ]
  },
  {
   "cell_type": "code",
   "execution_count": 336,
   "metadata": {},
   "outputs": [
    {
     "data": {
      "image/png": "[encoded data removed]",
      "text/plain": [
       "<Figure size 640x480 with 1 Axes>"
      ]
     },
     "metadata": {},
     "output_type": "display_data"
    }
   ],
   "source": [
    "# Como es de preveer hay muchos \"outliers\", sobre todo por la parte superior\n",
    "ax = sns.boxplot(df_diamonds['table (percentage)'])\n",
    "ax.set_xticklabels(['table (percentage)'])\n",
    "plt.show()\n"
   ]
  },
  {
   "attachments": {},
   "cell_type": "markdown",
   "metadata": {},
   "source": [
    "## price (dollars)"
   ]
  },
  {
   "cell_type": "code",
   "execution_count": 337,
   "metadata": {},
   "outputs": [
    {
     "data": {
      "text/plain": [
       "array([ 326,  327,  334, ..., 2753, 2755, 2756], dtype=int64)"
      ]
     },
     "execution_count": 337,
     "metadata": {},
     "output_type": "execute_result"
    }
   ],
   "source": [
    "# Esta es la columna \"target\"\n",
    "df_diamonds['price (dollars)'].unique()\n"
   ]
  },
  {
   "cell_type": "code",
   "execution_count": 338,
   "metadata": {},
   "outputs": [
    {
     "data": {
      "image/png": "[encoded data removed]",
      "text/plain": [
       "<Figure size 500x500 with 1 Axes>"
      ]
     },
     "metadata": {},
     "output_type": "display_data"
    }
   ],
   "source": [
    "# Hay muchos diamantes con un precio \"asequible\", y cada vez menos a medida que se encarece\n",
    "sns.displot(df_diamonds['price (dollars)'])\n",
    "plt.show()\n"
   ]
  },
  {
   "attachments": {},
   "cell_type": "markdown",
   "metadata": {},
   "source": [
    "## lenght (millimeters)"
   ]
  },
  {
   "cell_type": "code",
   "execution_count": 339,
   "metadata": {},
   "outputs": [
    {
     "data": {
      "text/plain": [
       "array([ 3.95,  3.89,  4.05,  4.2 ,  4.34,  3.94,  4.07,  3.87,  4.  ,\n",
       "        4.25,  3.93,  3.88,  4.35,  3.79,  4.38,  4.31,  4.23,  4.21,\n",
       "        4.26,  3.85,  4.39,  4.44,  3.97,  4.28,  3.96,  4.04,  4.01,\n",
       "        3.92,  4.06,  3.83,  4.29,  4.13,  4.49,  3.99,  4.19,  4.24,\n",
       "        4.36,  4.33,  4.02,  4.45,  3.91,  4.3 ,  4.43,  4.54,  4.78,\n",
       "        4.15,  4.08,  4.03,  4.65,  4.22,  5.7 ,  6.45,  5.68,  5.81,\n",
       "        5.85,  5.71,  6.27,  5.77,  5.97,  5.8 ,  6.  ,  5.94,  5.87,\n",
       "        5.9 ,  6.14,  5.38,  5.96,  6.16,  5.73,  5.98,  5.72,  6.01,\n",
       "        5.64,  5.57,  5.63,  5.65,  6.09,  5.56,  6.11,  6.03,  5.89,\n",
       "        5.69,  5.62,  5.88,  5.52,  5.74,  5.53,  5.78,  5.83,  5.66,\n",
       "        5.82,  5.79,  5.92,  5.39,  5.33,  6.83,  5.41,  5.25,  5.24,\n",
       "        5.67,  5.61,  5.76,  6.05,  5.6 ,  5.19,  5.84,  6.39,  5.34,\n",
       "        5.14,  5.11,  5.54,  6.07,  6.29,  6.31,  6.49,  5.28,  5.48,\n",
       "        5.55,  6.41,  6.02,  5.91,  6.17,  6.61,  5.12,  6.19,  5.43,\n",
       "        5.99,  5.95,  6.37,  5.93,  6.46,  5.22,  5.75,  6.21,  6.15,\n",
       "        6.73,  5.49,  4.37,  4.47,  4.41,  4.27,  4.85,  4.32,  4.48,\n",
       "        4.5 ,  4.56,  4.94,  4.09,  6.72,  5.15,  6.3 ,  5.86,  5.23,\n",
       "        6.08,  6.62,  6.26,  6.55,  6.04,  6.2 ,  6.43,  6.36,  6.34,\n",
       "        5.2 ,  5.37,  6.06,  5.51,  6.9 ,  6.24,  5.36,  5.16,  5.45,\n",
       "        5.47,  6.12,  6.6 ,  6.35,  7.12,  6.25,  6.1 ,  6.75,  6.22,\n",
       "        6.78,  6.38,  6.82,  6.84,  5.44,  4.57,  4.6 ,  4.52,  4.42,\n",
       "        4.46,  6.93,  6.4 ,  5.27,  5.21,  6.47,  6.13,  5.59,  6.44,\n",
       "        6.53,  6.5 ,  6.32,  5.08,  5.09,  5.18,  5.3 ,  6.68,  6.51,\n",
       "        6.23,  5.42,  4.66,  4.4 ,  6.18,  5.58,  5.03,  6.85,  6.67,\n",
       "        6.28,  6.57,  7.26,  4.18,  4.77,  6.52,  6.42,  5.5 ,  6.54,\n",
       "        6.92,  5.46,  6.77,  6.63,  5.35,  5.17,  4.64,  6.81,  6.33,\n",
       "        5.4 ,  7.53,  6.48,  6.58,  7.01,  6.79,  6.59,  6.66,  6.64,\n",
       "        6.99,  4.67,  7.56,  6.65,  6.69,  5.13,  6.8 ,  4.58,  4.55,\n",
       "        4.16,  4.12,  4.51,  6.71,  6.95,  4.14,  4.53,  6.89,  6.86,\n",
       "        6.91,  6.76,  6.96,  4.99,  4.61,  4.69,  4.71,  6.56,  4.1 ,\n",
       "        4.7 ,  7.4 ,  5.29,  5.26,  5.31,  5.32,  7.29,  7.18,  6.87,\n",
       "        6.74,  7.43,  6.7 ,  7.37,  7.  ,  4.11,  4.63,  6.94,  7.22,\n",
       "        7.06,  7.05,  7.09,  7.17,  7.07,  4.73,  4.75,  4.74,  7.02,\n",
       "        7.16,  7.11,  6.88,  7.1 ,  4.98,  7.15,  6.98,  7.31,  7.38,\n",
       "        7.39,  7.33,  4.17,  4.59,  7.28,  7.08,  6.97,  4.62,  4.83,\n",
       "        4.68,  7.34,  7.21,  4.89,  7.03,  7.55,  4.79,  7.25,  7.45,\n",
       "        7.19,  7.04,  7.62,  7.14,  3.98,  4.8 ,  7.44,  0.  ,  7.13,\n",
       "        7.32,  7.2 ,  7.48,  8.1 ,  8.11,  7.23,  7.27,  7.42,  7.7 ,\n",
       "        4.76,  4.72,  7.3 ,  7.24,  7.79,  7.54,  7.63,  7.46,  7.74,\n",
       "        4.84,  8.01,  7.59,  7.36,  4.87,  8.04,  7.78,  7.8 ,  7.71,\n",
       "        8.48,  7.61,  8.05,  7.6 ,  7.5 ,  7.52,  7.91,  7.81,  8.03,\n",
       "        8.23,  7.41,  7.49,  7.68,  7.57,  7.35,  8.26,  7.84,  7.58,\n",
       "        8.  ,  8.19,  7.77,  7.87,  7.47,  8.25,  7.76,  9.23,  7.97,\n",
       "        8.31,  8.3 ,  7.82,  4.88,  7.93,  7.73,  7.89,  7.66,  7.75,\n",
       "        8.75,  7.88,  7.99,  8.46,  7.51,  7.69,  7.64,  8.24,  8.15,\n",
       "        8.71,  7.83,  8.39,  7.72,  8.13,  4.82,  7.65,  9.1 ,  8.93,\n",
       "        8.16,  7.94,  7.85,  8.64,  7.67,  4.91,  4.81,  8.14,  7.86,\n",
       "        9.11,  8.45,  7.9 ,  8.47,  8.07,  8.55,  8.76,  7.96,  8.28,\n",
       "        8.4 ,  8.37,  8.52,  8.43,  8.09,  7.98,  8.81,  8.54,  8.02,\n",
       "        8.08,  8.18,  4.92,  8.12,  9.15,  8.17,  9.24,  8.33,  8.34,\n",
       "        7.92,  8.57,  7.95,  8.06,  9.26,  8.82,  8.27,  8.66,  8.22,\n",
       "        9.54,  9.38,  8.36,  8.41,  8.53,  8.42,  8.44,  8.21,  8.51,\n",
       "        8.68,  8.49,  8.29,  8.2 ,  9.08,  9.17,  8.6 ,  9.53,  8.7 ,\n",
       "        8.32,  8.65,  9.44,  8.38,  8.61,  8.58,  9.49,  9.65,  8.83,\n",
       "        8.5 ,  8.79,  8.63,  8.74,  9.04,  9.42,  8.35,  8.56,  8.8 ,\n",
       "        8.87,  8.84,  8.88,  8.59,  8.69,  9.32,  9.03,  8.72, 10.14,\n",
       "       10.02,  8.62,  8.85,  9.14,  8.67,  8.99, 10.01,  8.78,  9.25,\n",
       "        9.86,  8.77,  8.73,  9.3 ,  9.13,  9.05, 10.  ,  8.9 ,  8.97,\n",
       "       10.74,  9.36,  9.06,  8.89, 10.23,  9.51,  9.66,  9.35,  9.41,\n",
       "        4.86,  4.9 ,  3.9 ,  3.86,  4.93,  4.96,  5.04,  5.  ,  4.95,\n",
       "        5.01,  5.05,  3.81,  3.84,  3.73,  3.74,  3.76,  3.77,  4.97,\n",
       "        5.06,  5.02,  5.1 ,  5.07,  3.82])"
      ]
     },
     "execution_count": 339,
     "metadata": {},
     "output_type": "execute_result"
    }
   ],
   "source": [
    "df_diamonds['lenght (millimeters)'].unique()\n"
   ]
  },
  {
   "cell_type": "code",
   "execution_count": 340,
   "metadata": {},
   "outputs": [
    {
     "data": {
      "image/png": "[encoded data removed]",
      "text/plain": [
       "<Figure size 640x480 with 1 Axes>"
      ]
     },
     "metadata": {},
     "output_type": "display_data"
    }
   ],
   "source": [
    "# Hay muchos valores únicos, así que usamos un histograma\n",
    "# Claramente ese valor cercano a cero es un \"outlier\"\n",
    "# Hay, además, unos pocos valores muy altos, cercanos a 10\n",
    "sns.histplot(df_diamonds['lenght (millimeters)'])\n",
    "plt.show()\n"
   ]
  },
  {
   "cell_type": "code",
   "execution_count": 341,
   "metadata": {},
   "outputs": [
    {
     "data": {
      "text/html": [
       "<div>\n",
       "<style scoped>\n",
       "    .dataframe tbody tr th:only-of-type {\n",
       "        vertical-align: middle;\n",
       "    }\n",
       "\n",
       "    .dataframe tbody tr th {\n",
       "        vertical-align: top;\n",
       "    }\n",
       "\n",
       "    .dataframe thead th {\n",
       "        text-align: right;\n",
       "    }\n",
       "</style>\n",
       "<table border=\"1\" class=\"dataframe\">\n",
       "  <thead>\n",
       "    <tr style=\"text-align: right;\">\n",
       "      <th></th>\n",
       "      <th>weight (carat)</th>\n",
       "      <th>cut quality</th>\n",
       "      <th>color quality</th>\n",
       "      <th>clarity quality</th>\n",
       "      <th>depth (percentage)</th>\n",
       "      <th>table (percentage)</th>\n",
       "      <th>price (dollars)</th>\n",
       "      <th>lenght (millimeters)</th>\n",
       "      <th>width (millimeters)</th>\n",
       "      <th>depth (millimeters)</th>\n",
       "    </tr>\n",
       "  </thead>\n",
       "  <tbody>\n",
       "    <tr>\n",
       "      <th>11182</th>\n",
       "      <td>1.07</td>\n",
       "      <td>4</td>\n",
       "      <td>4</td>\n",
       "      <td>1</td>\n",
       "      <td>61.6</td>\n",
       "      <td>56.0</td>\n",
       "      <td>4954</td>\n",
       "      <td>0.0</td>\n",
       "      <td>6.62</td>\n",
       "      <td>0.0</td>\n",
       "    </tr>\n",
       "    <tr>\n",
       "      <th>11963</th>\n",
       "      <td>1.00</td>\n",
       "      <td>2</td>\n",
       "      <td>2</td>\n",
       "      <td>3</td>\n",
       "      <td>63.3</td>\n",
       "      <td>53.0</td>\n",
       "      <td>5139</td>\n",
       "      <td>0.0</td>\n",
       "      <td>0.00</td>\n",
       "      <td>0.0</td>\n",
       "    </tr>\n",
       "    <tr>\n",
       "      <th>15951</th>\n",
       "      <td>1.14</td>\n",
       "      <td>0</td>\n",
       "      <td>3</td>\n",
       "      <td>4</td>\n",
       "      <td>57.5</td>\n",
       "      <td>67.0</td>\n",
       "      <td>6381</td>\n",
       "      <td>0.0</td>\n",
       "      <td>0.00</td>\n",
       "      <td>0.0</td>\n",
       "    </tr>\n",
       "    <tr>\n",
       "      <th>24520</th>\n",
       "      <td>1.56</td>\n",
       "      <td>4</td>\n",
       "      <td>3</td>\n",
       "      <td>3</td>\n",
       "      <td>62.2</td>\n",
       "      <td>54.0</td>\n",
       "      <td>12800</td>\n",
       "      <td>0.0</td>\n",
       "      <td>0.00</td>\n",
       "      <td>0.0</td>\n",
       "    </tr>\n",
       "    <tr>\n",
       "      <th>26243</th>\n",
       "      <td>1.20</td>\n",
       "      <td>3</td>\n",
       "      <td>6</td>\n",
       "      <td>6</td>\n",
       "      <td>62.1</td>\n",
       "      <td>59.0</td>\n",
       "      <td>15686</td>\n",
       "      <td>0.0</td>\n",
       "      <td>0.00</td>\n",
       "      <td>0.0</td>\n",
       "    </tr>\n",
       "    <tr>\n",
       "      <th>27429</th>\n",
       "      <td>2.25</td>\n",
       "      <td>3</td>\n",
       "      <td>2</td>\n",
       "      <td>1</td>\n",
       "      <td>62.8</td>\n",
       "      <td>59.0</td>\n",
       "      <td>18034</td>\n",
       "      <td>0.0</td>\n",
       "      <td>0.00</td>\n",
       "      <td>0.0</td>\n",
       "    </tr>\n",
       "    <tr>\n",
       "      <th>49556</th>\n",
       "      <td>0.71</td>\n",
       "      <td>1</td>\n",
       "      <td>4</td>\n",
       "      <td>1</td>\n",
       "      <td>64.1</td>\n",
       "      <td>60.0</td>\n",
       "      <td>2130</td>\n",
       "      <td>0.0</td>\n",
       "      <td>0.00</td>\n",
       "      <td>0.0</td>\n",
       "    </tr>\n",
       "    <tr>\n",
       "      <th>49557</th>\n",
       "      <td>0.71</td>\n",
       "      <td>1</td>\n",
       "      <td>4</td>\n",
       "      <td>1</td>\n",
       "      <td>64.1</td>\n",
       "      <td>60.0</td>\n",
       "      <td>2130</td>\n",
       "      <td>0.0</td>\n",
       "      <td>0.00</td>\n",
       "      <td>0.0</td>\n",
       "    </tr>\n",
       "  </tbody>\n",
       "</table>\n",
       "</div>"
      ],
      "text/plain": [
       "       weight (carat) cut quality color quality  clarity quality  \\\n",
       "11182            1.07           4             4                1   \n",
       "11963            1.00           2             2                3   \n",
       "15951            1.14           0             3                4   \n",
       "24520            1.56           4             3                3   \n",
       "26243            1.20           3             6                6   \n",
       "27429            2.25           3             2                1   \n",
       "49556            0.71           1             4                1   \n",
       "49557            0.71           1             4                1   \n",
       "\n",
       "       depth (percentage)  table (percentage)  price (dollars)  \\\n",
       "11182                61.6                56.0             4954   \n",
       "11963                63.3                53.0             5139   \n",
       "15951                57.5                67.0             6381   \n",
       "24520                62.2                54.0            12800   \n",
       "26243                62.1                59.0            15686   \n",
       "27429                62.8                59.0            18034   \n",
       "49556                64.1                60.0             2130   \n",
       "49557                64.1                60.0             2130   \n",
       "\n",
       "       lenght (millimeters)  width (millimeters)  depth (millimeters)  \n",
       "11182                   0.0                 6.62                  0.0  \n",
       "11963                   0.0                 0.00                  0.0  \n",
       "15951                   0.0                 0.00                  0.0  \n",
       "24520                   0.0                 0.00                  0.0  \n",
       "26243                   0.0                 0.00                  0.0  \n",
       "27429                   0.0                 0.00                  0.0  \n",
       "49556                   0.0                 0.00                  0.0  \n",
       "49557                   0.0                 0.00                  0.0  "
      ]
     },
     "execution_count": 341,
     "metadata": {},
     "output_type": "execute_result"
    }
   ],
   "source": [
    "# Si miramos esos ceros, vemos que, salvo uno, tampoco tenen width ni depth\n",
    "df_diamonds[df_diamonds['lenght (millimeters)'] == 0]\n"
   ]
  },
  {
   "cell_type": "code",
   "execution_count": 342,
   "metadata": {},
   "outputs": [
    {
     "data": {
      "text/html": [
       "<div>\n",
       "<style scoped>\n",
       "    .dataframe tbody tr th:only-of-type {\n",
       "        vertical-align: middle;\n",
       "    }\n",
       "\n",
       "    .dataframe tbody tr th {\n",
       "        vertical-align: top;\n",
       "    }\n",
       "\n",
       "    .dataframe thead th {\n",
       "        text-align: right;\n",
       "    }\n",
       "</style>\n",
       "<table border=\"1\" class=\"dataframe\">\n",
       "  <thead>\n",
       "    <tr style=\"text-align: right;\">\n",
       "      <th></th>\n",
       "      <th>weight (carat)</th>\n",
       "      <th>cut quality</th>\n",
       "      <th>color quality</th>\n",
       "      <th>clarity quality</th>\n",
       "      <th>depth (percentage)</th>\n",
       "      <th>table (percentage)</th>\n",
       "      <th>price (dollars)</th>\n",
       "      <th>lenght (millimeters)</th>\n",
       "      <th>width (millimeters)</th>\n",
       "      <th>depth (millimeters)</th>\n",
       "    </tr>\n",
       "  </thead>\n",
       "  <tbody>\n",
       "    <tr>\n",
       "      <th>11182</th>\n",
       "      <td>1.07</td>\n",
       "      <td>4</td>\n",
       "      <td>4</td>\n",
       "      <td>1</td>\n",
       "      <td>61.6</td>\n",
       "      <td>56.0</td>\n",
       "      <td>4954</td>\n",
       "      <td>0.0</td>\n",
       "      <td>6.62</td>\n",
       "      <td>0.0</td>\n",
       "    </tr>\n",
       "  </tbody>\n",
       "</table>\n",
       "</div>"
      ],
      "text/plain": [
       "       weight (carat) cut quality color quality  clarity quality  \\\n",
       "11182            1.07           4             4                1   \n",
       "\n",
       "       depth (percentage)  table (percentage)  price (dollars)  \\\n",
       "11182                61.6                56.0             4954   \n",
       "\n",
       "       lenght (millimeters)  width (millimeters)  depth (millimeters)  \n",
       "11182                   0.0                 6.62                  0.0  "
      ]
     },
     "execution_count": 342,
     "metadata": {},
     "output_type": "execute_result"
    }
   ],
   "source": [
    "# Como esas tres variables son las que más influyen en el precio, eliminamos directamente los diamantes que solo tienen ceros para mayor precisión\n",
    "df_diamonds = df_diamonds.drop(df_diamonds[(df_diamonds['lenght (millimeters)'] == 0) \n",
    "                                & (df_diamonds['width (millimeters)'] == 0)\n",
    "                                & (df_diamonds['depth (millimeters)'] == 0)\n",
    "                                            ].index\n",
    "                                )\n",
    "\n",
    "df_diamonds[df_diamonds['lenght (millimeters)'] == 0]\n"
   ]
  },
  {
   "cell_type": "code",
   "execution_count": 343,
   "metadata": {},
   "outputs": [
    {
     "data": {
      "text/html": [
       "<div>\n",
       "<style scoped>\n",
       "    .dataframe tbody tr th:only-of-type {\n",
       "        vertical-align: middle;\n",
       "    }\n",
       "\n",
       "    .dataframe tbody tr th {\n",
       "        vertical-align: top;\n",
       "    }\n",
       "\n",
       "    .dataframe thead th {\n",
       "        text-align: right;\n",
       "    }\n",
       "</style>\n",
       "<table border=\"1\" class=\"dataframe\">\n",
       "  <thead>\n",
       "    <tr style=\"text-align: right;\">\n",
       "      <th></th>\n",
       "      <th>lenght (millimeters)</th>\n",
       "      <th>width (millimeters)</th>\n",
       "    </tr>\n",
       "  </thead>\n",
       "  <tbody>\n",
       "    <tr>\n",
       "      <th>0</th>\n",
       "      <td>3.95</td>\n",
       "      <td>3.98</td>\n",
       "    </tr>\n",
       "    <tr>\n",
       "      <th>1</th>\n",
       "      <td>3.89</td>\n",
       "      <td>3.84</td>\n",
       "    </tr>\n",
       "    <tr>\n",
       "      <th>2</th>\n",
       "      <td>4.05</td>\n",
       "      <td>4.07</td>\n",
       "    </tr>\n",
       "    <tr>\n",
       "      <th>3</th>\n",
       "      <td>4.20</td>\n",
       "      <td>4.23</td>\n",
       "    </tr>\n",
       "    <tr>\n",
       "      <th>4</th>\n",
       "      <td>4.34</td>\n",
       "      <td>4.35</td>\n",
       "    </tr>\n",
       "  </tbody>\n",
       "</table>\n",
       "</div>"
      ],
      "text/plain": [
       "   lenght (millimeters)  width (millimeters)\n",
       "0                  3.95                 3.98\n",
       "1                  3.89                 3.84\n",
       "2                  4.05                 4.07\n",
       "3                  4.20                 4.23\n",
       "4                  4.34                 4.35"
      ]
     },
     "execution_count": 343,
     "metadata": {},
     "output_type": "execute_result"
    }
   ],
   "source": [
    "# En cuanto al restante, comprobamos la relación entre las columnas lenght y width\n",
    "# Como los diamantes son más o menos circulares, a priori, los números son bastante similares\n",
    "# Fuente: https://www.diamondonnet.com/knowledges/help?sword=Length%20To%20Width%20Ratio\n",
    "df_diamonds[['lenght (millimeters)','width (millimeters)']].head()\n"
   ]
  },
  {
   "cell_type": "code",
   "execution_count": 344,
   "metadata": {},
   "outputs": [
    {
     "data": {
      "text/plain": [
       "True"
      ]
     },
     "execution_count": 344,
     "metadata": {},
     "output_type": "execute_result"
    }
   ],
   "source": [
    "# Tanto es así que, excluyendo ese cero y redondeados, son exactamente iguales todos\n",
    "all(df_diamonds['lenght (millimeters)'].drop(11182).apply(lambda x: round(x))) == all(df_diamonds['width (millimeters)'].drop(11182).apply(lambda x: round(x)))\n"
   ]
  },
  {
   "cell_type": "code",
   "execution_count": 345,
   "metadata": {},
   "outputs": [],
   "source": [
    "# Por tanto, asignamos a ese cero la cifra correspondiente de la columna width\n",
    "df_diamonds.loc[df_diamonds.index == 11182, 'lenght (millimeters)'] = 6.62\n"
   ]
  },
  {
   "attachments": {},
   "cell_type": "markdown",
   "metadata": {},
   "source": [
    "### Outliers"
   ]
  },
  {
   "cell_type": "code",
   "execution_count": 346,
   "metadata": {},
   "outputs": [
    {
     "data": {
      "image/png": "[encoded data removed]",
      "text/plain": [
       "<Figure size 640x480 with 1 Axes>"
      ]
     },
     "metadata": {},
     "output_type": "display_data"
    }
   ],
   "source": [
    "# Comprobamos que ya no hay \"outliers\" por debajo de la mediana\n",
    "ax = sns.boxplot(df_diamonds['lenght (millimeters)'])\n",
    "ax.set_xticklabels(['lenght (millimeters)'])\n",
    "plt.show()\n"
   ]
  },
  {
   "attachments": {},
   "cell_type": "markdown",
   "metadata": {},
   "source": [
    "## width (millimeters)"
   ]
  },
  {
   "cell_type": "code",
   "execution_count": 347,
   "metadata": {},
   "outputs": [
    {
     "data": {
      "text/plain": [
       "array([ 3.98,  3.84,  4.07,  4.23,  4.35,  3.96,  4.11,  3.78,  4.05,\n",
       "        4.28,  3.9 ,  4.37,  3.75,  4.42,  4.34,  4.29,  4.26,  4.27,\n",
       "        4.3 ,  3.92,  4.43,  4.47,  4.01,  3.94,  3.97,  3.99,  4.03,\n",
       "        4.06,  4.08,  3.85,  4.31,  4.16,  4.51,  4.5 ,  4.55,  4.02,\n",
       "        4.24,  4.38,  3.95,  4.48,  3.89,  3.88,  4.33,  4.32,  4.59,\n",
       "        4.84,  4.22,  4.  ,  4.25,  4.13,  4.09,  4.04,  4.12,  4.67,\n",
       "        5.72,  6.33,  5.67,  5.73,  5.85,  5.9 ,  5.76,  5.95,  5.78,\n",
       "        5.93,  5.75,  5.96,  5.79,  5.87,  5.8 ,  5.81,  6.11,  5.43,\n",
       "        6.  ,  5.84,  6.12,  5.82,  5.74,  5.94,  6.07,  5.69,  5.83,\n",
       "        5.61,  5.53,  5.58,  5.59,  5.97,  6.09,  5.99,  5.86,  5.68,\n",
       "        5.65,  5.55,  5.77,  5.91,  5.56,  5.89,  5.92,  6.03,  5.44,\n",
       "        5.37,  5.88,  6.9 ,  5.62,  5.27,  5.26,  5.7 ,  5.64,  5.63,\n",
       "        5.71,  5.51,  5.22,  6.36,  5.54,  5.66,  6.2 ,  5.18,  5.15,\n",
       "        6.1 ,  6.21,  6.22,  6.45,  6.01,  5.3 ,  5.41,  5.52,  6.27,\n",
       "        6.05,  6.06,  6.13,  6.55,  5.35,  5.16,  6.25,  6.02,  5.46,\n",
       "        6.23,  6.08,  5.45,  6.41,  6.34,  5.25,  6.15,  6.19,  6.66,\n",
       "        4.36,  4.2 ,  4.79,  4.57,  4.52,  4.53,  4.58,  5.  ,  6.67,\n",
       "        5.11,  6.29,  6.04,  6.53,  6.65,  6.5 ,  6.16,  5.6 ,  6.39,\n",
       "        5.21,  5.4 ,  5.98,  6.83,  6.37,  6.31,  5.38,  6.43,  5.29,\n",
       "        5.19,  6.18,  5.34,  5.48,  5.23,  6.14,  5.49,  5.57,  6.46,\n",
       "        7.05,  6.26,  6.75,  6.74,  6.77,  4.66,  4.46,  4.56,  4.41,\n",
       "        4.4 ,  4.39,  5.2 ,  6.88,  5.31,  6.3 ,  6.48,  5.47,  5.13,\n",
       "        6.49,  6.47,  6.32,  5.12,  5.24,  6.35,  6.61,  4.7 ,  6.24,\n",
       "        6.28,  5.08,  6.44,  6.79,  6.57,  6.92,  6.6 ,  5.28,  5.42,\n",
       "        5.5 ,  7.09,  4.45,  4.62,  4.8 ,  6.42,  6.85,  6.54,  6.7 ,\n",
       "        6.51,  6.59,  6.38,  6.69,  5.06,  4.69,  4.44,  4.49,  6.71,\n",
       "        6.4 ,  6.17,  5.39,  7.42,  6.52,  6.95,  6.56,  6.62,  6.87,\n",
       "        6.81,  7.39,  6.58,  6.73,  5.17,  4.65,  4.19,  4.61,  6.64,\n",
       "        6.91,  6.8 ,  4.15,  4.71,  4.21,  4.68,  6.84,  6.86,  4.96,\n",
       "        5.04,  5.09,  4.64,  4.74,  4.73,  4.6 ,  4.75,  7.28,  5.32,\n",
       "        6.82,  6.63,  7.17,  7.13,  4.1 ,  4.63,  7.35,  6.68,  7.26,\n",
       "        6.78,  4.17,  4.9 ,  6.89,  7.01,  7.1 ,  6.72,  7.  ,  5.36,\n",
       "        4.76,  4.78,  6.96,  7.15,  7.19,  6.93,  4.54,  7.34,  6.76,\n",
       "        7.18,  4.14,  7.12,  7.04,  7.22,  7.2 ,  6.94,  7.16,  7.21,\n",
       "        4.18,  7.32,  7.06,  6.99,  4.72,  7.03,  7.14,  6.97,  7.29,\n",
       "        7.51,  4.81,  6.98,  7.33,  7.23,  7.25,  7.02,  7.59,  7.11,\n",
       "        4.82,  7.07,  7.36,  7.08,  7.4 ,  7.41,  8.05,  8.06,  4.83,\n",
       "        7.44,  7.79,  8.07,  7.24,  7.7 ,  7.45,  7.56,  4.88,  7.27,\n",
       "        7.95,  4.87,  7.31,  4.77,  4.89,  8.02,  7.37,  7.49,  7.38,\n",
       "        7.74,  7.75,  7.64,  8.39,  7.55,  8.  ,  7.48,  7.5 ,  7.54,\n",
       "        7.47,  7.52,  7.53,  7.43,  7.85,  7.6 ,  7.3 ,  7.99,  7.57,\n",
       "        8.18,  7.8 ,  7.92,  7.72,  8.2 ,  7.65,  7.63,  7.58,  7.73,\n",
       "        9.1 ,  8.27,  8.19,  7.76,  8.01,  7.66,  7.46,  7.97,  4.94,\n",
       "        7.91,  7.86,  7.61,  8.69,  7.82,  7.9 ,  8.43,  7.62,  7.71,\n",
       "        7.83,  8.3 ,  8.12,  7.94,  7.98,  8.56,  7.78,  8.22,  8.28,\n",
       "        7.67,  4.85,  8.44,  7.87,  8.97,  8.84,  8.11,  4.98,  7.81,\n",
       "        8.09,  7.68,  8.25,  9.07,  8.38,  8.67,  7.84,  4.86,  8.26,\n",
       "        8.66,  7.69,  8.32,  8.46,  8.35,  7.89,  8.04,  8.21,  7.96,\n",
       "        8.03,  8.77,  8.49,  8.17,  8.13,  8.33,  7.77,  9.02,  8.08,\n",
       "        9.13,  7.88,  8.31,  8.53,  8.5 ,  8.14,  8.83,  8.81,  9.25,\n",
       "        8.15,  8.76,  8.23,  7.93,  8.16,  8.63,  9.38,  9.31,  8.34,\n",
       "        8.24,  8.51,  8.47,  8.1 ,  8.57,  8.45,  3.86,  8.96,  9.48,\n",
       "        8.36,  8.58,  8.41,  8.61,  8.64,  4.97, 58.9 ,  8.68,  9.4 ,\n",
       "        8.37,  8.48,  8.29,  8.4 ,  9.42,  9.59,  8.78,  8.54,  8.7 ,\n",
       "        8.98,  9.26,  8.65,  8.52,  8.6 ,  8.42,  9.37,  8.74,  8.59,\n",
       "        8.55,  9.01,  9.19, 10.1 ,  9.94,  8.71,  9.34,  9.2 ,  9.81,\n",
       "        8.73,  8.82,  8.87,  8.75,  8.79,  8.93,  8.88,  9.14,  9.03,\n",
       "        8.9 ,  8.94,  9.85,  8.62, 10.54,  8.89, 10.16,  9.46,  9.63,\n",
       "        9.22,  9.32,  8.85,  4.91,  4.93,  4.92,  3.93,  4.95,  5.01,\n",
       "        4.99,  5.05,  3.77,  3.8 ,  3.71,  3.73,  3.68,  3.72,  3.91,\n",
       "        5.07,  5.02,  5.03,  3.87,  5.14,  5.1 ,  5.33,  3.83,  3.81,\n",
       "        3.82, 31.8 ])"
      ]
     },
     "execution_count": 347,
     "metadata": {},
     "output_type": "execute_result"
    }
   ],
   "source": [
    "df_diamonds['width (millimeters)'].unique()\n"
   ]
  },
  {
   "attachments": {},
   "cell_type": "markdown",
   "metadata": {},
   "source": [
    "### Outliers"
   ]
  },
  {
   "cell_type": "code",
   "execution_count": 348,
   "metadata": {},
   "outputs": [
    {
     "data": {
      "image/png": "[encoded data removed]",
      "text/plain": [
       "<Figure size 640x480 with 1 Axes>"
      ]
     },
     "metadata": {},
     "output_type": "display_data"
    }
   ],
   "source": [
    "# En este caso están extremadamente concentrados, si bien hay unos pocos valores, poquísimos, superiores a 10\n",
    "ax = sns.boxplot(df_diamonds['width (millimeters)'])\n",
    "ax.set_xticklabels(['width (millimeters)'])\n",
    "plt.show()\n"
   ]
  },
  {
   "cell_type": "code",
   "execution_count": 349,
   "metadata": {},
   "outputs": [
    {
     "data": {
      "text/html": [
       "<div>\n",
       "<style scoped>\n",
       "    .dataframe tbody tr th:only-of-type {\n",
       "        vertical-align: middle;\n",
       "    }\n",
       "\n",
       "    .dataframe tbody tr th {\n",
       "        vertical-align: top;\n",
       "    }\n",
       "\n",
       "    .dataframe thead th {\n",
       "        text-align: right;\n",
       "    }\n",
       "</style>\n",
       "<table border=\"1\" class=\"dataframe\">\n",
       "  <thead>\n",
       "    <tr style=\"text-align: right;\">\n",
       "      <th></th>\n",
       "      <th>weight (carat)</th>\n",
       "      <th>cut quality</th>\n",
       "      <th>color quality</th>\n",
       "      <th>clarity quality</th>\n",
       "      <th>depth (percentage)</th>\n",
       "      <th>table (percentage)</th>\n",
       "      <th>price (dollars)</th>\n",
       "      <th>lenght (millimeters)</th>\n",
       "      <th>width (millimeters)</th>\n",
       "      <th>depth (millimeters)</th>\n",
       "    </tr>\n",
       "  </thead>\n",
       "  <tbody>\n",
       "  </tbody>\n",
       "</table>\n",
       "</div>"
      ],
      "text/plain": [
       "Empty DataFrame\n",
       "Columns: [weight (carat), cut quality, color quality, clarity quality, depth (percentage), table (percentage), price (dollars), lenght (millimeters), width (millimeters), depth (millimeters)]\n",
       "Index: []"
      ]
     },
     "execution_count": 349,
     "metadata": {},
     "output_type": "execute_result"
    }
   ],
   "source": [
    "# Con los que hemos eliminado antes en \"lenght\", ya no quedan ceros tampoco en \"width\"\n",
    "df_diamonds[df_diamonds['width (millimeters)'] == 0]\n"
   ]
  },
  {
   "attachments": {},
   "cell_type": "markdown",
   "metadata": {},
   "source": [
    "## depth (millimeters)"
   ]
  },
  {
   "cell_type": "code",
   "execution_count": 350,
   "metadata": {},
   "outputs": [
    {
     "data": {
      "text/plain": [
       "array([ 2.43,  2.31,  2.63,  2.75,  2.48,  2.47,  2.53,  2.49,  2.39,\n",
       "        2.73,  2.46,  2.33,  2.71,  2.27,  2.68,  2.7 ,  2.66,  2.41,\n",
       "        2.62,  2.59,  2.67,  2.4 ,  2.42,  2.44,  2.37,  2.52,  2.78,\n",
       "        2.76,  2.61,  2.65,  2.79,  2.54,  2.64,  2.45,  2.72,  2.69,\n",
       "        2.96,  2.58,  2.51,  2.56,  2.55,  2.87,  3.57,  3.52,  3.5 ,\n",
       "        3.56,  3.72,  3.38,  3.4 ,  4.07,  3.66,  3.65,  3.58,  3.59,\n",
       "        3.63,  3.69,  3.61,  3.6 ,  3.35,  3.67,  3.62,  3.87,  3.68,\n",
       "        3.49,  3.47,  3.46,  3.7 ,  3.32,  3.93,  3.95,  3.64,  3.53,\n",
       "        3.37,  3.43,  3.51,  3.54,  3.48,  3.55,  3.33,  3.3 ,  4.13,\n",
       "        3.79,  3.24,  3.23,  4.08,  3.19,  3.94,  3.08,  3.31,  3.21,\n",
       "        3.75,  3.18,  3.41,  4.03,  4.09,  3.22,  4.18,  3.76,  3.83,\n",
       "        3.17,  3.44,  3.74,  3.8 ,  3.39,  3.88,  4.  ,  3.98,  3.85,\n",
       "        3.96,  3.16,  3.78,  3.84,  4.33,  4.01,  3.45,  2.74,  2.95,\n",
       "        2.8 ,  2.77,  2.9 ,  2.82,  3.77,  3.9 ,  3.73,  3.34,  3.86,\n",
       "        3.89,  3.81,  3.42,  3.71,  3.91,  3.2 ,  3.1 ,  4.06,  3.97,\n",
       "        4.02,  4.2 ,  4.11,  3.99,  4.23,  3.27,  3.92,  4.15,  2.83,\n",
       "        2.81,  4.04,  3.82,  4.21,  4.1 ,  4.26,  4.29,  3.26,  2.88,\n",
       "        2.5 ,  4.16,  4.14,  4.12,  3.25,  4.7 ,  4.19,  3.13,  4.05,\n",
       "        4.27,  4.34,  3.14,  2.97,  4.17,  3.36,  4.42,  4.28,  4.38,\n",
       "        3.29,  0.  ,  4.25,  4.78,  2.99,  2.57,  2.84,  4.22,  2.6 ,\n",
       "        3.15,  4.32,  4.3 ,  2.85,  3.01,  3.28,  4.63,  4.65,  3.12,\n",
       "        4.52,  4.47,  2.89,  4.24,  4.49,  4.57,  4.36,  4.8 ,  4.76,\n",
       "        2.94,  4.66,  4.54,  4.56,  4.62,  4.37,  4.46,  4.31,  2.91,\n",
       "        4.5 ,  4.39,  4.4 ,  4.55,  2.86,  2.35,  2.93,  4.41,  4.51,\n",
       "        4.45,  4.72,  4.48,  2.98,  4.75,  4.64,  4.84,  2.92,  4.87,\n",
       "        4.35,  4.53,  4.44,  4.6 ,  4.81,  4.68,  4.82,  3.  ,  4.58,\n",
       "        4.97,  5.12,  4.59,  4.61,  4.95,  4.98,  4.79,  4.43,  5.36,\n",
       "        2.36,  5.23,  5.04,  4.74,  5.1 ,  4.92,  5.17,  4.71,  5.43,\n",
       "        1.07,  5.29,  4.67,  5.07,  5.19,  4.93,  5.15,  4.73,  5.08,\n",
       "        5.06,  5.45,  4.85,  5.27,  4.69,  5.18,  5.16,  4.94,  4.77,\n",
       "        5.25,  5.77,  5.02,  5.14,  5.44,  5.24,  4.99,  5.41,  5.58,\n",
       "        5.76,  5.22,  5.31,  5.09,  5.28,  5.47,  5.01,  5.  ,  4.91,\n",
       "        4.88,  5.32,  4.89,  5.67,  5.97,  5.33,  5.2 ,  4.83,  5.53,\n",
       "        5.37,  5.65,  1.53,  4.9 ,  5.21,  5.05,  5.11,  5.35,  1.41,\n",
       "        4.96,  5.98,  5.03,  5.73,  4.86,  5.6 ,  5.56,  5.66,  5.26,\n",
       "        5.91,  3.04,  5.3 ,  5.79,  5.13,  6.38,  5.49,  5.34,  8.06,\n",
       "        5.85,  5.57,  5.92,  6.03,  3.02,  5.48,  5.62,  5.46,  3.03,\n",
       "        5.55,  5.39,  5.5 ,  6.17,  6.24,  5.75,  6.16,  5.51,  6.27,\n",
       "        6.31,  5.69,  6.13,  5.54,  5.86,  5.38,  5.72,  5.4 ,  5.61,\n",
       "        6.43,  5.52,  5.42,  6.98,  5.9 ,  6.72,  5.64,  5.59,  3.06,\n",
       "        3.05,  3.07,  3.09,  3.11,  2.26,  2.24,  2.32,  2.28,  2.3 ,\n",
       "        2.38,  2.34,  2.29,  2.06,  2.25, 31.8 ])"
      ]
     },
     "execution_count": 350,
     "metadata": {},
     "output_type": "execute_result"
    }
   ],
   "source": [
    "df_diamonds['depth (millimeters)'].unique()\n"
   ]
  },
  {
   "cell_type": "code",
   "execution_count": 351,
   "metadata": {},
   "outputs": [
    {
     "data": {
      "text/html": [
       "<div>\n",
       "<style scoped>\n",
       "    .dataframe tbody tr th:only-of-type {\n",
       "        vertical-align: middle;\n",
       "    }\n",
       "\n",
       "    .dataframe tbody tr th {\n",
       "        vertical-align: top;\n",
       "    }\n",
       "\n",
       "    .dataframe thead th {\n",
       "        text-align: right;\n",
       "    }\n",
       "</style>\n",
       "<table border=\"1\" class=\"dataframe\">\n",
       "  <thead>\n",
       "    <tr style=\"text-align: right;\">\n",
       "      <th></th>\n",
       "      <th>weight (carat)</th>\n",
       "      <th>cut quality</th>\n",
       "      <th>color quality</th>\n",
       "      <th>clarity quality</th>\n",
       "      <th>depth (percentage)</th>\n",
       "      <th>table (percentage)</th>\n",
       "      <th>price (dollars)</th>\n",
       "      <th>lenght (millimeters)</th>\n",
       "      <th>width (millimeters)</th>\n",
       "      <th>depth (millimeters)</th>\n",
       "    </tr>\n",
       "  </thead>\n",
       "  <tbody>\n",
       "    <tr>\n",
       "      <th>2207</th>\n",
       "      <td>1.00</td>\n",
       "      <td>3</td>\n",
       "      <td>3</td>\n",
       "      <td>1</td>\n",
       "      <td>59.1</td>\n",
       "      <td>59.0</td>\n",
       "      <td>3142</td>\n",
       "      <td>6.55</td>\n",
       "      <td>6.48</td>\n",
       "      <td>0.0</td>\n",
       "    </tr>\n",
       "    <tr>\n",
       "      <th>2314</th>\n",
       "      <td>1.01</td>\n",
       "      <td>3</td>\n",
       "      <td>2</td>\n",
       "      <td>0</td>\n",
       "      <td>58.1</td>\n",
       "      <td>59.0</td>\n",
       "      <td>3167</td>\n",
       "      <td>6.66</td>\n",
       "      <td>6.60</td>\n",
       "      <td>0.0</td>\n",
       "    </tr>\n",
       "    <tr>\n",
       "      <th>4791</th>\n",
       "      <td>1.10</td>\n",
       "      <td>3</td>\n",
       "      <td>3</td>\n",
       "      <td>1</td>\n",
       "      <td>63.0</td>\n",
       "      <td>59.0</td>\n",
       "      <td>3696</td>\n",
       "      <td>6.50</td>\n",
       "      <td>6.47</td>\n",
       "      <td>0.0</td>\n",
       "    </tr>\n",
       "    <tr>\n",
       "      <th>5471</th>\n",
       "      <td>1.01</td>\n",
       "      <td>3</td>\n",
       "      <td>4</td>\n",
       "      <td>1</td>\n",
       "      <td>59.2</td>\n",
       "      <td>58.0</td>\n",
       "      <td>3837</td>\n",
       "      <td>6.50</td>\n",
       "      <td>6.47</td>\n",
       "      <td>0.0</td>\n",
       "    </tr>\n",
       "    <tr>\n",
       "      <th>10167</th>\n",
       "      <td>1.50</td>\n",
       "      <td>1</td>\n",
       "      <td>3</td>\n",
       "      <td>0</td>\n",
       "      <td>64.0</td>\n",
       "      <td>61.0</td>\n",
       "      <td>4731</td>\n",
       "      <td>7.15</td>\n",
       "      <td>7.04</td>\n",
       "      <td>0.0</td>\n",
       "    </tr>\n",
       "    <tr>\n",
       "      <th>11182</th>\n",
       "      <td>1.07</td>\n",
       "      <td>4</td>\n",
       "      <td>4</td>\n",
       "      <td>1</td>\n",
       "      <td>61.6</td>\n",
       "      <td>56.0</td>\n",
       "      <td>4954</td>\n",
       "      <td>6.62</td>\n",
       "      <td>6.62</td>\n",
       "      <td>0.0</td>\n",
       "    </tr>\n",
       "    <tr>\n",
       "      <th>13601</th>\n",
       "      <td>1.15</td>\n",
       "      <td>4</td>\n",
       "      <td>3</td>\n",
       "      <td>3</td>\n",
       "      <td>59.2</td>\n",
       "      <td>56.0</td>\n",
       "      <td>5564</td>\n",
       "      <td>6.88</td>\n",
       "      <td>6.83</td>\n",
       "      <td>0.0</td>\n",
       "    </tr>\n",
       "    <tr>\n",
       "      <th>24394</th>\n",
       "      <td>2.18</td>\n",
       "      <td>3</td>\n",
       "      <td>2</td>\n",
       "      <td>1</td>\n",
       "      <td>59.4</td>\n",
       "      <td>61.0</td>\n",
       "      <td>12631</td>\n",
       "      <td>8.49</td>\n",
       "      <td>8.45</td>\n",
       "      <td>0.0</td>\n",
       "    </tr>\n",
       "    <tr>\n",
       "      <th>26123</th>\n",
       "      <td>2.25</td>\n",
       "      <td>3</td>\n",
       "      <td>1</td>\n",
       "      <td>2</td>\n",
       "      <td>61.3</td>\n",
       "      <td>58.0</td>\n",
       "      <td>15397</td>\n",
       "      <td>8.52</td>\n",
       "      <td>8.42</td>\n",
       "      <td>0.0</td>\n",
       "    </tr>\n",
       "    <tr>\n",
       "      <th>27112</th>\n",
       "      <td>2.20</td>\n",
       "      <td>3</td>\n",
       "      <td>2</td>\n",
       "      <td>2</td>\n",
       "      <td>61.2</td>\n",
       "      <td>59.0</td>\n",
       "      <td>17265</td>\n",
       "      <td>8.42</td>\n",
       "      <td>8.37</td>\n",
       "      <td>0.0</td>\n",
       "    </tr>\n",
       "    <tr>\n",
       "      <th>27503</th>\n",
       "      <td>2.02</td>\n",
       "      <td>3</td>\n",
       "      <td>2</td>\n",
       "      <td>3</td>\n",
       "      <td>62.7</td>\n",
       "      <td>53.0</td>\n",
       "      <td>18207</td>\n",
       "      <td>8.02</td>\n",
       "      <td>7.95</td>\n",
       "      <td>0.0</td>\n",
       "    </tr>\n",
       "    <tr>\n",
       "      <th>27739</th>\n",
       "      <td>2.80</td>\n",
       "      <td>1</td>\n",
       "      <td>3</td>\n",
       "      <td>1</td>\n",
       "      <td>63.8</td>\n",
       "      <td>58.0</td>\n",
       "      <td>18788</td>\n",
       "      <td>8.90</td>\n",
       "      <td>8.85</td>\n",
       "      <td>0.0</td>\n",
       "    </tr>\n",
       "    <tr>\n",
       "      <th>51506</th>\n",
       "      <td>1.12</td>\n",
       "      <td>3</td>\n",
       "      <td>3</td>\n",
       "      <td>0</td>\n",
       "      <td>60.4</td>\n",
       "      <td>59.0</td>\n",
       "      <td>2383</td>\n",
       "      <td>6.71</td>\n",
       "      <td>6.67</td>\n",
       "      <td>0.0</td>\n",
       "    </tr>\n",
       "  </tbody>\n",
       "</table>\n",
       "</div>"
      ],
      "text/plain": [
       "       weight (carat) cut quality color quality  clarity quality  \\\n",
       "2207             1.00           3             3                1   \n",
       "2314             1.01           3             2                0   \n",
       "4791             1.10           3             3                1   \n",
       "5471             1.01           3             4                1   \n",
       "10167            1.50           1             3                0   \n",
       "11182            1.07           4             4                1   \n",
       "13601            1.15           4             3                3   \n",
       "24394            2.18           3             2                1   \n",
       "26123            2.25           3             1                2   \n",
       "27112            2.20           3             2                2   \n",
       "27503            2.02           3             2                3   \n",
       "27739            2.80           1             3                1   \n",
       "51506            1.12           3             3                0   \n",
       "\n",
       "       depth (percentage)  table (percentage)  price (dollars)  \\\n",
       "2207                 59.1                59.0             3142   \n",
       "2314                 58.1                59.0             3167   \n",
       "4791                 63.0                59.0             3696   \n",
       "5471                 59.2                58.0             3837   \n",
       "10167                64.0                61.0             4731   \n",
       "11182                61.6                56.0             4954   \n",
       "13601                59.2                56.0             5564   \n",
       "24394                59.4                61.0            12631   \n",
       "26123                61.3                58.0            15397   \n",
       "27112                61.2                59.0            17265   \n",
       "27503                62.7                53.0            18207   \n",
       "27739                63.8                58.0            18788   \n",
       "51506                60.4                59.0             2383   \n",
       "\n",
       "       lenght (millimeters)  width (millimeters)  depth (millimeters)  \n",
       "2207                   6.55                 6.48                  0.0  \n",
       "2314                   6.66                 6.60                  0.0  \n",
       "4791                   6.50                 6.47                  0.0  \n",
       "5471                   6.50                 6.47                  0.0  \n",
       "10167                  7.15                 7.04                  0.0  \n",
       "11182                  6.62                 6.62                  0.0  \n",
       "13601                  6.88                 6.83                  0.0  \n",
       "24394                  8.49                 8.45                  0.0  \n",
       "26123                  8.52                 8.42                  0.0  \n",
       "27112                  8.42                 8.37                  0.0  \n",
       "27503                  8.02                 7.95                  0.0  \n",
       "27739                  8.90                 8.85                  0.0  \n",
       "51506                  6.71                 6.67                  0.0  "
      ]
     },
     "execution_count": 351,
     "metadata": {},
     "output_type": "execute_result"
    }
   ],
   "source": [
    "# Empezamos por comprobar los ceros. Hay bastantes\n",
    "df_diamonds[df_diamonds['depth (millimeters)'] == 0]\n"
   ]
  },
  {
   "cell_type": "code",
   "execution_count": 352,
   "metadata": {},
   "outputs": [
    {
     "data": {
      "text/html": [
       "<div>\n",
       "<style scoped>\n",
       "    .dataframe tbody tr th:only-of-type {\n",
       "        vertical-align: middle;\n",
       "    }\n",
       "\n",
       "    .dataframe tbody tr th {\n",
       "        vertical-align: top;\n",
       "    }\n",
       "\n",
       "    .dataframe thead th {\n",
       "        text-align: right;\n",
       "    }\n",
       "</style>\n",
       "<table border=\"1\" class=\"dataframe\">\n",
       "  <thead>\n",
       "    <tr style=\"text-align: right;\">\n",
       "      <th></th>\n",
       "      <th>weight (carat)</th>\n",
       "      <th>cut quality</th>\n",
       "      <th>color quality</th>\n",
       "      <th>clarity quality</th>\n",
       "      <th>depth (percentage)</th>\n",
       "      <th>table (percentage)</th>\n",
       "      <th>price (dollars)</th>\n",
       "      <th>lenght (millimeters)</th>\n",
       "      <th>width (millimeters)</th>\n",
       "      <th>depth (millimeters)</th>\n",
       "    </tr>\n",
       "  </thead>\n",
       "  <tbody>\n",
       "  </tbody>\n",
       "</table>\n",
       "</div>"
      ],
      "text/plain": [
       "Empty DataFrame\n",
       "Columns: [weight (carat), cut quality, color quality, clarity quality, depth (percentage), table (percentage), price (dollars), lenght (millimeters), width (millimeters), depth (millimeters)]\n",
       "Index: []"
      ]
     },
     "execution_count": 352,
     "metadata": {},
     "output_type": "execute_result"
    }
   ],
   "source": [
    "# Sabemos que el \"depth (percentage)\" se obtiene de dividir su altura total (\"depth\") por el diámetro\n",
    "# Como tenemos el \"lenght\" y el \"width\", el diámetro se obtiene con la media de esas dos cifras\n",
    "# Por tanto, podemos resolver esos ceros con una operación\n",
    "\n",
    "df_diamonds.loc[df_diamonds['depth (millimeters)'] == 0, 'depth (millimeters)'] = df_diamonds['depth (percentage)'] / 100 * (df_diamonds['lenght (millimeters)']+df_diamonds['width (millimeters)']) / 2\n",
    "\n",
    "df_diamonds[df_diamonds['depth (millimeters)'] == 0]\n"
   ]
  },
  {
   "attachments": {},
   "cell_type": "markdown",
   "metadata": {},
   "source": [
    "### Outliers"
   ]
  },
  {
   "cell_type": "code",
   "execution_count": 353,
   "metadata": {},
   "outputs": [
    {
     "data": {
      "image/png": "[encoded data removed]",
      "text/plain": [
       "<Figure size 640x480 with 1 Axes>"
      ]
     },
     "metadata": {},
     "output_type": "display_data"
    }
   ],
   "source": [
    "# Vemos que ya no hay ceros, que los valores están concentrados y que hay varios \"outliers\"; uno de ellos, muy alto\n",
    "ax = sns.boxplot(df_diamonds['depth (millimeters)'])\n",
    "ax.set_xticklabels(['depth (millimeters)'])\n",
    "plt.show()\n"
   ]
  },
  {
   "attachments": {},
   "cell_type": "markdown",
   "metadata": {},
   "source": [
    "# Desglose por múltiples variables"
   ]
  },
  {
   "cell_type": "code",
   "execution_count": 354,
   "metadata": {},
   "outputs": [
    {
     "data": {
      "text/html": [
       "<div>\n",
       "<style scoped>\n",
       "    .dataframe tbody tr th:only-of-type {\n",
       "        vertical-align: middle;\n",
       "    }\n",
       "\n",
       "    .dataframe tbody tr th {\n",
       "        vertical-align: top;\n",
       "    }\n",
       "\n",
       "    .dataframe thead th {\n",
       "        text-align: right;\n",
       "    }\n",
       "</style>\n",
       "<table border=\"1\" class=\"dataframe\">\n",
       "  <thead>\n",
       "    <tr style=\"text-align: right;\">\n",
       "      <th></th>\n",
       "      <th>weight (carat)</th>\n",
       "      <th>cut quality</th>\n",
       "      <th>color quality</th>\n",
       "      <th>clarity quality</th>\n",
       "      <th>depth (percentage)</th>\n",
       "      <th>table (percentage)</th>\n",
       "      <th>price (dollars)</th>\n",
       "      <th>lenght (millimeters)</th>\n",
       "      <th>width (millimeters)</th>\n",
       "      <th>depth (millimeters)</th>\n",
       "    </tr>\n",
       "  </thead>\n",
       "  <tbody>\n",
       "    <tr>\n",
       "      <th>0</th>\n",
       "      <td>0.23</td>\n",
       "      <td>4</td>\n",
       "      <td>5</td>\n",
       "      <td>1</td>\n",
       "      <td>61.5</td>\n",
       "      <td>55.0</td>\n",
       "      <td>326</td>\n",
       "      <td>3.95</td>\n",
       "      <td>3.98</td>\n",
       "      <td>2.43</td>\n",
       "    </tr>\n",
       "    <tr>\n",
       "      <th>1</th>\n",
       "      <td>0.21</td>\n",
       "      <td>3</td>\n",
       "      <td>5</td>\n",
       "      <td>2</td>\n",
       "      <td>59.8</td>\n",
       "      <td>61.0</td>\n",
       "      <td>326</td>\n",
       "      <td>3.89</td>\n",
       "      <td>3.84</td>\n",
       "      <td>2.31</td>\n",
       "    </tr>\n",
       "    <tr>\n",
       "      <th>2</th>\n",
       "      <td>0.23</td>\n",
       "      <td>1</td>\n",
       "      <td>5</td>\n",
       "      <td>4</td>\n",
       "      <td>56.9</td>\n",
       "      <td>65.0</td>\n",
       "      <td>327</td>\n",
       "      <td>4.05</td>\n",
       "      <td>4.07</td>\n",
       "      <td>2.31</td>\n",
       "    </tr>\n",
       "    <tr>\n",
       "      <th>3</th>\n",
       "      <td>0.29</td>\n",
       "      <td>3</td>\n",
       "      <td>1</td>\n",
       "      <td>3</td>\n",
       "      <td>62.4</td>\n",
       "      <td>58.0</td>\n",
       "      <td>334</td>\n",
       "      <td>4.20</td>\n",
       "      <td>4.23</td>\n",
       "      <td>2.63</td>\n",
       "    </tr>\n",
       "    <tr>\n",
       "      <th>4</th>\n",
       "      <td>0.31</td>\n",
       "      <td>1</td>\n",
       "      <td>0</td>\n",
       "      <td>1</td>\n",
       "      <td>63.3</td>\n",
       "      <td>58.0</td>\n",
       "      <td>335</td>\n",
       "      <td>4.34</td>\n",
       "      <td>4.35</td>\n",
       "      <td>2.75</td>\n",
       "    </tr>\n",
       "  </tbody>\n",
       "</table>\n",
       "</div>"
      ],
      "text/plain": [
       "   weight (carat) cut quality color quality  clarity quality  \\\n",
       "0            0.23           4             5                1   \n",
       "1            0.21           3             5                2   \n",
       "2            0.23           1             5                4   \n",
       "3            0.29           3             1                3   \n",
       "4            0.31           1             0                1   \n",
       "\n",
       "   depth (percentage)  table (percentage)  price (dollars)  \\\n",
       "0                61.5                55.0              326   \n",
       "1                59.8                61.0              326   \n",
       "2                56.9                65.0              327   \n",
       "3                62.4                58.0              334   \n",
       "4                63.3                58.0              335   \n",
       "\n",
       "   lenght (millimeters)  width (millimeters)  depth (millimeters)  \n",
       "0                  3.95                 3.98                 2.43  \n",
       "1                  3.89                 3.84                 2.31  \n",
       "2                  4.05                 4.07                 2.31  \n",
       "3                  4.20                 4.23                 2.63  \n",
       "4                  4.34                 4.35                 2.75  "
      ]
     },
     "execution_count": 354,
     "metadata": {},
     "output_type": "execute_result"
    }
   ],
   "source": [
    "df_diamonds.head()\n"
   ]
  },
  {
   "cell_type": "code",
   "execution_count": 355,
   "metadata": {},
   "outputs": [
    {
     "data": {
      "text/html": [
       "<div>\n",
       "<style scoped>\n",
       "    .dataframe tbody tr th:only-of-type {\n",
       "        vertical-align: middle;\n",
       "    }\n",
       "\n",
       "    .dataframe tbody tr th {\n",
       "        vertical-align: top;\n",
       "    }\n",
       "\n",
       "    .dataframe thead th {\n",
       "        text-align: right;\n",
       "    }\n",
       "</style>\n",
       "<table border=\"1\" class=\"dataframe\">\n",
       "  <thead>\n",
       "    <tr style=\"text-align: right;\">\n",
       "      <th></th>\n",
       "      <th>weight (carat)</th>\n",
       "      <th>clarity quality</th>\n",
       "      <th>depth (percentage)</th>\n",
       "      <th>table (percentage)</th>\n",
       "      <th>price (dollars)</th>\n",
       "      <th>lenght (millimeters)</th>\n",
       "      <th>width (millimeters)</th>\n",
       "      <th>depth (millimeters)</th>\n",
       "    </tr>\n",
       "  </thead>\n",
       "  <tbody>\n",
       "    <tr>\n",
       "      <th>count</th>\n",
       "      <td>53933.000000</td>\n",
       "      <td>53933.000000</td>\n",
       "      <td>53933.000000</td>\n",
       "      <td>53933.000000</td>\n",
       "      <td>53933.000000</td>\n",
       "      <td>53933.000000</td>\n",
       "      <td>53933.000000</td>\n",
       "      <td>53933.000000</td>\n",
       "    </tr>\n",
       "    <tr>\n",
       "      <th>mean</th>\n",
       "      <td>0.797884</td>\n",
       "      <td>3.051063</td>\n",
       "      <td>61.749333</td>\n",
       "      <td>57.457002</td>\n",
       "      <td>3932.155026</td>\n",
       "      <td>5.732024</td>\n",
       "      <td>5.735270</td>\n",
       "      <td>3.540275</td>\n",
       "    </tr>\n",
       "    <tr>\n",
       "      <th>std</th>\n",
       "      <td>0.473983</td>\n",
       "      <td>1.647118</td>\n",
       "      <td>1.432501</td>\n",
       "      <td>2.234052</td>\n",
       "      <td>3988.700283</td>\n",
       "      <td>1.119666</td>\n",
       "      <td>1.140339</td>\n",
       "      <td>0.702664</td>\n",
       "    </tr>\n",
       "    <tr>\n",
       "      <th>min</th>\n",
       "      <td>0.200000</td>\n",
       "      <td>0.000000</td>\n",
       "      <td>43.000000</td>\n",
       "      <td>43.000000</td>\n",
       "      <td>326.000000</td>\n",
       "      <td>3.730000</td>\n",
       "      <td>3.680000</td>\n",
       "      <td>1.070000</td>\n",
       "    </tr>\n",
       "    <tr>\n",
       "      <th>25%</th>\n",
       "      <td>0.400000</td>\n",
       "      <td>2.000000</td>\n",
       "      <td>61.000000</td>\n",
       "      <td>56.000000</td>\n",
       "      <td>950.000000</td>\n",
       "      <td>4.710000</td>\n",
       "      <td>4.720000</td>\n",
       "      <td>2.910000</td>\n",
       "    </tr>\n",
       "    <tr>\n",
       "      <th>50%</th>\n",
       "      <td>0.700000</td>\n",
       "      <td>3.000000</td>\n",
       "      <td>61.800000</td>\n",
       "      <td>57.000000</td>\n",
       "      <td>2401.000000</td>\n",
       "      <td>5.700000</td>\n",
       "      <td>5.710000</td>\n",
       "      <td>3.530000</td>\n",
       "    </tr>\n",
       "    <tr>\n",
       "      <th>75%</th>\n",
       "      <td>1.040000</td>\n",
       "      <td>4.000000</td>\n",
       "      <td>62.500000</td>\n",
       "      <td>59.000000</td>\n",
       "      <td>5324.000000</td>\n",
       "      <td>6.540000</td>\n",
       "      <td>6.540000</td>\n",
       "      <td>4.040000</td>\n",
       "    </tr>\n",
       "    <tr>\n",
       "      <th>max</th>\n",
       "      <td>5.010000</td>\n",
       "      <td>7.000000</td>\n",
       "      <td>79.000000</td>\n",
       "      <td>95.000000</td>\n",
       "      <td>18823.000000</td>\n",
       "      <td>10.740000</td>\n",
       "      <td>58.900000</td>\n",
       "      <td>31.800000</td>\n",
       "    </tr>\n",
       "  </tbody>\n",
       "</table>\n",
       "</div>"
      ],
      "text/plain": [
       "       weight (carat)  clarity quality  depth (percentage)  \\\n",
       "count    53933.000000     53933.000000        53933.000000   \n",
       "mean         0.797884         3.051063           61.749333   \n",
       "std          0.473983         1.647118            1.432501   \n",
       "min          0.200000         0.000000           43.000000   \n",
       "25%          0.400000         2.000000           61.000000   \n",
       "50%          0.700000         3.000000           61.800000   \n",
       "75%          1.040000         4.000000           62.500000   \n",
       "max          5.010000         7.000000           79.000000   \n",
       "\n",
       "       table (percentage)  price (dollars)  lenght (millimeters)  \\\n",
       "count        53933.000000     53933.000000          53933.000000   \n",
       "mean            57.457002      3932.155026              5.732024   \n",
       "std              2.234052      3988.700283              1.119666   \n",
       "min             43.000000       326.000000              3.730000   \n",
       "25%             56.000000       950.000000              4.710000   \n",
       "50%             57.000000      2401.000000              5.700000   \n",
       "75%             59.000000      5324.000000              6.540000   \n",
       "max             95.000000     18823.000000             10.740000   \n",
       "\n",
       "       width (millimeters)  depth (millimeters)  \n",
       "count         53933.000000         53933.000000  \n",
       "mean              5.735270             3.540275  \n",
       "std               1.140339             0.702664  \n",
       "min               3.680000             1.070000  \n",
       "25%               4.720000             2.910000  \n",
       "50%               5.710000             3.530000  \n",
       "75%               6.540000             4.040000  \n",
       "max              58.900000            31.800000  "
      ]
     },
     "execution_count": 355,
     "metadata": {},
     "output_type": "execute_result"
    }
   ],
   "source": [
    "# La cuestión de los ceros ha quedado resuelta\n",
    "df_diamonds.describe()\n"
   ]
  },
  {
   "attachments": {},
   "cell_type": "markdown",
   "metadata": {},
   "source": [
    "### Correlación"
   ]
  },
  {
   "cell_type": "code",
   "execution_count": 356,
   "metadata": {},
   "outputs": [
    {
     "data": {
      "image/png": "[encoded data removed]",
      "text/plain": [
       "<Figure size 1600x800 with 2 Axes>"
      ]
     },
     "metadata": {},
     "output_type": "display_data"
    }
   ],
   "source": [
    "# Parece que lo que más influye en el precio son el tamaño (\"lenght\", \"width\" y \"depth\") y el peso (\"weight\") del diamante\n",
    "# Respecto a las medidas específicas para diamantes (\"depth\" y \"table\" en %), salta a la vista que mejorar en una suele requerir sacrificar la otra\n",
    "# Eso a se debe que la \"table\" (parte plana superior del diamante) es más grande en los diamantes más anchos, y no en los de mayor altura (\"depth\")\n",
    "# Asimismo, a mayor tamaño se pierde claridad (probablemente porque, con una mayor superficie, hay más probabilidad de imperfecciones)\n",
    "plt.rc(\"figure\", figsize=(16, 8))\n",
    "\n",
    "corr = df_diamonds.corr(numeric_only=True)\n",
    "sns.heatmap(corr, annot=True)\n",
    "plt.title('Correlation matrix')\n",
    "plt.show()\n"
   ]
  },
  {
   "cell_type": "code",
   "execution_count": null,
   "metadata": {},
   "outputs": [],
   "source": [
    "plt.rc(\"figure\", figsize=(6.4, 4.8))\n"
   ]
  },
  {
   "cell_type": "code",
   "execution_count": null,
   "metadata": {},
   "outputs": [],
   "source": []
  }
 ],
 "metadata": {
  "kernelspec": {
   "display_name": "data_analytics",
   "language": "python",
   "name": "python3"
  },
  "language_info": {
   "codemirror_mode": {
    "name": "ipython",
    "version": 3
   },
   "file_extension": ".py",
   "mimetype": "text/x-python",
   "name": "python",
   "nbconvert_exporter": "python",
   "pygments_lexer": "ipython3",
   "version": "3.9.15 (main, Nov 24 2022, 14:39:17) [MSC v.1916 64 bit (AMD64)]"
  },
  "orig_nbformat": 4,
  "vscode": {
   "interpreter": {
    "hash": "b824bf52cf534a16238dce884e8fdba8cd1853727e048048d6b0b37b0d718f27"
   }
  }
 },
 "nbformat": 4,
 "nbformat_minor": 2
}
